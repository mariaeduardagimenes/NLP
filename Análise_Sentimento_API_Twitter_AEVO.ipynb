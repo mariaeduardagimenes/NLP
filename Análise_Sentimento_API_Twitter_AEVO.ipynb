{
  "nbformat": 4,
  "nbformat_minor": 0,
  "metadata": {
    "kernelspec": {
      "display_name": "Python 3",
      "language": "python",
      "name": "python3"
    },
    "language_info": {
      "codemirror_mode": {
        "name": "ipython",
        "version": 3
      },
      "file_extension": ".py",
      "mimetype": "text/x-python",
      "name": "python",
      "nbconvert_exporter": "python",
      "pygments_lexer": "ipython3",
      "version": "3.8.5"
    },
    "colab": {
      "name": "Análise Sentimento API Twitter AEVO.ipynb",
      "provenance": [],
      "include_colab_link": true
    }
  },
  "cells": [
    {
      "cell_type": "markdown",
      "metadata": {
        "id": "view-in-github",
        "colab_type": "text"
      },
      "source": [
        "<a href=\"https://colab.research.google.com/github/mariaeduardagimenes/NLP/blob/master/An%C3%A1lise_Sentimento_API_Twitter_AEVO.ipynb\" target=\"_parent\"><img src=\"https://colab.research.google.com/assets/colab-badge.svg\" alt=\"Open In Colab\"/></a>"
      ]
    },
    {
      "cell_type": "markdown",
      "metadata": {
        "id": "dSre1H1FH_OQ",
        "colab_type": "text"
      },
      "source": [
        ""
      ]
    },
    {
      "cell_type": "markdown",
      "metadata": {
        "id": "FE4Ezu4NH_OR",
        "colab_type": "text"
      },
      "source": [
        "**Análise de Sentimento no Twitter**\n",
        "\n",
        "Esse projeto consiste na Análise de sentimentos de tweets coletados através da API do Twitter com a keyword: AEVO. O que estão falando sobre AEVO nos últimos 7 dias?\n",
        "\n",
        "O projeto consiste em:\n",
        "\n",
        "1. Coleta de Tweets\n",
        "2. Identificação de tweets mais curtidos e retweetados\n",
        "3. Identificação da fonte dos tweets\n",
        "4. Análise de sentimentos\n",
        "5. Nuvem de palavras mais frequentes\n",
        "6. Séries de tweets no tempo\n",
        "8. Mapa de calor dos tweets utilizando a localização declada pelos usuários\n",
        "\n"
      ]
    },
    {
      "cell_type": "markdown",
      "metadata": {
        "id": "co0_Nl8nH_OS",
        "colab_type": "text"
      },
      "source": [
        "**Pacotes Pyhton utilizados**\n",
        "\n",
        "1. Tweepy\n",
        "Acessa API do Twitter\n",
        "\n",
        "2. Textblob\n",
        "Análise sentimento\n",
        "\n",
        "3. Scrapy\n",
        "Scrappings\n",
        "\n",
        "4. NLTK\n",
        "Biblioteca NLP "
      ]
    },
    {
      "cell_type": "markdown",
      "metadata": {
        "id": "3p-W8iFqH_OT",
        "colab_type": "text"
      },
      "source": [
        "**Importação de pacotes**"
      ]
    },
    {
      "cell_type": "code",
      "metadata": {
        "id": "ODCzK6jnH_OU",
        "colab_type": "code",
        "colab": {}
      },
      "source": [
        "#Pacotes básicos\n",
        "import tweepy\n",
        "import pandas as pd\n",
        "import numpy as np\n",
        "from textblob import TextBlob as tb \n",
        "import time\n",
        "import re\n",
        "\n",
        "#Pacotes para visualização\n",
        "import matplotlib.pyplot as plt\n",
        "\n",
        "#MAPA\n",
        "from geopy.geocoders import Nominatim\n",
        "import folium\n",
        "from folium import plugins\n",
        "from wordcloud import WordCloud, STOPWORDS\n",
        "\n",
        "\n",
        "\n",
        "\n"
      ],
      "execution_count": null,
      "outputs": []
    },
    {
      "cell_type": "markdown",
      "metadata": {
        "id": "ZdaCW7GfH_OZ",
        "colab_type": "text"
      },
      "source": [
        "**TextBlob**\n",
        "\n",
        "É usado para fazer análise de polaridade.\n",
        "\n",
        "É pré-configurado na biblioteca para o idioma inglês para analisar se uma determinada frase em ingles, as palavras que a compoem são treinadas para falar se sao conotacao positiva ou negativa.\n",
        "\n",
        "Não analisamos textos em português com ele.\n",
        "\n",
        "\n",
        "**Folium**\n",
        "\n",
        "Níveis de detalhamento.\n",
        "\n"
      ]
    },
    {
      "cell_type": "code",
      "metadata": {
        "id": "nCVb9N-fH_Oa",
        "colab_type": "code",
        "colab": {}
      },
      "source": [
        "# Credenciais para utilização da API do Twitter \n",
        "\n",
        "API_key = 'cM8lUpQVpI8gzndAZVxnNPtXV'\n",
        "API_secret_key = 'RePiH9holSKvtMVsPkYllRUl1gkpomR2EJ3yqkiwTOlpvEhZ73'\n",
        "access_token = '29108807-0pG1ooLldp5NNtkWmNmeBUvl854ggDDXlAF9pFdsz'\n",
        "access_token_secret = 'cQZdSNFf0L3meDQQtC4lVt2YrJYigGtIlbI4I18aMYiRL'\n"
      ],
      "execution_count": null,
      "outputs": []
    },
    {
      "cell_type": "markdown",
      "metadata": {
        "id": "ivshvdcwH_Od",
        "colab_type": "text"
      },
      "source": [
        "**Autenticação na API do Twitter**"
      ]
    },
    {
      "cell_type": "code",
      "metadata": {
        "id": "alpDgKEgH_Oe",
        "colab_type": "code",
        "colab": {}
      },
      "source": [
        "auth = tweepy.OAuthHandler(API_key, API_secret_key)\n",
        "auth.set_access_token(access_token, access_token_secret)\n",
        "\n",
        "# Construir API instance\n",
        "api = tweepy.API(auth,wait_on_rate_limit=True,wait_on_rate_limit_notify=True,\n",
        "                 retry_count=5,retry_delay=10)"
      ],
      "execution_count": null,
      "outputs": []
    },
    {
      "cell_type": "markdown",
      "metadata": {
        "id": "Q6IAwQNVH_Oh",
        "colab_type": "text"
      },
      "source": [
        "onde:\n",
        "\n",
        "- retry_count - número padrão de tentativas para tentar quando ocorrer um erro\n",
        "- retry_delay - numero de segundos para aguardar entre tentativas\n",
        "- wait_on_rate_limit - se deve ou nao esperar automaticamente a reposição dos limites de taxa\n",
        "- wait_on_rate_limit_notify - imprima ou não uma notificação quando o Tweepy estiver aguardando a reposição dos limites de taxa"
      ]
    },
    {
      "cell_type": "code",
      "metadata": {
        "scrolled": true,
        "id": "u9k2fyk_H_Oh",
        "colab_type": "code",
        "colab": {},
        "outputId": "04e5e7c7-e342-4672-98e8-4227f0243138"
      },
      "source": [
        "# Postar um Twitter diretamente do Python\n",
        "\n",
        "api.update_status(\"Esse é meu robozinho, buscando infos através do python - \\n #datascience #datadriven\")\n",
        "\n",
        "# O tweet vai aparecer no meu feed."
      ],
      "execution_count": null,
      "outputs": [
        {
          "output_type": "execute_result",
          "data": {
            "text/plain": [
              "Status(_api=<tweepy.api.API object at 0x11ae7d970>, _json={'created_at': 'Mon Aug 17 20:23:54 +0000 2020', 'id': 1295456341578973190, 'id_str': '1295456341578973190', 'text': 'Esse é meu robozinho, buscando infos através do python - \\n #datascience #datadriven', 'truncated': False, 'entities': {'hashtags': [{'text': 'datascience', 'indices': [59, 71]}, {'text': 'datadriven', 'indices': [72, 83]}], 'symbols': [], 'user_mentions': [], 'urls': []}, 'source': '<a href=\"https://www.igti.com.br/\" rel=\"nofollow\">Coleta IGTI Maria</a>', 'in_reply_to_status_id': None, 'in_reply_to_status_id_str': None, 'in_reply_to_user_id': None, 'in_reply_to_user_id_str': None, 'in_reply_to_screen_name': None, 'user': {'id': 29108807, 'id_str': '29108807', 'name': 'ninguém', 'screen_name': 'mariagimenes', 'location': 'Brazil', 'description': '', 'url': None, 'entities': {'description': {'urls': []}}, 'protected': False, 'followers_count': 243, 'friends_count': 367, 'listed_count': 3, 'created_at': 'Mon Apr 06 00:56:47 +0000 2009', 'favourites_count': 11185, 'utc_offset': None, 'time_zone': None, 'geo_enabled': False, 'verified': False, 'statuses_count': 8337, 'lang': None, 'contributors_enabled': False, 'is_translator': False, 'is_translation_enabled': False, 'profile_background_color': 'C6E2EE', 'profile_background_image_url': 'http://abs.twimg.com/images/themes/theme2/bg.gif', 'profile_background_image_url_https': 'https://abs.twimg.com/images/themes/theme2/bg.gif', 'profile_background_tile': True, 'profile_image_url': 'http://pbs.twimg.com/profile_images/1280872490735218688/jMxS4YaJ_normal.jpg', 'profile_image_url_https': 'https://pbs.twimg.com/profile_images/1280872490735218688/jMxS4YaJ_normal.jpg', 'profile_banner_url': 'https://pbs.twimg.com/profile_banners/29108807/1581397864', 'profile_link_color': '1F98C7', 'profile_sidebar_border_color': 'C6E2EE', 'profile_sidebar_fill_color': 'DAECF4', 'profile_text_color': '663B12', 'profile_use_background_image': True, 'has_extended_profile': False, 'default_profile': False, 'default_profile_image': False, 'following': False, 'follow_request_sent': False, 'notifications': False, 'translator_type': 'none'}, 'geo': None, 'coordinates': None, 'place': None, 'contributors': None, 'is_quote_status': False, 'retweet_count': 0, 'favorite_count': 0, 'favorited': False, 'retweeted': False, 'lang': 'pt'}, created_at=datetime.datetime(2020, 8, 17, 20, 23, 54), id=1295456341578973190, id_str='1295456341578973190', text='Esse é meu robozinho, buscando infos através do python - \\n #datascience #datadriven', truncated=False, entities={'hashtags': [{'text': 'datascience', 'indices': [59, 71]}, {'text': 'datadriven', 'indices': [72, 83]}], 'symbols': [], 'user_mentions': [], 'urls': []}, source='Coleta IGTI Maria', source_url='https://www.igti.com.br/', in_reply_to_status_id=None, in_reply_to_status_id_str=None, in_reply_to_user_id=None, in_reply_to_user_id_str=None, in_reply_to_screen_name=None, author=User(_api=<tweepy.api.API object at 0x11ae7d970>, _json={'id': 29108807, 'id_str': '29108807', 'name': 'ninguém', 'screen_name': 'mariagimenes', 'location': 'Brazil', 'description': '', 'url': None, 'entities': {'description': {'urls': []}}, 'protected': False, 'followers_count': 243, 'friends_count': 367, 'listed_count': 3, 'created_at': 'Mon Apr 06 00:56:47 +0000 2009', 'favourites_count': 11185, 'utc_offset': None, 'time_zone': None, 'geo_enabled': False, 'verified': False, 'statuses_count': 8337, 'lang': None, 'contributors_enabled': False, 'is_translator': False, 'is_translation_enabled': False, 'profile_background_color': 'C6E2EE', 'profile_background_image_url': 'http://abs.twimg.com/images/themes/theme2/bg.gif', 'profile_background_image_url_https': 'https://abs.twimg.com/images/themes/theme2/bg.gif', 'profile_background_tile': True, 'profile_image_url': 'http://pbs.twimg.com/profile_images/1280872490735218688/jMxS4YaJ_normal.jpg', 'profile_image_url_https': 'https://pbs.twimg.com/profile_images/1280872490735218688/jMxS4YaJ_normal.jpg', 'profile_banner_url': 'https://pbs.twimg.com/profile_banners/29108807/1581397864', 'profile_link_color': '1F98C7', 'profile_sidebar_border_color': 'C6E2EE', 'profile_sidebar_fill_color': 'DAECF4', 'profile_text_color': '663B12', 'profile_use_background_image': True, 'has_extended_profile': False, 'default_profile': False, 'default_profile_image': False, 'following': False, 'follow_request_sent': False, 'notifications': False, 'translator_type': 'none'}, id=29108807, id_str='29108807', name='ninguém', screen_name='mariagimenes', location='Brazil', description='', url=None, entities={'description': {'urls': []}}, protected=False, followers_count=243, friends_count=367, listed_count=3, created_at=datetime.datetime(2009, 4, 6, 0, 56, 47), favourites_count=11185, utc_offset=None, time_zone=None, geo_enabled=False, verified=False, statuses_count=8337, lang=None, contributors_enabled=False, is_translator=False, is_translation_enabled=False, profile_background_color='C6E2EE', profile_background_image_url='http://abs.twimg.com/images/themes/theme2/bg.gif', profile_background_image_url_https='https://abs.twimg.com/images/themes/theme2/bg.gif', profile_background_tile=True, profile_image_url='http://pbs.twimg.com/profile_images/1280872490735218688/jMxS4YaJ_normal.jpg', profile_image_url_https='https://pbs.twimg.com/profile_images/1280872490735218688/jMxS4YaJ_normal.jpg', profile_banner_url='https://pbs.twimg.com/profile_banners/29108807/1581397864', profile_link_color='1F98C7', profile_sidebar_border_color='C6E2EE', profile_sidebar_fill_color='DAECF4', profile_text_color='663B12', profile_use_background_image=True, has_extended_profile=False, default_profile=False, default_profile_image=False, following=False, follow_request_sent=False, notifications=False, translator_type='none'), user=User(_api=<tweepy.api.API object at 0x11ae7d970>, _json={'id': 29108807, 'id_str': '29108807', 'name': 'ninguém', 'screen_name': 'mariagimenes', 'location': 'Brazil', 'description': '', 'url': None, 'entities': {'description': {'urls': []}}, 'protected': False, 'followers_count': 243, 'friends_count': 367, 'listed_count': 3, 'created_at': 'Mon Apr 06 00:56:47 +0000 2009', 'favourites_count': 11185, 'utc_offset': None, 'time_zone': None, 'geo_enabled': False, 'verified': False, 'statuses_count': 8337, 'lang': None, 'contributors_enabled': False, 'is_translator': False, 'is_translation_enabled': False, 'profile_background_color': 'C6E2EE', 'profile_background_image_url': 'http://abs.twimg.com/images/themes/theme2/bg.gif', 'profile_background_image_url_https': 'https://abs.twimg.com/images/themes/theme2/bg.gif', 'profile_background_tile': True, 'profile_image_url': 'http://pbs.twimg.com/profile_images/1280872490735218688/jMxS4YaJ_normal.jpg', 'profile_image_url_https': 'https://pbs.twimg.com/profile_images/1280872490735218688/jMxS4YaJ_normal.jpg', 'profile_banner_url': 'https://pbs.twimg.com/profile_banners/29108807/1581397864', 'profile_link_color': '1F98C7', 'profile_sidebar_border_color': 'C6E2EE', 'profile_sidebar_fill_color': 'DAECF4', 'profile_text_color': '663B12', 'profile_use_background_image': True, 'has_extended_profile': False, 'default_profile': False, 'default_profile_image': False, 'following': False, 'follow_request_sent': False, 'notifications': False, 'translator_type': 'none'}, id=29108807, id_str='29108807', name='ninguém', screen_name='mariagimenes', location='Brazil', description='', url=None, entities={'description': {'urls': []}}, protected=False, followers_count=243, friends_count=367, listed_count=3, created_at=datetime.datetime(2009, 4, 6, 0, 56, 47), favourites_count=11185, utc_offset=None, time_zone=None, geo_enabled=False, verified=False, statuses_count=8337, lang=None, contributors_enabled=False, is_translator=False, is_translation_enabled=False, profile_background_color='C6E2EE', profile_background_image_url='http://abs.twimg.com/images/themes/theme2/bg.gif', profile_background_image_url_https='https://abs.twimg.com/images/themes/theme2/bg.gif', profile_background_tile=True, profile_image_url='http://pbs.twimg.com/profile_images/1280872490735218688/jMxS4YaJ_normal.jpg', profile_image_url_https='https://pbs.twimg.com/profile_images/1280872490735218688/jMxS4YaJ_normal.jpg', profile_banner_url='https://pbs.twimg.com/profile_banners/29108807/1581397864', profile_link_color='1F98C7', profile_sidebar_border_color='C6E2EE', profile_sidebar_fill_color='DAECF4', profile_text_color='663B12', profile_use_background_image=True, has_extended_profile=False, default_profile=False, default_profile_image=False, following=False, follow_request_sent=False, notifications=False, translator_type='none'), geo=None, coordinates=None, place=None, contributors=None, is_quote_status=False, retweet_count=0, favorite_count=0, favorited=False, retweeted=False, lang='pt')"
            ]
          },
          "metadata": {
            "tags": []
          },
          "execution_count": 4
        }
      ]
    },
    {
      "cell_type": "markdown",
      "metadata": {
        "id": "t-WllcW8H_Ok",
        "colab_type": "text"
      },
      "source": [
        "**Coleta de dados (busca por palavra-chave)**"
      ]
    },
    {
      "cell_type": "code",
      "metadata": {
        "id": "jnAeHK39H_Ol",
        "colab_type": "code",
        "colab": {}
      },
      "source": [
        "# Definir listas de armazenamento\n",
        "tweets = []\n",
        "info = []"
      ],
      "execution_count": null,
      "outputs": []
    },
    {
      "cell_type": "code",
      "metadata": {
        "id": "cDVAvw55H_Oo",
        "colab_type": "code",
        "colab": {}
      },
      "source": [
        "#Definir que palavras (keyword) que deseja pesquisar no Twitter\n",
        "\n",
        "keyword = (\"aevo\")"
      ],
      "execution_count": null,
      "outputs": []
    },
    {
      "cell_type": "markdown",
      "metadata": {
        "id": "eZKHHOY7H_Or",
        "colab_type": "text"
      },
      "source": [
        "Para realizar a busca por palavra chave vamos utilizar a função abaixo:\n",
        "\n",
        "- API.search(q[,lang][,locale][,rpp][,page][,since_id][,geocode][,show_user])\n",
        "\n",
        "**onde os principais parâmetros que serão usados são:**\n",
        "- q : string de consulta de pesquisa\n",
        "- lang : restringe os tweets para o idioma especificado, fornecido por um código iSO 6e 39-1.\n",
        "    1) lang=pt -> português\n",
        "    2) lang=en -> inglês\n",
        "- rpp : o número de tweets a serem retornados por página, até no máximo 100\n",
        "- page : o número da página (começando em 1) a ser retornado, até um máximo de aproximadamente 1500 resultados (com base na página rpp)\n",
        "- since_id : retorna apenas status com um ID maior que (ou seja, mais recente que) o ID especificado\n",
        "- geocode : retorna tweets de usuários localizados em um determinado\n",
        "- show_user : quando verdadeiro, precede \":\"no início do tweet. O padrao é falso"
      ]
    },
    {
      "cell_type": "markdown",
      "metadata": {
        "id": "XYAjZpTCH_Os",
        "colab_type": "text"
      },
      "source": [
        "**Busca por palavra chave e recuperar os tweets em português**"
      ]
    },
    {
      "cell_type": "code",
      "metadata": {
        "id": "o-Q-ZkZ4H_Os",
        "colab_type": "code",
        "colab": {}
      },
      "source": [
        "for tweet in tweepy.Cursor(api.search,\n",
        "                           q=keyword, tweet_mode='extended', \n",
        "                           rpp=200, result_type=\"mixed\",lang='pt', #serão solicitados apenas 200 tweets nesta aula\n",
        "                           include_entities=True).items(200): \n",
        "        \n",
        "    if 'retweeted_status' in dir(tweet): # checa se retweet\n",
        "        # se status é retweet, status.full_text (tweet.full_text) could be truncated.\n",
        "        # deveriamos pegar retweeted_status.full_text\n",
        "        aux=tweet.retweeted_status.full_text       \n",
        "    else: # se não é retweet\n",
        "        aux=tweet.full_text\n",
        "        \n",
        "    newtweet = aux.replace(\"\\n\", \" \")\n",
        "   \n",
        "    tweets.append(newtweet) #serão armazenados nos vetores vazios criados\n",
        "    info.append(tweet)   \n",
        "    file = open(\"tweets_Keyword_homeoffice_pt.txt\", \"a\", -1, \"utf-8\")    \n",
        "    file.write(newtweet+'\\n')\n",
        "    file.close()"
      ],
      "execution_count": null,
      "outputs": []
    },
    {
      "cell_type": "markdown",
      "metadata": {
        "id": "6vRMpXDEH_Ov",
        "colab_type": "text"
      },
      "source": [
        "**Para verificar a quantidade de tweets coletados, use a função \"len()\"**"
      ]
    },
    {
      "cell_type": "code",
      "metadata": {
        "id": "kS9SmaeVH_Ow",
        "colab_type": "code",
        "colab": {},
        "outputId": "a2c52af5-ded8-48f3-c880-e70961a312c6"
      },
      "source": [
        "print(\"Total de tweets coletados %s.\" % (len(info)))"
      ],
      "execution_count": null,
      "outputs": [
        {
          "output_type": "stream",
          "text": [
            "Total de tweets coletados 8.\n"
          ],
          "name": "stdout"
        }
      ]
    },
    {
      "cell_type": "markdown",
      "metadata": {
        "id": "FZ9QmGLYH_Oy",
        "colab_type": "text"
      },
      "source": [
        "**Criar data frame**"
      ]
    },
    {
      "cell_type": "code",
      "metadata": {
        "id": "GbBoR5x9H_Oy",
        "colab_type": "code",
        "colab": {}
      },
      "source": [
        "tweets_df = pd.DataFrame(tweets, columns=['Tweets']) \n",
        "\n",
        "tweets_df['len']  = np.array([len(tweet) for tweet in tweets])\n",
        "tweets_df['ID']   = np.array([tweet.id for tweet in info])\n",
        "tweets_df['USER']   = np.array([tweet.user.screen_name for tweet in info])\n",
        "tweets_df['userName'] = np.array([tweet.user.name for tweet in info])\n",
        "tweets_df['User Location']    = np.array([tweet.user.location for tweet in info])\n",
        "tweets_df['Language'] = np.array([tweet.user.lang for tweet in info])\n",
        "tweets_df['Date'] = np.array([tweet.created_at for tweet in info])\n",
        "tweets_df['Source'] = np.array([tweet.source for tweet in info])\n",
        "tweets_df['Likes']  = np.array([tweet.favorite_count for tweet in info])\n",
        "tweets_df['Retweets']    = np.array([tweet.retweet_count for tweet in info])\n",
        "tweets_df['Geo']    = np.array([tweet.geo for tweet in info])\n",
        "tweets_df['Coordinates']    = np.array([tweet.coordinates for tweet in info])         \n",
        "tweets_df['Place']    = np.array([tweet.place for tweet in info])\n",
        "\n",
        "tweets_df.to_csv(\"tweets_Keyword_homeoffice_pt.csv\")"
      ],
      "execution_count": null,
      "outputs": []
    },
    {
      "cell_type": "code",
      "metadata": {
        "id": "R6w0Ddt_H_O0",
        "colab_type": "code",
        "colab": {},
        "outputId": "f902bd0d-dd1b-4403-eddb-2f072fc851a4"
      },
      "source": [
        "tweets_df.head(3)"
      ],
      "execution_count": null,
      "outputs": [
        {
          "output_type": "execute_result",
          "data": {
            "text/html": [
              "<div>\n",
              "<style scoped>\n",
              "    .dataframe tbody tr th:only-of-type {\n",
              "        vertical-align: middle;\n",
              "    }\n",
              "\n",
              "    .dataframe tbody tr th {\n",
              "        vertical-align: top;\n",
              "    }\n",
              "\n",
              "    .dataframe thead th {\n",
              "        text-align: right;\n",
              "    }\n",
              "</style>\n",
              "<table border=\"1\" class=\"dataframe\">\n",
              "  <thead>\n",
              "    <tr style=\"text-align: right;\">\n",
              "      <th></th>\n",
              "      <th>Tweets</th>\n",
              "      <th>len</th>\n",
              "      <th>ID</th>\n",
              "      <th>USER</th>\n",
              "      <th>userName</th>\n",
              "      <th>User Location</th>\n",
              "      <th>Language</th>\n",
              "      <th>Date</th>\n",
              "      <th>Source</th>\n",
              "      <th>Likes</th>\n",
              "      <th>Retweets</th>\n",
              "      <th>Geo</th>\n",
              "      <th>Coordinates</th>\n",
              "      <th>Place</th>\n",
              "    </tr>\n",
              "  </thead>\n",
              "  <tbody>\n",
              "    <tr>\n",
              "      <th>0</th>\n",
              "      <td>Apostar ou não na inovação incremental pode se...</td>\n",
              "      <td>276</td>\n",
              "      <td>1295352445565100034</td>\n",
              "      <td>AevoTI</td>\n",
              "      <td>AEVO</td>\n",
              "      <td></td>\n",
              "      <td>None</td>\n",
              "      <td>2020-08-17 13:31:04</td>\n",
              "      <td>mLabs - Gestão de Redes Sociais</td>\n",
              "      <td>0</td>\n",
              "      <td>0</td>\n",
              "      <td>None</td>\n",
              "      <td>None</td>\n",
              "      <td>None</td>\n",
              "    </tr>\n",
              "    <tr>\n",
              "      <th>1</th>\n",
              "      <td>Só queria um estágio na aevo, sabe</td>\n",
              "      <td>34</td>\n",
              "      <td>1295113100711034880</td>\n",
              "      <td>thayslugon</td>\n",
              "      <td>thay</td>\n",
              "      <td>+5527</td>\n",
              "      <td>None</td>\n",
              "      <td>2020-08-16 21:39:59</td>\n",
              "      <td>Twitter for iPhone</td>\n",
              "      <td>0</td>\n",
              "      <td>0</td>\n",
              "      <td>None</td>\n",
              "      <td>None</td>\n",
              "      <td>None</td>\n",
              "    </tr>\n",
              "    <tr>\n",
              "      <th>2</th>\n",
              "      <td>👉 Quer transformar os seus colaboradores em in...</td>\n",
              "      <td>293</td>\n",
              "      <td>1294379105518080002</td>\n",
              "      <td>AevoTI</td>\n",
              "      <td>AEVO</td>\n",
              "      <td></td>\n",
              "      <td>None</td>\n",
              "      <td>2020-08-14 21:03:21</td>\n",
              "      <td>mLabs - Gestão de Redes Sociais</td>\n",
              "      <td>0</td>\n",
              "      <td>0</td>\n",
              "      <td>None</td>\n",
              "      <td>None</td>\n",
              "      <td>None</td>\n",
              "    </tr>\n",
              "  </tbody>\n",
              "</table>\n",
              "</div>"
            ],
            "text/plain": [
              "                                              Tweets  len  \\\n",
              "0  Apostar ou não na inovação incremental pode se...  276   \n",
              "1                 Só queria um estágio na aevo, sabe   34   \n",
              "2  👉 Quer transformar os seus colaboradores em in...  293   \n",
              "\n",
              "                    ID        USER userName User Location Language  \\\n",
              "0  1295352445565100034      AevoTI     AEVO                   None   \n",
              "1  1295113100711034880  thayslugon     thay         +5527     None   \n",
              "2  1294379105518080002      AevoTI     AEVO                   None   \n",
              "\n",
              "                 Date                           Source  Likes  Retweets   Geo  \\\n",
              "0 2020-08-17 13:31:04  mLabs - Gestão de Redes Sociais      0         0  None   \n",
              "1 2020-08-16 21:39:59               Twitter for iPhone      0         0  None   \n",
              "2 2020-08-14 21:03:21  mLabs - Gestão de Redes Sociais      0         0  None   \n",
              "\n",
              "  Coordinates Place  \n",
              "0        None  None  \n",
              "1        None  None  \n",
              "2        None  None  "
            ]
          },
          "metadata": {
            "tags": []
          },
          "execution_count": 17
        }
      ]
    },
    {
      "cell_type": "code",
      "metadata": {
        "id": "HK1Ih5fwH_O3",
        "colab_type": "code",
        "colab": {},
        "outputId": "a1240002-e06f-41c1-f19b-feaa68533add"
      },
      "source": [
        "tweets_df[\"Tweets\"]"
      ],
      "execution_count": null,
      "outputs": [
        {
          "output_type": "execute_result",
          "data": {
            "text/plain": [
              "0    Apostar ou não na inovação incremental pode se...\n",
              "1                   Só queria um estágio na aevo, sabe\n",
              "2    👉 Quer transformar os seus colaboradores em in...\n",
              "3    AEVO SOLAR AVANÇA COM USINAS SOLARES DE 6 MW  ...\n",
              "4    FAMILIA AEVO  nosso time está crescendo e evol...\n",
              "5    MASCOTES AEVO  Legenda: treinamento do cão par...\n",
              "6    Ganhei contra Yu e Adachi hoje foi to, vo ganh...\n",
              "7    Você sabia que o Gmail, do Google, nasceu dent...\n",
              "Name: Tweets, dtype: object"
            ]
          },
          "metadata": {
            "tags": []
          },
          "execution_count": 30
        }
      ]
    },
    {
      "cell_type": "markdown",
      "metadata": {
        "id": "XeaIzjLFH_O5",
        "colab_type": "text"
      },
      "source": [
        "**Identificar os Top Tweets coletados**"
      ]
    },
    {
      "cell_type": "code",
      "metadata": {
        "id": "6CAxuxdqH_O5",
        "colab_type": "code",
        "colab": {},
        "outputId": "cba550d5-6f5d-4eca-8ef9-d5ade2565dd5"
      },
      "source": [
        "# Tweets com maior número de LIKES\n",
        "likes_max = np.max(tweets_df['Likes']) #Função max do numpy identifica o valor máximo\n",
        "\n",
        "likes = tweets_df[tweets_df.Likes == likes_max].index[0] #pega o primeiro tweet com valor máximo de curtidas\n",
        "\n",
        "print(\"O tweet com mais curtidas (likes) é: \\n{}\".format(tweets_df['Tweets'][likes]))\n",
        "print(\"Número de curtidas: {}\".format(likes_max))"
      ],
      "execution_count": null,
      "outputs": [
        {
          "output_type": "stream",
          "text": [
            "O tweet com mais curtidas (likes) é: \n",
            "Ganhei contra Yu e Adachi hoje foi to, vo ganhar aevo kkkkk https://t.co/W696GROdeY\n",
            "Número de curtidas: 20\n"
          ],
          "name": "stdout"
        }
      ]
    },
    {
      "cell_type": "code",
      "metadata": {
        "id": "AYS_XJaoH_O8",
        "colab_type": "code",
        "colab": {},
        "outputId": "05fb9aff-faf6-4492-b53f-4fbd9a4cd8ea"
      },
      "source": [
        "print(np.sum(tweets_df['Likes'] == likes_max)) #conta quantos tweets possuem o mesmo valor max"
      ],
      "execution_count": null,
      "outputs": [
        {
          "output_type": "stream",
          "text": [
            "1\n"
          ],
          "name": "stdout"
        }
      ]
    },
    {
      "cell_type": "code",
      "metadata": {
        "id": "JDh2UKa6H_O_",
        "colab_type": "code",
        "colab": {},
        "outputId": "92ba6c61-150c-45e4-c66a-a447730b1a06"
      },
      "source": [
        "retweet_max  = np.max(tweets_df['Retweets']) #retorna o valor máximo\n",
        "\n",
        "retweet  = tweets_df[tweets_df.Retweets == retweet_max].index[0] #pega o primeiro tweet com valor máximo de Retweets\n",
        "\n",
        "print(\"O tweet com mais retweet é: \\n{}\".format(tweets_df['Tweets'][retweet]))\n",
        "print(\"Número de retweets: {}\".format(retweet_max))"
      ],
      "execution_count": null,
      "outputs": [
        {
          "output_type": "stream",
          "text": [
            "O tweet com mais retweet é: \n",
            "Apostar ou não na inovação incremental pode ser a diferença entre obter o máximo de valor do seu produto ou permitir que este seja facilmente superado pelo mercado.   Clique no link e conheça o potencial da inovação incremental: https://t.co/r5JfpjtFHF https://t.co/8CDFCcwPvq\n",
            "Número de retweets: 0\n"
          ],
          "name": "stdout"
        }
      ]
    },
    {
      "cell_type": "markdown",
      "metadata": {
        "id": "TSek0L4TH_PA",
        "colab_type": "text"
      },
      "source": [
        "**Identifica a fonte(origem) do tweet**\n",
        "\n",
        "Nesse caso, app ou dispositivo onde o usuário postou o tweet"
      ]
    },
    {
      "cell_type": "code",
      "metadata": {
        "id": "isAgxodOH_PA",
        "colab_type": "code",
        "colab": {}
      },
      "source": [
        "sources = [] #lista para armazenar a fontes\n",
        "for source in tweets_df['Source']:\n",
        "    if source not in sources:\n",
        "        sources.append(source) #inclui no vetor sources apenas se a fonte encontrada ainda não foi incluída\n",
        "\n",
        "percent = np.zeros(len(sources)) #Retorna um novo vetor, com o número de elementos do vetor sources, preenchido com zeros a new array filled with zeros, for\n",
        "\n",
        "for source in tweets_df['Source']:\n",
        "    for index in range(len(sources)):\n",
        "        if source == sources[index]:\n",
        "            percent[index] += 1\n",
        "            pass"
      ],
      "execution_count": null,
      "outputs": []
    },
    {
      "cell_type": "markdown",
      "metadata": {
        "id": "bkBBQUWcH_PB",
        "colab_type": "text"
      },
      "source": [
        "**Gráfico que exibe o número de tweets por fonte**"
      ]
    },
    {
      "cell_type": "code",
      "metadata": {
        "id": "oR3byDKBH_PC",
        "colab_type": "code",
        "colab": {},
        "outputId": "2c977d9f-d0df-4a07-829b-dab107bacdab"
      },
      "source": [
        "sourceDF = pd.DataFrame({\n",
        " 'source':percent,\n",
        "}, index=sources)\n",
        "\n",
        "sourceDF"
      ],
      "execution_count": null,
      "outputs": [
        {
          "output_type": "execute_result",
          "data": {
            "text/html": [
              "<div>\n",
              "<style scoped>\n",
              "    .dataframe tbody tr th:only-of-type {\n",
              "        vertical-align: middle;\n",
              "    }\n",
              "\n",
              "    .dataframe tbody tr th {\n",
              "        vertical-align: top;\n",
              "    }\n",
              "\n",
              "    .dataframe thead th {\n",
              "        text-align: right;\n",
              "    }\n",
              "</style>\n",
              "<table border=\"1\" class=\"dataframe\">\n",
              "  <thead>\n",
              "    <tr style=\"text-align: right;\">\n",
              "      <th></th>\n",
              "      <th>source</th>\n",
              "    </tr>\n",
              "  </thead>\n",
              "  <tbody>\n",
              "    <tr>\n",
              "      <th>mLabs - Gestão de Redes Sociais</th>\n",
              "      <td>3.0</td>\n",
              "    </tr>\n",
              "    <tr>\n",
              "      <th>Twitter for iPhone</th>\n",
              "      <td>1.0</td>\n",
              "    </tr>\n",
              "    <tr>\n",
              "      <th>Instagram</th>\n",
              "      <td>3.0</td>\n",
              "    </tr>\n",
              "    <tr>\n",
              "      <th>Nintendo Switch Share</th>\n",
              "      <td>1.0</td>\n",
              "    </tr>\n",
              "  </tbody>\n",
              "</table>\n",
              "</div>"
            ],
            "text/plain": [
              "                                 source\n",
              "mLabs - Gestão de Redes Sociais     3.0\n",
              "Twitter for iPhone                  1.0\n",
              "Instagram                           3.0\n",
              "Nintendo Switch Share               1.0"
            ]
          },
          "metadata": {
            "tags": []
          },
          "execution_count": 35
        }
      ]
    },
    {
      "cell_type": "code",
      "metadata": {
        "id": "ptXyHkZRH_PD",
        "colab_type": "code",
        "colab": {},
        "outputId": "5bf80875-78b5-4568-b174-fb4f09d2576b"
      },
      "source": [
        "sources_sorted = sourceDF.sort_values('source',ascending=True)\n",
        "ax = sources_sorted.source.plot(kind='barh',color='#A52A2A')\n",
        "ax.get_xaxis().set_major_formatter(plt.FuncFormatter(lambda x, loc: \"{:,}\".format(int(x))))"
      ],
      "execution_count": null,
      "outputs": [
        {
          "output_type": "display_data",
          "data": {
            "image/png": "[encoded data removed]",
            "text/plain": [
              "<Figure size 432x288 with 1 Axes>"
            ]
          },
          "metadata": {
            "tags": [],
            "needs_background": "light"
          }
        }
      ]
    },
    {
      "cell_type": "code",
      "metadata": {
        "id": "DKzqAZ46H_PF",
        "colab_type": "code",
        "colab": {},
        "outputId": "15bf92b7-128d-48c9-9094-7a162b15756e"
      },
      "source": [
        "sources_sorted = sourceDF.sort_values('source',ascending=False)\n",
        "ax = sources_sorted.source.plot(kind='barh',color='#B8860B')\n",
        "ax.get_xaxis().set_major_formatter(plt.FuncFormatter(lambda x, loc: \"{:,}\".format(int(x))))"
      ],
      "execution_count": null,
      "outputs": [
        {
          "output_type": "display_data",
          "data": {
            "image/png": "[encoded data removed]",
            "text/plain": [
              "<Figure size 432x288 with 1 Axes>"
            ]
          },
          "metadata": {
            "tags": [],
            "needs_background": "light"
          }
        }
      ]
    },
    {
      "cell_type": "markdown",
      "metadata": {
        "id": "ywX2LrufH_PG",
        "colab_type": "text"
      },
      "source": [
        "Mais usuários usam Android."
      ]
    },
    {
      "cell_type": "markdown",
      "metadata": {
        "id": "n7s2sU-bH_PH",
        "colab_type": "text"
      },
      "source": [
        "**Análise de Polaridade**"
      ]
    },
    {
      "cell_type": "code",
      "metadata": {
        "id": "N3T3RsQyH_PH",
        "colab_type": "code",
        "colab": {}
      },
      "source": [
        "#Variável que irá armazenar as polaridades\n",
        "analysis = None\n",
        "# Lista vazia para armazenar as polaridades\n",
        "polarities = []"
      ],
      "execution_count": null,
      "outputs": []
    },
    {
      "cell_type": "code",
      "metadata": {
        "id": "EjJ26EQNH_PI",
        "colab_type": "code",
        "colab": {},
        "outputId": "66424370-4599-4250-992b-d1586218d1bc"
      },
      "source": [
        "tweets_df.head()"
      ],
      "execution_count": null,
      "outputs": [
        {
          "output_type": "execute_result",
          "data": {
            "text/html": [
              "<div>\n",
              "<style scoped>\n",
              "    .dataframe tbody tr th:only-of-type {\n",
              "        vertical-align: middle;\n",
              "    }\n",
              "\n",
              "    .dataframe tbody tr th {\n",
              "        vertical-align: top;\n",
              "    }\n",
              "\n",
              "    .dataframe thead th {\n",
              "        text-align: right;\n",
              "    }\n",
              "</style>\n",
              "<table border=\"1\" class=\"dataframe\">\n",
              "  <thead>\n",
              "    <tr style=\"text-align: right;\">\n",
              "      <th></th>\n",
              "      <th>Tweets</th>\n",
              "      <th>len</th>\n",
              "      <th>ID</th>\n",
              "      <th>USER</th>\n",
              "      <th>userName</th>\n",
              "      <th>User Location</th>\n",
              "      <th>Language</th>\n",
              "      <th>Date</th>\n",
              "      <th>Source</th>\n",
              "      <th>Likes</th>\n",
              "      <th>Retweets</th>\n",
              "      <th>Geo</th>\n",
              "      <th>Coordinates</th>\n",
              "      <th>Place</th>\n",
              "    </tr>\n",
              "  </thead>\n",
              "  <tbody>\n",
              "    <tr>\n",
              "      <th>0</th>\n",
              "      <td>Apostar ou não na inovação incremental pode se...</td>\n",
              "      <td>276</td>\n",
              "      <td>1295352445565100034</td>\n",
              "      <td>AevoTI</td>\n",
              "      <td>AEVO</td>\n",
              "      <td></td>\n",
              "      <td>None</td>\n",
              "      <td>2020-08-17 13:31:04</td>\n",
              "      <td>mLabs - Gestão de Redes Sociais</td>\n",
              "      <td>0</td>\n",
              "      <td>0</td>\n",
              "      <td>None</td>\n",
              "      <td>None</td>\n",
              "      <td>None</td>\n",
              "    </tr>\n",
              "    <tr>\n",
              "      <th>1</th>\n",
              "      <td>Só queria um estágio na aevo, sabe</td>\n",
              "      <td>34</td>\n",
              "      <td>1295113100711034880</td>\n",
              "      <td>thayslugon</td>\n",
              "      <td>thay</td>\n",
              "      <td>+5527</td>\n",
              "      <td>None</td>\n",
              "      <td>2020-08-16 21:39:59</td>\n",
              "      <td>Twitter for iPhone</td>\n",
              "      <td>0</td>\n",
              "      <td>0</td>\n",
              "      <td>None</td>\n",
              "      <td>None</td>\n",
              "      <td>None</td>\n",
              "    </tr>\n",
              "    <tr>\n",
              "      <th>2</th>\n",
              "      <td>👉 Quer transformar os seus colaboradores em in...</td>\n",
              "      <td>293</td>\n",
              "      <td>1294379105518080002</td>\n",
              "      <td>AevoTI</td>\n",
              "      <td>AEVO</td>\n",
              "      <td></td>\n",
              "      <td>None</td>\n",
              "      <td>2020-08-14 21:03:21</td>\n",
              "      <td>mLabs - Gestão de Redes Sociais</td>\n",
              "      <td>0</td>\n",
              "      <td>0</td>\n",
              "      <td>None</td>\n",
              "      <td>None</td>\n",
              "      <td>None</td>\n",
              "    </tr>\n",
              "    <tr>\n",
              "      <th>3</th>\n",
              "      <td>AEVO SOLAR AVANÇA COM USINAS SOLARES DE 6 MW  ...</td>\n",
              "      <td>237</td>\n",
              "      <td>1293868341631819776</td>\n",
              "      <td>StudioEquinocio</td>\n",
              "      <td>StudioEquinocio AEVO</td>\n",
              "      <td>Brazil</td>\n",
              "      <td>None</td>\n",
              "      <td>2020-08-13 11:13:46</td>\n",
              "      <td>Instagram</td>\n",
              "      <td>0</td>\n",
              "      <td>0</td>\n",
              "      <td>None</td>\n",
              "      <td>None</td>\n",
              "      <td>None</td>\n",
              "    </tr>\n",
              "    <tr>\n",
              "      <th>4</th>\n",
              "      <td>FAMILIA AEVO  nosso time está crescendo e evol...</td>\n",
              "      <td>161</td>\n",
              "      <td>1293868200736817154</td>\n",
              "      <td>StudioEquinocio</td>\n",
              "      <td>StudioEquinocio AEVO</td>\n",
              "      <td>Brazil</td>\n",
              "      <td>None</td>\n",
              "      <td>2020-08-13 11:13:12</td>\n",
              "      <td>Instagram</td>\n",
              "      <td>0</td>\n",
              "      <td>0</td>\n",
              "      <td>None</td>\n",
              "      <td>None</td>\n",
              "      <td>None</td>\n",
              "    </tr>\n",
              "  </tbody>\n",
              "</table>\n",
              "</div>"
            ],
            "text/plain": [
              "                                              Tweets  len  \\\n",
              "0  Apostar ou não na inovação incremental pode se...  276   \n",
              "1                 Só queria um estágio na aevo, sabe   34   \n",
              "2  👉 Quer transformar os seus colaboradores em in...  293   \n",
              "3  AEVO SOLAR AVANÇA COM USINAS SOLARES DE 6 MW  ...  237   \n",
              "4  FAMILIA AEVO  nosso time está crescendo e evol...  161   \n",
              "\n",
              "                    ID             USER              userName User Location  \\\n",
              "0  1295352445565100034           AevoTI                  AEVO                 \n",
              "1  1295113100711034880       thayslugon                  thay         +5527   \n",
              "2  1294379105518080002           AevoTI                  AEVO                 \n",
              "3  1293868341631819776  StudioEquinocio  StudioEquinocio AEVO        Brazil   \n",
              "4  1293868200736817154  StudioEquinocio  StudioEquinocio AEVO        Brazil   \n",
              "\n",
              "  Language                Date                           Source  Likes  \\\n",
              "0     None 2020-08-17 13:31:04  mLabs - Gestão de Redes Sociais      0   \n",
              "1     None 2020-08-16 21:39:59               Twitter for iPhone      0   \n",
              "2     None 2020-08-14 21:03:21  mLabs - Gestão de Redes Sociais      0   \n",
              "3     None 2020-08-13 11:13:46                        Instagram      0   \n",
              "4     None 2020-08-13 11:13:12                        Instagram      0   \n",
              "\n",
              "   Retweets   Geo Coordinates Place  \n",
              "0         0  None        None  None  \n",
              "1         0  None        None  None  \n",
              "2         0  None        None  None  \n",
              "3         0  None        None  None  \n",
              "4         0  None        None  None  "
            ]
          },
          "metadata": {
            "tags": []
          },
          "execution_count": 40
        }
      ]
    },
    {
      "cell_type": "markdown",
      "metadata": {
        "id": "ujpkOo_iH_PJ",
        "colab_type": "text"
      },
      "source": [
        "**Polaridade para tweets em português**"
      ]
    },
    {
      "cell_type": "code",
      "metadata": {
        "id": "qGdXCruqH_PJ",
        "colab_type": "code",
        "colab": {}
      },
      "source": [
        "from googletrans import Translator\n",
        "from unidecode import unidecode"
      ],
      "execution_count": null,
      "outputs": []
    },
    {
      "cell_type": "markdown",
      "metadata": {
        "id": "dxCfeTf_H_PK",
        "colab_type": "text"
      },
      "source": [
        "**Um exemplo de tradução**\n",
        "\n"
      ]
    },
    {
      "cell_type": "code",
      "metadata": {
        "id": "AtnU7bfDH_PK",
        "colab_type": "code",
        "colab": {},
        "outputId": "04926456-50a6-42da-f4be-533ff5aefa86"
      },
      "source": [
        "tweets_df['Tweets'][3]"
      ],
      "execution_count": null,
      "outputs": [
        {
          "output_type": "execute_result",
          "data": {
            "text/plain": [
              "'AEVO SOLAR AVANÇA COM USINAS SOLARES DE 6 MW   #aevosolarr #remotia #familiaaevo #geraçãodistribuída #usinasolar #geraçãosolar #abundância #prosperidadeplena #sustentabilidadecriativa #economiacircular #empregosp… https://t.co/5Cr66E7CJh'"
            ]
          },
          "metadata": {
            "tags": []
          },
          "execution_count": 42
        }
      ]
    },
    {
      "cell_type": "code",
      "metadata": {
        "id": "ONRi8l54H_PM",
        "colab_type": "code",
        "colab": {}
      },
      "source": [
        "textPT = unidecode(tweets_df['Tweets'][3])\n",
        "textEN = Translator().translate(textPT)"
      ],
      "execution_count": null,
      "outputs": []
    },
    {
      "cell_type": "code",
      "metadata": {
        "id": "RZinsfIvH_PM",
        "colab_type": "code",
        "colab": {},
        "outputId": "95063aac-26b0-43c7-a254-07cf84b7a939"
      },
      "source": [
        "textEN.text"
      ],
      "execution_count": null,
      "outputs": [
        {
          "output_type": "execute_result",
          "data": {
            "text/plain": [
              "'AEVO SOLAR AVANCA COM USINAS SOLARES DE 6 MW #aevosolarr #remotia #familiaaevo #geracaodistribuida #usinasolar #geracaosolar #abundancia #prosperidadeplena #sustentabilidadecriativa #economiacircular #empregosp ... https://t.co/5Cr66E7CJh'"
            ]
          },
          "metadata": {
            "tags": []
          },
          "execution_count": 44
        }
      ]
    },
    {
      "cell_type": "code",
      "metadata": {
        "id": "hT9u4n67H_PO",
        "colab_type": "code",
        "colab": {},
        "outputId": "79eb4f4a-d085-4937-e2c7-566c28a5c15f"
      },
      "source": [
        "analysis = tb(textEN.text)    \n",
        "    #Calculando a polaridade do texto traduzido\n",
        "polarity = analysis.sentiment.polarity #analisa a polaridade  \n",
        "polarity"
      ],
      "execution_count": null,
      "outputs": [
        {
          "output_type": "execute_result",
          "data": {
            "text/plain": [
              "0.0"
            ]
          },
          "metadata": {
            "tags": []
          },
          "execution_count": 45
        }
      ]
    },
    {
      "cell_type": "code",
      "metadata": {
        "id": "l7Bwp3OZH_PP",
        "colab_type": "code",
        "colab": {}
      },
      "source": [
        "for tweet in tweets_df['Tweets']: #para cada tweet lido foi passar por unicode\n",
        "    #Texto do Tweet\n",
        "    textPT = unidecode(tweet)\n",
        "    \n",
        "    #vou Traduzir para o Inglês\n",
        "    textEN = Translator().translate(textPT)\n",
        "    \n",
        "    analysis = tb(textEN.text) #usar TextBlob    \n",
        "    #Calculando a polaridade do texto traduzido\n",
        "    polarity = analysis.sentiment.polarity #analisa a polaridade  \n",
        "    polarities.append(polarity) #add polaridade de cada tweet no vetor polaridades"
      ],
      "execution_count": null,
      "outputs": []
    },
    {
      "cell_type": "code",
      "metadata": {
        "id": "DnMeebKxH_PQ",
        "colab_type": "code",
        "colab": {},
        "outputId": "b65cbf5f-e728-4a4d-e720-06e3bb87a97e"
      },
      "source": [
        "tweets_df.head(3)"
      ],
      "execution_count": null,
      "outputs": [
        {
          "output_type": "execute_result",
          "data": {
            "text/html": [
              "<div>\n",
              "<style scoped>\n",
              "    .dataframe tbody tr th:only-of-type {\n",
              "        vertical-align: middle;\n",
              "    }\n",
              "\n",
              "    .dataframe tbody tr th {\n",
              "        vertical-align: top;\n",
              "    }\n",
              "\n",
              "    .dataframe thead th {\n",
              "        text-align: right;\n",
              "    }\n",
              "</style>\n",
              "<table border=\"1\" class=\"dataframe\">\n",
              "  <thead>\n",
              "    <tr style=\"text-align: right;\">\n",
              "      <th></th>\n",
              "      <th>Tweets</th>\n",
              "      <th>len</th>\n",
              "      <th>ID</th>\n",
              "      <th>USER</th>\n",
              "      <th>userName</th>\n",
              "      <th>User Location</th>\n",
              "      <th>Language</th>\n",
              "      <th>Date</th>\n",
              "      <th>Source</th>\n",
              "      <th>Likes</th>\n",
              "      <th>Retweets</th>\n",
              "      <th>Geo</th>\n",
              "      <th>Coordinates</th>\n",
              "      <th>Place</th>\n",
              "    </tr>\n",
              "  </thead>\n",
              "  <tbody>\n",
              "    <tr>\n",
              "      <th>0</th>\n",
              "      <td>Apostar ou não na inovação incremental pode se...</td>\n",
              "      <td>276</td>\n",
              "      <td>1295352445565100034</td>\n",
              "      <td>AevoTI</td>\n",
              "      <td>AEVO</td>\n",
              "      <td></td>\n",
              "      <td>None</td>\n",
              "      <td>2020-08-17 13:31:04</td>\n",
              "      <td>mLabs - Gestão de Redes Sociais</td>\n",
              "      <td>0</td>\n",
              "      <td>0</td>\n",
              "      <td>None</td>\n",
              "      <td>None</td>\n",
              "      <td>None</td>\n",
              "    </tr>\n",
              "    <tr>\n",
              "      <th>1</th>\n",
              "      <td>Só queria um estágio na aevo, sabe</td>\n",
              "      <td>34</td>\n",
              "      <td>1295113100711034880</td>\n",
              "      <td>thayslugon</td>\n",
              "      <td>thay</td>\n",
              "      <td>+5527</td>\n",
              "      <td>None</td>\n",
              "      <td>2020-08-16 21:39:59</td>\n",
              "      <td>Twitter for iPhone</td>\n",
              "      <td>0</td>\n",
              "      <td>0</td>\n",
              "      <td>None</td>\n",
              "      <td>None</td>\n",
              "      <td>None</td>\n",
              "    </tr>\n",
              "    <tr>\n",
              "      <th>2</th>\n",
              "      <td>👉 Quer transformar os seus colaboradores em in...</td>\n",
              "      <td>293</td>\n",
              "      <td>1294379105518080002</td>\n",
              "      <td>AevoTI</td>\n",
              "      <td>AEVO</td>\n",
              "      <td></td>\n",
              "      <td>None</td>\n",
              "      <td>2020-08-14 21:03:21</td>\n",
              "      <td>mLabs - Gestão de Redes Sociais</td>\n",
              "      <td>0</td>\n",
              "      <td>0</td>\n",
              "      <td>None</td>\n",
              "      <td>None</td>\n",
              "      <td>None</td>\n",
              "    </tr>\n",
              "  </tbody>\n",
              "</table>\n",
              "</div>"
            ],
            "text/plain": [
              "                                              Tweets  len  \\\n",
              "0  Apostar ou não na inovação incremental pode se...  276   \n",
              "1                 Só queria um estágio na aevo, sabe   34   \n",
              "2  👉 Quer transformar os seus colaboradores em in...  293   \n",
              "\n",
              "                    ID        USER userName User Location Language  \\\n",
              "0  1295352445565100034      AevoTI     AEVO                   None   \n",
              "1  1295113100711034880  thayslugon     thay         +5527     None   \n",
              "2  1294379105518080002      AevoTI     AEVO                   None   \n",
              "\n",
              "                 Date                           Source  Likes  Retweets   Geo  \\\n",
              "0 2020-08-17 13:31:04  mLabs - Gestão de Redes Sociais      0         0  None   \n",
              "1 2020-08-16 21:39:59               Twitter for iPhone      0         0  None   \n",
              "2 2020-08-14 21:03:21  mLabs - Gestão de Redes Sociais      0         0  None   \n",
              "\n",
              "  Coordinates Place  \n",
              "0        None  None  \n",
              "1        None  None  \n",
              "2        None  None  "
            ]
          },
          "metadata": {
            "tags": []
          },
          "execution_count": 47
        }
      ]
    },
    {
      "cell_type": "code",
      "metadata": {
        "scrolled": true,
        "id": "PuaTwhv3H_PR",
        "colab_type": "code",
        "colab": {},
        "outputId": "f269f913-f3b1-44f7-9e61-0c4b31942cef"
      },
      "source": [
        "print('Vetor de polaridade:',polarities)"
      ],
      "execution_count": null,
      "outputs": [
        {
          "output_type": "stream",
          "text": [
            "Vetor de polaridade: [0.3111111111111111, 0.0, 0.51875, 0.0, 0.0, 0.0, 0.8, 0.5]\n"
          ],
          "name": "stdout"
        }
      ]
    },
    {
      "cell_type": "markdown",
      "metadata": {
        "id": "XKkErYKoH_PS",
        "colab_type": "text"
      },
      "source": [
        "**Análise de Sentimento**"
      ]
    },
    {
      "cell_type": "code",
      "metadata": {
        "id": "Goujpgt0H_PS",
        "colab_type": "code",
        "colab": {},
        "outputId": "c44a5026-244d-4582-b5aa-e845fee2aba3"
      },
      "source": [
        "print('Para a(s) palavra(s):\"%s\"' % keyword)\n",
        "print('A MÉDIA DE SENTIMENTO É: ' + str(np.mean(polarities)))"
      ],
      "execution_count": null,
      "outputs": [
        {
          "output_type": "stream",
          "text": [
            "Para a(s) palavra(s):\"aevo\"\n",
            "A MÉDIA DE SENTIMENTO É: 0.26623263888888893\n"
          ],
          "name": "stdout"
        }
      ]
    },
    {
      "cell_type": "code",
      "metadata": {
        "id": "qEOhFUndH_PT",
        "colab_type": "code",
        "colab": {}
      },
      "source": [
        "positive = 0\n",
        "negative = 0\n",
        "neutral = 0\n",
        "\n",
        "for polarity in polarities:\n",
        "    if polarity > 0:\n",
        "        positive = positive+1\n",
        "    elif polarity < 0:\n",
        "        negative = negative+1\n",
        "    else:\n",
        "        neutral = neutral+1           \n",
        "\n",
        "#calcula percentual\n",
        "pos_pct=positive*100/len(polarities)\n",
        "neg_pct=negative*100/len(polarities)\n",
        "neu_pct=neutral*100/len(polarities)"
      ],
      "execution_count": null,
      "outputs": []
    },
    {
      "cell_type": "code",
      "metadata": {
        "id": "aeM7AIoZH_PU",
        "colab_type": "code",
        "colab": {}
      },
      "source": [
        "sentiments = ['Positivos', 'Negativos','Neutros']\n",
        "percents = [pos_pct, neg_pct, neu_pct]"
      ],
      "execution_count": null,
      "outputs": []
    },
    {
      "cell_type": "code",
      "metadata": {
        "scrolled": true,
        "id": "__mbi29jH_PV",
        "colab_type": "code",
        "colab": {},
        "outputId": "82bf9b82-a864-436c-aba3-9eeb56cb1c93"
      },
      "source": [
        "explode = (0.1, 0, 0) #Separa o primeiro\n",
        "\n",
        "pie_chart = pd.Series(percents, index=sentiments,name='')\n",
        "pie_chart.plot.pie(fontsize=12, explode=explode, autopct='%.2f%%', shadow=True,\n",
        "                   figsize=(5, 5),title=\"Análise de Sentimentos tweets\");"
      ],
      "execution_count": null,
      "outputs": [
        {
          "output_type": "display_data",
          "data": {
            "image/png": "[encoded data removed]",
            "text/plain": [
              "<Figure size 360x360 with 1 Axes>"
            ]
          },
          "metadata": {
            "tags": []
          }
        }
      ]
    },
    {
      "cell_type": "code",
      "metadata": {
        "id": "9qF56pgmH_PW",
        "colab_type": "code",
        "colab": {},
        "outputId": "5a2fa4b5-b564-47ec-e478-30221736651c"
      },
      "source": [
        "tweets_df"
      ],
      "execution_count": null,
      "outputs": [
        {
          "output_type": "execute_result",
          "data": {
            "text/html": [
              "<div>\n",
              "<style scoped>\n",
              "    .dataframe tbody tr th:only-of-type {\n",
              "        vertical-align: middle;\n",
              "    }\n",
              "\n",
              "    .dataframe tbody tr th {\n",
              "        vertical-align: top;\n",
              "    }\n",
              "\n",
              "    .dataframe thead th {\n",
              "        text-align: right;\n",
              "    }\n",
              "</style>\n",
              "<table border=\"1\" class=\"dataframe\">\n",
              "  <thead>\n",
              "    <tr style=\"text-align: right;\">\n",
              "      <th></th>\n",
              "      <th>Tweets</th>\n",
              "      <th>len</th>\n",
              "      <th>ID</th>\n",
              "      <th>USER</th>\n",
              "      <th>userName</th>\n",
              "      <th>User Location</th>\n",
              "      <th>Language</th>\n",
              "      <th>Date</th>\n",
              "      <th>Source</th>\n",
              "      <th>Likes</th>\n",
              "      <th>Retweets</th>\n",
              "      <th>Geo</th>\n",
              "      <th>Coordinates</th>\n",
              "      <th>Place</th>\n",
              "    </tr>\n",
              "  </thead>\n",
              "  <tbody>\n",
              "    <tr>\n",
              "      <th>0</th>\n",
              "      <td>Apostar ou não na inovação incremental pode se...</td>\n",
              "      <td>276</td>\n",
              "      <td>1295352445565100034</td>\n",
              "      <td>AevoTI</td>\n",
              "      <td>AEVO</td>\n",
              "      <td></td>\n",
              "      <td>None</td>\n",
              "      <td>2020-08-17 13:31:04</td>\n",
              "      <td>mLabs - Gestão de Redes Sociais</td>\n",
              "      <td>0</td>\n",
              "      <td>0</td>\n",
              "      <td>None</td>\n",
              "      <td>None</td>\n",
              "      <td>None</td>\n",
              "    </tr>\n",
              "    <tr>\n",
              "      <th>1</th>\n",
              "      <td>Só queria um estágio na aevo, sabe</td>\n",
              "      <td>34</td>\n",
              "      <td>1295113100711034880</td>\n",
              "      <td>thayslugon</td>\n",
              "      <td>thay</td>\n",
              "      <td>+5527</td>\n",
              "      <td>None</td>\n",
              "      <td>2020-08-16 21:39:59</td>\n",
              "      <td>Twitter for iPhone</td>\n",
              "      <td>0</td>\n",
              "      <td>0</td>\n",
              "      <td>None</td>\n",
              "      <td>None</td>\n",
              "      <td>None</td>\n",
              "    </tr>\n",
              "    <tr>\n",
              "      <th>2</th>\n",
              "      <td>👉 Quer transformar os seus colaboradores em in...</td>\n",
              "      <td>293</td>\n",
              "      <td>1294379105518080002</td>\n",
              "      <td>AevoTI</td>\n",
              "      <td>AEVO</td>\n",
              "      <td></td>\n",
              "      <td>None</td>\n",
              "      <td>2020-08-14 21:03:21</td>\n",
              "      <td>mLabs - Gestão de Redes Sociais</td>\n",
              "      <td>0</td>\n",
              "      <td>0</td>\n",
              "      <td>None</td>\n",
              "      <td>None</td>\n",
              "      <td>None</td>\n",
              "    </tr>\n",
              "    <tr>\n",
              "      <th>3</th>\n",
              "      <td>AEVO SOLAR AVANÇA COM USINAS SOLARES DE 6 MW  ...</td>\n",
              "      <td>237</td>\n",
              "      <td>1293868341631819776</td>\n",
              "      <td>StudioEquinocio</td>\n",
              "      <td>StudioEquinocio AEVO</td>\n",
              "      <td>Brazil</td>\n",
              "      <td>None</td>\n",
              "      <td>2020-08-13 11:13:46</td>\n",
              "      <td>Instagram</td>\n",
              "      <td>0</td>\n",
              "      <td>0</td>\n",
              "      <td>None</td>\n",
              "      <td>None</td>\n",
              "      <td>None</td>\n",
              "    </tr>\n",
              "    <tr>\n",
              "      <th>4</th>\n",
              "      <td>FAMILIA AEVO  nosso time está crescendo e evol...</td>\n",
              "      <td>161</td>\n",
              "      <td>1293868200736817154</td>\n",
              "      <td>StudioEquinocio</td>\n",
              "      <td>StudioEquinocio AEVO</td>\n",
              "      <td>Brazil</td>\n",
              "      <td>None</td>\n",
              "      <td>2020-08-13 11:13:12</td>\n",
              "      <td>Instagram</td>\n",
              "      <td>0</td>\n",
              "      <td>0</td>\n",
              "      <td>None</td>\n",
              "      <td>None</td>\n",
              "      <td>None</td>\n",
              "    </tr>\n",
              "    <tr>\n",
              "      <th>5</th>\n",
              "      <td>MASCOTES AEVO  Legenda: treinamento do cão par...</td>\n",
              "      <td>205</td>\n",
              "      <td>1293867960268922880</td>\n",
              "      <td>StudioEquinocio</td>\n",
              "      <td>StudioEquinocio AEVO</td>\n",
              "      <td>Brazil</td>\n",
              "      <td>None</td>\n",
              "      <td>2020-08-13 11:12:15</td>\n",
              "      <td>Instagram</td>\n",
              "      <td>0</td>\n",
              "      <td>0</td>\n",
              "      <td>None</td>\n",
              "      <td>None</td>\n",
              "      <td>None</td>\n",
              "    </tr>\n",
              "    <tr>\n",
              "      <th>6</th>\n",
              "      <td>Ganhei contra Yu e Adachi hoje foi to, vo ganh...</td>\n",
              "      <td>83</td>\n",
              "      <td>1293338830376800256</td>\n",
              "      <td>Sabinossb</td>\n",
              "      <td>Gabriel Felix</td>\n",
              "      <td>Rio de Janeiro, Brasil</td>\n",
              "      <td>None</td>\n",
              "      <td>2020-08-12 00:09:40</td>\n",
              "      <td>Nintendo Switch Share</td>\n",
              "      <td>20</td>\n",
              "      <td>0</td>\n",
              "      <td>None</td>\n",
              "      <td>None</td>\n",
              "      <td>None</td>\n",
              "    </tr>\n",
              "    <tr>\n",
              "      <th>7</th>\n",
              "      <td>Você sabia que o Gmail, do Google, nasceu dent...</td>\n",
              "      <td>173</td>\n",
              "      <td>1293306668940496906</td>\n",
              "      <td>AevoTI</td>\n",
              "      <td>AEVO</td>\n",
              "      <td></td>\n",
              "      <td>None</td>\n",
              "      <td>2020-08-11 22:01:53</td>\n",
              "      <td>mLabs - Gestão de Redes Sociais</td>\n",
              "      <td>0</td>\n",
              "      <td>0</td>\n",
              "      <td>None</td>\n",
              "      <td>None</td>\n",
              "      <td>None</td>\n",
              "    </tr>\n",
              "  </tbody>\n",
              "</table>\n",
              "</div>"
            ],
            "text/plain": [
              "                                              Tweets  len  \\\n",
              "0  Apostar ou não na inovação incremental pode se...  276   \n",
              "1                 Só queria um estágio na aevo, sabe   34   \n",
              "2  👉 Quer transformar os seus colaboradores em in...  293   \n",
              "3  AEVO SOLAR AVANÇA COM USINAS SOLARES DE 6 MW  ...  237   \n",
              "4  FAMILIA AEVO  nosso time está crescendo e evol...  161   \n",
              "5  MASCOTES AEVO  Legenda: treinamento do cão par...  205   \n",
              "6  Ganhei contra Yu e Adachi hoje foi to, vo ganh...   83   \n",
              "7  Você sabia que o Gmail, do Google, nasceu dent...  173   \n",
              "\n",
              "                    ID             USER              userName  \\\n",
              "0  1295352445565100034           AevoTI                  AEVO   \n",
              "1  1295113100711034880       thayslugon                  thay   \n",
              "2  1294379105518080002           AevoTI                  AEVO   \n",
              "3  1293868341631819776  StudioEquinocio  StudioEquinocio AEVO   \n",
              "4  1293868200736817154  StudioEquinocio  StudioEquinocio AEVO   \n",
              "5  1293867960268922880  StudioEquinocio  StudioEquinocio AEVO   \n",
              "6  1293338830376800256        Sabinossb         Gabriel Felix   \n",
              "7  1293306668940496906           AevoTI                  AEVO   \n",
              "\n",
              "            User Location Language                Date  \\\n",
              "0                             None 2020-08-17 13:31:04   \n",
              "1                   +5527     None 2020-08-16 21:39:59   \n",
              "2                             None 2020-08-14 21:03:21   \n",
              "3                  Brazil     None 2020-08-13 11:13:46   \n",
              "4                  Brazil     None 2020-08-13 11:13:12   \n",
              "5                  Brazil     None 2020-08-13 11:12:15   \n",
              "6  Rio de Janeiro, Brasil     None 2020-08-12 00:09:40   \n",
              "7                             None 2020-08-11 22:01:53   \n",
              "\n",
              "                            Source  Likes  Retweets   Geo Coordinates Place  \n",
              "0  mLabs - Gestão de Redes Sociais      0         0  None        None  None  \n",
              "1               Twitter for iPhone      0         0  None        None  None  \n",
              "2  mLabs - Gestão de Redes Sociais      0         0  None        None  None  \n",
              "3                        Instagram      0         0  None        None  None  \n",
              "4                        Instagram      0         0  None        None  None  \n",
              "5                        Instagram      0         0  None        None  None  \n",
              "6            Nintendo Switch Share     20         0  None        None  None  \n",
              "7  mLabs - Gestão de Redes Sociais      0         0  None        None  None  "
            ]
          },
          "metadata": {
            "tags": []
          },
          "execution_count": 53
        }
      ]
    },
    {
      "cell_type": "markdown",
      "metadata": {
        "id": "CdTcqcCNH_PX",
        "colab_type": "text"
      },
      "source": [
        "**Mapa de calor dos tweets**"
      ]
    },
    {
      "cell_type": "code",
      "metadata": {
        "id": "SD3fNtVaH_PX",
        "colab_type": "code",
        "colab": {}
      },
      "source": [
        "#MAPA\n",
        "from geopy.geocoders import Nominatim\n",
        "import folium\n",
        "from folium import plugins"
      ],
      "execution_count": null,
      "outputs": []
    },
    {
      "cell_type": "code",
      "metadata": {
        "id": "q412JyAdH_PY",
        "colab_type": "code",
        "colab": {}
      },
      "source": [
        "geolocator = Nominatim(user_agent=\"TweetsSentiments\")\n",
        "\n",
        "latitude = []\n",
        "longitude = []\n",
        "\n",
        "for user_location in tweets_df['User Location']:\n",
        "    try:\n",
        "        location = geolocator.geocode(user_location)\n",
        "        latitude.append(location.latitude)\n",
        "        longitude.append(location.longitude)\n",
        "    except:\n",
        "        continue"
      ],
      "execution_count": null,
      "outputs": []
    },
    {
      "cell_type": "code",
      "metadata": {
        "id": "IVXiyXgdH_PZ",
        "colab_type": "code",
        "colab": {},
        "outputId": "b9ddd9d9-14ea-4e67-d1f2-ba2d5e8e9b68"
      },
      "source": [
        "coordenadas = np.column_stack((latitude, longitude))\n",
        "\n",
        "mapa = folium.Map(zoom_start=3.)\n",
        "mapa.add_child(plugins.HeatMap(coordenadas))\n",
        "mapa.save('Mapa_Calor_homeoffice_pt.html')\n",
        "mapa"
      ],
      "execution_count": null,
      "outputs": [
        {
          "output_type": "execute_result",
          "data": {
            "text/html": [
              "<div style=\"width:100%;\"><div style=\"position:relative;width:100%;height:0;padding-bottom:60%;\"><span style=\"color:#565656\">Make this Notebook Trusted to load map: File -> Trust Notebook</span><iframe src=\"about:blank\" style=\"position:absolute;width:100%;height:100%;left:0;top:0;border:none !important;\" data-html=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 onload=\"this.contentDocument.open();this.contentDocument.write(atob(this.getAttribute('data-html')));this.contentDocument.close();\" allowfullscreen webkitallowfullscreen mozallowfullscreen></iframe></div></div>"
            ],
            "text/plain": [
              "<folium.folium.Map at 0x11c03e910>"
            ]
          },
          "metadata": {
            "tags": []
          },
          "execution_count": 56
        }
      ]
    },
    {
      "cell_type": "markdown",
      "metadata": {
        "id": "5vnmXhqeH_Pa",
        "colab_type": "text"
      },
      "source": [
        "**WordCloud**"
      ]
    },
    {
      "cell_type": "code",
      "metadata": {
        "id": "HzudVilBH_Pa",
        "colab_type": "code",
        "colab": {}
      },
      "source": [
        "from wordcloud import WordCloud"
      ],
      "execution_count": null,
      "outputs": []
    },
    {
      "cell_type": "code",
      "metadata": {
        "id": "WKbh1CcKH_Pb",
        "colab_type": "code",
        "colab": {}
      },
      "source": [
        "words = ' '.join(tweets_df['Tweets']) #transformando pra string\n",
        "\n",
        "words_clean = \" \".join([word for word in words.split()\n",
        "                            if 'https' not in word\n",
        "                                and not word.startswith('@')\n",
        "                                and not word.startswith('#')\n",
        "                                and word != 'RT'\n",
        "                            ])"
      ],
      "execution_count": null,
      "outputs": []
    },
    {
      "cell_type": "code",
      "metadata": {
        "id": "6nvlLix1H_Pc",
        "colab_type": "code",
        "colab": {},
        "outputId": "2cb6c63a-a71f-4f1a-874f-9b4593b8370f"
      },
      "source": [
        "import warnings\n",
        "\n",
        "warnings.simplefilter('ignore')\n",
        "\n",
        "wc = WordCloud(min_font_size=10, \n",
        "               max_font_size=300, \n",
        "               background_color='white', \n",
        "               mode=\"RGB\",\n",
        "               width=2000, \n",
        "               height=1000,\n",
        "               normalize_plurals= True).generate(words_clean)\n",
        "\n",
        "plt.imshow(wc, interpolation=\"bilinear\")\n",
        "plt.axis(\"off\")\n",
        "plt.savefig('homeoffice_cloud_pt.png', dpi=300)\n",
        "plt.show()"
      ],
      "execution_count": null,
      "outputs": [
        {
          "output_type": "display_data",
          "data": {
            "image/png": "[encoded data removed]",
            "text/plain": [
              "<Figure size 432x288 with 1 Axes>"
            ]
          },
          "metadata": {
            "tags": [],
            "needs_background": "light"
          }
        }
      ]
    },
    {
      "cell_type": "markdown",
      "metadata": {
        "id": "Uw0-btsLH_Pd",
        "colab_type": "text"
      },
      "source": [
        "**Análise Temporal dos tweets**"
      ]
    },
    {
      "cell_type": "code",
      "metadata": {
        "id": "-XNV1F3zH_Pd",
        "colab_type": "code",
        "colab": {}
      },
      "source": [
        "#tweets postados por dia\n",
        "data = tweets_df"
      ],
      "execution_count": null,
      "outputs": []
    },
    {
      "cell_type": "code",
      "metadata": {
        "id": "1dK7Yl-xH_Pe",
        "colab_type": "code",
        "colab": {},
        "outputId": "564b914b-7d73-47c2-a193-a7e80250c126"
      },
      "source": [
        "print(data['Date'][0])"
      ],
      "execution_count": null,
      "outputs": [
        {
          "output_type": "stream",
          "text": [
            "2020-08-17 13:31:04\n"
          ],
          "name": "stdout"
        }
      ]
    },
    {
      "cell_type": "code",
      "metadata": {
        "id": "7lUZ6tnRH_Pf",
        "colab_type": "code",
        "colab": {}
      },
      "source": [
        "from datetime import datetime"
      ],
      "execution_count": null,
      "outputs": []
    },
    {
      "cell_type": "code",
      "metadata": {
        "id": "W-kfYvNbH_Pf",
        "colab_type": "code",
        "colab": {},
        "outputId": "58ce329c-01e6-4a09-a50d-25913ee00d7a"
      },
      "source": [
        "#tweets postados por dia\n",
        "\n",
        "data = tweets_df\n",
        "\n",
        "print(data['Date'][0])\n",
        "\n",
        "data['Date'] = pd.to_datetime(data['Date']).apply(lambda x: x.date())\n",
        "\n",
        "print(data['Date'][0])"
      ],
      "execution_count": null,
      "outputs": [
        {
          "output_type": "stream",
          "text": [
            "2020-08-17 13:31:04\n",
            "2020-08-17\n"
          ],
          "name": "stdout"
        }
      ]
    },
    {
      "cell_type": "code",
      "metadata": {
        "id": "WLIBp8GTH_Pg",
        "colab_type": "code",
        "colab": {},
        "outputId": "ca9cb47e-03a9-463a-90b7-349ea802d7e4"
      },
      "source": [
        "x = data['Date'].value_counts() #conta q qtd de tweets por dia\n",
        "\n",
        "x"
      ],
      "execution_count": null,
      "outputs": [
        {
          "output_type": "execute_result",
          "data": {
            "text/plain": [
              "2020-08-13    3\n",
              "2020-08-11    1\n",
              "2020-08-12    1\n",
              "2020-08-17    1\n",
              "2020-08-14    1\n",
              "2020-08-16    1\n",
              "Name: Date, dtype: int64"
            ]
          },
          "metadata": {
            "tags": []
          },
          "execution_count": 64
        }
      ]
    },
    {
      "cell_type": "code",
      "metadata": {
        "id": "H7iOkguBH_Ph",
        "colab_type": "code",
        "colab": {}
      },
      "source": [
        "tlen = pd.Series(data['Date'].value_counts(), index=data['Date'])"
      ],
      "execution_count": null,
      "outputs": []
    },
    {
      "cell_type": "code",
      "metadata": {
        "id": "0upUfeoiH_Ph",
        "colab_type": "code",
        "colab": {},
        "outputId": "5ba6df23-00b6-4e9f-b494-fa0f50c97a66"
      },
      "source": [
        "tlen.plot(figsize=(16,4), color='r')"
      ],
      "execution_count": null,
      "outputs": [
        {
          "output_type": "execute_result",
          "data": {
            "text/plain": [
              "<matplotlib.axes._subplots.AxesSubplot at 0x11bcab340>"
            ]
          },
          "metadata": {
            "tags": []
          },
          "execution_count": 66
        },
        {
          "output_type": "display_data",
          "data": {
            "image/png": "[encoded data removed]",
            "text/plain": [
              "<Figure size 1152x288 with 1 Axes>"
            ]
          },
          "metadata": {
            "tags": [],
            "needs_background": "light"
          }
        }
      ]
    },
    {
      "cell_type": "markdown",
      "metadata": {
        "id": "J9_Lwl7IH_Pi",
        "colab_type": "text"
      },
      "source": [
        ""
      ]
    }
  ]
}