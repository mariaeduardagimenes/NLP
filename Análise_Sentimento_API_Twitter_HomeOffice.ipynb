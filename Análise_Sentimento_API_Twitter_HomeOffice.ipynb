{
  "nbformat": 4,
  "nbformat_minor": 0,
  "metadata": {
    "kernelspec": {
      "display_name": "Python 3",
      "language": "python",
      "name": "python3"
    },
    "language_info": {
      "codemirror_mode": {
        "name": "ipython",
        "version": 3
      },
      "file_extension": ".py",
      "mimetype": "text/x-python",
      "name": "python",
      "nbconvert_exporter": "python",
      "pygments_lexer": "ipython3",
      "version": "3.8.5"
    },
    "colab": {
      "name": "Análise Sentimento API Twitter HomeOffice.ipynb",
      "provenance": [],
      "include_colab_link": true
    }
  },
  "cells": [
    {
      "cell_type": "markdown",
      "metadata": {
        "id": "view-in-github",
        "colab_type": "text"
      },
      "source": [
        "<a href=\"https://colab.research.google.com/github/mariaeduardagimenes/NLP/blob/master/An%C3%A1lise_Sentimento_API_Twitter_HomeOffice.ipynb\" target=\"_parent\"><img src=\"https://colab.research.google.com/assets/colab-badge.svg\" alt=\"Open In Colab\"/></a>"
      ]
    },
    {
      "cell_type": "markdown",
      "metadata": {
        "id": "MKc6tT2Ze_hZ",
        "colab_type": "text"
      },
      "source": [
        "#**Análise de Sentimento no Twitter sobre Home Office**\n",
        "\n",
        "Esse projeto consiste na Análise de sentimentos de tweets coletados através da API do Twitter sobre X.\n",
        "\n",
        "O projeto consiste em:\n",
        "\n",
        "1. Coleta de Tweets\n",
        "2. Identificação de tweets mais curtidos e retweetados\n",
        "3. Identificação da fonte dos tweets\n",
        "4. Análise de sentimentos\n",
        "5. Nuvem de palavras mais frequentes\n",
        "6. Séries de tweets no tempo\n",
        "8. Mapa de calor dos tweets utilizando a localização declada pelos usuários\n",
        "\n"
      ]
    },
    {
      "cell_type": "markdown",
      "metadata": {
        "id": "t9-RMDLifLDT",
        "colab_type": "text"
      },
      "source": [
        "**As keywords coletadas foram:**\n",
        "- home office\n",
        "- trabalho remoto\n",
        "- trabalho em casa\n",
        "- homeoffice\n",
        "\n",
        "\n",
        "**Utilizando o operador booleano OR**\n",
        "\n",
        "keyword = (\"'home office' OR 'trabalho remoto' OR 'trabalho em casa' OR homeoffice\")"
      ]
    },
    {
      "cell_type": "markdown",
      "metadata": {
        "id": "JoLBo6PGe_ha",
        "colab_type": "text"
      },
      "source": [
        "**Pacotes Pyhton utilizados**\n",
        "\n",
        "1. Tweepy\n",
        "Acessa API do Twitter\n",
        "\n",
        "2. Textblob\n",
        "Análise sentimento\n",
        "\n",
        "3. Scrapy\n",
        "Scrappings\n",
        "\n",
        "4. NLTK\n",
        "Biblioteca NLP "
      ]
    },
    {
      "cell_type": "markdown",
      "metadata": {
        "id": "RCOtM47ee_hb",
        "colab_type": "text"
      },
      "source": [
        "**Importação de pacotes**"
      ]
    },
    {
      "cell_type": "code",
      "metadata": {
        "id": "BaZAfL63e_hc",
        "colab_type": "code",
        "colab": {}
      },
      "source": [
        "#Pacotes básicos\n",
        "import tweepy\n",
        "import pandas as pd\n",
        "import numpy as np\n",
        "from textblob import TextBlob as tb \n",
        "import time\n",
        "import re\n",
        "\n",
        "#Pacotes para visualização\n",
        "import matplotlib.pyplot as plt\n",
        "\n",
        "#MAPA\n",
        "from geopy.geocoders import Nominatim\n",
        "import folium\n",
        "from folium import plugins\n",
        "from wordcloud import WordCloud, STOPWORDS\n",
        "\n",
        "\n",
        "\n",
        "\n"
      ],
      "execution_count": null,
      "outputs": []
    },
    {
      "cell_type": "markdown",
      "metadata": {
        "id": "2N0kMVSLe_hi",
        "colab_type": "text"
      },
      "source": [
        "**TextBlob**\n",
        "\n",
        "É usado para fazer análise de polaridade.\n",
        "\n",
        "É pré-configurado na biblioteca para o idioma inglês para analisar se uma determinada frase em ingles, as palavras que a compoem são treinadas para falar se sao conotacao positiva ou negativa.\n",
        "\n",
        "Não analisamos textos em português com ele.\n",
        "\n",
        "\n",
        "**Folium**\n",
        "\n",
        "Níveis de detalhamento.\n",
        "\n"
      ]
    },
    {
      "cell_type": "code",
      "metadata": {
        "id": "Na5m6wsne_hj",
        "colab_type": "code",
        "colab": {}
      },
      "source": [
        "# Credenciais para utilização da API do Twitter \n",
        "\n",
        "API_key = ''\n",
        "API_secret_key = ''\n",
        "access_token = ''\n",
        "access_token_secret = ''\n"
      ],
      "execution_count": null,
      "outputs": []
    },
    {
      "cell_type": "markdown",
      "metadata": {
        "id": "dqwMZ8qPe_hn",
        "colab_type": "text"
      },
      "source": [
        "**Autenticação na API do Twitter**"
      ]
    },
    {
      "cell_type": "code",
      "metadata": {
        "id": "3AUgE1Ree_ho",
        "colab_type": "code",
        "colab": {}
      },
      "source": [
        "auth = tweepy.OAuthHandler(API_key, API_secret_key)\n",
        "auth.set_access_token(access_token, access_token_secret)\n",
        "\n",
        "# Construir API instance\n",
        "api = tweepy.API(auth,wait_on_rate_limit=True,wait_on_rate_limit_notify=True,\n",
        "                 retry_count=5,retry_delay=10)"
      ],
      "execution_count": null,
      "outputs": []
    },
    {
      "cell_type": "markdown",
      "metadata": {
        "id": "IDMxLF-qe_hr",
        "colab_type": "text"
      },
      "source": [
        "onde:\n",
        "\n",
        "- retry_count - número padrão de tentativas para tentar quando ocorrer um erro\n",
        "- retry_delay - numero de segundos para aguardar entre tentativas\n",
        "- wait_on_rate_limit - se deve ou nao esperar automaticamente a reposição dos limites de taxa\n",
        "- wait_on_rate_limit_notify - imprima ou não uma notificação quando o Tweepy estiver aguardando a reposição dos limites de taxa"
      ]
    },
    {
      "cell_type": "code",
      "metadata": {
        "id": "0HLHQLyme_hs",
        "colab_type": "code",
        "colab": {},
        "outputId": "0e2d849a-6d72-45a1-b0ed-5986ba4c9137"
      },
      "source": [
        "# Postar um Twitter diretamente do Python\n",
        "\n",
        "api.update_status(\"Este tweet vem direto do Python! <3 Usando as APIs do TT - \\n #datascience #datadriven\")\n",
        "\n",
        "# O tweet vai aparecer no meu feed."
      ],
      "execution_count": null,
      "outputs": [
        {
          "output_type": "execute_result",
          "data": {
            "text/plain": [
              "Status(_api=<tweepy.api.API object at 0x125740220>, _json={'created_at': 'Wed Aug 12 21:13:33 +0000 2020', 'id': 1293656896650579968, 'id_str': '1293656896650579968', 'text': 'Este tweet vem direto do Python! &lt;3 Usando as APIs do TT - \\n #datascience #datadriven', 'truncated': False, 'entities': {'hashtags': [{'text': 'datascience', 'indices': [64, 76]}, {'text': 'datadriven', 'indices': [77, 88]}], 'symbols': [], 'user_mentions': [], 'urls': []}, 'source': '<a href=\"https://www.igti.com.br/\" rel=\"nofollow\">Coleta IGTI Maria</a>', 'in_reply_to_status_id': None, 'in_reply_to_status_id_str': None, 'in_reply_to_user_id': None, 'in_reply_to_user_id_str': None, 'in_reply_to_screen_name': None, 'user': {'id': 29108807, 'id_str': '29108807', 'name': 'ninguém', 'screen_name': 'mariagimenes', 'location': 'Brazil', 'description': '', 'url': None, 'entities': {'description': {'urls': []}}, 'protected': False, 'followers_count': 243, 'friends_count': 369, 'listed_count': 3, 'created_at': 'Mon Apr 06 00:56:47 +0000 2009', 'favourites_count': 11162, 'utc_offset': None, 'time_zone': None, 'geo_enabled': False, 'verified': False, 'statuses_count': 8323, 'lang': None, 'contributors_enabled': False, 'is_translator': False, 'is_translation_enabled': False, 'profile_background_color': 'C6E2EE', 'profile_background_image_url': 'http://abs.twimg.com/images/themes/theme2/bg.gif', 'profile_background_image_url_https': 'https://abs.twimg.com/images/themes/theme2/bg.gif', 'profile_background_tile': True, 'profile_image_url': 'http://pbs.twimg.com/profile_images/1280872490735218688/jMxS4YaJ_normal.jpg', 'profile_image_url_https': 'https://pbs.twimg.com/profile_images/1280872490735218688/jMxS4YaJ_normal.jpg', 'profile_banner_url': 'https://pbs.twimg.com/profile_banners/29108807/1581397864', 'profile_link_color': '1F98C7', 'profile_sidebar_border_color': 'C6E2EE', 'profile_sidebar_fill_color': 'DAECF4', 'profile_text_color': '663B12', 'profile_use_background_image': True, 'has_extended_profile': False, 'default_profile': False, 'default_profile_image': False, 'following': False, 'follow_request_sent': False, 'notifications': False, 'translator_type': 'none'}, 'geo': None, 'coordinates': None, 'place': None, 'contributors': None, 'is_quote_status': False, 'retweet_count': 0, 'favorite_count': 0, 'favorited': False, 'retweeted': False, 'lang': 'es'}, created_at=datetime.datetime(2020, 8, 12, 21, 13, 33), id=1293656896650579968, id_str='1293656896650579968', text='Este tweet vem direto do Python! &lt;3 Usando as APIs do TT - \\n #datascience #datadriven', truncated=False, entities={'hashtags': [{'text': 'datascience', 'indices': [64, 76]}, {'text': 'datadriven', 'indices': [77, 88]}], 'symbols': [], 'user_mentions': [], 'urls': []}, source='Coleta IGTI Maria', source_url='https://www.igti.com.br/', in_reply_to_status_id=None, in_reply_to_status_id_str=None, in_reply_to_user_id=None, in_reply_to_user_id_str=None, in_reply_to_screen_name=None, author=User(_api=<tweepy.api.API object at 0x125740220>, _json={'id': 29108807, 'id_str': '29108807', 'name': 'ninguém', 'screen_name': 'mariagimenes', 'location': 'Brazil', 'description': '', 'url': None, 'entities': {'description': {'urls': []}}, 'protected': False, 'followers_count': 243, 'friends_count': 369, 'listed_count': 3, 'created_at': 'Mon Apr 06 00:56:47 +0000 2009', 'favourites_count': 11162, 'utc_offset': None, 'time_zone': None, 'geo_enabled': False, 'verified': False, 'statuses_count': 8323, 'lang': None, 'contributors_enabled': False, 'is_translator': False, 'is_translation_enabled': False, 'profile_background_color': 'C6E2EE', 'profile_background_image_url': 'http://abs.twimg.com/images/themes/theme2/bg.gif', 'profile_background_image_url_https': 'https://abs.twimg.com/images/themes/theme2/bg.gif', 'profile_background_tile': True, 'profile_image_url': 'http://pbs.twimg.com/profile_images/1280872490735218688/jMxS4YaJ_normal.jpg', 'profile_image_url_https': 'https://pbs.twimg.com/profile_images/1280872490735218688/jMxS4YaJ_normal.jpg', 'profile_banner_url': 'https://pbs.twimg.com/profile_banners/29108807/1581397864', 'profile_link_color': '1F98C7', 'profile_sidebar_border_color': 'C6E2EE', 'profile_sidebar_fill_color': 'DAECF4', 'profile_text_color': '663B12', 'profile_use_background_image': True, 'has_extended_profile': False, 'default_profile': False, 'default_profile_image': False, 'following': False, 'follow_request_sent': False, 'notifications': False, 'translator_type': 'none'}, id=29108807, id_str='29108807', name='ninguém', screen_name='mariagimenes', location='Brazil', description='', url=None, entities={'description': {'urls': []}}, protected=False, followers_count=243, friends_count=369, listed_count=3, created_at=datetime.datetime(2009, 4, 6, 0, 56, 47), favourites_count=11162, utc_offset=None, time_zone=None, geo_enabled=False, verified=False, statuses_count=8323, lang=None, contributors_enabled=False, is_translator=False, is_translation_enabled=False, profile_background_color='C6E2EE', profile_background_image_url='http://abs.twimg.com/images/themes/theme2/bg.gif', profile_background_image_url_https='https://abs.twimg.com/images/themes/theme2/bg.gif', profile_background_tile=True, profile_image_url='http://pbs.twimg.com/profile_images/1280872490735218688/jMxS4YaJ_normal.jpg', profile_image_url_https='https://pbs.twimg.com/profile_images/1280872490735218688/jMxS4YaJ_normal.jpg', profile_banner_url='https://pbs.twimg.com/profile_banners/29108807/1581397864', profile_link_color='1F98C7', profile_sidebar_border_color='C6E2EE', profile_sidebar_fill_color='DAECF4', profile_text_color='663B12', profile_use_background_image=True, has_extended_profile=False, default_profile=False, default_profile_image=False, following=False, follow_request_sent=False, notifications=False, translator_type='none'), user=User(_api=<tweepy.api.API object at 0x125740220>, _json={'id': 29108807, 'id_str': '29108807', 'name': 'ninguém', 'screen_name': 'mariagimenes', 'location': 'Brazil', 'description': '', 'url': None, 'entities': {'description': {'urls': []}}, 'protected': False, 'followers_count': 243, 'friends_count': 369, 'listed_count': 3, 'created_at': 'Mon Apr 06 00:56:47 +0000 2009', 'favourites_count': 11162, 'utc_offset': None, 'time_zone': None, 'geo_enabled': False, 'verified': False, 'statuses_count': 8323, 'lang': None, 'contributors_enabled': False, 'is_translator': False, 'is_translation_enabled': False, 'profile_background_color': 'C6E2EE', 'profile_background_image_url': 'http://abs.twimg.com/images/themes/theme2/bg.gif', 'profile_background_image_url_https': 'https://abs.twimg.com/images/themes/theme2/bg.gif', 'profile_background_tile': True, 'profile_image_url': 'http://pbs.twimg.com/profile_images/1280872490735218688/jMxS4YaJ_normal.jpg', 'profile_image_url_https': 'https://pbs.twimg.com/profile_images/1280872490735218688/jMxS4YaJ_normal.jpg', 'profile_banner_url': 'https://pbs.twimg.com/profile_banners/29108807/1581397864', 'profile_link_color': '1F98C7', 'profile_sidebar_border_color': 'C6E2EE', 'profile_sidebar_fill_color': 'DAECF4', 'profile_text_color': '663B12', 'profile_use_background_image': True, 'has_extended_profile': False, 'default_profile': False, 'default_profile_image': False, 'following': False, 'follow_request_sent': False, 'notifications': False, 'translator_type': 'none'}, id=29108807, id_str='29108807', name='ninguém', screen_name='mariagimenes', location='Brazil', description='', url=None, entities={'description': {'urls': []}}, protected=False, followers_count=243, friends_count=369, listed_count=3, created_at=datetime.datetime(2009, 4, 6, 0, 56, 47), favourites_count=11162, utc_offset=None, time_zone=None, geo_enabled=False, verified=False, statuses_count=8323, lang=None, contributors_enabled=False, is_translator=False, is_translation_enabled=False, profile_background_color='C6E2EE', profile_background_image_url='http://abs.twimg.com/images/themes/theme2/bg.gif', profile_background_image_url_https='https://abs.twimg.com/images/themes/theme2/bg.gif', profile_background_tile=True, profile_image_url='http://pbs.twimg.com/profile_images/1280872490735218688/jMxS4YaJ_normal.jpg', profile_image_url_https='https://pbs.twimg.com/profile_images/1280872490735218688/jMxS4YaJ_normal.jpg', profile_banner_url='https://pbs.twimg.com/profile_banners/29108807/1581397864', profile_link_color='1F98C7', profile_sidebar_border_color='C6E2EE', profile_sidebar_fill_color='DAECF4', profile_text_color='663B12', profile_use_background_image=True, has_extended_profile=False, default_profile=False, default_profile_image=False, following=False, follow_request_sent=False, notifications=False, translator_type='none'), geo=None, coordinates=None, place=None, contributors=None, is_quote_status=False, retweet_count=0, favorite_count=0, favorited=False, retweeted=False, lang='es')"
            ]
          },
          "metadata": {
            "tags": []
          },
          "execution_count": 60
        }
      ]
    },
    {
      "cell_type": "markdown",
      "metadata": {
        "id": "lWM_t0Zce_hu",
        "colab_type": "text"
      },
      "source": [
        "**Coleta de dados (busca por palavra-chave)**"
      ]
    },
    {
      "cell_type": "code",
      "metadata": {
        "id": "wB2GWb2De_hv",
        "colab_type": "code",
        "colab": {}
      },
      "source": [
        "# Definir listas de armazenamento\n",
        "tweets = []\n",
        "info = []"
      ],
      "execution_count": null,
      "outputs": []
    },
    {
      "cell_type": "code",
      "metadata": {
        "id": "kIFK1Hmve_hx",
        "colab_type": "code",
        "colab": {}
      },
      "source": [
        "#Definir que palavras (keyword) deseja pesquisar no Twitter\n",
        "\n",
        "keyword = (\"'home office' OR 'trabalho remoto' OR 'trabalho em casa' OR homeoffice\")"
      ],
      "execution_count": null,
      "outputs": []
    },
    {
      "cell_type": "markdown",
      "metadata": {
        "id": "mLcSVsGLe_hz",
        "colab_type": "text"
      },
      "source": [
        "Para realizar a busca por palavra chave vamos utilizar a função abaixo:\n",
        "\n",
        "- API.search(q[,lang][,locale][,rpp][,page][,since_id][,geocode][,show_user])\n",
        "\n",
        "**onde os principais parâmetros que serão usados são:**\n",
        "- q : string de consulta de pesquisa\n",
        "- lang : restringe os tweets para o idioma especificado, fornecido por um código iSO 6e 39-1.\n",
        "    1) lang=pt -> português\n",
        "    2) lang=en -> inglês\n",
        "- rpp : o número de tweets a serem retornados por página, até no máximo 100\n",
        "- page : o número da página (começando em 1) a ser retornado, até um máximo de aproximadamente 1500 resultados (com base na página rpp)\n",
        "- since_id : retorna apenas status com um ID maior que (ou seja, mais recente que) o ID especificado\n",
        "- geocode : retorna tweets de usuários localizados em um determinado\n",
        "- show_user : quando verdadeiro, precede \":\"no início do tweet. O padrao é falso"
      ]
    },
    {
      "cell_type": "markdown",
      "metadata": {
        "id": "dhcOvfAie_hz",
        "colab_type": "text"
      },
      "source": [
        "**Busca por palavra chave e recuperar os tweets em português**"
      ]
    },
    {
      "cell_type": "code",
      "metadata": {
        "id": "zIB037Oee_hz",
        "colab_type": "code",
        "colab": {}
      },
      "source": [
        "for tweet in tweepy.Cursor(api.search,\n",
        "                           q=keyword, tweet_mode='extended', \n",
        "                           rpp=200, result_type=\"mixed\",lang='pt', #serão solicitados apenas 200 tweets nesta aula\n",
        "                           include_entities=True).items(200): \n",
        "        \n",
        "    if 'retweeted_status' in dir(tweet): # checa se retweet\n",
        "        # se status é retweet, status.full_text (tweet.full_text) could be truncated.\n",
        "        # deveriamos pegar retweeted_status.full_text\n",
        "        aux=tweet.retweeted_status.full_text       \n",
        "    else: # se não é retweet\n",
        "        aux=tweet.full_text\n",
        "        \n",
        "    newtweet = aux.replace(\"\\n\", \" \")\n",
        "   \n",
        "    tweets.append(newtweet) #serão armazenados nos vetores vazios criados\n",
        "    info.append(tweet)   \n",
        "    file = open(\"tweets_Keyword_homeoffice_pt.txt\", \"a\", -1, \"utf-8\")    \n",
        "    file.write(newtweet+'\\n')\n",
        "    file.close()"
      ],
      "execution_count": null,
      "outputs": []
    },
    {
      "cell_type": "markdown",
      "metadata": {
        "id": "PbZVcXHEe_h1",
        "colab_type": "text"
      },
      "source": [
        "**Para verificar a quantidade de tweets coletados, use a função \"len()\"**"
      ]
    },
    {
      "cell_type": "code",
      "metadata": {
        "id": "X6IN4jWCe_h1",
        "colab_type": "code",
        "colab": {},
        "outputId": "fda3ddf0-c3d7-431a-e714-b7926bf707d0"
      },
      "source": [
        "print(\"Total de tweets coletados %s.\" % (len(info)))"
      ],
      "execution_count": null,
      "outputs": [
        {
          "output_type": "stream",
          "text": [
            "Total de tweets coletados 200.\n"
          ],
          "name": "stdout"
        }
      ]
    },
    {
      "cell_type": "markdown",
      "metadata": {
        "id": "BSeFd8Y0e_h3",
        "colab_type": "text"
      },
      "source": [
        "**Criar data frame**"
      ]
    },
    {
      "cell_type": "code",
      "metadata": {
        "id": "wnnjR3qVe_h4",
        "colab_type": "code",
        "colab": {}
      },
      "source": [
        "tweets_df = pd.DataFrame(tweets, columns=['Tweets']) \n",
        "\n",
        "tweets_df['len']  = np.array([len(tweet) for tweet in tweets])\n",
        "tweets_df['ID']   = np.array([tweet.id for tweet in info])\n",
        "tweets_df['USER']   = np.array([tweet.user.screen_name for tweet in info])\n",
        "tweets_df['userName'] = np.array([tweet.user.name for tweet in info])\n",
        "tweets_df['User Location']    = np.array([tweet.user.location for tweet in info])\n",
        "tweets_df['Language'] = np.array([tweet.user.lang for tweet in info])\n",
        "tweets_df['Date'] = np.array([tweet.created_at for tweet in info])\n",
        "tweets_df['Source'] = np.array([tweet.source for tweet in info])\n",
        "tweets_df['Likes']  = np.array([tweet.favorite_count for tweet in info])\n",
        "tweets_df['Retweets']    = np.array([tweet.retweet_count for tweet in info])\n",
        "tweets_df['Geo']    = np.array([tweet.geo for tweet in info])\n",
        "tweets_df['Coordinates']    = np.array([tweet.coordinates for tweet in info])         \n",
        "tweets_df['Place']    = np.array([tweet.place for tweet in info])\n",
        "\n",
        "tweets_df.to_csv(\"tweets_Keyword_homeoffice_pt.csv\")"
      ],
      "execution_count": null,
      "outputs": []
    },
    {
      "cell_type": "code",
      "metadata": {
        "id": "BbgP5VMTe_h5",
        "colab_type": "code",
        "colab": {},
        "outputId": "29e7bd5a-1d05-4f79-9e52-eee756b829f9"
      },
      "source": [
        "tweets_df.head(3)"
      ],
      "execution_count": null,
      "outputs": [
        {
          "output_type": "execute_result",
          "data": {
            "text/html": [
              "<div>\n",
              "<style scoped>\n",
              "    .dataframe tbody tr th:only-of-type {\n",
              "        vertical-align: middle;\n",
              "    }\n",
              "\n",
              "    .dataframe tbody tr th {\n",
              "        vertical-align: top;\n",
              "    }\n",
              "\n",
              "    .dataframe thead th {\n",
              "        text-align: right;\n",
              "    }\n",
              "</style>\n",
              "<table border=\"1\" class=\"dataframe\">\n",
              "  <thead>\n",
              "    <tr style=\"text-align: right;\">\n",
              "      <th></th>\n",
              "      <th>Tweets</th>\n",
              "      <th>len</th>\n",
              "      <th>ID</th>\n",
              "      <th>USER</th>\n",
              "      <th>userName</th>\n",
              "      <th>User Location</th>\n",
              "      <th>Language</th>\n",
              "      <th>Date</th>\n",
              "      <th>Source</th>\n",
              "      <th>Likes</th>\n",
              "      <th>Retweets</th>\n",
              "      <th>Geo</th>\n",
              "      <th>Coordinates</th>\n",
              "      <th>Place</th>\n",
              "    </tr>\n",
              "  </thead>\n",
              "  <tbody>\n",
              "    <tr>\n",
              "      <th>0</th>\n",
              "      <td>5 meses depois, em uma quarentena rígida e mui...</td>\n",
              "      <td>236</td>\n",
              "      <td>1293731010618638339</td>\n",
              "      <td>quarentena_bot</td>\n",
              "      <td>Quarentena</td>\n",
              "      <td>Planeta Terra</td>\n",
              "      <td>None</td>\n",
              "      <td>2020-08-13 02:08:03</td>\n",
              "      <td>QuarentenaBot</td>\n",
              "      <td>0</td>\n",
              "      <td>1</td>\n",
              "      <td>None</td>\n",
              "      <td>None</td>\n",
              "      <td>None</td>\n",
              "    </tr>\n",
              "    <tr>\n",
              "      <th>1</th>\n",
              "      <td>5 meses depois, em uma quarentena rígida e mui...</td>\n",
              "      <td>236</td>\n",
              "      <td>1293730988724350976</td>\n",
              "      <td>pedromaganem</td>\n",
              "      <td>Pedro Magalhães Ganem</td>\n",
              "      <td></td>\n",
              "      <td>None</td>\n",
              "      <td>2020-08-13 02:07:58</td>\n",
              "      <td>Instagram</td>\n",
              "      <td>0</td>\n",
              "      <td>1</td>\n",
              "      <td>None</td>\n",
              "      <td>None</td>\n",
              "      <td>None</td>\n",
              "    </tr>\n",
              "    <tr>\n",
              "      <th>2</th>\n",
              "      <td>Home Office - Dicas para ser produtivo no trab...</td>\n",
              "      <td>84</td>\n",
              "      <td>1293730285830516736</td>\n",
              "      <td>empregobrasil</td>\n",
              "      <td>Emprego Brasil</td>\n",
              "      <td>Brasil</td>\n",
              "      <td>None</td>\n",
              "      <td>2020-08-13 02:05:11</td>\n",
              "      <td>EmpregoBrasil</td>\n",
              "      <td>0</td>\n",
              "      <td>0</td>\n",
              "      <td>None</td>\n",
              "      <td>None</td>\n",
              "      <td>None</td>\n",
              "    </tr>\n",
              "  </tbody>\n",
              "</table>\n",
              "</div>"
            ],
            "text/plain": [
              "                                              Tweets  len  \\\n",
              "0  5 meses depois, em uma quarentena rígida e mui...  236   \n",
              "1  5 meses depois, em uma quarentena rígida e mui...  236   \n",
              "2  Home Office - Dicas para ser produtivo no trab...   84   \n",
              "\n",
              "                    ID            USER               userName  User Location  \\\n",
              "0  1293731010618638339  quarentena_bot             Quarentena  Planeta Terra   \n",
              "1  1293730988724350976    pedromaganem  Pedro Magalhães Ganem                  \n",
              "2  1293730285830516736   empregobrasil         Emprego Brasil         Brasil   \n",
              "\n",
              "  Language                Date         Source  Likes  Retweets   Geo  \\\n",
              "0     None 2020-08-13 02:08:03  QuarentenaBot      0         1  None   \n",
              "1     None 2020-08-13 02:07:58      Instagram      0         1  None   \n",
              "2     None 2020-08-13 02:05:11  EmpregoBrasil      0         0  None   \n",
              "\n",
              "  Coordinates Place  \n",
              "0        None  None  \n",
              "1        None  None  \n",
              "2        None  None  "
            ]
          },
          "metadata": {
            "tags": []
          },
          "execution_count": 18
        }
      ]
    },
    {
      "cell_type": "markdown",
      "metadata": {
        "id": "OQ2u-8gNe_h7",
        "colab_type": "text"
      },
      "source": [
        "**Identificar os Top Tweets coletados**"
      ]
    },
    {
      "cell_type": "code",
      "metadata": {
        "id": "S8Ya4CgLe_h7",
        "colab_type": "code",
        "colab": {},
        "outputId": "87719ad0-8623-4158-8b77-9f3041c36dd8"
      },
      "source": [
        "# Tweets com maior número de LIKES\n",
        "likes_max = np.max(tweets_df['Likes']) #Função max do numpy identifica o valor máximo\n",
        "\n",
        "likes = tweets_df[tweets_df.Likes == likes_max].index[0] #pega o primeiro tweet com valor máximo de curtidas\n",
        "\n",
        "print(\"O tweet com mais curtidas (likes) é: \\n{}\".format(tweets_df['Tweets'][likes]))\n",
        "print(\"Número de curtidas: {}\".format(likes_max))"
      ],
      "execution_count": null,
      "outputs": [
        {
          "output_type": "stream",
          "text": [
            "O tweet com mais curtidas (likes) é: \n",
            "PESQUISA [POA, REC, RIO, SAO, SSA]:  A. 45% trabalha/ou em casa na PANDEMIA  B. 68% acha/ou BOM  C. pra 49%, a produtividade não muda/ou  D. 58% quer manter o trabalho EM CASA depois disso tudo  E. 42% preferem home office em tempo parcial [56% integral]: https://t.co/LImw8sCObd. https://t.co/0CMdDFJj04\n",
            "Número de curtidas: 47\n"
          ],
          "name": "stdout"
        }
      ]
    },
    {
      "cell_type": "code",
      "metadata": {
        "id": "67gjuBzIe_h9",
        "colab_type": "code",
        "colab": {},
        "outputId": "e1591879-0179-4761-9acd-08fc75673574"
      },
      "source": [
        "print(np.sum(tweets_df['Likes'] == likes_max)) #conta quantos tweets possuem o mesmo valor max"
      ],
      "execution_count": null,
      "outputs": [
        {
          "output_type": "stream",
          "text": [
            "1\n"
          ],
          "name": "stdout"
        }
      ]
    },
    {
      "cell_type": "code",
      "metadata": {
        "id": "sozXkf6ve_h_",
        "colab_type": "code",
        "colab": {},
        "outputId": "e2ae2c0f-8825-4fc3-8f61-e538391e5c1a"
      },
      "source": [
        "retweet_max  = np.max(tweets_df['Retweets']) #retorna o valor máximo\n",
        "\n",
        "retweet  = tweets_df[tweets_df.Retweets == retweet_max].index[0] #pega o primeiro tweet com valor máximo de Retweets\n",
        "\n",
        "print(\"O tweet com mais retweet é: \\n{}\".format(tweets_df['Tweets'][retweet]))\n",
        "print(\"Número de retweets: {}\".format(retweet_max))"
      ],
      "execution_count": null,
      "outputs": [
        {
          "output_type": "stream",
          "text": [
            "O tweet com mais retweet é: \n",
            "\"o home office tirou algo terrivel que tbm nos fazia bem: o trânsito de volta pra casa. É ótimo não te-lo, óbvio. Mas é preciso encontrar o substituto pro papel que ele cumpria: o de descompressão pós trabalho, o ato de se desligar, de ouvir música, de pensar em outras coisas.\" https://t.co/zxe6oeF1yh\n",
            "Número de retweets: 5487\n"
          ],
          "name": "stdout"
        }
      ]
    },
    {
      "cell_type": "markdown",
      "metadata": {
        "id": "Dy35P2uAe_iA",
        "colab_type": "text"
      },
      "source": [
        "**Identifica a fonte(origem) do tweet**\n",
        "\n",
        "Nesse caso, app ou dispositivo onde o usuário postou o tweet"
      ]
    },
    {
      "cell_type": "code",
      "metadata": {
        "id": "vo6HSqhye_iB",
        "colab_type": "code",
        "colab": {}
      },
      "source": [
        "sources = [] #lista para armazenar a fontes\n",
        "for source in tweets_df['Source']:\n",
        "    if source not in sources:\n",
        "        sources.append(source) #inclui no vetor sources apenas se a fonte encontrada ainda não foi incluída\n",
        "\n",
        "percent = np.zeros(len(sources)) #Retorna um novo vetor, com o número de elementos do vetor sources, preenchido com zeros a new array filled with zeros, for\n",
        "\n",
        "for source in tweets_df['Source']:\n",
        "    for index in range(len(sources)):\n",
        "        if source == sources[index]:\n",
        "            percent[index] += 1\n",
        "            pass"
      ],
      "execution_count": null,
      "outputs": []
    },
    {
      "cell_type": "markdown",
      "metadata": {
        "id": "MgBBoDPVe_iC",
        "colab_type": "text"
      },
      "source": [
        "**Gráfico que exibe o número de tweets por fonte**"
      ]
    },
    {
      "cell_type": "code",
      "metadata": {
        "id": "bkrMfLVYe_iC",
        "colab_type": "code",
        "colab": {},
        "outputId": "f38eaf09-819c-4be3-fca4-eb30e0dc4fca"
      },
      "source": [
        "sourceDF = pd.DataFrame({\n",
        " 'source':percent,\n",
        "}, index=sources)\n",
        "\n",
        "sourceDF"
      ],
      "execution_count": null,
      "outputs": [
        {
          "output_type": "execute_result",
          "data": {
            "text/html": [
              "<div>\n",
              "<style scoped>\n",
              "    .dataframe tbody tr th:only-of-type {\n",
              "        vertical-align: middle;\n",
              "    }\n",
              "\n",
              "    .dataframe tbody tr th {\n",
              "        vertical-align: top;\n",
              "    }\n",
              "\n",
              "    .dataframe thead th {\n",
              "        text-align: right;\n",
              "    }\n",
              "</style>\n",
              "<table border=\"1\" class=\"dataframe\">\n",
              "  <thead>\n",
              "    <tr style=\"text-align: right;\">\n",
              "      <th></th>\n",
              "      <th>source</th>\n",
              "    </tr>\n",
              "  </thead>\n",
              "  <tbody>\n",
              "    <tr>\n",
              "      <th>QuarentenaBot</th>\n",
              "      <td>2.0</td>\n",
              "    </tr>\n",
              "    <tr>\n",
              "      <th>Instagram</th>\n",
              "      <td>6.0</td>\n",
              "    </tr>\n",
              "    <tr>\n",
              "      <th>EmpregoBrasil</th>\n",
              "      <td>5.0</td>\n",
              "    </tr>\n",
              "    <tr>\n",
              "      <th>Twitter for iPhone</th>\n",
              "      <td>46.0</td>\n",
              "    </tr>\n",
              "    <tr>\n",
              "      <th>Twitter for Android</th>\n",
              "      <td>73.0</td>\n",
              "    </tr>\n",
              "    <tr>\n",
              "      <th>Twitter Web App</th>\n",
              "      <td>60.0</td>\n",
              "    </tr>\n",
              "    <tr>\n",
              "      <th>Computadorbot</th>\n",
              "      <td>1.0</td>\n",
              "    </tr>\n",
              "    <tr>\n",
              "      <th>TweetDeck</th>\n",
              "      <td>3.0</td>\n",
              "    </tr>\n",
              "    <tr>\n",
              "      <th>What Concursos</th>\n",
              "      <td>2.0</td>\n",
              "    </tr>\n",
              "    <tr>\n",
              "      <th>Bonde DBI</th>\n",
              "      <td>1.0</td>\n",
              "    </tr>\n",
              "    <tr>\n",
              "      <th>Talon Android</th>\n",
              "      <td>1.0</td>\n",
              "    </tr>\n",
              "  </tbody>\n",
              "</table>\n",
              "</div>"
            ],
            "text/plain": [
              "                     source\n",
              "QuarentenaBot           2.0\n",
              "Instagram               6.0\n",
              "EmpregoBrasil           5.0\n",
              "Twitter for iPhone     46.0\n",
              "Twitter for Android    73.0\n",
              "Twitter Web App        60.0\n",
              "Computadorbot           1.0\n",
              "TweetDeck               3.0\n",
              "What Concursos          2.0\n",
              "Bonde DBI               1.0\n",
              "Talon Android           1.0"
            ]
          },
          "metadata": {
            "tags": []
          },
          "execution_count": 23
        }
      ]
    },
    {
      "cell_type": "code",
      "metadata": {
        "id": "-SwUGifTe_iE",
        "colab_type": "code",
        "colab": {},
        "outputId": "69630023-ab23-47ff-a2d4-446716c3141e"
      },
      "source": [
        "sources_sorted = sourceDF.sort_values('source',ascending=True)\n",
        "ax = sources_sorted.source.plot(kind='barh',color='#A52A2A')\n",
        "ax.get_xaxis().set_major_formatter(plt.FuncFormatter(lambda x, loc: \"{:,}\".format(int(x))))"
      ],
      "execution_count": null,
      "outputs": [
        {
          "output_type": "display_data",
          "data": {
            "image/png": "[encoded data removed]",
            "text/plain": [
              "<Figure size 432x288 with 1 Axes>"
            ]
          },
          "metadata": {
            "tags": [],
            "needs_background": "light"
          }
        }
      ]
    },
    {
      "cell_type": "code",
      "metadata": {
        "id": "kEVZB-a4e_iG",
        "colab_type": "code",
        "colab": {},
        "outputId": "55eb921f-01dd-447a-8d58-c55ae1e52607"
      },
      "source": [
        "sources_sorted = sourceDF.sort_values('source',ascending=False)\n",
        "ax = sources_sorted.source.plot(kind='barh',color='#B8860B')\n",
        "ax.get_xaxis().set_major_formatter(plt.FuncFormatter(lambda x, loc: \"{:,}\".format(int(x))))"
      ],
      "execution_count": null,
      "outputs": [
        {
          "output_type": "display_data",
          "data": {
            "image/png": "[encoded data removed]",
            "text/plain": [
              "<Figure size 432x288 with 1 Axes>"
            ]
          },
          "metadata": {
            "tags": [],
            "needs_background": "light"
          }
        }
      ]
    },
    {
      "cell_type": "markdown",
      "metadata": {
        "id": "aJVRwm7_e_iH",
        "colab_type": "text"
      },
      "source": [
        "Mais usuários usam Android."
      ]
    },
    {
      "cell_type": "markdown",
      "metadata": {
        "id": "ec-viz90e_iI",
        "colab_type": "text"
      },
      "source": [
        "**Análise de Polaridade**"
      ]
    },
    {
      "cell_type": "code",
      "metadata": {
        "id": "g5pEnbpHe_iI",
        "colab_type": "code",
        "colab": {}
      },
      "source": [
        "#Variável que irá armazenar as polaridades\n",
        "analysis = None\n",
        "# Lista vazia para armazenar as polaridades\n",
        "polarities = []"
      ],
      "execution_count": null,
      "outputs": []
    },
    {
      "cell_type": "code",
      "metadata": {
        "id": "U-Xi76dKe_iK",
        "colab_type": "code",
        "colab": {},
        "outputId": "8ff03935-147d-4a60-973f-e78b32c23025"
      },
      "source": [
        "tweets_df.head()"
      ],
      "execution_count": null,
      "outputs": [
        {
          "output_type": "execute_result",
          "data": {
            "text/html": [
              "<div>\n",
              "<style scoped>\n",
              "    .dataframe tbody tr th:only-of-type {\n",
              "        vertical-align: middle;\n",
              "    }\n",
              "\n",
              "    .dataframe tbody tr th {\n",
              "        vertical-align: top;\n",
              "    }\n",
              "\n",
              "    .dataframe thead th {\n",
              "        text-align: right;\n",
              "    }\n",
              "</style>\n",
              "<table border=\"1\" class=\"dataframe\">\n",
              "  <thead>\n",
              "    <tr style=\"text-align: right;\">\n",
              "      <th></th>\n",
              "      <th>Tweets</th>\n",
              "      <th>len</th>\n",
              "      <th>ID</th>\n",
              "      <th>USER</th>\n",
              "      <th>userName</th>\n",
              "      <th>User Location</th>\n",
              "      <th>Language</th>\n",
              "      <th>Date</th>\n",
              "      <th>Source</th>\n",
              "      <th>Likes</th>\n",
              "      <th>Retweets</th>\n",
              "      <th>Geo</th>\n",
              "      <th>Coordinates</th>\n",
              "      <th>Place</th>\n",
              "    </tr>\n",
              "  </thead>\n",
              "  <tbody>\n",
              "    <tr>\n",
              "      <th>0</th>\n",
              "      <td>5 meses depois, em uma quarentena rígida e mui...</td>\n",
              "      <td>236</td>\n",
              "      <td>1293731010618638339</td>\n",
              "      <td>quarentena_bot</td>\n",
              "      <td>Quarentena</td>\n",
              "      <td>Planeta Terra</td>\n",
              "      <td>None</td>\n",
              "      <td>2020-08-13 02:08:03</td>\n",
              "      <td>QuarentenaBot</td>\n",
              "      <td>0</td>\n",
              "      <td>1</td>\n",
              "      <td>None</td>\n",
              "      <td>None</td>\n",
              "      <td>None</td>\n",
              "    </tr>\n",
              "    <tr>\n",
              "      <th>1</th>\n",
              "      <td>5 meses depois, em uma quarentena rígida e mui...</td>\n",
              "      <td>236</td>\n",
              "      <td>1293730988724350976</td>\n",
              "      <td>pedromaganem</td>\n",
              "      <td>Pedro Magalhães Ganem</td>\n",
              "      <td></td>\n",
              "      <td>None</td>\n",
              "      <td>2020-08-13 02:07:58</td>\n",
              "      <td>Instagram</td>\n",
              "      <td>0</td>\n",
              "      <td>1</td>\n",
              "      <td>None</td>\n",
              "      <td>None</td>\n",
              "      <td>None</td>\n",
              "    </tr>\n",
              "    <tr>\n",
              "      <th>2</th>\n",
              "      <td>Home Office - Dicas para ser produtivo no trab...</td>\n",
              "      <td>84</td>\n",
              "      <td>1293730285830516736</td>\n",
              "      <td>empregobrasil</td>\n",
              "      <td>Emprego Brasil</td>\n",
              "      <td>Brasil</td>\n",
              "      <td>None</td>\n",
              "      <td>2020-08-13 02:05:11</td>\n",
              "      <td>EmpregoBrasil</td>\n",
              "      <td>0</td>\n",
              "      <td>0</td>\n",
              "      <td>None</td>\n",
              "      <td>None</td>\n",
              "      <td>None</td>\n",
              "    </tr>\n",
              "    <tr>\n",
              "      <th>3</th>\n",
              "      <td>a coisa mais ESTRANHA do home office é que ter...</td>\n",
              "      <td>160</td>\n",
              "      <td>1293705463540985856</td>\n",
              "      <td>amywinehazi</td>\n",
              "      <td>haziel</td>\n",
              "      <td>Florianópolis, Brazil</td>\n",
              "      <td>None</td>\n",
              "      <td>2020-08-13 00:26:33</td>\n",
              "      <td>Twitter for iPhone</td>\n",
              "      <td>14</td>\n",
              "      <td>0</td>\n",
              "      <td>None</td>\n",
              "      <td>None</td>\n",
              "      <td>None</td>\n",
              "    </tr>\n",
              "    <tr>\n",
              "      <th>4</th>\n",
              "      <td>@lwtnights Isso deveria ser desculpa? O trabal...</td>\n",
              "      <td>267</td>\n",
              "      <td>1293690840452411392</td>\n",
              "      <td>firexsevilla</td>\n",
              "      <td>ᴄʟᴀʀᴀ 🦋🇧🇷</td>\n",
              "      <td>Manaus, Brasil</td>\n",
              "      <td>None</td>\n",
              "      <td>2020-08-12 23:28:26</td>\n",
              "      <td>Twitter for Android</td>\n",
              "      <td>0</td>\n",
              "      <td>0</td>\n",
              "      <td>None</td>\n",
              "      <td>None</td>\n",
              "      <td>None</td>\n",
              "    </tr>\n",
              "  </tbody>\n",
              "</table>\n",
              "</div>"
            ],
            "text/plain": [
              "                                              Tweets  len  \\\n",
              "0  5 meses depois, em uma quarentena rígida e mui...  236   \n",
              "1  5 meses depois, em uma quarentena rígida e mui...  236   \n",
              "2  Home Office - Dicas para ser produtivo no trab...   84   \n",
              "3  a coisa mais ESTRANHA do home office é que ter...  160   \n",
              "4  @lwtnights Isso deveria ser desculpa? O trabal...  267   \n",
              "\n",
              "                    ID            USER               userName  \\\n",
              "0  1293731010618638339  quarentena_bot             Quarentena   \n",
              "1  1293730988724350976    pedromaganem  Pedro Magalhães Ganem   \n",
              "2  1293730285830516736   empregobrasil         Emprego Brasil   \n",
              "3  1293705463540985856     amywinehazi                 haziel   \n",
              "4  1293690840452411392    firexsevilla              ᴄʟᴀʀᴀ 🦋🇧🇷   \n",
              "\n",
              "           User Location Language                Date               Source  \\\n",
              "0          Planeta Terra     None 2020-08-13 02:08:03        QuarentenaBot   \n",
              "1                            None 2020-08-13 02:07:58            Instagram   \n",
              "2                 Brasil     None 2020-08-13 02:05:11        EmpregoBrasil   \n",
              "3  Florianópolis, Brazil     None 2020-08-13 00:26:33   Twitter for iPhone   \n",
              "4         Manaus, Brasil     None 2020-08-12 23:28:26  Twitter for Android   \n",
              "\n",
              "   Likes  Retweets   Geo Coordinates Place  \n",
              "0      0         1  None        None  None  \n",
              "1      0         1  None        None  None  \n",
              "2      0         0  None        None  None  \n",
              "3     14         0  None        None  None  \n",
              "4      0         0  None        None  None  "
            ]
          },
          "metadata": {
            "tags": []
          },
          "execution_count": 27
        }
      ]
    },
    {
      "cell_type": "markdown",
      "metadata": {
        "id": "i47BbDone_iL",
        "colab_type": "text"
      },
      "source": [
        "**Polaridade para tweets em português**"
      ]
    },
    {
      "cell_type": "code",
      "metadata": {
        "id": "fygN0XbYe_iM",
        "colab_type": "code",
        "colab": {}
      },
      "source": [
        "from googletrans import Translator\n",
        "from unidecode import unidecode"
      ],
      "execution_count": null,
      "outputs": []
    },
    {
      "cell_type": "markdown",
      "metadata": {
        "id": "qKmP97fte_iN",
        "colab_type": "text"
      },
      "source": [
        "**Um exemplo de tradução**\n",
        "\n"
      ]
    },
    {
      "cell_type": "code",
      "metadata": {
        "id": "MOnNe3iXe_iN",
        "colab_type": "code",
        "colab": {},
        "outputId": "407c851e-5eb5-434e-f987-47b07e80eb05"
      },
      "source": [
        "tweets_df['Tweets'][3]"
      ],
      "execution_count": null,
      "outputs": [
        {
          "output_type": "execute_result",
          "data": {
            "text/plain": [
              "'a coisa mais ESTRANHA do home office é que termina o meu horário de trabalho e tipo. eu continuo aqui no “escritório” pq eu já trabalho em casa e no meu quarto.'"
            ]
          },
          "metadata": {
            "tags": []
          },
          "execution_count": 29
        }
      ]
    },
    {
      "cell_type": "code",
      "metadata": {
        "id": "jDmB5SVZe_iP",
        "colab_type": "code",
        "colab": {}
      },
      "source": [
        "textPT = unidecode(tweets_df['Tweets'][3])\n",
        "textEN = Translator().translate(textPT)"
      ],
      "execution_count": null,
      "outputs": []
    },
    {
      "cell_type": "code",
      "metadata": {
        "id": "dCbsW00je_iQ",
        "colab_type": "code",
        "colab": {},
        "outputId": "db49409c-8690-4498-8965-0630ca395214"
      },
      "source": [
        "textEN.text"
      ],
      "execution_count": null,
      "outputs": [
        {
          "output_type": "execute_result",
          "data": {
            "text/plain": [
              "'the strangest thing about the home office is that it ends my work schedule and type. I\\'m still here in the \"office\" because I already work at home and in my room.'"
            ]
          },
          "metadata": {
            "tags": []
          },
          "execution_count": 31
        }
      ]
    },
    {
      "cell_type": "code",
      "metadata": {
        "id": "e3xfJFI6e_iR",
        "colab_type": "code",
        "colab": {},
        "outputId": "5dc48480-e5c2-40f9-a87d-26ca640c79c8"
      },
      "source": [
        "analysis = tb(textEN.text)    \n",
        "    #Calculando a polaridade do texto traduzido\n",
        "polarity = analysis.sentiment.polarity #analisa a polaridade  \n",
        "polarity"
      ],
      "execution_count": null,
      "outputs": [
        {
          "output_type": "execute_result",
          "data": {
            "text/plain": [
              "0.0"
            ]
          },
          "metadata": {
            "tags": []
          },
          "execution_count": 32
        }
      ]
    },
    {
      "cell_type": "code",
      "metadata": {
        "id": "JJcgrLJne_iT",
        "colab_type": "code",
        "colab": {}
      },
      "source": [
        "for tweet in tweets_df['Tweets']: #para cada tweet lido foi passar por unicode\n",
        "    #Texto do Tweet\n",
        "    textPT = unidecode(tweet)\n",
        "    \n",
        "    #vou Traduzir para o Inglês\n",
        "    textEN = Translator().translate(textPT)\n",
        "    \n",
        "    analysis = tb(textEN.text) #usar TextBlob    \n",
        "    #Calculando a polaridade do texto traduzido\n",
        "    polarity = analysis.sentiment.polarity #analisa a polaridade  \n",
        "    polarities.append(polarity) #add polaridade de cada tweet no vetor polaridades"
      ],
      "execution_count": null,
      "outputs": []
    },
    {
      "cell_type": "code",
      "metadata": {
        "id": "SoO753Ude_iU",
        "colab_type": "code",
        "colab": {},
        "outputId": "094a60cf-e15d-435a-91d0-7e3cb7f1bcaf"
      },
      "source": [
        "tweets_df.head(3)"
      ],
      "execution_count": null,
      "outputs": [
        {
          "output_type": "execute_result",
          "data": {
            "text/html": [
              "<div>\n",
              "<style scoped>\n",
              "    .dataframe tbody tr th:only-of-type {\n",
              "        vertical-align: middle;\n",
              "    }\n",
              "\n",
              "    .dataframe tbody tr th {\n",
              "        vertical-align: top;\n",
              "    }\n",
              "\n",
              "    .dataframe thead th {\n",
              "        text-align: right;\n",
              "    }\n",
              "</style>\n",
              "<table border=\"1\" class=\"dataframe\">\n",
              "  <thead>\n",
              "    <tr style=\"text-align: right;\">\n",
              "      <th></th>\n",
              "      <th>Tweets</th>\n",
              "      <th>len</th>\n",
              "      <th>ID</th>\n",
              "      <th>USER</th>\n",
              "      <th>userName</th>\n",
              "      <th>User Location</th>\n",
              "      <th>Language</th>\n",
              "      <th>Date</th>\n",
              "      <th>Source</th>\n",
              "      <th>Likes</th>\n",
              "      <th>Retweets</th>\n",
              "      <th>Geo</th>\n",
              "      <th>Coordinates</th>\n",
              "      <th>Place</th>\n",
              "    </tr>\n",
              "  </thead>\n",
              "  <tbody>\n",
              "    <tr>\n",
              "      <th>0</th>\n",
              "      <td>5 meses depois, em uma quarentena rígida e mui...</td>\n",
              "      <td>236</td>\n",
              "      <td>1293731010618638339</td>\n",
              "      <td>quarentena_bot</td>\n",
              "      <td>Quarentena</td>\n",
              "      <td>Planeta Terra</td>\n",
              "      <td>None</td>\n",
              "      <td>2020-08-13 02:08:03</td>\n",
              "      <td>QuarentenaBot</td>\n",
              "      <td>0</td>\n",
              "      <td>1</td>\n",
              "      <td>None</td>\n",
              "      <td>None</td>\n",
              "      <td>None</td>\n",
              "    </tr>\n",
              "    <tr>\n",
              "      <th>1</th>\n",
              "      <td>5 meses depois, em uma quarentena rígida e mui...</td>\n",
              "      <td>236</td>\n",
              "      <td>1293730988724350976</td>\n",
              "      <td>pedromaganem</td>\n",
              "      <td>Pedro Magalhães Ganem</td>\n",
              "      <td></td>\n",
              "      <td>None</td>\n",
              "      <td>2020-08-13 02:07:58</td>\n",
              "      <td>Instagram</td>\n",
              "      <td>0</td>\n",
              "      <td>1</td>\n",
              "      <td>None</td>\n",
              "      <td>None</td>\n",
              "      <td>None</td>\n",
              "    </tr>\n",
              "    <tr>\n",
              "      <th>2</th>\n",
              "      <td>Home Office - Dicas para ser produtivo no trab...</td>\n",
              "      <td>84</td>\n",
              "      <td>1293730285830516736</td>\n",
              "      <td>empregobrasil</td>\n",
              "      <td>Emprego Brasil</td>\n",
              "      <td>Brasil</td>\n",
              "      <td>None</td>\n",
              "      <td>2020-08-13 02:05:11</td>\n",
              "      <td>EmpregoBrasil</td>\n",
              "      <td>0</td>\n",
              "      <td>0</td>\n",
              "      <td>None</td>\n",
              "      <td>None</td>\n",
              "      <td>None</td>\n",
              "    </tr>\n",
              "  </tbody>\n",
              "</table>\n",
              "</div>"
            ],
            "text/plain": [
              "                                              Tweets  len  \\\n",
              "0  5 meses depois, em uma quarentena rígida e mui...  236   \n",
              "1  5 meses depois, em uma quarentena rígida e mui...  236   \n",
              "2  Home Office - Dicas para ser produtivo no trab...   84   \n",
              "\n",
              "                    ID            USER               userName  User Location  \\\n",
              "0  1293731010618638339  quarentena_bot             Quarentena  Planeta Terra   \n",
              "1  1293730988724350976    pedromaganem  Pedro Magalhães Ganem                  \n",
              "2  1293730285830516736   empregobrasil         Emprego Brasil         Brasil   \n",
              "\n",
              "  Language                Date         Source  Likes  Retweets   Geo  \\\n",
              "0     None 2020-08-13 02:08:03  QuarentenaBot      0         1  None   \n",
              "1     None 2020-08-13 02:07:58      Instagram      0         1  None   \n",
              "2     None 2020-08-13 02:05:11  EmpregoBrasil      0         0  None   \n",
              "\n",
              "  Coordinates Place  \n",
              "0        None  None  \n",
              "1        None  None  \n",
              "2        None  None  "
            ]
          },
          "metadata": {
            "tags": []
          },
          "execution_count": 34
        }
      ]
    },
    {
      "cell_type": "code",
      "metadata": {
        "scrolled": true,
        "id": "P2lN6h__e_iV",
        "colab_type": "code",
        "colab": {},
        "outputId": "d3078a1b-a1b4-4613-ff69-cdb7dd5b52ad"
      },
      "source": [
        "print('Vetor de polaridade:',polarities)"
      ],
      "execution_count": null,
      "outputs": [
        {
          "output_type": "stream",
          "text": [
            "Vetor de polaridade: [0.11161616161616161, 0.11161616161616161, 0.0, 0.0, -0.05, 0.47, 0.0625, -0.125, 0.25, 0.2681818181818182, -0.07, 0.0, 0.2333333333333333, 0.0, 0.03333333333333333, 0.225, 0.0, -0.022857142857142864, 0.3583333333333334, 0.0, -0.3, 0.6, 0.03333333333333333, 0.03333333333333333, 0.375, 0.0, 0.21875, 0.0, 0.0, -0.033333333333333326, -0.5666666666666668, 0.3516666666666666, 0.0, 0.0, 0.0, -0.5, 0.27499999999999997, 0.43333333333333335, 0.0, 0.0, 0.24999999999999997, -0.04642857142857142, 0.2, 0.0, 0.09166666666666667, 0.7, -0.012499999999999997, 0.10208333333333333, 1.0, -0.05, -0.25, 0.43333333333333335, 0.125, 0.009090909090909115, -0.1, 0.25, 0.15625, 0.15, 0.0625, 0.43333333333333335, 0.4000000000000001, 0.16666666666666666, 0.25, 0.009090909090909115, 0.15000000000000002, 0.009090909090909115, 0.43333333333333335, 0.0, -0.039999999999999994, 0.4166666666666667, 0.037500000000000006, 0.5666666666666667, 0.0, 0.10000000000000002, 0.0, 0.26666666666666666, -0.2, 0.0, -0.08333333333333333, 0.08073593073593073, 0.03333333333333333, -0.1375, -0.44999999999999996, 0.0, 0.075, -0.21944444444444444, -0.00833333333333334, 0.13333333333333333, 0.0, 0.075, 0.25, 0.0, 0.0, 0.0, 0.08333333333333333, 0.0, 0.0, 0.16666666666666666, 0.24545454545454545, 0.0, 0.3208333333333333, 0.0, 0.0, 0.075, 0.06727272727272726, 0.06727272727272726, 0.0055555555555555775, 0.0, 0.0, -0.25, 0.4166666666666667, -0.04444444444444443, 0.1, 0.4166666666666667, 0.0, -0.0431818181818182, 0.0, 0.4166666666666667, -0.25, 0.175, -0.25, -0.25, 0.4166666666666667, 0.4166666666666667, 0.0, 0.125, 0.19444444444444445, 0.4166666666666667, 0.5, 0.5, -0.03333333333333335, 0.0, 0.225, -0.125, 0.075, 0.075, 0.4166666666666667, 0.3333333333333333, 0.3333333333333333, 0.0, 0.4166666666666667, 0.0, 0.4166666666666667, 0.4166666666666667, 0.4166666666666667, 0.26666666666666666, 0.4166666666666667, 0.4166666666666667, 0.4166666666666667, 0.4166666666666667, 0.4166666666666667, 0.25, 0.7166666666666667, 0.0, 0.22083333333333333, 0.175, -0.05357142857142857, 0.375, 0.35, 0.075, 0.0, 0.075, 0.075, 0.0, -0.05000000000000002, 0.075, -0.1, 0.13333333333333333, -0.03472222222222224, 0.075, 0.0625, -0.1125, 0.7, 0.2, -0.05, 0.0625, -0.25, -0.25, 0.0625, 0.0625, 0.08333333333333333, -0.15714285714285714, 0.0625, -0.15714285714285714, 0.0625, 0.03333333333333333, 0.29333333333333333, 0.0625, 0.0625, 0.05000000000000001, 0.0, 0.0, 0.075, 0.0625, 0.85, 0.075, 0.0625, 0.0, 0.0625, -0.05]\n"
          ],
          "name": "stdout"
        }
      ]
    },
    {
      "cell_type": "markdown",
      "metadata": {
        "id": "XGwuQ26Ee_iW",
        "colab_type": "text"
      },
      "source": [
        "**Análise de Sentimento**"
      ]
    },
    {
      "cell_type": "code",
      "metadata": {
        "id": "gQX9vGy-e_iW",
        "colab_type": "code",
        "colab": {},
        "outputId": "d411d921-b74f-4775-c557-e5a130840dc0"
      },
      "source": [
        "print('Para a(s) palavra(s):\"%s\"' % keyword)\n",
        "print('A MÉDIA DE SENTIMENTO É: ' + str(np.mean(polarities)))"
      ],
      "execution_count": null,
      "outputs": [
        {
          "output_type": "stream",
          "text": [
            "Para a(s) palavra(s):\"'home office' OR 'trabalho remoto' OR 'trabalho em casa' OR homeoffice\"\n",
            "A MÉDIA DE SENTIMENTO É: 0.11164201839826837\n"
          ],
          "name": "stdout"
        }
      ]
    },
    {
      "cell_type": "code",
      "metadata": {
        "id": "__QvUYnGe_iX",
        "colab_type": "code",
        "colab": {}
      },
      "source": [
        "positive = 0\n",
        "negative = 0\n",
        "neutral = 0\n",
        "\n",
        "for polarity in polarities:\n",
        "    if polarity > 0:\n",
        "        positive = positive+1\n",
        "    elif polarity < 0:\n",
        "        negative = negative+1\n",
        "    else:\n",
        "        neutral = neutral+1           \n",
        "\n",
        "#calcula percentual\n",
        "pos_pct=positive*100/len(polarities)\n",
        "neg_pct=negative*100/len(polarities)\n",
        "neu_pct=neutral*100/len(polarities)"
      ],
      "execution_count": null,
      "outputs": []
    },
    {
      "cell_type": "code",
      "metadata": {
        "id": "IzVivp_8e_iY",
        "colab_type": "code",
        "colab": {}
      },
      "source": [
        "sentiments = ['Positivos', 'Negativos','Neutros']\n",
        "percents = [pos_pct, neg_pct, neu_pct]"
      ],
      "execution_count": null,
      "outputs": []
    },
    {
      "cell_type": "code",
      "metadata": {
        "scrolled": true,
        "id": "UHC9mEIJe_iZ",
        "colab_type": "code",
        "colab": {},
        "outputId": "6d899d42-b070-44a0-b256-6791a4c95707"
      },
      "source": [
        "explode = (0.1, 0, 0) #Separa o primeiro\n",
        "\n",
        "pie_chart = pd.Series(percents, index=sentiments,name='')\n",
        "pie_chart.plot.pie(fontsize=12, explode=explode, autopct='%.2f%%', shadow=True,\n",
        "                   figsize=(5, 5),title=\"Análise de Sentimentos tweets\");"
      ],
      "execution_count": null,
      "outputs": [
        {
          "output_type": "display_data",
          "data": {
            "image/png": "[encoded data removed]",
            "text/plain": [
              "<Figure size 360x360 with 1 Axes>"
            ]
          },
          "metadata": {
            "tags": []
          }
        }
      ]
    },
    {
      "cell_type": "code",
      "metadata": {
        "id": "solBwwU5e_ib",
        "colab_type": "code",
        "colab": {},
        "outputId": "9b82dfae-2986-4ac8-fa4a-968b2a019065"
      },
      "source": [
        "tweets_df"
      ],
      "execution_count": null,
      "outputs": [
        {
          "output_type": "execute_result",
          "data": {
            "text/html": [
              "<div>\n",
              "<style scoped>\n",
              "    .dataframe tbody tr th:only-of-type {\n",
              "        vertical-align: middle;\n",
              "    }\n",
              "\n",
              "    .dataframe tbody tr th {\n",
              "        vertical-align: top;\n",
              "    }\n",
              "\n",
              "    .dataframe thead th {\n",
              "        text-align: right;\n",
              "    }\n",
              "</style>\n",
              "<table border=\"1\" class=\"dataframe\">\n",
              "  <thead>\n",
              "    <tr style=\"text-align: right;\">\n",
              "      <th></th>\n",
              "      <th>Tweets</th>\n",
              "      <th>len</th>\n",
              "      <th>ID</th>\n",
              "      <th>USER</th>\n",
              "      <th>userName</th>\n",
              "      <th>User Location</th>\n",
              "      <th>Language</th>\n",
              "      <th>Date</th>\n",
              "      <th>Source</th>\n",
              "      <th>Likes</th>\n",
              "      <th>Retweets</th>\n",
              "      <th>Geo</th>\n",
              "      <th>Coordinates</th>\n",
              "      <th>Place</th>\n",
              "    </tr>\n",
              "  </thead>\n",
              "  <tbody>\n",
              "    <tr>\n",
              "      <th>0</th>\n",
              "      <td>5 meses depois, em uma quarentena rígida e mui...</td>\n",
              "      <td>236</td>\n",
              "      <td>1293731010618638339</td>\n",
              "      <td>quarentena_bot</td>\n",
              "      <td>Quarentena</td>\n",
              "      <td>Planeta Terra</td>\n",
              "      <td>None</td>\n",
              "      <td>2020-08-13 02:08:03</td>\n",
              "      <td>QuarentenaBot</td>\n",
              "      <td>0</td>\n",
              "      <td>1</td>\n",
              "      <td>None</td>\n",
              "      <td>None</td>\n",
              "      <td>None</td>\n",
              "    </tr>\n",
              "    <tr>\n",
              "      <th>1</th>\n",
              "      <td>5 meses depois, em uma quarentena rígida e mui...</td>\n",
              "      <td>236</td>\n",
              "      <td>1293730988724350976</td>\n",
              "      <td>pedromaganem</td>\n",
              "      <td>Pedro Magalhães Ganem</td>\n",
              "      <td></td>\n",
              "      <td>None</td>\n",
              "      <td>2020-08-13 02:07:58</td>\n",
              "      <td>Instagram</td>\n",
              "      <td>0</td>\n",
              "      <td>1</td>\n",
              "      <td>None</td>\n",
              "      <td>None</td>\n",
              "      <td>None</td>\n",
              "    </tr>\n",
              "    <tr>\n",
              "      <th>2</th>\n",
              "      <td>Home Office - Dicas para ser produtivo no trab...</td>\n",
              "      <td>84</td>\n",
              "      <td>1293730285830516736</td>\n",
              "      <td>empregobrasil</td>\n",
              "      <td>Emprego Brasil</td>\n",
              "      <td>Brasil</td>\n",
              "      <td>None</td>\n",
              "      <td>2020-08-13 02:05:11</td>\n",
              "      <td>EmpregoBrasil</td>\n",
              "      <td>0</td>\n",
              "      <td>0</td>\n",
              "      <td>None</td>\n",
              "      <td>None</td>\n",
              "      <td>None</td>\n",
              "    </tr>\n",
              "    <tr>\n",
              "      <th>3</th>\n",
              "      <td>a coisa mais ESTRANHA do home office é que ter...</td>\n",
              "      <td>160</td>\n",
              "      <td>1293705463540985856</td>\n",
              "      <td>amywinehazi</td>\n",
              "      <td>haziel</td>\n",
              "      <td>Florianópolis, Brazil</td>\n",
              "      <td>None</td>\n",
              "      <td>2020-08-13 00:26:33</td>\n",
              "      <td>Twitter for iPhone</td>\n",
              "      <td>14</td>\n",
              "      <td>0</td>\n",
              "      <td>None</td>\n",
              "      <td>None</td>\n",
              "      <td>None</td>\n",
              "    </tr>\n",
              "    <tr>\n",
              "      <th>4</th>\n",
              "      <td>@lwtnights Isso deveria ser desculpa? O trabal...</td>\n",
              "      <td>267</td>\n",
              "      <td>1293690840452411392</td>\n",
              "      <td>firexsevilla</td>\n",
              "      <td>ᴄʟᴀʀᴀ 🦋🇧🇷</td>\n",
              "      <td>Manaus, Brasil</td>\n",
              "      <td>None</td>\n",
              "      <td>2020-08-12 23:28:26</td>\n",
              "      <td>Twitter for Android</td>\n",
              "      <td>0</td>\n",
              "      <td>0</td>\n",
              "      <td>None</td>\n",
              "      <td>None</td>\n",
              "      <td>None</td>\n",
              "    </tr>\n",
              "    <tr>\n",
              "      <th>...</th>\n",
              "      <td>...</td>\n",
              "      <td>...</td>\n",
              "      <td>...</td>\n",
              "      <td>...</td>\n",
              "      <td>...</td>\n",
              "      <td>...</td>\n",
              "      <td>...</td>\n",
              "      <td>...</td>\n",
              "      <td>...</td>\n",
              "      <td>...</td>\n",
              "      <td>...</td>\n",
              "      <td>...</td>\n",
              "      <td>...</td>\n",
              "      <td>...</td>\n",
              "    </tr>\n",
              "    <tr>\n",
              "      <th>195</th>\n",
              "      <td>\"o home office tirou algo terrivel que tbm nos...</td>\n",
              "      <td>302</td>\n",
              "      <td>1291225185975242753</td>\n",
              "      <td>BlueTrouble02</td>\n",
              "      <td>Trouble_blue</td>\n",
              "      <td>Brasil</td>\n",
              "      <td>None</td>\n",
              "      <td>2020-08-06 04:10:48</td>\n",
              "      <td>Twitter for Android</td>\n",
              "      <td>0</td>\n",
              "      <td>5487</td>\n",
              "      <td>None</td>\n",
              "      <td>None</td>\n",
              "      <td>None</td>\n",
              "    </tr>\n",
              "    <tr>\n",
              "      <th>196</th>\n",
              "      <td>O home office tirou algo terrivel que tbm nos ...</td>\n",
              "      <td>276</td>\n",
              "      <td>1291222063756316672</td>\n",
              "      <td>alainpetterson</td>\n",
              "      <td>Faixa branca da vida</td>\n",
              "      <td>Santiago, Chile</td>\n",
              "      <td>None</td>\n",
              "      <td>2020-08-06 03:58:24</td>\n",
              "      <td>Twitter for Android</td>\n",
              "      <td>0</td>\n",
              "      <td>1424</td>\n",
              "      <td>None</td>\n",
              "      <td>None</td>\n",
              "      <td>None</td>\n",
              "    </tr>\n",
              "    <tr>\n",
              "      <th>197</th>\n",
              "      <td>No home office a gente trabalha em casa ou a g...</td>\n",
              "      <td>69</td>\n",
              "      <td>1291216118867283970</td>\n",
              "      <td>brsneuro</td>\n",
              "      <td>Prof. Bruno Rezende de Souza</td>\n",
              "      <td>Belo Horizonte, Brasil</td>\n",
              "      <td>None</td>\n",
              "      <td>2020-08-06 03:34:47</td>\n",
              "      <td>Twitter for Android</td>\n",
              "      <td>22</td>\n",
              "      <td>4</td>\n",
              "      <td>None</td>\n",
              "      <td>None</td>\n",
              "      <td>None</td>\n",
              "    </tr>\n",
              "    <tr>\n",
              "      <th>198</th>\n",
              "      <td>O home office tirou algo terrivel que tbm nos ...</td>\n",
              "      <td>300</td>\n",
              "      <td>1291206345035784192</td>\n",
              "      <td>LauraPassarella</td>\n",
              "      <td>Laura</td>\n",
              "      <td>Santo André, Brasil</td>\n",
              "      <td>None</td>\n",
              "      <td>2020-08-06 02:55:56</td>\n",
              "      <td>Twitter for Android</td>\n",
              "      <td>0</td>\n",
              "      <td>113</td>\n",
              "      <td>None</td>\n",
              "      <td>None</td>\n",
              "      <td>None</td>\n",
              "    </tr>\n",
              "    <tr>\n",
              "      <th>199</th>\n",
              "      <td>Na entrevista, conversamos com Alberto Ogata, ...</td>\n",
              "      <td>169</td>\n",
              "      <td>1291204882079395846</td>\n",
              "      <td>Quarentenacast</td>\n",
              "      <td>Quarentena</td>\n",
              "      <td>São Carlos - SP - Brasil</td>\n",
              "      <td>None</td>\n",
              "      <td>2020-08-06 02:50:07</td>\n",
              "      <td>Twitter Web App</td>\n",
              "      <td>0</td>\n",
              "      <td>0</td>\n",
              "      <td>None</td>\n",
              "      <td>None</td>\n",
              "      <td>None</td>\n",
              "    </tr>\n",
              "  </tbody>\n",
              "</table>\n",
              "<p>200 rows × 14 columns</p>\n",
              "</div>"
            ],
            "text/plain": [
              "                                                Tweets  len  \\\n",
              "0    5 meses depois, em uma quarentena rígida e mui...  236   \n",
              "1    5 meses depois, em uma quarentena rígida e mui...  236   \n",
              "2    Home Office - Dicas para ser produtivo no trab...   84   \n",
              "3    a coisa mais ESTRANHA do home office é que ter...  160   \n",
              "4    @lwtnights Isso deveria ser desculpa? O trabal...  267   \n",
              "..                                                 ...  ...   \n",
              "195  \"o home office tirou algo terrivel que tbm nos...  302   \n",
              "196  O home office tirou algo terrivel que tbm nos ...  276   \n",
              "197  No home office a gente trabalha em casa ou a g...   69   \n",
              "198  O home office tirou algo terrivel que tbm nos ...  300   \n",
              "199  Na entrevista, conversamos com Alberto Ogata, ...  169   \n",
              "\n",
              "                      ID             USER                      userName  \\\n",
              "0    1293731010618638339   quarentena_bot                    Quarentena   \n",
              "1    1293730988724350976     pedromaganem         Pedro Magalhães Ganem   \n",
              "2    1293730285830516736    empregobrasil                Emprego Brasil   \n",
              "3    1293705463540985856      amywinehazi                        haziel   \n",
              "4    1293690840452411392     firexsevilla                     ᴄʟᴀʀᴀ 🦋🇧🇷   \n",
              "..                   ...              ...                           ...   \n",
              "195  1291225185975242753    BlueTrouble02                  Trouble_blue   \n",
              "196  1291222063756316672   alainpetterson          Faixa branca da vida   \n",
              "197  1291216118867283970         brsneuro  Prof. Bruno Rezende de Souza   \n",
              "198  1291206345035784192  LauraPassarella                         Laura   \n",
              "199  1291204882079395846   Quarentenacast                    Quarentena   \n",
              "\n",
              "                User Location Language                Date  \\\n",
              "0               Planeta Terra     None 2020-08-13 02:08:03   \n",
              "1                                 None 2020-08-13 02:07:58   \n",
              "2                      Brasil     None 2020-08-13 02:05:11   \n",
              "3       Florianópolis, Brazil     None 2020-08-13 00:26:33   \n",
              "4              Manaus, Brasil     None 2020-08-12 23:28:26   \n",
              "..                        ...      ...                 ...   \n",
              "195                    Brasil     None 2020-08-06 04:10:48   \n",
              "196           Santiago, Chile     None 2020-08-06 03:58:24   \n",
              "197    Belo Horizonte, Brasil     None 2020-08-06 03:34:47   \n",
              "198       Santo André, Brasil     None 2020-08-06 02:55:56   \n",
              "199  São Carlos - SP - Brasil     None 2020-08-06 02:50:07   \n",
              "\n",
              "                  Source  Likes  Retweets   Geo Coordinates Place  \n",
              "0          QuarentenaBot      0         1  None        None  None  \n",
              "1              Instagram      0         1  None        None  None  \n",
              "2          EmpregoBrasil      0         0  None        None  None  \n",
              "3     Twitter for iPhone     14         0  None        None  None  \n",
              "4    Twitter for Android      0         0  None        None  None  \n",
              "..                   ...    ...       ...   ...         ...   ...  \n",
              "195  Twitter for Android      0      5487  None        None  None  \n",
              "196  Twitter for Android      0      1424  None        None  None  \n",
              "197  Twitter for Android     22         4  None        None  None  \n",
              "198  Twitter for Android      0       113  None        None  None  \n",
              "199      Twitter Web App      0         0  None        None  None  \n",
              "\n",
              "[200 rows x 14 columns]"
            ]
          },
          "metadata": {
            "tags": []
          },
          "execution_count": 40
        }
      ]
    },
    {
      "cell_type": "markdown",
      "metadata": {
        "id": "6fshM0wse_ic",
        "colab_type": "text"
      },
      "source": [
        "**Mapa de calor dos tweets**"
      ]
    },
    {
      "cell_type": "code",
      "metadata": {
        "id": "UgqLdoAhe_ic",
        "colab_type": "code",
        "colab": {}
      },
      "source": [
        "#MAPA\n",
        "from geopy.geocoders import Nominatim\n",
        "import folium\n",
        "from folium import plugins"
      ],
      "execution_count": null,
      "outputs": []
    },
    {
      "cell_type": "code",
      "metadata": {
        "id": "237lguVPe_id",
        "colab_type": "code",
        "colab": {}
      },
      "source": [
        "geolocator = Nominatim(user_agent=\"TweetsSentiments\")\n",
        "\n",
        "latitude = []\n",
        "longitude = []\n",
        "\n",
        "for user_location in tweets_df['User Location']:\n",
        "    try:\n",
        "        location = geolocator.geocode(user_location)\n",
        "        latitude.append(location.latitude)\n",
        "        longitude.append(location.longitude)\n",
        "    except:\n",
        "        continue"
      ],
      "execution_count": null,
      "outputs": []
    },
    {
      "cell_type": "code",
      "metadata": {
        "id": "UQaO6Zafe_ie",
        "colab_type": "code",
        "colab": {},
        "outputId": "07b15d5c-2a8a-48b8-b696-8f717bdf48b0"
      },
      "source": [
        "coordenadas = np.column_stack((latitude, longitude))\n",
        "\n",
        "mapa = folium.Map(zoom_start=3.)\n",
        "mapa.add_child(plugins.HeatMap(coordenadas))\n",
        "mapa.save('Mapa_Calor_homeoffice_pt.html')\n",
        "mapa"
      ],
      "execution_count": null,
      "outputs": [
        {
          "output_type": "execute_result",
          "data": {
            "text/html": [
              "<div style=\"width:100%;\"><div style=\"position:relative;width:100%;height:0;padding-bottom:60%;\"><span style=\"color:#565656\">Make this Notebook Trusted to load map: File -> Trust Notebook</span><iframe src=\"about:blank\" style=\"position:absolute;width:100%;height:100%;left:0;top:0;border:none !important;\" data-html=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 onload=\"this.contentDocument.open();this.contentDocument.write(atob(this.getAttribute('data-html')));this.contentDocument.close();\" allowfullscreen webkitallowfullscreen mozallowfullscreen></iframe></div></div>"
            ],
            "text/plain": [
              "<folium.folium.Map at 0x11b231f70>"
            ]
          },
          "metadata": {
            "tags": []
          },
          "execution_count": 43
        }
      ]
    },
    {
      "cell_type": "markdown",
      "metadata": {
        "id": "_VvrZ34ie_ig",
        "colab_type": "text"
      },
      "source": [
        "**WordCloud**"
      ]
    },
    {
      "cell_type": "code",
      "metadata": {
        "id": "9xpsSy5ge_ig",
        "colab_type": "code",
        "colab": {}
      },
      "source": [
        "from wordcloud import WordCloud"
      ],
      "execution_count": null,
      "outputs": []
    },
    {
      "cell_type": "code",
      "metadata": {
        "id": "4iIy9MWte_ii",
        "colab_type": "code",
        "colab": {}
      },
      "source": [
        "words = ' '.join(tweets_df['Tweets']) #transformando pra string\n",
        "\n",
        "words_clean = \" \".join([word for word in words.split()\n",
        "                            if 'https' not in word\n",
        "                                and not word.startswith('@')\n",
        "                                and not word.startswith('#')\n",
        "                                and word != 'RT'\n",
        "                            ])"
      ],
      "execution_count": null,
      "outputs": []
    },
    {
      "cell_type": "code",
      "metadata": {
        "id": "Jco5mHNLe_ik",
        "colab_type": "code",
        "colab": {},
        "outputId": "2875d0b7-f754-4160-f8f1-1e93e6b1d2a4"
      },
      "source": [
        "import warnings\n",
        "\n",
        "warnings.simplefilter('ignore')\n",
        "\n",
        "wc = WordCloud(min_font_size=10, \n",
        "               max_font_size=300, \n",
        "               background_color='white', \n",
        "               mode=\"RGB\",\n",
        "               width=2000, \n",
        "               height=1000,\n",
        "               normalize_plurals= True).generate(words_clean)\n",
        "\n",
        "plt.imshow(wc, interpolation=\"bilinear\")\n",
        "plt.axis(\"off\")\n",
        "plt.savefig('homeoffice_cloud_pt.png', dpi=300)\n",
        "plt.show()"
      ],
      "execution_count": null,
      "outputs": [
        {
          "output_type": "display_data",
          "data": {
            "image/png": "[encoded data removed]",
            "text/plain": [
              "<Figure size 432x288 with 1 Axes>"
            ]
          },
          "metadata": {
            "tags": [],
            "needs_background": "light"
          }
        }
      ]
    },
    {
      "cell_type": "markdown",
      "metadata": {
        "id": "C4pn1MGVe_il",
        "colab_type": "text"
      },
      "source": [
        "**Análise Temporal dos tweets**"
      ]
    },
    {
      "cell_type": "code",
      "metadata": {
        "id": "4dvv36UMe_il",
        "colab_type": "code",
        "colab": {}
      },
      "source": [
        "#tweets postados por dia\n",
        "data = tweets_df"
      ],
      "execution_count": null,
      "outputs": []
    },
    {
      "cell_type": "code",
      "metadata": {
        "id": "-MeChD38e_im",
        "colab_type": "code",
        "colab": {},
        "outputId": "bed554d5-6277-497d-cf35-fb641b280e16"
      },
      "source": [
        "print(data['Date'][0])"
      ],
      "execution_count": null,
      "outputs": [
        {
          "output_type": "stream",
          "text": [
            "2020-08-13 02:08:03\n"
          ],
          "name": "stdout"
        }
      ]
    },
    {
      "cell_type": "code",
      "metadata": {
        "id": "CttTZeFke_in",
        "colab_type": "code",
        "colab": {}
      },
      "source": [
        "from datetime import datetime"
      ],
      "execution_count": null,
      "outputs": []
    },
    {
      "cell_type": "code",
      "metadata": {
        "id": "Cn1uZGKMe_io",
        "colab_type": "code",
        "colab": {},
        "outputId": "2c53d904-cbc2-43b9-defa-dd8896c4b10f"
      },
      "source": [
        "#tweets postados por dia\n",
        "\n",
        "data = tweets_df\n",
        "\n",
        "print(data['Date'][0])\n",
        "\n",
        "data['Date'] = pd.to_datetime(data['Date']).apply(lambda x: x.date())\n",
        "\n",
        "print(data['Date'][0])"
      ],
      "execution_count": null,
      "outputs": [
        {
          "output_type": "stream",
          "text": [
            "2020-08-13 02:08:03\n",
            "2020-08-13\n"
          ],
          "name": "stdout"
        }
      ]
    },
    {
      "cell_type": "code",
      "metadata": {
        "id": "5HWdRsH8e_ip",
        "colab_type": "code",
        "colab": {},
        "outputId": "afaee81c-da07-4bb7-ed17-0af46fe0294f"
      },
      "source": [
        "x = data['Date'].value_counts() #conta q qtd de tweets por dia\n",
        "\n",
        "x"
      ],
      "execution_count": null,
      "outputs": [
        {
          "output_type": "execute_result",
          "data": {
            "text/plain": [
              "2020-08-07    39\n",
              "2020-08-10    39\n",
              "2020-08-06    34\n",
              "2020-08-11    32\n",
              "2020-08-12    23\n",
              "2020-08-08    15\n",
              "2020-08-09    14\n",
              "2020-08-13     4\n",
              "Name: Date, dtype: int64"
            ]
          },
          "metadata": {
            "tags": []
          },
          "execution_count": 53
        }
      ]
    },
    {
      "cell_type": "code",
      "metadata": {
        "id": "KKZdA6cOe_ir",
        "colab_type": "code",
        "colab": {}
      },
      "source": [
        "tlen = pd.Series(data['Date'].value_counts(), index=data['Date'])"
      ],
      "execution_count": null,
      "outputs": []
    },
    {
      "cell_type": "code",
      "metadata": {
        "id": "t-QxZ1u1e_is",
        "colab_type": "code",
        "colab": {},
        "outputId": "3c0c56d2-8137-4951-e0b8-fdd5e66d0d11"
      },
      "source": [
        "tlen.plot(figsize=(16,4), color='r')"
      ],
      "execution_count": null,
      "outputs": [
        {
          "output_type": "execute_result",
          "data": {
            "text/plain": [
              "<matplotlib.axes._subplots.AxesSubplot at 0x11ef5cfa0>"
            ]
          },
          "metadata": {
            "tags": []
          },
          "execution_count": 56
        },
        {
          "output_type": "display_data",
          "data": {
            "image/png": "[encoded data removed]",
            "text/plain": [
              "<Figure size 1152x288 with 1 Axes>"
            ]
          },
          "metadata": {
            "tags": [],
            "needs_background": "light"
          }
        }
      ]
    },
    {
      "cell_type": "markdown",
      "metadata": {
        "id": "sGeKQ3cMe_iu",
        "colab_type": "text"
      },
      "source": [
        ""
      ]
    }
  ]
}