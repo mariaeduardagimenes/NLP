{
  "nbformat": 4,
  "nbformat_minor": 0,
  "metadata": {
    "kernelspec": {
      "display_name": "Python 3",
      "language": "python",
      "name": "python3"
    },
    "colab": {
      "name": "Análise Sentimento APITwitter.ipynb",
      "provenance": [],
      "collapsed_sections": [],
      "include_colab_link": true
    }
  },
  "cells": [
    {
      "cell_type": "markdown",
      "metadata": {
        "id": "view-in-github",
        "colab_type": "text"
      },
      "source": [
        "<a href=\"https://colab.research.google.com/github/mariaeduardagimenes/NLP/blob/master/An%C3%A1lise_Sentimento_APITwitter.ipynb\" target=\"_parent\"><img src=\"https://colab.research.google.com/assets/colab-badge.svg\" alt=\"Open In Colab\"/></a>"
      ]
    },
    {
      "cell_type": "markdown",
      "metadata": {
        "id": "ZIqNk3iS6Gdw",
        "colab_type": "text"
      },
      "source": [
        "**Análise de Sentimento no Twitter**\n",
        "\n",
        "Esse projeto consiste na Análise de sentimentos de tweets coletados através da API do Twitter sobre X.\n",
        "\n",
        "O projeto consiste em:\n",
        "\n",
        "1. Coleta de Tweets\n",
        "2. Identificação de tweets mais curtidos e retweetados\n",
        "3. Identificação da fonte dos tweets\n",
        "4. Análise de sentimentos\n",
        "5. Nuvem de palavras mais frequentes\n",
        "6. Séries de tweets no tempo\n",
        "8. Mapa de calor dos tweets utilizando a localização declada pelos usuários\n",
        "\n"
      ]
    },
    {
      "cell_type": "markdown",
      "metadata": {
        "id": "XZbCh2Ip6Gdx",
        "colab_type": "text"
      },
      "source": [
        "**Pacotes Pyhton utilizados**\n",
        "\n",
        "1. Tweepy\n",
        "Acessa API do Twitter\n",
        "\n",
        "2. Textblob\n",
        "Análise sentimento\n",
        "\n",
        "3. Scrapy\n",
        "Scrappings\n",
        "\n",
        "4. NLTK\n",
        "Biblioteca NLP "
      ]
    },
    {
      "cell_type": "markdown",
      "metadata": {
        "id": "kLhsP8DT6Gdy",
        "colab_type": "text"
      },
      "source": [
        "**Importação de pacotes**"
      ]
    },
    {
      "cell_type": "code",
      "metadata": {
        "id": "dtt2nI3u6Gdz",
        "colab_type": "code",
        "colab": {}
      },
      "source": [
        "#Pacotes básicos\n",
        "import tweepy\n",
        "import pandas as pd\n",
        "import numpy as np\n",
        "from textblob import TextBlob as tb \n",
        "import time\n",
        "import re\n",
        "\n",
        "#Pacotes para visualização\n",
        "import matplotlib.pyplot as plt\n",
        "\n",
        "#MAPA\n",
        "from geopy.geocoders import Nominatim\n",
        "import folium\n",
        "from folium import plugins\n",
        "from wordcloud import WordCloud, STOPWORDS\n",
        "\n",
        "\n",
        "\n",
        "\n"
      ],
      "execution_count": null,
      "outputs": []
    },
    {
      "cell_type": "markdown",
      "metadata": {
        "id": "wGgzNRWy6Gd4",
        "colab_type": "text"
      },
      "source": [
        "**TextBlob**\n",
        "\n",
        "É usado para fazer análise de polaridade.\n",
        "\n",
        "É pré-configurado na biblioteca para o idioma inglês para analisar se uma determinada frase em ingles, as palavras que a compoem são treinadas para falar se sao conotacao positiva ou negativa.\n",
        "\n",
        "Não analisamos textos em português com ele.\n",
        "\n",
        "\n",
        "**Folium**\n",
        "\n",
        "Níveis de detalhamento.\n",
        "\n"
      ]
    },
    {
      "cell_type": "code",
      "metadata": {
        "id": "MowfgMxh6Gd4",
        "colab_type": "code",
        "colab": {}
      },
      "source": [
        "# Credenciais para utilização da API do Twitter \n",
        "\n",
        "API_key = ''\n",
        "API_secret_key = ''\n",
        "access_token = ''\n",
        "access_token_secret = ''\n"
      ],
      "execution_count": null,
      "outputs": []
    },
    {
      "cell_type": "markdown",
      "metadata": {
        "id": "GbknE5dm6Gd7",
        "colab_type": "text"
      },
      "source": [
        "**Autenticação na API do Twitter**"
      ]
    },
    {
      "cell_type": "code",
      "metadata": {
        "id": "IISn2_8H6Gd8",
        "colab_type": "code",
        "colab": {}
      },
      "source": [
        "auth = tweepy.OAuthHandler(API_key, API_secret_key)\n",
        "auth.set_access_token(access_token, access_token_secret)\n",
        "\n",
        "# Construir API instance\n",
        "api = tweepy.API(auth,wait_on_rate_limit=True,wait_on_rate_limit_notify=True,\n",
        "                 retry_count=5,retry_delay=10)"
      ],
      "execution_count": null,
      "outputs": []
    },
    {
      "cell_type": "markdown",
      "metadata": {
        "id": "JLr3GkzJ6Gd-",
        "colab_type": "text"
      },
      "source": [
        "onde:\n",
        "\n",
        "- retry_count - número padrão de tentativas para tentar quando ocorrer um erro\n",
        "- retry_delay - numero de segundos para aguardar entre tentativas\n",
        "- wait_on_rate_limit - se deve ou nao esperar automaticamente a reposição dos limites de taxa\n",
        "- wait_on_rate_limit_notify - imprima ou não uma notificação quando o Tweepy estiver aguardando a reposição dos limites de taxa"
      ]
    },
    {
      "cell_type": "code",
      "metadata": {
        "id": "eF6QEEKD6Gd_",
        "colab_type": "code",
        "colab": {},
        "outputId": "0aac997a-7689-4698-f6b4-040fc59ad2c0"
      },
      "source": [
        "# Postar um Twitter diretamente do Python\n",
        "\n",
        "api.update_status(\"Este tweet vem direto do Python! <3 Usando as APIs do TT - \\n #datascience #datadriven\")\n",
        "\n",
        "# O tweet vai aparecer no meu feed."
      ],
      "execution_count": null,
      "outputs": [
        {
          "output_type": "execute_result",
          "data": {
            "text/plain": [
              "Status(_api=<tweepy.api.API object at 0x125740220>, _json={'created_at': 'Wed Aug 12 21:13:33 +0000 2020', 'id': 1293656896650579968, 'id_str': '1293656896650579968', 'text': 'Este tweet vem direto do Python! &lt;3 Usando as APIs do TT - \\n #datascience #datadriven', 'truncated': False, 'entities': {'hashtags': [{'text': 'datascience', 'indices': [64, 76]}, {'text': 'datadriven', 'indices': [77, 88]}], 'symbols': [], 'user_mentions': [], 'urls': []}, 'source': '<a href=\"https://www.igti.com.br/\" rel=\"nofollow\">Coleta IGTI Maria</a>', 'in_reply_to_status_id': None, 'in_reply_to_status_id_str': None, 'in_reply_to_user_id': None, 'in_reply_to_user_id_str': None, 'in_reply_to_screen_name': None, 'user': {'id': 29108807, 'id_str': '29108807', 'name': 'ninguém', 'screen_name': 'mariagimenes', 'location': 'Brazil', 'description': '', 'url': None, 'entities': {'description': {'urls': []}}, 'protected': False, 'followers_count': 243, 'friends_count': 369, 'listed_count': 3, 'created_at': 'Mon Apr 06 00:56:47 +0000 2009', 'favourites_count': 11162, 'utc_offset': None, 'time_zone': None, 'geo_enabled': False, 'verified': False, 'statuses_count': 8323, 'lang': None, 'contributors_enabled': False, 'is_translator': False, 'is_translation_enabled': False, 'profile_background_color': 'C6E2EE', 'profile_background_image_url': 'http://abs.twimg.com/images/themes/theme2/bg.gif', 'profile_background_image_url_https': 'https://abs.twimg.com/images/themes/theme2/bg.gif', 'profile_background_tile': True, 'profile_image_url': 'http://pbs.twimg.com/profile_images/1280872490735218688/jMxS4YaJ_normal.jpg', 'profile_image_url_https': 'https://pbs.twimg.com/profile_images/1280872490735218688/jMxS4YaJ_normal.jpg', 'profile_banner_url': 'https://pbs.twimg.com/profile_banners/29108807/1581397864', 'profile_link_color': '1F98C7', 'profile_sidebar_border_color': 'C6E2EE', 'profile_sidebar_fill_color': 'DAECF4', 'profile_text_color': '663B12', 'profile_use_background_image': True, 'has_extended_profile': False, 'default_profile': False, 'default_profile_image': False, 'following': False, 'follow_request_sent': False, 'notifications': False, 'translator_type': 'none'}, 'geo': None, 'coordinates': None, 'place': None, 'contributors': None, 'is_quote_status': False, 'retweet_count': 0, 'favorite_count': 0, 'favorited': False, 'retweeted': False, 'lang': 'es'}, created_at=datetime.datetime(2020, 8, 12, 21, 13, 33), id=1293656896650579968, id_str='1293656896650579968', text='Este tweet vem direto do Python! &lt;3 Usando as APIs do TT - \\n #datascience #datadriven', truncated=False, entities={'hashtags': [{'text': 'datascience', 'indices': [64, 76]}, {'text': 'datadriven', 'indices': [77, 88]}], 'symbols': [], 'user_mentions': [], 'urls': []}, source='Coleta IGTI Maria', source_url='https://www.igti.com.br/', in_reply_to_status_id=None, in_reply_to_status_id_str=None, in_reply_to_user_id=None, in_reply_to_user_id_str=None, in_reply_to_screen_name=None, author=User(_api=<tweepy.api.API object at 0x125740220>, _json={'id': 29108807, 'id_str': '29108807', 'name': 'ninguém', 'screen_name': 'mariagimenes', 'location': 'Brazil', 'description': '', 'url': None, 'entities': {'description': {'urls': []}}, 'protected': False, 'followers_count': 243, 'friends_count': 369, 'listed_count': 3, 'created_at': 'Mon Apr 06 00:56:47 +0000 2009', 'favourites_count': 11162, 'utc_offset': None, 'time_zone': None, 'geo_enabled': False, 'verified': False, 'statuses_count': 8323, 'lang': None, 'contributors_enabled': False, 'is_translator': False, 'is_translation_enabled': False, 'profile_background_color': 'C6E2EE', 'profile_background_image_url': 'http://abs.twimg.com/images/themes/theme2/bg.gif', 'profile_background_image_url_https': 'https://abs.twimg.com/images/themes/theme2/bg.gif', 'profile_background_tile': True, 'profile_image_url': 'http://pbs.twimg.com/profile_images/1280872490735218688/jMxS4YaJ_normal.jpg', 'profile_image_url_https': 'https://pbs.twimg.com/profile_images/1280872490735218688/jMxS4YaJ_normal.jpg', 'profile_banner_url': 'https://pbs.twimg.com/profile_banners/29108807/1581397864', 'profile_link_color': '1F98C7', 'profile_sidebar_border_color': 'C6E2EE', 'profile_sidebar_fill_color': 'DAECF4', 'profile_text_color': '663B12', 'profile_use_background_image': True, 'has_extended_profile': False, 'default_profile': False, 'default_profile_image': False, 'following': False, 'follow_request_sent': False, 'notifications': False, 'translator_type': 'none'}, id=29108807, id_str='29108807', name='ninguém', screen_name='mariagimenes', location='Brazil', description='', url=None, entities={'description': {'urls': []}}, protected=False, followers_count=243, friends_count=369, listed_count=3, created_at=datetime.datetime(2009, 4, 6, 0, 56, 47), favourites_count=11162, utc_offset=None, time_zone=None, geo_enabled=False, verified=False, statuses_count=8323, lang=None, contributors_enabled=False, is_translator=False, is_translation_enabled=False, profile_background_color='C6E2EE', profile_background_image_url='http://abs.twimg.com/images/themes/theme2/bg.gif', profile_background_image_url_https='https://abs.twimg.com/images/themes/theme2/bg.gif', profile_background_tile=True, profile_image_url='http://pbs.twimg.com/profile_images/1280872490735218688/jMxS4YaJ_normal.jpg', profile_image_url_https='https://pbs.twimg.com/profile_images/1280872490735218688/jMxS4YaJ_normal.jpg', profile_banner_url='https://pbs.twimg.com/profile_banners/29108807/1581397864', profile_link_color='1F98C7', profile_sidebar_border_color='C6E2EE', profile_sidebar_fill_color='DAECF4', profile_text_color='663B12', profile_use_background_image=True, has_extended_profile=False, default_profile=False, default_profile_image=False, following=False, follow_request_sent=False, notifications=False, translator_type='none'), user=User(_api=<tweepy.api.API object at 0x125740220>, _json={'id': 29108807, 'id_str': '29108807', 'name': 'ninguém', 'screen_name': 'mariagimenes', 'location': 'Brazil', 'description': '', 'url': None, 'entities': {'description': {'urls': []}}, 'protected': False, 'followers_count': 243, 'friends_count': 369, 'listed_count': 3, 'created_at': 'Mon Apr 06 00:56:47 +0000 2009', 'favourites_count': 11162, 'utc_offset': None, 'time_zone': None, 'geo_enabled': False, 'verified': False, 'statuses_count': 8323, 'lang': None, 'contributors_enabled': False, 'is_translator': False, 'is_translation_enabled': False, 'profile_background_color': 'C6E2EE', 'profile_background_image_url': 'http://abs.twimg.com/images/themes/theme2/bg.gif', 'profile_background_image_url_https': 'https://abs.twimg.com/images/themes/theme2/bg.gif', 'profile_background_tile': True, 'profile_image_url': 'http://pbs.twimg.com/profile_images/1280872490735218688/jMxS4YaJ_normal.jpg', 'profile_image_url_https': 'https://pbs.twimg.com/profile_images/1280872490735218688/jMxS4YaJ_normal.jpg', 'profile_banner_url': 'https://pbs.twimg.com/profile_banners/29108807/1581397864', 'profile_link_color': '1F98C7', 'profile_sidebar_border_color': 'C6E2EE', 'profile_sidebar_fill_color': 'DAECF4', 'profile_text_color': '663B12', 'profile_use_background_image': True, 'has_extended_profile': False, 'default_profile': False, 'default_profile_image': False, 'following': False, 'follow_request_sent': False, 'notifications': False, 'translator_type': 'none'}, id=29108807, id_str='29108807', name='ninguém', screen_name='mariagimenes', location='Brazil', description='', url=None, entities={'description': {'urls': []}}, protected=False, followers_count=243, friends_count=369, listed_count=3, created_at=datetime.datetime(2009, 4, 6, 0, 56, 47), favourites_count=11162, utc_offset=None, time_zone=None, geo_enabled=False, verified=False, statuses_count=8323, lang=None, contributors_enabled=False, is_translator=False, is_translation_enabled=False, profile_background_color='C6E2EE', profile_background_image_url='http://abs.twimg.com/images/themes/theme2/bg.gif', profile_background_image_url_https='https://abs.twimg.com/images/themes/theme2/bg.gif', profile_background_tile=True, profile_image_url='http://pbs.twimg.com/profile_images/1280872490735218688/jMxS4YaJ_normal.jpg', profile_image_url_https='https://pbs.twimg.com/profile_images/1280872490735218688/jMxS4YaJ_normal.jpg', profile_banner_url='https://pbs.twimg.com/profile_banners/29108807/1581397864', profile_link_color='1F98C7', profile_sidebar_border_color='C6E2EE', profile_sidebar_fill_color='DAECF4', profile_text_color='663B12', profile_use_background_image=True, has_extended_profile=False, default_profile=False, default_profile_image=False, following=False, follow_request_sent=False, notifications=False, translator_type='none'), geo=None, coordinates=None, place=None, contributors=None, is_quote_status=False, retweet_count=0, favorite_count=0, favorited=False, retweeted=False, lang='es')"
            ]
          },
          "metadata": {
            "tags": []
          },
          "execution_count": 60
        }
      ]
    },
    {
      "cell_type": "markdown",
      "metadata": {
        "id": "ERB6JTWz6GeB",
        "colab_type": "text"
      },
      "source": [
        "**Coleta de dados (busca por palavra-chave)**"
      ]
    },
    {
      "cell_type": "code",
      "metadata": {
        "id": "4uBYGgVg6GeC",
        "colab_type": "code",
        "colab": {}
      },
      "source": [
        "# Definir listas de armazenamento\n",
        "tweets = []\n",
        "info = []"
      ],
      "execution_count": null,
      "outputs": []
    },
    {
      "cell_type": "markdown",
      "metadata": {
        "id": "TkrfJwHR6GeF",
        "colab_type": "text"
      },
      "source": [
        "#Definir que palavras (keyword) que deseja pesquisar no Twitter\n",
        "\n",
        "keyword = (\"'home office' OR 'trabalho remoto' OR 'trabalho em casa' OR homeoffice\")"
      ]
    },
    {
      "cell_type": "markdown",
      "metadata": {
        "id": "LMj-FafI6GeG",
        "colab_type": "text"
      },
      "source": [
        "Para realizar a busca por palavra chave vamos utilizar a função abaixo:\n",
        "\n",
        "- API.search(q[,lang][,locale][,rpp][,page][,since_id][,geocode][,show_user])\n",
        "\n",
        "**onde os principais parâmetros que serão usados são:**\n",
        "- q : string de consulta de pesquisa\n",
        "- lang : restringe os tweets para o idioma especificado, fornecido por um código iSO 6e 39-1.\n",
        "    1) lang=pt -> português\n",
        "    2) lang=en -> inglês\n",
        "- rpp : o número de tweets a serem retornados por página, até no máximo 100\n",
        "- page : o número da página (começando em 1) a ser retornado, até um máximo de aproximadamente 1500 resultados (com base na página rpp)\n",
        "- since_id : retorna apenas status com um ID maior que (ou seja, mais recente que) o ID especificado\n",
        "- geocode : retorna tweets de usuários localizados em um determinado\n",
        "- show_user : quando verdadeiro, precede \":\"no início do tweet. O padrao é falso"
      ]
    },
    {
      "cell_type": "markdown",
      "metadata": {
        "id": "hRdIoRP56GeG",
        "colab_type": "text"
      },
      "source": [
        "**Busca por palavra chave e recuperar os tweets em português**"
      ]
    },
    {
      "cell_type": "code",
      "metadata": {
        "id": "ehdlssuE6GeH",
        "colab_type": "code",
        "colab": {}
      },
      "source": [
        "for tweet in tweepy.Cursor(api.search,\n",
        "                           q=keyword, tweet_mode='extended', \n",
        "                           rpp=200, result_type=\"mixed\",lang='pt', #serão solicitados apenas 200 tweets nesta aula\n",
        "                           include_entities=True).items(200): \n",
        "        \n",
        "    if 'retweeted_status' in dir(tweet): # checa se retweet\n",
        "        # se status é retweet, status.full_text (tweet.full_text) could be truncated.\n",
        "        # deveriamos pegar retweeted_status.full_text\n",
        "        aux=tweet.retweeted_status.full_text       \n",
        "    else: # se não é retweet\n",
        "        aux=tweet.full_text\n",
        "        \n",
        "    newtweet = aux.replace(\"\\n\", \" \")\n",
        "   \n",
        "    tweets.append(newtweet) #serão armazenados nos vetores vazios criados\n",
        "    info.append(tweet)   \n",
        "    file = open(\"tweets_Keyword_homeoffice_pt.txt\", \"a\", -1, \"utf-8\")    \n",
        "    file.write(newtweet+'\\n')\n",
        "    file.close()"
      ],
      "execution_count": null,
      "outputs": []
    },
    {
      "cell_type": "markdown",
      "metadata": {
        "id": "F8wvW3u46GeK",
        "colab_type": "text"
      },
      "source": [
        "**Para verificar a quantidade de tweets coletados, use a função \"len()\"**"
      ]
    },
    {
      "cell_type": "code",
      "metadata": {
        "id": "tzjR23Pe6GeK",
        "colab_type": "code",
        "colab": {},
        "outputId": "249151bc-aa94-4226-c458-8cc78c224267"
      },
      "source": [
        "print(\"Total de tweets coletados %s.\" % (len(info)))"
      ],
      "execution_count": null,
      "outputs": [
        {
          "output_type": "stream",
          "text": [
            "Total de tweets coletados 400.\n"
          ],
          "name": "stdout"
        }
      ]
    },
    {
      "cell_type": "markdown",
      "metadata": {
        "id": "625a1J2l6GeN",
        "colab_type": "text"
      },
      "source": [
        "**Criar data frame**"
      ]
    },
    {
      "cell_type": "code",
      "metadata": {
        "id": "L7P77lOU6GeN",
        "colab_type": "code",
        "colab": {}
      },
      "source": [
        "tweets_df = pd.DataFrame(tweets, columns=['Tweets']) \n",
        "\n",
        "tweets_df['len']  = np.array([len(tweet) for tweet in tweets])\n",
        "tweets_df['ID']   = np.array([tweet.id for tweet in info])\n",
        "tweets_df['USER']   = np.array([tweet.user.screen_name for tweet in info])\n",
        "tweets_df['userName'] = np.array([tweet.user.name for tweet in info])\n",
        "tweets_df['User Location']    = np.array([tweet.user.location for tweet in info])\n",
        "tweets_df['Language'] = np.array([tweet.user.lang for tweet in info])\n",
        "tweets_df['Date'] = np.array([tweet.created_at for tweet in info])\n",
        "tweets_df['Source'] = np.array([tweet.source for tweet in info])\n",
        "tweets_df['Likes']  = np.array([tweet.favorite_count for tweet in info])\n",
        "tweets_df['Retweets']    = np.array([tweet.retweet_count for tweet in info])\n",
        "tweets_df['Geo']    = np.array([tweet.geo for tweet in info])\n",
        "tweets_df['Coordinates']    = np.array([tweet.coordinates for tweet in info])         \n",
        "tweets_df['Place']    = np.array([tweet.place for tweet in info])\n",
        "\n",
        "tweets_df.to_csv(\"tweets_Keyword_homeoffice_pt.csv\")"
      ],
      "execution_count": null,
      "outputs": []
    },
    {
      "cell_type": "code",
      "metadata": {
        "id": "_LLbPd1b6GeP",
        "colab_type": "code",
        "colab": {},
        "outputId": "6a8f5c79-d854-4841-edec-b55a07b000d2"
      },
      "source": [
        "tweets_df.head(3)"
      ],
      "execution_count": null,
      "outputs": [
        {
          "output_type": "execute_result",
          "data": {
            "text/html": [
              "<div>\n",
              "<style scoped>\n",
              "    .dataframe tbody tr th:only-of-type {\n",
              "        vertical-align: middle;\n",
              "    }\n",
              "\n",
              "    .dataframe tbody tr th {\n",
              "        vertical-align: top;\n",
              "    }\n",
              "\n",
              "    .dataframe thead th {\n",
              "        text-align: right;\n",
              "    }\n",
              "</style>\n",
              "<table border=\"1\" class=\"dataframe\">\n",
              "  <thead>\n",
              "    <tr style=\"text-align: right;\">\n",
              "      <th></th>\n",
              "      <th>Tweets</th>\n",
              "      <th>len</th>\n",
              "      <th>ID</th>\n",
              "      <th>USER</th>\n",
              "      <th>userName</th>\n",
              "      <th>User Location</th>\n",
              "      <th>Language</th>\n",
              "      <th>Date</th>\n",
              "      <th>Source</th>\n",
              "      <th>Likes</th>\n",
              "      <th>Retweets</th>\n",
              "      <th>Geo</th>\n",
              "      <th>Coordinates</th>\n",
              "      <th>Place</th>\n",
              "    </tr>\n",
              "  </thead>\n",
              "  <tbody>\n",
              "    <tr>\n",
              "      <th>0</th>\n",
              "      <td>O home office tirou algo terrivel que tbm nos ...</td>\n",
              "      <td>276</td>\n",
              "      <td>1293656871887405057</td>\n",
              "      <td>marjundu</td>\n",
              "      <td>Marcela Jundurian</td>\n",
              "      <td>Brasil</td>\n",
              "      <td>None</td>\n",
              "      <td>2020-08-12 21:13:27</td>\n",
              "      <td>Twitter for Android</td>\n",
              "      <td>0</td>\n",
              "      <td>1424</td>\n",
              "      <td>None</td>\n",
              "      <td>None</td>\n",
              "      <td>None</td>\n",
              "    </tr>\n",
              "    <tr>\n",
              "      <th>1</th>\n",
              "      <td>se fosse trabalho presencial eu iria pra casa ...</td>\n",
              "      <td>155</td>\n",
              "      <td>1293638094911156224</td>\n",
              "      <td>helorapereira</td>\n",
              "      <td>Helora</td>\n",
              "      <td>Imbituba</td>\n",
              "      <td>None</td>\n",
              "      <td>2020-08-12 19:58:51</td>\n",
              "      <td>Twitter Web App</td>\n",
              "      <td>0</td>\n",
              "      <td>0</td>\n",
              "      <td>None</td>\n",
              "      <td>None</td>\n",
              "      <td>None</td>\n",
              "    </tr>\n",
              "    <tr>\n",
              "      <th>2</th>\n",
              "      <td>e isso é oq eu encontro em minha casa quando c...</td>\n",
              "      <td>187</td>\n",
              "      <td>1293631250465423362</td>\n",
              "      <td>mic_ofc</td>\n",
              "      <td>🖤💛Present Mic_Ofc💛🖤</td>\n",
              "      <td>U.A Academy</td>\n",
              "      <td>None</td>\n",
              "      <td>2020-08-12 19:31:39</td>\n",
              "      <td>Twitter Web App</td>\n",
              "      <td>2</td>\n",
              "      <td>0</td>\n",
              "      <td>None</td>\n",
              "      <td>None</td>\n",
              "      <td>None</td>\n",
              "    </tr>\n",
              "  </tbody>\n",
              "</table>\n",
              "</div>"
            ],
            "text/plain": [
              "                                              Tweets  len  \\\n",
              "0  O home office tirou algo terrivel que tbm nos ...  276   \n",
              "1  se fosse trabalho presencial eu iria pra casa ...  155   \n",
              "2  e isso é oq eu encontro em minha casa quando c...  187   \n",
              "\n",
              "                    ID           USER             userName User Location  \\\n",
              "0  1293656871887405057       marjundu    Marcela Jundurian        Brasil   \n",
              "1  1293638094911156224  helorapereira               Helora     Imbituba    \n",
              "2  1293631250465423362        mic_ofc  🖤💛Present Mic_Ofc💛🖤   U.A Academy   \n",
              "\n",
              "  Language                Date               Source  Likes  Retweets   Geo  \\\n",
              "0     None 2020-08-12 21:13:27  Twitter for Android      0      1424  None   \n",
              "1     None 2020-08-12 19:58:51      Twitter Web App      0         0  None   \n",
              "2     None 2020-08-12 19:31:39      Twitter Web App      2         0  None   \n",
              "\n",
              "  Coordinates Place  \n",
              "0        None  None  \n",
              "1        None  None  \n",
              "2        None  None  "
            ]
          },
          "metadata": {
            "tags": []
          },
          "execution_count": 67
        }
      ]
    },
    {
      "cell_type": "markdown",
      "metadata": {
        "id": "_XTElsKZ6GeR",
        "colab_type": "text"
      },
      "source": [
        "**Identificar os Top Tweets coletados**"
      ]
    },
    {
      "cell_type": "code",
      "metadata": {
        "id": "JQyD328U6GeR",
        "colab_type": "code",
        "colab": {},
        "outputId": "a8fa560e-84b0-4808-9616-0ce2fd319dc6"
      },
      "source": [
        "# Tweets com maior número de LIKES\n",
        "likes_max = np.max(tweets_df['Likes']) #Função max do numpy identifica o valor máximo\n",
        "\n",
        "likes = tweets_df[tweets_df.Likes == likes_max].index[0] #pega o primeiro tweet com valor máximo de curtidas\n",
        "\n",
        "print(\"O tweet com mais curtidas (likes) é: \\n{}\".format(tweets_df['Tweets'][likes]))\n",
        "print(\"Número de curtidas: {}\".format(likes_max))"
      ],
      "execution_count": null,
      "outputs": [
        {
          "output_type": "stream",
          "text": [
            "O tweet com mais curtidas (likes) é: \n",
            "PESQUISA [POA, REC, RIO, SAO, SSA]:  A. 45% trabalha/ou em casa na PANDEMIA  B. 68% acha/ou BOM  C. pra 49%, a produtividade não muda/ou  D. 58% quer manter o trabalho EM CASA depois disso tudo  E. 42% preferem home office em tempo parcial [56% integral]: https://t.co/LImw8sCObd. https://t.co/0CMdDFJj04\n",
            "Número de curtidas: 47\n"
          ],
          "name": "stdout"
        }
      ]
    },
    {
      "cell_type": "code",
      "metadata": {
        "id": "Ewn1k8vl6GeT",
        "colab_type": "code",
        "colab": {},
        "outputId": "f1d58ced-19e5-45a3-dd61-1dc95a02fa88"
      },
      "source": [
        "print(np.sum(tweets_df['Likes'] == likes_max)) #conta quantos tweets possuem o mesmo valor max"
      ],
      "execution_count": null,
      "outputs": [
        {
          "output_type": "stream",
          "text": [
            "2\n"
          ],
          "name": "stdout"
        }
      ]
    },
    {
      "cell_type": "code",
      "metadata": {
        "id": "cR4zqKOj6GeW",
        "colab_type": "code",
        "colab": {},
        "outputId": "3d0c0d96-86f7-4866-c289-bc8523d47bc5"
      },
      "source": [
        "retweet_max  = np.max(tweets_df['Retweets']) #retorna o valor máximo\n",
        "\n",
        "retweet  = tweets_df[tweets_df.Retweets == retweet_max].index[0] #pega o primeiro tweet com valor máximo de Retweets\n",
        "\n",
        "print(\"O tweet com mais retweet é: \\n{}\".format(tweets_df['Tweets'][retweet]))\n",
        "print(\"Número de retweets: {}\".format(retweet_max))"
      ],
      "execution_count": null,
      "outputs": [
        {
          "output_type": "stream",
          "text": [
            "O tweet com mais retweet é: \n",
            "\"o home office tirou algo terrivel que tbm nos fazia bem: o trânsito de volta pra casa. É ótimo não te-lo, óbvio. Mas é preciso encontrar o substituto pro papel que ele cumpria: o de descompressão pós trabalho, o ato de se desligar, de ouvir música, de pensar em outras coisas.\" https://t.co/zxe6oeF1yh\n",
            "Número de retweets: 5489\n"
          ],
          "name": "stdout"
        }
      ]
    },
    {
      "cell_type": "markdown",
      "metadata": {
        "id": "SKpQ0Doa6GeX",
        "colab_type": "text"
      },
      "source": [
        "**Identifica a fonte(origem) do tweet**\n",
        "\n",
        "Nesse caso, app ou dispositivo onde o usuário postou o tweet"
      ]
    },
    {
      "cell_type": "code",
      "metadata": {
        "id": "AiboRaIg6GeY",
        "colab_type": "code",
        "colab": {}
      },
      "source": [
        "sources = [] #lista para armazenar a fontes\n",
        "for source in tweets_df['Source']:\n",
        "    if source not in sources:\n",
        "        sources.append(source) #inclui no vetor sources apenas se a fonte encontrada ainda não foi incluída\n",
        "\n",
        "percent = np.zeros(len(sources)) #Retorna um novo vetor, com o número de elementos do vetor sources, preenchido com zeros a new array filled with zeros, for\n",
        "\n",
        "for source in tweets_df['Source']:\n",
        "    for index in range(len(sources)):\n",
        "        if source == sources[index]:\n",
        "            percent[index] += 1\n",
        "            pass"
      ],
      "execution_count": null,
      "outputs": []
    },
    {
      "cell_type": "markdown",
      "metadata": {
        "id": "nYhfqn1X6GeZ",
        "colab_type": "text"
      },
      "source": [
        "**Gráfico que exibe o número de tweets por fonte**"
      ]
    },
    {
      "cell_type": "code",
      "metadata": {
        "id": "oEUEO4326GeZ",
        "colab_type": "code",
        "colab": {},
        "outputId": "73bfeb61-6583-4c04-9b79-73c809f78983"
      },
      "source": [
        "sourceDF = pd.DataFrame({\n",
        " 'source':percent,\n",
        "}, index=sources)\n",
        "\n",
        "sourceDF"
      ],
      "execution_count": null,
      "outputs": [
        {
          "output_type": "execute_result",
          "data": {
            "text/html": [
              "<div>\n",
              "<style scoped>\n",
              "    .dataframe tbody tr th:only-of-type {\n",
              "        vertical-align: middle;\n",
              "    }\n",
              "\n",
              "    .dataframe tbody tr th {\n",
              "        vertical-align: top;\n",
              "    }\n",
              "\n",
              "    .dataframe thead th {\n",
              "        text-align: right;\n",
              "    }\n",
              "</style>\n",
              "<table border=\"1\" class=\"dataframe\">\n",
              "  <thead>\n",
              "    <tr style=\"text-align: right;\">\n",
              "      <th></th>\n",
              "      <th>source</th>\n",
              "    </tr>\n",
              "  </thead>\n",
              "  <tbody>\n",
              "    <tr>\n",
              "      <th>Twitter for Android</th>\n",
              "      <td>148.0</td>\n",
              "    </tr>\n",
              "    <tr>\n",
              "      <th>Twitter Web App</th>\n",
              "      <td>124.0</td>\n",
              "    </tr>\n",
              "    <tr>\n",
              "      <th>Twitter for iPhone</th>\n",
              "      <td>92.0</td>\n",
              "    </tr>\n",
              "    <tr>\n",
              "      <th>EmpregoBrasil</th>\n",
              "      <td>8.0</td>\n",
              "    </tr>\n",
              "    <tr>\n",
              "      <th>Instagram</th>\n",
              "      <td>10.0</td>\n",
              "    </tr>\n",
              "    <tr>\n",
              "      <th>Computadorbot</th>\n",
              "      <td>2.0</td>\n",
              "    </tr>\n",
              "    <tr>\n",
              "      <th>TweetDeck</th>\n",
              "      <td>6.0</td>\n",
              "    </tr>\n",
              "    <tr>\n",
              "      <th>What Concursos</th>\n",
              "      <td>4.0</td>\n",
              "    </tr>\n",
              "    <tr>\n",
              "      <th>QuarentenaBot</th>\n",
              "      <td>2.0</td>\n",
              "    </tr>\n",
              "    <tr>\n",
              "      <th>Bonde DBI</th>\n",
              "      <td>2.0</td>\n",
              "    </tr>\n",
              "    <tr>\n",
              "      <th>Talon Android</th>\n",
              "      <td>2.0</td>\n",
              "    </tr>\n",
              "  </tbody>\n",
              "</table>\n",
              "</div>"
            ],
            "text/plain": [
              "                     source\n",
              "Twitter for Android   148.0\n",
              "Twitter Web App       124.0\n",
              "Twitter for iPhone     92.0\n",
              "EmpregoBrasil           8.0\n",
              "Instagram              10.0\n",
              "Computadorbot           2.0\n",
              "TweetDeck               6.0\n",
              "What Concursos          4.0\n",
              "QuarentenaBot           2.0\n",
              "Bonde DBI               2.0\n",
              "Talon Android           2.0"
            ]
          },
          "metadata": {
            "tags": []
          },
          "execution_count": 72
        }
      ]
    },
    {
      "cell_type": "code",
      "metadata": {
        "id": "8MMU0rls6Gea",
        "colab_type": "code",
        "colab": {},
        "outputId": "e802aebf-6460-4080-9cb5-d515763ee152"
      },
      "source": [
        "sources_sorted = sourceDF.sort_values('source',ascending=True)\n",
        "ax = sources_sorted.source.plot(kind='barh',color='#A52A2A')\n",
        "ax.get_xaxis().set_major_formatter(plt.FuncFormatter(lambda x, loc: \"{:,}\".format(int(x))))"
      ],
      "execution_count": null,
      "outputs": [
        {
          "output_type": "display_data",
          "data": {
            "image/png": "[encoded data removed]",
            "text/plain": [
              "<Figure size 432x288 with 1 Axes>"
            ]
          },
          "metadata": {
            "tags": [],
            "needs_background": "light"
          }
        }
      ]
    },
    {
      "cell_type": "code",
      "metadata": {
        "id": "A9WjtoRT6Gec",
        "colab_type": "code",
        "colab": {},
        "outputId": "233ea35c-2a58-4595-e754-66915adf3693"
      },
      "source": [
        "sources_sorted = sourceDF.sort_values('source',ascending=False)\n",
        "ax = sources_sorted.source.plot(kind='barh',color='#B8860B')\n",
        "ax.get_xaxis().set_major_formatter(plt.FuncFormatter(lambda x, loc: \"{:,}\".format(int(x))))"
      ],
      "execution_count": null,
      "outputs": [
        {
          "output_type": "display_data",
          "data": {
            "image/png": "[encoded data removed]",
            "text/plain": [
              "<Figure size 432x288 with 1 Axes>"
            ]
          },
          "metadata": {
            "tags": [],
            "needs_background": "light"
          }
        }
      ]
    },
    {
      "cell_type": "markdown",
      "metadata": {
        "id": "KGHhDFuI6Gee",
        "colab_type": "text"
      },
      "source": [
        "Mais usuários usam Android."
      ]
    },
    {
      "cell_type": "markdown",
      "metadata": {
        "id": "MT4YTb4k6Gee",
        "colab_type": "text"
      },
      "source": [
        "**Análise de Polaridade**"
      ]
    },
    {
      "cell_type": "code",
      "metadata": {
        "id": "U9t0z7wK6Gef",
        "colab_type": "code",
        "colab": {}
      },
      "source": [
        "#Variável que irá armazenar as polaridades\n",
        "analysis = None\n",
        "# Lista vazia para armazenar as polaridades\n",
        "polarities = []"
      ],
      "execution_count": null,
      "outputs": []
    },
    {
      "cell_type": "code",
      "metadata": {
        "id": "_IYnkUA16Geg",
        "colab_type": "code",
        "colab": {},
        "outputId": "b6a6c9dc-738c-4f56-cced-ac4a68906e88"
      },
      "source": [
        "tweets_df.head()"
      ],
      "execution_count": null,
      "outputs": [
        {
          "output_type": "execute_result",
          "data": {
            "text/html": [
              "<div>\n",
              "<style scoped>\n",
              "    .dataframe tbody tr th:only-of-type {\n",
              "        vertical-align: middle;\n",
              "    }\n",
              "\n",
              "    .dataframe tbody tr th {\n",
              "        vertical-align: top;\n",
              "    }\n",
              "\n",
              "    .dataframe thead th {\n",
              "        text-align: right;\n",
              "    }\n",
              "</style>\n",
              "<table border=\"1\" class=\"dataframe\">\n",
              "  <thead>\n",
              "    <tr style=\"text-align: right;\">\n",
              "      <th></th>\n",
              "      <th>Tweets</th>\n",
              "      <th>len</th>\n",
              "      <th>ID</th>\n",
              "      <th>USER</th>\n",
              "      <th>userName</th>\n",
              "      <th>User Location</th>\n",
              "      <th>Language</th>\n",
              "      <th>Date</th>\n",
              "      <th>Source</th>\n",
              "      <th>Likes</th>\n",
              "      <th>Retweets</th>\n",
              "      <th>Geo</th>\n",
              "      <th>Coordinates</th>\n",
              "      <th>Place</th>\n",
              "    </tr>\n",
              "  </thead>\n",
              "  <tbody>\n",
              "    <tr>\n",
              "      <th>0</th>\n",
              "      <td>O home office tirou algo terrivel que tbm nos ...</td>\n",
              "      <td>276</td>\n",
              "      <td>1293656871887405057</td>\n",
              "      <td>marjundu</td>\n",
              "      <td>Marcela Jundurian</td>\n",
              "      <td>Brasil</td>\n",
              "      <td>None</td>\n",
              "      <td>2020-08-12 21:13:27</td>\n",
              "      <td>Twitter for Android</td>\n",
              "      <td>0</td>\n",
              "      <td>1424</td>\n",
              "      <td>None</td>\n",
              "      <td>None</td>\n",
              "      <td>None</td>\n",
              "    </tr>\n",
              "    <tr>\n",
              "      <th>1</th>\n",
              "      <td>se fosse trabalho presencial eu iria pra casa ...</td>\n",
              "      <td>155</td>\n",
              "      <td>1293638094911156224</td>\n",
              "      <td>helorapereira</td>\n",
              "      <td>Helora</td>\n",
              "      <td>Imbituba</td>\n",
              "      <td>None</td>\n",
              "      <td>2020-08-12 19:58:51</td>\n",
              "      <td>Twitter Web App</td>\n",
              "      <td>0</td>\n",
              "      <td>0</td>\n",
              "      <td>None</td>\n",
              "      <td>None</td>\n",
              "      <td>None</td>\n",
              "    </tr>\n",
              "    <tr>\n",
              "      <th>2</th>\n",
              "      <td>e isso é oq eu encontro em minha casa quando c...</td>\n",
              "      <td>187</td>\n",
              "      <td>1293631250465423362</td>\n",
              "      <td>mic_ofc</td>\n",
              "      <td>🖤💛Present Mic_Ofc💛🖤</td>\n",
              "      <td>U.A Academy</td>\n",
              "      <td>None</td>\n",
              "      <td>2020-08-12 19:31:39</td>\n",
              "      <td>Twitter Web App</td>\n",
              "      <td>2</td>\n",
              "      <td>0</td>\n",
              "      <td>None</td>\n",
              "      <td>None</td>\n",
              "      <td>None</td>\n",
              "    </tr>\n",
              "    <tr>\n",
              "      <th>3</th>\n",
              "      <td>ouvindo a live de ontem do @DivaDepressao enqu...</td>\n",
              "      <td>176</td>\n",
              "      <td>1293610362076639232</td>\n",
              "      <td>yascorpiana</td>\n",
              "      <td>Dancing Queen</td>\n",
              "      <td>SP (surtada e perdida)</td>\n",
              "      <td>None</td>\n",
              "      <td>2020-08-12 18:08:39</td>\n",
              "      <td>Twitter Web App</td>\n",
              "      <td>0</td>\n",
              "      <td>0</td>\n",
              "      <td>None</td>\n",
              "      <td>None</td>\n",
              "      <td>None</td>\n",
              "    </tr>\n",
              "    <tr>\n",
              "      <th>4</th>\n",
              "      <td>foda de trabalhar num ambiente de trabalho leg...</td>\n",
              "      <td>229</td>\n",
              "      <td>1293600903732310016</td>\n",
              "      <td>camilanrez</td>\n",
              "      <td>camila</td>\n",
              "      <td></td>\n",
              "      <td>None</td>\n",
              "      <td>2020-08-12 17:31:04</td>\n",
              "      <td>Twitter Web App</td>\n",
              "      <td>0</td>\n",
              "      <td>0</td>\n",
              "      <td>None</td>\n",
              "      <td>None</td>\n",
              "      <td>None</td>\n",
              "    </tr>\n",
              "  </tbody>\n",
              "</table>\n",
              "</div>"
            ],
            "text/plain": [
              "                                              Tweets  len  \\\n",
              "0  O home office tirou algo terrivel que tbm nos ...  276   \n",
              "1  se fosse trabalho presencial eu iria pra casa ...  155   \n",
              "2  e isso é oq eu encontro em minha casa quando c...  187   \n",
              "3  ouvindo a live de ontem do @DivaDepressao enqu...  176   \n",
              "4  foda de trabalhar num ambiente de trabalho leg...  229   \n",
              "\n",
              "                    ID           USER             userName  \\\n",
              "0  1293656871887405057       marjundu    Marcela Jundurian   \n",
              "1  1293638094911156224  helorapereira               Helora   \n",
              "2  1293631250465423362        mic_ofc  🖤💛Present Mic_Ofc💛🖤   \n",
              "3  1293610362076639232    yascorpiana        Dancing Queen   \n",
              "4  1293600903732310016     camilanrez               camila   \n",
              "\n",
              "            User Location Language                Date               Source  \\\n",
              "0                  Brasil     None 2020-08-12 21:13:27  Twitter for Android   \n",
              "1               Imbituba      None 2020-08-12 19:58:51      Twitter Web App   \n",
              "2             U.A Academy     None 2020-08-12 19:31:39      Twitter Web App   \n",
              "3  SP (surtada e perdida)     None 2020-08-12 18:08:39      Twitter Web App   \n",
              "4                             None 2020-08-12 17:31:04      Twitter Web App   \n",
              "\n",
              "   Likes  Retweets   Geo Coordinates Place  \n",
              "0      0      1424  None        None  None  \n",
              "1      0         0  None        None  None  \n",
              "2      2         0  None        None  None  \n",
              "3      0         0  None        None  None  \n",
              "4      0         0  None        None  None  "
            ]
          },
          "metadata": {
            "tags": []
          },
          "execution_count": 76
        }
      ]
    },
    {
      "cell_type": "markdown",
      "metadata": {
        "id": "MgDiYHB66Geh",
        "colab_type": "text"
      },
      "source": [
        "**Polaridade para tweets em português**"
      ]
    },
    {
      "cell_type": "code",
      "metadata": {
        "id": "xGYOpEBg6Gei",
        "colab_type": "code",
        "colab": {}
      },
      "source": [
        "from googletrans import Translator\n",
        "from unidecode import unidecode"
      ],
      "execution_count": null,
      "outputs": []
    },
    {
      "cell_type": "markdown",
      "metadata": {
        "id": "4IKpeS-S6Gej",
        "colab_type": "text"
      },
      "source": [
        "**Um exemplo de tradução**\n",
        "\n"
      ]
    },
    {
      "cell_type": "code",
      "metadata": {
        "id": "cYFNFx2k6Gej",
        "colab_type": "code",
        "colab": {},
        "outputId": "06f68eee-917d-4161-dfcc-65c3a0e452de"
      },
      "source": [
        "tweets_df['Tweets'][3]"
      ],
      "execution_count": null,
      "outputs": [
        {
          "output_type": "execute_result",
          "data": {
            "text/plain": [
              "'ouvindo a live de ontem do @DivaDepressao enquanto trabalho no home office, pra ver se abafa o som de obra e de criança gritando aqui em casa... tá osso https://t.co/EqQJoDa5H2'"
            ]
          },
          "metadata": {
            "tags": []
          },
          "execution_count": 78
        }
      ]
    },
    {
      "cell_type": "code",
      "metadata": {
        "id": "e7mbcSMy6Gek",
        "colab_type": "code",
        "colab": {}
      },
      "source": [
        "textPT = unidecode(tweets_df['Tweets'][3])\n",
        "textEN = Translator().translate(textPT)"
      ],
      "execution_count": null,
      "outputs": []
    },
    {
      "cell_type": "code",
      "metadata": {
        "id": "qpWz2Yjn6Gem",
        "colab_type": "code",
        "colab": {},
        "outputId": "cf8c9e76-fe0c-4425-f4f4-bff2a831951f"
      },
      "source": [
        "textEN.text"
      ],
      "execution_count": null,
      "outputs": [
        {
          "output_type": "execute_result",
          "data": {
            "text/plain": [
              "\"listening to yesterday's live from @DivaDepressao while working at the home office, to see if the sound of construction and child screaming here at home is muffled ... ta bone https://t.co/EqQJoDa5H2\""
            ]
          },
          "metadata": {
            "tags": []
          },
          "execution_count": 80
        }
      ]
    },
    {
      "cell_type": "code",
      "metadata": {
        "id": "YinW3KZm6Gen",
        "colab_type": "code",
        "colab": {},
        "outputId": "9efdcf86-ecc4-4fbb-8ca1-56ef3d38be9d"
      },
      "source": [
        "analysis = tb(textEN.text)    \n",
        "    #Calculando a polaridade do texto traduzido\n",
        "polarity = analysis.sentiment.polarity #analisa a polaridade  \n",
        "polarity"
      ],
      "execution_count": null,
      "outputs": [
        {
          "output_type": "execute_result",
          "data": {
            "text/plain": [
              "0.2681818181818182"
            ]
          },
          "metadata": {
            "tags": []
          },
          "execution_count": 81
        }
      ]
    },
    {
      "cell_type": "code",
      "metadata": {
        "id": "j2PyicXd6Geo",
        "colab_type": "code",
        "colab": {}
      },
      "source": [
        "for tweet in tweets_df['Tweets']: #para cada tweet lido foi passar por unicode\n",
        "    #Texto do Tweet\n",
        "    textPT = unidecode(tweet)\n",
        "    \n",
        "    #vou Traduzir para o Inglês\n",
        "    textEN = Translator().translate(textPT)\n",
        "    \n",
        "    analysis = tb(textEN.text) #usar TextBlob    \n",
        "    #Calculando a polaridade do texto traduzido\n",
        "    polarity = analysis.sentiment.polarity #analisa a polaridade  \n",
        "    polarities.append(polarity) #add polaridade de cada tweet no vetor polaridades"
      ],
      "execution_count": null,
      "outputs": []
    },
    {
      "cell_type": "code",
      "metadata": {
        "id": "j08KQnAw6Gep",
        "colab_type": "code",
        "colab": {},
        "outputId": "c17b8352-f65c-419a-91be-a16d651cc4a7"
      },
      "source": [
        "tweets_df.head(3)"
      ],
      "execution_count": null,
      "outputs": [
        {
          "output_type": "execute_result",
          "data": {
            "text/html": [
              "<div>\n",
              "<style scoped>\n",
              "    .dataframe tbody tr th:only-of-type {\n",
              "        vertical-align: middle;\n",
              "    }\n",
              "\n",
              "    .dataframe tbody tr th {\n",
              "        vertical-align: top;\n",
              "    }\n",
              "\n",
              "    .dataframe thead th {\n",
              "        text-align: right;\n",
              "    }\n",
              "</style>\n",
              "<table border=\"1\" class=\"dataframe\">\n",
              "  <thead>\n",
              "    <tr style=\"text-align: right;\">\n",
              "      <th></th>\n",
              "      <th>Tweets</th>\n",
              "      <th>len</th>\n",
              "      <th>ID</th>\n",
              "      <th>USER</th>\n",
              "      <th>userName</th>\n",
              "      <th>User Location</th>\n",
              "      <th>Language</th>\n",
              "      <th>Date</th>\n",
              "      <th>Source</th>\n",
              "      <th>Likes</th>\n",
              "      <th>Retweets</th>\n",
              "      <th>Geo</th>\n",
              "      <th>Coordinates</th>\n",
              "      <th>Place</th>\n",
              "    </tr>\n",
              "  </thead>\n",
              "  <tbody>\n",
              "    <tr>\n",
              "      <th>0</th>\n",
              "      <td>O home office tirou algo terrivel que tbm nos ...</td>\n",
              "      <td>276</td>\n",
              "      <td>1293656871887405057</td>\n",
              "      <td>marjundu</td>\n",
              "      <td>Marcela Jundurian</td>\n",
              "      <td>Brasil</td>\n",
              "      <td>None</td>\n",
              "      <td>2020-08-12 21:13:27</td>\n",
              "      <td>Twitter for Android</td>\n",
              "      <td>0</td>\n",
              "      <td>1424</td>\n",
              "      <td>None</td>\n",
              "      <td>None</td>\n",
              "      <td>None</td>\n",
              "    </tr>\n",
              "    <tr>\n",
              "      <th>1</th>\n",
              "      <td>se fosse trabalho presencial eu iria pra casa ...</td>\n",
              "      <td>155</td>\n",
              "      <td>1293638094911156224</td>\n",
              "      <td>helorapereira</td>\n",
              "      <td>Helora</td>\n",
              "      <td>Imbituba</td>\n",
              "      <td>None</td>\n",
              "      <td>2020-08-12 19:58:51</td>\n",
              "      <td>Twitter Web App</td>\n",
              "      <td>0</td>\n",
              "      <td>0</td>\n",
              "      <td>None</td>\n",
              "      <td>None</td>\n",
              "      <td>None</td>\n",
              "    </tr>\n",
              "    <tr>\n",
              "      <th>2</th>\n",
              "      <td>e isso é oq eu encontro em minha casa quando c...</td>\n",
              "      <td>187</td>\n",
              "      <td>1293631250465423362</td>\n",
              "      <td>mic_ofc</td>\n",
              "      <td>🖤💛Present Mic_Ofc💛🖤</td>\n",
              "      <td>U.A Academy</td>\n",
              "      <td>None</td>\n",
              "      <td>2020-08-12 19:31:39</td>\n",
              "      <td>Twitter Web App</td>\n",
              "      <td>2</td>\n",
              "      <td>0</td>\n",
              "      <td>None</td>\n",
              "      <td>None</td>\n",
              "      <td>None</td>\n",
              "    </tr>\n",
              "  </tbody>\n",
              "</table>\n",
              "</div>"
            ],
            "text/plain": [
              "                                              Tweets  len  \\\n",
              "0  O home office tirou algo terrivel que tbm nos ...  276   \n",
              "1  se fosse trabalho presencial eu iria pra casa ...  155   \n",
              "2  e isso é oq eu encontro em minha casa quando c...  187   \n",
              "\n",
              "                    ID           USER             userName User Location  \\\n",
              "0  1293656871887405057       marjundu    Marcela Jundurian        Brasil   \n",
              "1  1293638094911156224  helorapereira               Helora     Imbituba    \n",
              "2  1293631250465423362        mic_ofc  🖤💛Present Mic_Ofc💛🖤   U.A Academy   \n",
              "\n",
              "  Language                Date               Source  Likes  Retweets   Geo  \\\n",
              "0     None 2020-08-12 21:13:27  Twitter for Android      0      1424  None   \n",
              "1     None 2020-08-12 19:58:51      Twitter Web App      0         0  None   \n",
              "2     None 2020-08-12 19:31:39      Twitter Web App      2         0  None   \n",
              "\n",
              "  Coordinates Place  \n",
              "0        None  None  \n",
              "1        None  None  \n",
              "2        None  None  "
            ]
          },
          "metadata": {
            "tags": []
          },
          "execution_count": 84
        }
      ]
    },
    {
      "cell_type": "code",
      "metadata": {
        "scrolled": true,
        "id": "rg2urtPg6Geq",
        "colab_type": "code",
        "colab": {},
        "outputId": "938aa468-814a-4cc2-9889-6ee95fa41d6f"
      },
      "source": [
        "print('Vetor de polaridade:',polarities)"
      ],
      "execution_count": null,
      "outputs": [
        {
          "output_type": "stream",
          "text": [
            "Vetor de polaridade: [0.0625, -0.125, 0.25, 0.2681818181818182, -0.07, 0.0, 0.2333333333333333, 0.0, 0.03333333333333333, 0.225, 0.0, -0.022857142857142864, 0.3583333333333334, 0.0, -0.3, 0.6, 0.03333333333333333, 0.03333333333333333, 0.375, 0.0, 0.21875, 0.0, 0.0, -0.033333333333333326, -0.5666666666666668, 0.3516666666666666, 0.0, 0.0, 0.0, -0.5, 0.27499999999999997, 0.43333333333333335, 0.0, 0.0, 0.24999999999999997, -0.04642857142857142, 0.2, 0.0, 0.09166666666666667, 0.7, -0.012499999999999997, 0.10208333333333333, 1.0, -0.05, -0.25, 0.43333333333333335, 0.125, 0.009090909090909115, -0.1, 0.25, 0.15625, 0.15, 0.0625, 0.43333333333333335, 0.4000000000000001, 0.16666666666666666, 0.25, 0.009090909090909115, 0.15000000000000002, 0.009090909090909115, 0.43333333333333335, 0.0, -0.039999999999999994, 0.4166666666666667, 0.037500000000000006, 0.5666666666666667, 0.0, 0.10000000000000002, 0.0, 0.26666666666666666, -0.2, 0.0, -0.08333333333333333, 0.08073593073593073, 0.03333333333333333, -0.1375, -0.44999999999999996, 0.0, 0.075, -0.21944444444444444, -0.00833333333333334, 0.13333333333333333, 0.0, 0.075, 0.25, 0.0, 0.0, 0.0, 0.08333333333333333, 0.0, 0.0, 0.16666666666666666, 0.24545454545454545, 0.0, 0.3208333333333333, 0.0, 0.0, 0.075, 0.06727272727272726, 0.06727272727272726, 0.0055555555555555775, 0.0, 0.0, -0.25, 0.4166666666666667, -0.04444444444444443, 0.1, 0.4166666666666667, 0.0, -0.0431818181818182, 0.0, 0.4166666666666667, -0.25, 0.175, -0.25, -0.25, 0.4166666666666667, 0.4166666666666667, 0.0, 0.125, 0.19444444444444445, 0.4166666666666667, 0.5, 0.5, -0.03333333333333335, 0.0, 0.225, -0.125, 0.075, 0.075, 0.4166666666666667, 0.3333333333333333, 0.3333333333333333, 0.0, 0.4166666666666667, 0.0, 0.4166666666666667, 0.4166666666666667, 0.4166666666666667, 0.26666666666666666, 0.4166666666666667, 0.4166666666666667, 0.4166666666666667, 0.4166666666666667, 0.4166666666666667, 0.25, 0.7166666666666667, 0.0, 0.22083333333333333, 0.175, -0.05357142857142857, 0.375, 0.35, 0.075, 0.0, 0.075, 0.075, 0.0, -0.05000000000000002, 0.075, -0.1, 0.13333333333333333, -0.03472222222222224, 0.075, 0.0625, -0.1125, 0.7, 0.2, -0.05, 0.0625, -0.25, -0.25, 0.0625, 0.0625, 0.08333333333333333, -0.15714285714285714, 0.0625, -0.15714285714285714, 0.0625, 0.03333333333333333, 0.29333333333333333, 0.0625, 0.0625, 0.05000000000000001, 0.0, 0.0, 0.075, 0.0625, 0.85, 0.075, 0.0625, 0.0, 0.0625, -0.05, 0.0625, -0.1875, 0.075, -0.1875, 0.075, 0.075, 0.0625, -0.125, 0.25, 0.2681818181818182, -0.07, 0.0, 0.2333333333333333, 0.0, 0.03333333333333333, 0.225, 0.0, -0.022857142857142864, 0.3583333333333334, 0.0, -0.3, 0.6, 0.03333333333333333, 0.03333333333333333, 0.375, 0.0, 0.21875, 0.0, 0.0, -0.033333333333333326, -0.5666666666666668, 0.3516666666666666, 0.0, 0.0, 0.0, -0.5, 0.27499999999999997, 0.43333333333333335, 0.0, 0.0, 0.24999999999999997, -0.04642857142857142, 0.2, 0.0, 0.09166666666666667, 0.7, -0.012499999999999997, 0.10208333333333333, 1.0, -0.05, -0.25, 0.43333333333333335, 0.125, 0.009090909090909115, -0.1, 0.25, 0.15625, 0.15, 0.0625, 0.43333333333333335, 0.4000000000000001, 0.16666666666666666, 0.25, 0.009090909090909115, 0.15000000000000002, 0.009090909090909115, 0.43333333333333335, 0.0, -0.039999999999999994, 0.4166666666666667, 0.037500000000000006, 0.5666666666666667, 0.0, 0.10000000000000002, 0.0, 0.26666666666666666, -0.2, 0.0, -0.08333333333333333, 0.08073593073593073, 0.03333333333333333, -0.1375, -0.44999999999999996, 0.0, 0.075, -0.21944444444444444, -0.00833333333333334, 0.13333333333333333, 0.0, 0.075, 0.25, 0.0, 0.0, 0.0, 0.08333333333333333, 0.0, 0.0, 0.16666666666666666, 0.24545454545454545, 0.0, 0.3208333333333333, 0.0, 0.0, 0.075, 0.06727272727272726, 0.06727272727272726, 0.0055555555555555775, 0.0, 0.0, -0.25, 0.4166666666666667, -0.04444444444444443, 0.1, 0.4166666666666667, 0.0, -0.0431818181818182, 0.0, 0.4166666666666667, -0.25, 0.175, -0.25, -0.25, 0.4166666666666667, 0.4166666666666667, 0.0, 0.125, 0.19444444444444445, 0.4166666666666667, 0.5, 0.5, -0.03333333333333335, 0.0, 0.225, -0.125, 0.075, 0.075, 0.4166666666666667, 0.3333333333333333, 0.3333333333333333, 0.0, 0.4166666666666667, 0.0, 0.4166666666666667, 0.4166666666666667, 0.4166666666666667, 0.26666666666666666, 0.4166666666666667, 0.4166666666666667, 0.4166666666666667, 0.4166666666666667, 0.4166666666666667, 0.25, 0.7166666666666667, 0.0, 0.22083333333333333, 0.175, -0.05357142857142857, 0.375, 0.35, 0.075, 0.0, 0.075, 0.075, 0.0, -0.05000000000000002, 0.075, -0.1, 0.13333333333333333, -0.03472222222222224, 0.075, 0.0625, -0.1125, 0.7, 0.2, -0.05, 0.0625, -0.25, -0.25, 0.0625, 0.0625, 0.08333333333333333, -0.15714285714285714, 0.0625, -0.15714285714285714, 0.0625, 0.03333333333333333, 0.29333333333333333, 0.0625, 0.0625, 0.05000000000000001, 0.0, 0.0, 0.075, 0.0625, 0.85, 0.075, 0.0625, 0.0, 0.0625, -0.05, 0.0625, -0.1875, 0.075, -0.1875, 0.075, 0.075]\n"
          ],
          "name": "stdout"
        }
      ]
    },
    {
      "cell_type": "markdown",
      "metadata": {
        "id": "dadIptv86Ger",
        "colab_type": "text"
      },
      "source": [
        "**Análise de Sentimento**"
      ]
    },
    {
      "cell_type": "code",
      "metadata": {
        "id": "wVXpGYua6Ger",
        "colab_type": "code",
        "colab": {},
        "outputId": "2f5cb462-1b8d-46e3-eb7f-43eeaf25199b"
      },
      "source": [
        "print('Para a(s) palavra(s):\"%s\"' % keyword)\n",
        "print('A MÉDIA DE SENTIMENTO É: ' + str(np.mean(polarities)))"
      ],
      "execution_count": null,
      "outputs": [
        {
          "output_type": "stream",
          "text": [
            "Para a(s) palavra(s):\"'home office' OR 'trabalho remoto' OR 'trabalho em casa' OR homeoffice\"\n",
            "A MÉDIA DE SENTIMENTO É: 0.10798835678210678\n"
          ],
          "name": "stdout"
        }
      ]
    },
    {
      "cell_type": "code",
      "metadata": {
        "id": "2IgWx_pw6Ges",
        "colab_type": "code",
        "colab": {}
      },
      "source": [
        "positive = 0\n",
        "negative = 0\n",
        "neutral = 0\n",
        "\n",
        "for polarity in polarities:\n",
        "    if polarity > 0:\n",
        "        positive = positive+1\n",
        "    elif polarity < 0:\n",
        "        negative = negative+1\n",
        "    else:\n",
        "        neutral = neutral+1           \n",
        "\n",
        "#calcula percentual\n",
        "pos_pct=positive*100/len(polarities)\n",
        "neg_pct=negative*100/len(polarities)\n",
        "neu_pct=neutral*100/len(polarities)"
      ],
      "execution_count": null,
      "outputs": []
    },
    {
      "cell_type": "code",
      "metadata": {
        "id": "e-e_rtq_6Get",
        "colab_type": "code",
        "colab": {}
      },
      "source": [
        "sentiments = ['Positivos', 'Negativos','Neutros']\n",
        "percents = [pos_pct, neg_pct, neu_pct]"
      ],
      "execution_count": null,
      "outputs": []
    },
    {
      "cell_type": "code",
      "metadata": {
        "scrolled": true,
        "id": "SlAtHLD66Geu",
        "colab_type": "code",
        "colab": {},
        "outputId": "d56e010c-503b-4d83-c36d-a5c6e2b329ad"
      },
      "source": [
        "explode = (0.1, 0, 0) #Separa o primeiro\n",
        "\n",
        "pie_chart = pd.Series(percents, index=sentiments,name='')\n",
        "pie_chart.plot.pie(fontsize=12, explode=explode, autopct='%.2f%%', shadow=True,\n",
        "                   figsize=(5, 5),title=\"Análise de Sentimentos tweets\");"
      ],
      "execution_count": null,
      "outputs": [
        {
          "output_type": "display_data",
          "data": {
            "image/png": "[encoded data removed]",
            "text/plain": [
              "<Figure size 360x360 with 1 Axes>"
            ]
          },
          "metadata": {
            "tags": []
          }
        }
      ]
    },
    {
      "cell_type": "code",
      "metadata": {
        "id": "9dCMcS7g6Gev",
        "colab_type": "code",
        "colab": {},
        "outputId": "4f649df0-3895-494f-de66-647a0e2866da"
      },
      "source": [
        "tweets_df"
      ],
      "execution_count": null,
      "outputs": [
        {
          "output_type": "execute_result",
          "data": {
            "text/html": [
              "<div>\n",
              "<style scoped>\n",
              "    .dataframe tbody tr th:only-of-type {\n",
              "        vertical-align: middle;\n",
              "    }\n",
              "\n",
              "    .dataframe tbody tr th {\n",
              "        vertical-align: top;\n",
              "    }\n",
              "\n",
              "    .dataframe thead th {\n",
              "        text-align: right;\n",
              "    }\n",
              "</style>\n",
              "<table border=\"1\" class=\"dataframe\">\n",
              "  <thead>\n",
              "    <tr style=\"text-align: right;\">\n",
              "      <th></th>\n",
              "      <th>Tweets</th>\n",
              "      <th>len</th>\n",
              "      <th>ID</th>\n",
              "      <th>USER</th>\n",
              "      <th>userName</th>\n",
              "      <th>User Location</th>\n",
              "      <th>Language</th>\n",
              "      <th>Date</th>\n",
              "      <th>Source</th>\n",
              "      <th>Likes</th>\n",
              "      <th>Retweets</th>\n",
              "      <th>Geo</th>\n",
              "      <th>Coordinates</th>\n",
              "      <th>Place</th>\n",
              "    </tr>\n",
              "  </thead>\n",
              "  <tbody>\n",
              "    <tr>\n",
              "      <th>0</th>\n",
              "      <td>O home office tirou algo terrivel que tbm nos ...</td>\n",
              "      <td>276</td>\n",
              "      <td>1293656871887405057</td>\n",
              "      <td>marjundu</td>\n",
              "      <td>Marcela Jundurian</td>\n",
              "      <td>Brasil</td>\n",
              "      <td>None</td>\n",
              "      <td>2020-08-12 21:13:27</td>\n",
              "      <td>Twitter for Android</td>\n",
              "      <td>0</td>\n",
              "      <td>1424</td>\n",
              "      <td>None</td>\n",
              "      <td>None</td>\n",
              "      <td>None</td>\n",
              "    </tr>\n",
              "    <tr>\n",
              "      <th>1</th>\n",
              "      <td>se fosse trabalho presencial eu iria pra casa ...</td>\n",
              "      <td>155</td>\n",
              "      <td>1293638094911156224</td>\n",
              "      <td>helorapereira</td>\n",
              "      <td>Helora</td>\n",
              "      <td>Imbituba</td>\n",
              "      <td>None</td>\n",
              "      <td>2020-08-12 19:58:51</td>\n",
              "      <td>Twitter Web App</td>\n",
              "      <td>0</td>\n",
              "      <td>0</td>\n",
              "      <td>None</td>\n",
              "      <td>None</td>\n",
              "      <td>None</td>\n",
              "    </tr>\n",
              "    <tr>\n",
              "      <th>2</th>\n",
              "      <td>e isso é oq eu encontro em minha casa quando c...</td>\n",
              "      <td>187</td>\n",
              "      <td>1293631250465423362</td>\n",
              "      <td>mic_ofc</td>\n",
              "      <td>🖤💛Present Mic_Ofc💛🖤</td>\n",
              "      <td>U.A Academy</td>\n",
              "      <td>None</td>\n",
              "      <td>2020-08-12 19:31:39</td>\n",
              "      <td>Twitter Web App</td>\n",
              "      <td>2</td>\n",
              "      <td>0</td>\n",
              "      <td>None</td>\n",
              "      <td>None</td>\n",
              "      <td>None</td>\n",
              "    </tr>\n",
              "    <tr>\n",
              "      <th>3</th>\n",
              "      <td>ouvindo a live de ontem do @DivaDepressao enqu...</td>\n",
              "      <td>176</td>\n",
              "      <td>1293610362076639232</td>\n",
              "      <td>yascorpiana</td>\n",
              "      <td>Dancing Queen</td>\n",
              "      <td>SP (surtada e perdida)</td>\n",
              "      <td>None</td>\n",
              "      <td>2020-08-12 18:08:39</td>\n",
              "      <td>Twitter Web App</td>\n",
              "      <td>0</td>\n",
              "      <td>0</td>\n",
              "      <td>None</td>\n",
              "      <td>None</td>\n",
              "      <td>None</td>\n",
              "    </tr>\n",
              "    <tr>\n",
              "      <th>4</th>\n",
              "      <td>foda de trabalhar num ambiente de trabalho leg...</td>\n",
              "      <td>229</td>\n",
              "      <td>1293600903732310016</td>\n",
              "      <td>camilanrez</td>\n",
              "      <td>camila</td>\n",
              "      <td></td>\n",
              "      <td>None</td>\n",
              "      <td>2020-08-12 17:31:04</td>\n",
              "      <td>Twitter Web App</td>\n",
              "      <td>0</td>\n",
              "      <td>0</td>\n",
              "      <td>None</td>\n",
              "      <td>None</td>\n",
              "      <td>None</td>\n",
              "    </tr>\n",
              "    <tr>\n",
              "      <th>...</th>\n",
              "      <td>...</td>\n",
              "      <td>...</td>\n",
              "      <td>...</td>\n",
              "      <td>...</td>\n",
              "      <td>...</td>\n",
              "      <td>...</td>\n",
              "      <td>...</td>\n",
              "      <td>...</td>\n",
              "      <td>...</td>\n",
              "      <td>...</td>\n",
              "      <td>...</td>\n",
              "      <td>...</td>\n",
              "      <td>...</td>\n",
              "      <td>...</td>\n",
              "    </tr>\n",
              "    <tr>\n",
              "      <th>395</th>\n",
              "      <td>Eu trabalho em home Office, vendo kit de cabel...</td>\n",
              "      <td>226</td>\n",
              "      <td>1291197743893970949</td>\n",
              "      <td>pereiiramayara</td>\n",
              "      <td>pereiiramayara</td>\n",
              "      <td>Brasil</td>\n",
              "      <td>None</td>\n",
              "      <td>2020-08-06 02:21:46</td>\n",
              "      <td>Twitter for Android</td>\n",
              "      <td>3</td>\n",
              "      <td>0</td>\n",
              "      <td>None</td>\n",
              "      <td>None</td>\n",
              "      <td>None</td>\n",
              "    </tr>\n",
              "    <tr>\n",
              "      <th>396</th>\n",
              "      <td>\"o home office tirou algo terrivel que tbm nos...</td>\n",
              "      <td>302</td>\n",
              "      <td>1291184937891172356</td>\n",
              "      <td>gabismedrado</td>\n",
              "      <td>Gabi</td>\n",
              "      <td>Salvador, Brasil</td>\n",
              "      <td>None</td>\n",
              "      <td>2020-08-06 01:30:52</td>\n",
              "      <td>Twitter for Android</td>\n",
              "      <td>0</td>\n",
              "      <td>5489</td>\n",
              "      <td>None</td>\n",
              "      <td>None</td>\n",
              "      <td>None</td>\n",
              "    </tr>\n",
              "    <tr>\n",
              "      <th>397</th>\n",
              "      <td>Os meus professores de mestrado alopraram e fi...</td>\n",
              "      <td>280</td>\n",
              "      <td>1291183927604977664</td>\n",
              "      <td>taisbasto</td>\n",
              "      <td>Taís</td>\n",
              "      <td>Rio de Janeiro</td>\n",
              "      <td>None</td>\n",
              "      <td>2020-08-06 01:26:52</td>\n",
              "      <td>Twitter for Android</td>\n",
              "      <td>1</td>\n",
              "      <td>0</td>\n",
              "      <td>None</td>\n",
              "      <td>None</td>\n",
              "      <td>None</td>\n",
              "    </tr>\n",
              "    <tr>\n",
              "      <th>398</th>\n",
              "      <td>\"o home office tirou algo terrivel que tbm nos...</td>\n",
              "      <td>302</td>\n",
              "      <td>1291181455494832132</td>\n",
              "      <td>vadiasexy</td>\n",
              "      <td>Milton Nascimento - Caçador de Mim</td>\n",
              "      <td>Rio de Janeiro, Brasil</td>\n",
              "      <td>None</td>\n",
              "      <td>2020-08-06 01:17:02</td>\n",
              "      <td>Twitter Web App</td>\n",
              "      <td>0</td>\n",
              "      <td>5489</td>\n",
              "      <td>None</td>\n",
              "      <td>None</td>\n",
              "      <td>None</td>\n",
              "    </tr>\n",
              "    <tr>\n",
              "      <th>399</th>\n",
              "      <td>\"o home office tirou algo terrivel que tbm nos...</td>\n",
              "      <td>302</td>\n",
              "      <td>1291181365334028288</td>\n",
              "      <td>caecpr</td>\n",
              "      <td>Caecpr</td>\n",
              "      <td></td>\n",
              "      <td>None</td>\n",
              "      <td>2020-08-06 01:16:41</td>\n",
              "      <td>Twitter Web App</td>\n",
              "      <td>0</td>\n",
              "      <td>5489</td>\n",
              "      <td>None</td>\n",
              "      <td>None</td>\n",
              "      <td>None</td>\n",
              "    </tr>\n",
              "  </tbody>\n",
              "</table>\n",
              "<p>400 rows × 14 columns</p>\n",
              "</div>"
            ],
            "text/plain": [
              "                                                Tweets  len  \\\n",
              "0    O home office tirou algo terrivel que tbm nos ...  276   \n",
              "1    se fosse trabalho presencial eu iria pra casa ...  155   \n",
              "2    e isso é oq eu encontro em minha casa quando c...  187   \n",
              "3    ouvindo a live de ontem do @DivaDepressao enqu...  176   \n",
              "4    foda de trabalhar num ambiente de trabalho leg...  229   \n",
              "..                                                 ...  ...   \n",
              "395  Eu trabalho em home Office, vendo kit de cabel...  226   \n",
              "396  \"o home office tirou algo terrivel que tbm nos...  302   \n",
              "397  Os meus professores de mestrado alopraram e fi...  280   \n",
              "398  \"o home office tirou algo terrivel que tbm nos...  302   \n",
              "399  \"o home office tirou algo terrivel que tbm nos...  302   \n",
              "\n",
              "                      ID            USER                            userName  \\\n",
              "0    1293656871887405057        marjundu                   Marcela Jundurian   \n",
              "1    1293638094911156224   helorapereira                              Helora   \n",
              "2    1293631250465423362         mic_ofc                 🖤💛Present Mic_Ofc💛🖤   \n",
              "3    1293610362076639232     yascorpiana                       Dancing Queen   \n",
              "4    1293600903732310016      camilanrez                              camila   \n",
              "..                   ...             ...                                 ...   \n",
              "395  1291197743893970949  pereiiramayara                      pereiiramayara   \n",
              "396  1291184937891172356    gabismedrado                                Gabi   \n",
              "397  1291183927604977664       taisbasto                                Taís   \n",
              "398  1291181455494832132       vadiasexy  Milton Nascimento - Caçador de Mim   \n",
              "399  1291181365334028288          caecpr                              Caecpr   \n",
              "\n",
              "              User Location Language                Date               Source  \\\n",
              "0                    Brasil     None 2020-08-12 21:13:27  Twitter for Android   \n",
              "1                 Imbituba      None 2020-08-12 19:58:51      Twitter Web App   \n",
              "2               U.A Academy     None 2020-08-12 19:31:39      Twitter Web App   \n",
              "3    SP (surtada e perdida)     None 2020-08-12 18:08:39      Twitter Web App   \n",
              "4                               None 2020-08-12 17:31:04      Twitter Web App   \n",
              "..                      ...      ...                 ...                  ...   \n",
              "395                  Brasil     None 2020-08-06 02:21:46  Twitter for Android   \n",
              "396        Salvador, Brasil     None 2020-08-06 01:30:52  Twitter for Android   \n",
              "397         Rio de Janeiro      None 2020-08-06 01:26:52  Twitter for Android   \n",
              "398  Rio de Janeiro, Brasil     None 2020-08-06 01:17:02      Twitter Web App   \n",
              "399                             None 2020-08-06 01:16:41      Twitter Web App   \n",
              "\n",
              "     Likes  Retweets   Geo Coordinates Place  \n",
              "0        0      1424  None        None  None  \n",
              "1        0         0  None        None  None  \n",
              "2        2         0  None        None  None  \n",
              "3        0         0  None        None  None  \n",
              "4        0         0  None        None  None  \n",
              "..     ...       ...   ...         ...   ...  \n",
              "395      3         0  None        None  None  \n",
              "396      0      5489  None        None  None  \n",
              "397      1         0  None        None  None  \n",
              "398      0      5489  None        None  None  \n",
              "399      0      5489  None        None  None  \n",
              "\n",
              "[400 rows x 14 columns]"
            ]
          },
          "metadata": {
            "tags": []
          },
          "execution_count": 93
        }
      ]
    },
    {
      "cell_type": "markdown",
      "metadata": {
        "id": "UHuXAODF6Gew",
        "colab_type": "text"
      },
      "source": [
        "**Mapa de calor dos tweets**"
      ]
    },
    {
      "cell_type": "code",
      "metadata": {
        "id": "SI4QglBd6Gew",
        "colab_type": "code",
        "colab": {}
      },
      "source": [
        "#MAPA\n",
        "from geopy.geocoders import Nominatim\n",
        "import folium\n",
        "from folium import plugins"
      ],
      "execution_count": null,
      "outputs": []
    },
    {
      "cell_type": "code",
      "metadata": {
        "id": "J3tzQXJI6Gex",
        "colab_type": "code",
        "colab": {}
      },
      "source": [
        "geolocator = Nominatim(user_agent=\"TweetsSentiments\")\n",
        "\n",
        "latitude = []\n",
        "longitude = []\n",
        "\n",
        "for user_location in tweets_df['User Location']:\n",
        "    try:\n",
        "        location = geolocator.geocode(user_location)\n",
        "        latitude.append(location.latitude)\n",
        "        longitude.append(location.longitude)\n",
        "    except:\n",
        "        continue"
      ],
      "execution_count": null,
      "outputs": []
    },
    {
      "cell_type": "code",
      "metadata": {
        "id": "RxTJS27D6Gey",
        "colab_type": "code",
        "colab": {},
        "outputId": "f3696ab4-8442-4c2e-e62c-1c80a43fddd5"
      },
      "source": [
        "coordenadas = np.column_stack((latitude, longitude))\n",
        "\n",
        "mapa = folium.Map(zoom_start=3.)\n",
        "mapa.add_child(plugins.HeatMap(coordenadas))\n",
        "mapa.save('Mapa_Calor_homeoffice_pt.html')\n",
        "mapa"
      ],
      "execution_count": null,
      "outputs": [
        {
          "output_type": "execute_result",
          "data": {
            "text/html": [
              "<div style=\"width:100%;\"><div style=\"position:relative;width:100%;height:0;padding-bottom:60%;\"><span style=\"color:#565656\">Make this Notebook Trusted to load map: File -> Trust Notebook</span><iframe src=\"about:blank\" style=\"position:absolute;width:100%;height:100%;left:0;top:0;border:none !important;\" data-html=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 onload=\"this.contentDocument.open();this.contentDocument.write(atob(this.getAttribute('data-html')));this.contentDocument.close();\" allowfullscreen webkitallowfullscreen mozallowfullscreen></iframe></div></div>"
            ],
            "text/plain": [
              "<folium.folium.Map at 0x124d45250>"
            ]
          },
          "metadata": {
            "tags": []
          },
          "execution_count": 95
        }
      ]
    },
    {
      "cell_type": "markdown",
      "metadata": {
        "id": "HAs3kmoh6Gez",
        "colab_type": "text"
      },
      "source": [
        "**WordCloud**"
      ]
    },
    {
      "cell_type": "code",
      "metadata": {
        "id": "-Xn9lZMd6Gez",
        "colab_type": "code",
        "colab": {}
      },
      "source": [
        "from wordcloud import WordCloud"
      ],
      "execution_count": null,
      "outputs": []
    },
    {
      "cell_type": "code",
      "metadata": {
        "id": "Fe35eBUi6Ge0",
        "colab_type": "code",
        "colab": {}
      },
      "source": [
        "words = ' '.join(tweets_df['Tweets'])\n",
        "\n",
        "words_clean = \" \".join([word for word in words.split()\n",
        "                            if 'https' not in word\n",
        "                                and not word.startswith('@')\n",
        "                                and not word.startswith('#')\n",
        "                                and word != 'RT'\n",
        "                            ])"
      ],
      "execution_count": null,
      "outputs": []
    },
    {
      "cell_type": "code",
      "metadata": {
        "id": "8IyTvQNY6Ge1",
        "colab_type": "code",
        "colab": {},
        "outputId": "1c37e574-acd3-4310-9d51-eacce0eac96d"
      },
      "source": [
        "import warnings\n",
        "\n",
        "warnings.simplefilter('ignore')\n",
        "\n",
        "wc = WordCloud(min_font_size=10, \n",
        "               max_font_size=300, \n",
        "               background_color='white', \n",
        "               mode=\"RGB\",\n",
        "               width=2000, \n",
        "               height=1000,\n",
        "               normalize_plurals= True).generate(words_clean)\n",
        "\n",
        "plt.imshow(wc, interpolation=\"bilinear\")\n",
        "plt.axis(\"off\")\n",
        "plt.savefig('homeoffice_cloud_pt.png', dpi=300)\n",
        "plt.show()"
      ],
      "execution_count": null,
      "outputs": [
        {
          "output_type": "display_data",
          "data": {
            "image/png": "[encoded data removed]",
            "text/plain": [
              "<Figure size 432x288 with 1 Axes>"
            ]
          },
          "metadata": {
            "tags": [],
            "needs_background": "light"
          }
        }
      ]
    }
  ]
}