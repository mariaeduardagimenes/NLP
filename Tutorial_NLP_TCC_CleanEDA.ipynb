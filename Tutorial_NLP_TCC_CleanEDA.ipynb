{
  "nbformat": 4,
  "nbformat_minor": 0,
  "metadata": {
    "kernelspec": {
      "display_name": "Python 3",
      "language": "python",
      "name": "python3"
    },
    "language_info": {
      "codemirror_mode": {
        "name": "ipython",
        "version": 3
      },
      "file_extension": ".py",
      "mimetype": "text/x-python",
      "name": "python",
      "nbconvert_exporter": "python",
      "pygments_lexer": "ipython3",
      "version": "3.8.5"
    },
    "colab": {
      "name": "Tutorial_NLP_AEVO_CleanEDA.ipynb",
      "provenance": [],
      "include_colab_link": true
    }
  },
  "cells": [
    {
      "cell_type": "markdown",
      "metadata": {
        "id": "view-in-github",
        "colab_type": "text"
      },
      "source": [
        "<a href=\"https://colab.research.google.com/github/mariaeduardagimenes/NLP/blob/master/Tutorial_NLP_TCC_CleanEDA.ipynb\" target=\"_parent\"><img src=\"https://colab.research.google.com/assets/colab-badge.svg\" alt=\"Open In Colab\"/></a>"
      ]
    },
    {
      "cell_type": "markdown",
      "metadata": {
        "id": "OJ9dU_pXHQ9G"
      },
      "source": [
        "# Data Cleaning\n",
        "\n",
        "\n",
        "## Introduction\n",
        "\n",
        "\n",
        "Este notebook passa por uma etapa necessária de qualquer projeto de ciência de dados - limpeza de dados. A limpeza de dados é uma tarefa demorada, e por vezes complicada, porém, muito importante. Devemos ter sempre em mente que \"garbage in, garbage out\". Ou seja, dados sujos como input em um modelo retornará resultados sem sentido.\n",
        "Especificamente, vamos examinar:\n",
        "\n",
        "1. Coletar os dados - neste caso, coletaremos dados de um blog de um site\n",
        "2. Limpando os dados - examinaremos técnicas populares de pré-processamento de texto\n",
        "3. Organizando os dados - organizaremos os dados limpos de uma forma que seja fácil de inserir em outros algoritmos\n",
        "\n",
        "A saída deste notebook será dados limpos e organizados em dois formatos de texto padrão:\n",
        "\n",
        "1. Corpus - uma coleção de texto\n",
        "2. Dcument-Term Mtrix - contagem de palavras em formato de matriz\n",
        "\n",
        "\n",
        "## Declaração do Problema\n",
        "\n",
        "Lembrando, nosso objetivo é examinar os textos de assuntos, observar suas palavras-chave e entender sobre o que falam. \n",
        "\n",
        "## Obtendo os dados\n",
        "\n",
        "Realizei webscraping no blog do site da AEVO sobre três temáticas que fazem parte das temáticas da empresa."
      ]
    },
    {
      "cell_type": "code",
      "metadata": {
        "id": "IKNoxvMQHQ9H"
      },
      "source": [
        "# Web scraping, pickle imports\n",
        "import requests\n",
        "from bs4 import BeautifulSoup\n",
        "import pickle"
      ],
      "execution_count": null,
      "outputs": []
    },
    {
      "cell_type": "code",
      "metadata": {
        "id": "33AYwW7IHQ9M"
      },
      "source": [
        "#scrapes dados de texto do AEVO blog\n",
        "def url_to_transcript(url):\n",
        "    '''Returns transcript data specifically from scrapsfromtheloft.com.'''\n",
        "    page = requests.get(url).text\n",
        "    soup = BeautifulSoup(page, \"lxml\")\n",
        "    text = [p.text for p in soup.find(class_=\"entry-content\").find_all('p')]\n",
        "    print(url)\n",
        "    return text"
      ],
      "execution_count": null,
      "outputs": []
    },
    {
      "cell_type": "code",
      "metadata": {
        "id": "-v8wzCCDHQ9Q"
      },
      "source": [
        "#URLs dos textos no escopo\n",
        "urls = ['https://blog.aevo.com.br/o-que-e-inovacao-incremental/',\n",
        "        'https://blog.aevo.com.br/inovacao-aberta-ambev-basf',\n",
        "        'https://blog.aevo.com.br/soft-skills-intraempreendedorismo/']"
      ],
      "execution_count": null,
      "outputs": []
    },
    {
      "cell_type": "code",
      "metadata": {
        "id": "BFY6o0lRHQ9S"
      },
      "source": [
        "# nome dos assuntos\n",
        "assuntos = ['inovacao incremental', 'inovacao aberta', 'intraempreendedorismo']"
      ],
      "execution_count": null,
      "outputs": []
    },
    {
      "cell_type": "code",
      "metadata": {
        "id": "xqwYVRwPHQ9V",
        "outputId": "025bd7ed-ad28-4129-cc01-15ba7305799e"
      },
      "source": [
        "# request textos (demora um pouco para carregar)\n",
        "textos = [url_to_transcript(u) for u in urls]"
      ],
      "execution_count": null,
      "outputs": [
        {
          "output_type": "stream",
          "text": [
            "https://blog.aevo.com.br/o-que-e-inovacao-incremental/\n",
            "https://blog.aevo.com.br/inovacao-aberta-ambev-basf\n",
            "https://blog.aevo.com.br/soft-skills-intraempreendedorismo/\n"
          ],
          "name": "stdout"
        }
      ]
    },
    {
      "cell_type": "code",
      "metadata": {
        "id": "b7szuo3nHQ9Y"
      },
      "source": [
        "#cria um diretório para os arquivos de texto\n",
        "!mkdir textos"
      ],
      "execution_count": null,
      "outputs": []
    },
    {
      "cell_type": "code",
      "metadata": {
        "id": "uGZbHWewHQ9b"
      },
      "source": [
        " for i, c in enumerate(assuntos):\n",
        "     with open(\"textos/\" + c + \".txt\", \"wb\") as file:\n",
        "        pickle.dump(textos[i], file) #pickled files para uso posterior"
      ],
      "execution_count": null,
      "outputs": []
    },
    {
      "cell_type": "code",
      "metadata": {
        "id": "GOrCWm8CHQ9d"
      },
      "source": [
        "# carrega pickled files\n",
        "data = {}\n",
        "for i, c in enumerate(assuntos):\n",
        "    with open(\"textos/\" + c + \".txt\", \"rb\") as file:\n",
        "        data[c] = pickle.load(file)"
      ],
      "execution_count": null,
      "outputs": []
    },
    {
      "cell_type": "code",
      "metadata": {
        "id": "iyxq5VadHQ9e",
        "outputId": "700458a8-874c-4b2b-e06d-00d6b72421af"
      },
      "source": [
        "#checar para saber se os dados foram carregados propriamente\n",
        "data.keys()"
      ],
      "execution_count": null,
      "outputs": [
        {
          "output_type": "execute_result",
          "data": {
            "text/plain": [
              "dict_keys(['inovacao incremental', 'inovacao aberta', 'intraempreendedorismo'])"
            ]
          },
          "metadata": {
            "tags": []
          },
          "execution_count": 12
        }
      ]
    },
    {
      "cell_type": "code",
      "metadata": {
        "scrolled": true,
        "id": "cubuvzzYHQ9g",
        "outputId": "48011cdf-d1d3-46dd-98f9-03acaf4808b2"
      },
      "source": [
        "# mais checagem\n",
        "data['inovacao incremental'][:2]"
      ],
      "execution_count": null,
      "outputs": [
        {
          "output_type": "execute_result",
          "data": {
            "text/plain": [
              "['O termo\\xa0inovação incremental\\xa0ganhou força em 1939, marcando presença no livro “Business\\xa0Cycle” de Joseph Schumpeter, onde foi caracterizado como um tipo de inovação.\\xa0\\xa0',\n",
              " 'O conceito é muito similar a filosofia\\xa0japonesa de melhoria contínua, conhecida como Kaizen, que prevê um método para executar a estratégia de forma\\xa0sistêmica, envolvendo todos os colaboradores da organização.\\xa0\\xa0']"
            ]
          },
          "metadata": {
            "tags": []
          },
          "execution_count": 13
        }
      ]
    },
    {
      "cell_type": "code",
      "metadata": {
        "id": "iY4L_mi3HQ9i",
        "outputId": "e512373d-4090-41e5-9125-373fdfdc1f63"
      },
      "source": [
        "data['inovacao aberta'][:2]"
      ],
      "execution_count": null,
      "outputs": [
        {
          "output_type": "execute_result",
          "data": {
            "text/plain": [
              "['Se você já acompanha nossos conteúdos há algum tempo, sabe a importância do mindset de inovação aberta para construir não somente o agora, como também o futuro.\\xa0',\n",
              " 'O nome dessa estratégia é Ambidestria Organizacional e ela tem ajudado grandes organizações a obterem visões mais profundas sobre a natureza do seu core business, alocação de recursos e projetos de curto e longo prazo.']"
            ]
          },
          "metadata": {
            "tags": []
          },
          "execution_count": 14
        }
      ]
    },
    {
      "cell_type": "code",
      "metadata": {
        "id": "TmZpn5LpHQ9k",
        "outputId": "84bc8089-c721-4c51-f5d0-e51330f02fd5"
      },
      "source": [
        "data['intraempreendedorismo'][:2]"
      ],
      "execution_count": null,
      "outputs": [
        {
          "output_type": "execute_result",
          "data": {
            "text/plain": [
              "['As\\xa0soft\\xa0skills\\xa0são habilidades subjetivas, de difícil identificação e diretamente relacionadas à inteligência emocional das pessoas.\\xa0',\n",
              " 'Em tradução livre, o termo —\\xa0soft\\xa0skills\\xa0—\\xa0 significa: habilidades interpessoais. Essas habilidades (ou skills) podem ser compreendidas como\\xa0competências pessoais,\\xa0que indicam a forma como aquela pessoa lida com os problemas, como se relaciona e interage com os demais.\\xa0']"
            ]
          },
          "metadata": {
            "tags": []
          },
          "execution_count": 15
        }
      ]
    },
    {
      "cell_type": "markdown",
      "metadata": {
        "id": "ui92RgUmHQ9m"
      },
      "source": [
        "Cada key é o assunto e cada valor é o texto"
      ]
    },
    {
      "cell_type": "markdown",
      "metadata": {
        "id": "I56GdmvYHQ9n"
      },
      "source": [
        "# Limpando os dados\n",
        "\n",
        "Ao lidar com dados numéricos, a limpeza de dados geralmente envolve a remoção de valores nulos e dados duplicados, lidar com outliers etc. Com dados de texto, existem algumas técnicas comuns de limpeza de dados, que também são conhecidas como técnicas de pré-processamento de texto.\n",
        "\n",
        "Com dados de texto, esse processo de limpeza pode durar para sempre. Sempre há uma exceção para cada etapa de limpeza. Então, vamos seguir a abordagem MVP (produto mínimo viável) - começar de forma simples e iterar. Aqui estão várias coisas que você pode fazer para limpar seus dados. Vamos executar apenas as etapas de limpeza comuns aqui e o resto pode ser feito posteriormente para melhorar nossos resultados.\n",
        "\n",
        "**Etapas de limpeza de dados comuns em todo o texto:**\n",
        "\n",
        "- Faça o texto todo em minúsculas\n",
        "- Remover pontuação\n",
        "- Remova os valores numéricos\n",
        "- Remover texto sem sentido comum (/ n)\n",
        "- Texto tokenizado\n",
        "- Remover stopwords\n",
        "\n",
        "**Mais etapas de limpeza de dados após a tokenização:**\n",
        "\n",
        "- Stemming/lemmatization\n",
        "- Parts of speech tagging \n",
        "- Crie bi-gramas ou tri-gramas\n",
        "- Lidar com erros de digitação\n",
        "- E mais..."
      ]
    },
    {
      "cell_type": "code",
      "metadata": {
        "id": "6V3WuKyCHQ9n",
        "outputId": "bbd43195-8716-4eff-dab7-cf28e47ad2d9"
      },
      "source": [
        "# Vamos olhar nossos dados novamente\n",
        "next(iter(data.keys()))"
      ],
      "execution_count": null,
      "outputs": [
        {
          "output_type": "execute_result",
          "data": {
            "text/plain": [
              "'inovacao incremental'"
            ]
          },
          "metadata": {
            "tags": []
          },
          "execution_count": 16
        }
      ]
    },
    {
      "cell_type": "code",
      "metadata": {
        "id": "30lOhKz8HQ9p",
        "outputId": "0e0d08a0-187c-460e-efaf-9bbbfc3617c9"
      },
      "source": [
        "# Nosso dicionário está em chave: assunto, value: lista em formato de texto\n",
        "next(iter(data.values()))"
      ],
      "execution_count": null,
      "outputs": [
        {
          "output_type": "execute_result",
          "data": {
            "text/plain": [
              "['O termo\\xa0inovação incremental\\xa0ganhou força em 1939, marcando presença no livro “Business\\xa0Cycle” de Joseph Schumpeter, onde foi caracterizado como um tipo de inovação.\\xa0\\xa0',\n",
              " 'O conceito é muito similar a filosofia\\xa0japonesa de melhoria contínua, conhecida como Kaizen, que prevê um método para executar a estratégia de forma\\xa0sistêmica, envolvendo todos os colaboradores da organização.\\xa0\\xa0',\n",
              " 'Hoje,\\xa0a inovação de forma incremental\\xa0é amplamente conhecida\\xa0e tem ganhado\\xa0relevância à luz de processos inovadores\\xa0com alto grau de colaboração, como o de Programa de Ideias.\\xa0',\n",
              " 'A inovação incremental é uma série de pequenas melhorias em produtos, processos e serviços existentes em uma empresa. Quando esse tipo de inovação é realizado alinhado a um processo\\xa0inovador, como o de Programa de Ideias, podemos alcançar resultados ainda mais\\xa0significativos.\\xa0',\n",
              " 'O motivo é claro: podemos envolver toda a organização na idealização de sugestões de melhoria que gerem valor para o nosso negócio.\\xa0Deste modo, obtemos a visão de colaboradores geralmente esquecidos nas reuniões de brainstorming: os colaboradores de linha de frente.\\xa0',\n",
              " 'Esses colaboradores são muitas vezes subestimados, mas são eles que estão à frente de produtos, processos e serviços da empresa todos os dias e, portanto, entendem melhor do que ninguém como melhorá-los.',\n",
              " 'A inovação incremental pode ser subestimada pelos\\xa0resultados com menor impacto (se comparada a outros tipos de inovação),\\xa0porém\\xa0ela ganha força quando observada à luz da escala, incorporando-se ao\\xa0mindset\\xa0e a rotina das organizações.\\xa0',\n",
              " 'Aqui vai um exemplo:\\xa0',\n",
              " 'Imagine que o seu time implantou apenas uma sugestão de melhoria, poupando 10 minutos da execução individual diária de um processo realizado por 100 colaboradores\\xa0dentro de uma fábrica.\\xa0',\n",
              " 'Se nós considerarmos que a jornada semanal desses funcionários é igual para todos\\xa0(40 horas\\xa0por semana, 8 horas por dia), ao longo de 10 semanas teríamos aproximadamente 50 mil minutos poupados.\\xa0',\n",
              " 'Agora, considere que o seu processo é executado por 1.000 colaboradores! Os 50 mil minutos poupados seriam alcançados\\xa0logo\\xa0no primeiro dia, enquanto o\\xa0resultado de 10 semanas seria aproximadamente 500 mil minutos reduzidos.\\xa0',\n",
              " 'E se formos um pouco além, considerando\\xa0R$ 500,00 a remuneração média semanal de todos esses colaboradores,\\xa0nós poderíamos transformar o tempo\\xa0reduzido\\xa0em dinheiro poupado! ',\n",
              " 'Dessa forma, ao\\xa0longo de 10 semanas, 100 colaboradores poupariam R$10.500,00, enquanto 1.000 colaboradores poupariam aproximadamente R$105.000,00\\xa0',\n",
              " 'Independente da escala, podemos perceber que a inovação incremental tem um alto potencial\\xa0de redução de custos – tenho certeza de que isso foi\\xa0perceptível para você nos dois exemplos que demos acima.\\xa0\\xa0',\n",
              " 'Porém o mais importante é entender que quanto maior a escala do seu time, inovar de forma incremental se torna mais obrigatório. Do contrário, seria como desperdiçar recursos conscientemente.\\xa0',\n",
              " 'Para entender quando investir, é preciso conhecer em que momento a seu negócio\\xa0ou seu produto se encontra.\\xa0\\xa0',\n",
              " 'Sempre que nós lançamos um novo produto ou serviço, existem muitas hipóteses e perguntas sem respostas. Esse\\xa0alto\\xa0grau de incerteza sugere que\\xa0você precisa validar seu produto frente à um mercado ou grupo\\xa0de consumidores.\\xa0Neste\\xa0caso,\\xa0o seu produto\\xa0ainda\\xa0é uma aposta (como pode ser observado na imagem acima), ou seja, um investimento com resultado futuro.\\xa0\\xa0\\xa0',\n",
              " 'Desse modo,\\xa0a inovação incremental\\xa0é\\xa0pouco vantajosa,\\xa0uma vez\\xa0que\\xa0a sua prioridade é entender se o seu projeto é um abacaxi, ou seja, um produto que não deu certo e, neste caso, o melhor é matá-lo.',\n",
              " 'Leia também: Horizontes de inovação: o que são e quanto investir em cada um?\\xa0',\n",
              " 'Agora, quando o produto é validado e está em um mercado em alto crescimento,\\xa0ele é incorporado ao seu Core Business e torna-se sua vaca leiteira!\\xa0Aqui, você já terá respostas para grande parte das perguntas, obtendo um time muito experiente e com bastante conhecimento sobre o produto.\\xa0',\n",
              " 'Porém,\\xa0quando uma aposta se torna sua vaca leiteira (Core Business), muita coisa está em jogo!\\xa0Em primeiro lugar, você precisa garantir que o seu carro-chefe não seja defasado pelo mercado,\\xa0já\\xa0que este encontrará formas de concorrer, seja por vantagem competitiva, inovação tecnológica ou proposta de valor.\\xa0',\n",
              " 'É aí que entra a inovação incremental. Essa, por sua vez, garantirá a incorporação de ideias que geram valor, garantindo que o seu Core Business\\xa0seja continuamente melhorado\\xa0por aqueles que estão todos os dias lidando frente\\xa0a\\xa0frente com os seus produtos, processos e serviços.\\xa0',\n",
              " 'Para entender como\\xa0priorizar os investimentos em inovação, a\\xa0Mckinsey\\xa0&\\xa0Company\\xa0criou o framework 3 Horizontes de Inovação, dando-nos uma ampla de visão de alocação de recursos por conhecimento do nosso negócio.\\xa0',\n",
              " 'Observando a imagem acima,\\xa0podemos perceber que o investimento em inovação pode ser priorizado de acordo com o nível de conhecimento obtido por\\xa0negócios:\\xa0',\n",
              " 'Nós já percebemos que a inovação incremental\\xa0faz mais sentido quando executada frente ao meu Core Business (minha vaca leiteira), ou seja, aquilo que eu possuo histórico,\\xa0tenho\\xa0conhecimento e já validei\\xa0frente ao\\xa0mercado.\\xa0',\n",
              " 'Mas quanto eu devo investir no meu Core Business?\\xa0',\n",
              " 'Em meados de 2005, o presidente da\\xa0Alphabet\\xa0Inc. (holding dona da Google), nos contou sobre a estratégia de inovação da organização:\\xa0',\n",
              " '“Gastamos 70% do nosso tempo em pesquisas e anúncios principais. Gastamos 20% em empresas adjacentes: Google Notícias, Google Earth e Google Local. E então 10% do nosso tempo deve ser dedicado a coisas verdadeiramente novas.”\\xa0',\n",
              " 'O exemplo de alocação de recursos do presidente da\\xa0Alphabet\\xa0Inc. ilustra muito bem como a\\xa0organização\\xa0estrutura\\xa0seu portfólio de investimentos.',\n",
              " 'Se a Google investe 70% do seu tempo e dinheiro no seu Core Business\\xa0(pesquisas e anúncios principais), por\\xa0que você não faria isso?\\xa0',\n",
              " 'A inovação incremental é uma estratégia que visa melhorar continuamente o carro-chefe da sua organização. A\\xa0não adesão desse tipo de inovação implica também a possível defasagem do seu produto pelo mercado, que\\xa0buscará formas de superá-lo a todo momento.\\xa0',\n",
              " 'Quando trazemos os colaboradores de linha de frente para o centro da estratégia, ganhamos muita assertividade, uma vez que 80% do potencial de melhoria de uma organização está nesses colaboradores. ',\n",
              " 'Logo, o conhecimento deles com o seu produto à luz da escala pode ser muito benéfico, multiplicando seus resultados com redução de custos\\xa0e pagando o investimento num tempo recorde.\\xa0',\n",
              " 'Para tornar a inovação incremental algo contínuo, podemos apostar em um processo inovador, como o de Programa de Ideias – envolvendo todos os colaboradores da organização.\\xa0',\n",
              " 'Agora, se\\xa0você gostou desse conteúdo e quer entender quais são os passos para implantar um Programa de Ideias com a AEVO e aplicar a inovação incremental na sua organização, clique\\xa0neste link.\\xa0']"
            ]
          },
          "metadata": {
            "tags": []
          },
          "execution_count": 17
        }
      ]
    },
    {
      "cell_type": "code",
      "metadata": {
        "id": "qJFh1TlLHQ9r"
      },
      "source": [
        "# Vamos mudar isso para formato de chave: assunto, valor: string\n",
        "def combine_text(list_of_text):\n",
        "    '''Takes a list of text and combines them into one large chunk of text.'''\n",
        "    combined_text = ' '.join(list_of_text)\n",
        "    return combined_text"
      ],
      "execution_count": null,
      "outputs": []
    },
    {
      "cell_type": "code",
      "metadata": {
        "id": "JLA8qx1HHQ9s"
      },
      "source": [
        "# Combine!\n",
        "data_combined = {key: [combine_text(value)] for (key, value) in data.items()}"
      ],
      "execution_count": null,
      "outputs": []
    },
    {
      "cell_type": "code",
      "metadata": {
        "id": "uGOYBZtJHQ9t",
        "outputId": "d1adc4be-f51f-40b0-adf6-abaeade1113a"
      },
      "source": [
        "data_combined"
      ],
      "execution_count": null,
      "outputs": [
        {
          "output_type": "execute_result",
          "data": {
            "text/plain": [
              "{'inovacao incremental': ['O termo\\xa0inovação incremental\\xa0ganhou força em 1939, marcando presença no livro “Business\\xa0Cycle” de Joseph Schumpeter, onde foi caracterizado como um tipo de inovação.\\xa0\\xa0 O conceito é muito similar a filosofia\\xa0japonesa de melhoria contínua, conhecida como Kaizen, que prevê um método para executar a estratégia de forma\\xa0sistêmica, envolvendo todos os colaboradores da organização.\\xa0\\xa0 Hoje,\\xa0a inovação de forma incremental\\xa0é amplamente conhecida\\xa0e tem ganhado\\xa0relevância à luz de processos inovadores\\xa0com alto grau de colaboração, como o de Programa de Ideias.\\xa0 A inovação incremental é uma série de pequenas melhorias em produtos, processos e serviços existentes em uma empresa. Quando esse tipo de inovação é realizado alinhado a um processo\\xa0inovador, como o de Programa de Ideias, podemos alcançar resultados ainda mais\\xa0significativos.\\xa0 O motivo é claro: podemos envolver toda a organização na idealização de sugestões de melhoria que gerem valor para o nosso negócio.\\xa0Deste modo, obtemos a visão de colaboradores geralmente esquecidos nas reuniões de brainstorming: os colaboradores de linha de frente.\\xa0 Esses colaboradores são muitas vezes subestimados, mas são eles que estão à frente de produtos, processos e serviços da empresa todos os dias e, portanto, entendem melhor do que ninguém como melhorá-los. A inovação incremental pode ser subestimada pelos\\xa0resultados com menor impacto (se comparada a outros tipos de inovação),\\xa0porém\\xa0ela ganha força quando observada à luz da escala, incorporando-se ao\\xa0mindset\\xa0e a rotina das organizações.\\xa0 Aqui vai um exemplo:\\xa0 Imagine que o seu time implantou apenas uma sugestão de melhoria, poupando 10 minutos da execução individual diária de um processo realizado por 100 colaboradores\\xa0dentro de uma fábrica.\\xa0 Se nós considerarmos que a jornada semanal desses funcionários é igual para todos\\xa0(40 horas\\xa0por semana, 8 horas por dia), ao longo de 10 semanas teríamos aproximadamente 50 mil minutos poupados.\\xa0 Agora, considere que o seu processo é executado por 1.000 colaboradores! Os 50 mil minutos poupados seriam alcançados\\xa0logo\\xa0no primeiro dia, enquanto o\\xa0resultado de 10 semanas seria aproximadamente 500 mil minutos reduzidos.\\xa0 E se formos um pouco além, considerando\\xa0R$ 500,00 a remuneração média semanal de todos esses colaboradores,\\xa0nós poderíamos transformar o tempo\\xa0reduzido\\xa0em dinheiro poupado!  Dessa forma, ao\\xa0longo de 10 semanas, 100 colaboradores poupariam R$10.500,00, enquanto 1.000 colaboradores poupariam aproximadamente R$105.000,00\\xa0 Independente da escala, podemos perceber que a inovação incremental tem um alto potencial\\xa0de redução de custos – tenho certeza de que isso foi\\xa0perceptível para você nos dois exemplos que demos acima.\\xa0\\xa0 Porém o mais importante é entender que quanto maior a escala do seu time, inovar de forma incremental se torna mais obrigatório. Do contrário, seria como desperdiçar recursos conscientemente.\\xa0 Para entender quando investir, é preciso conhecer em que momento a seu negócio\\xa0ou seu produto se encontra.\\xa0\\xa0 Sempre que nós lançamos um novo produto ou serviço, existem muitas hipóteses e perguntas sem respostas. Esse\\xa0alto\\xa0grau de incerteza sugere que\\xa0você precisa validar seu produto frente à um mercado ou grupo\\xa0de consumidores.\\xa0Neste\\xa0caso,\\xa0o seu produto\\xa0ainda\\xa0é uma aposta (como pode ser observado na imagem acima), ou seja, um investimento com resultado futuro.\\xa0\\xa0\\xa0 Desse modo,\\xa0a inovação incremental\\xa0é\\xa0pouco vantajosa,\\xa0uma vez\\xa0que\\xa0a sua prioridade é entender se o seu projeto é um abacaxi, ou seja, um produto que não deu certo e, neste caso, o melhor é matá-lo. Leia também: Horizontes de inovação: o que são e quanto investir em cada um?\\xa0 Agora, quando o produto é validado e está em um mercado em alto crescimento,\\xa0ele é incorporado ao seu Core Business e torna-se sua vaca leiteira!\\xa0Aqui, você já terá respostas para grande parte das perguntas, obtendo um time muito experiente e com bastante conhecimento sobre o produto.\\xa0 Porém,\\xa0quando uma aposta se torna sua vaca leiteira (Core Business), muita coisa está em jogo!\\xa0Em primeiro lugar, você precisa garantir que o seu carro-chefe não seja defasado pelo mercado,\\xa0já\\xa0que este encontrará formas de concorrer, seja por vantagem competitiva, inovação tecnológica ou proposta de valor.\\xa0 É aí que entra a inovação incremental. Essa, por sua vez, garantirá a incorporação de ideias que geram valor, garantindo que o seu Core Business\\xa0seja continuamente melhorado\\xa0por aqueles que estão todos os dias lidando frente\\xa0a\\xa0frente com os seus produtos, processos e serviços.\\xa0 Para entender como\\xa0priorizar os investimentos em inovação, a\\xa0Mckinsey\\xa0&\\xa0Company\\xa0criou o framework 3 Horizontes de Inovação, dando-nos uma ampla de visão de alocação de recursos por conhecimento do nosso negócio.\\xa0 Observando a imagem acima,\\xa0podemos perceber que o investimento em inovação pode ser priorizado de acordo com o nível de conhecimento obtido por\\xa0negócios:\\xa0 Nós já percebemos que a inovação incremental\\xa0faz mais sentido quando executada frente ao meu Core Business (minha vaca leiteira), ou seja, aquilo que eu possuo histórico,\\xa0tenho\\xa0conhecimento e já validei\\xa0frente ao\\xa0mercado.\\xa0 Mas quanto eu devo investir no meu Core Business?\\xa0 Em meados de 2005, o presidente da\\xa0Alphabet\\xa0Inc. (holding dona da Google), nos contou sobre a estratégia de inovação da organização:\\xa0 “Gastamos 70% do nosso tempo em pesquisas e anúncios principais. Gastamos 20% em empresas adjacentes: Google Notícias, Google Earth e Google Local. E então 10% do nosso tempo deve ser dedicado a coisas verdadeiramente novas.”\\xa0 O exemplo de alocação de recursos do presidente da\\xa0Alphabet\\xa0Inc. ilustra muito bem como a\\xa0organização\\xa0estrutura\\xa0seu portfólio de investimentos. Se a Google investe 70% do seu tempo e dinheiro no seu Core Business\\xa0(pesquisas e anúncios principais), por\\xa0que você não faria isso?\\xa0 A inovação incremental é uma estratégia que visa melhorar continuamente o carro-chefe da sua organização. A\\xa0não adesão desse tipo de inovação implica também a possível defasagem do seu produto pelo mercado, que\\xa0buscará formas de superá-lo a todo momento.\\xa0 Quando trazemos os colaboradores de linha de frente para o centro da estratégia, ganhamos muita assertividade, uma vez que 80% do potencial de melhoria de uma organização está nesses colaboradores.  Logo, o conhecimento deles com o seu produto à luz da escala pode ser muito benéfico, multiplicando seus resultados com redução de custos\\xa0e pagando o investimento num tempo recorde.\\xa0 Para tornar a inovação incremental algo contínuo, podemos apostar em um processo inovador, como o de Programa de Ideias – envolvendo todos os colaboradores da organização.\\xa0 Agora, se\\xa0você gostou desse conteúdo e quer entender quais são os passos para implantar um Programa de Ideias com a AEVO e aplicar a inovação incremental na sua organização, clique\\xa0neste link.\\xa0'],\n",
              " 'inovacao aberta': ['Se você já acompanha nossos conteúdos há algum tempo, sabe a importância do mindset de inovação aberta para construir não somente o agora, como também o futuro.\\xa0 O nome dessa estratégia é Ambidestria Organizacional e ela tem ajudado grandes organizações a obterem visões mais profundas sobre a natureza do seu core business, alocação de recursos e projetos de curto e longo prazo. Entretanto, em alguns meses nosso cenário mudou, trazendo à tona preocupações que antes não tínhamos, como a urgência em sobreviver (hoje) – consequência direta das novas barreiras e adaptações que as empresas enfrentam para seguir em frente com as suas atividades, mesmo de forma remota e digital. Já existia, é claro, uma tendência mundial a digitalização de processos, mas ter que fazer isso “na marra”, certamente pegou muitas organizações de surpresa e é justamente sobre a adaptação frente a esse novo cenário que falaremos hoje. O objetivo desse artigo é compartilhar as melhores respostas da segunda edição do Open Innovation Talks (nossa série mensal de webinars sobre inovação aberta), evidenciando os pontos que geram mais valor para as empresas que enfrentam as adversidades citadas logo acima. Sugerimos que você acompanhe o conteúdo assistindo a gravação da live agora mesmo: Assista agora: Open Innovation Talks #2 – Ambev e BASF Nós perguntamos ao Analista de Inovação, Lucas Bragagnolo, qual o papel das grandes empresas de iniciativa privada neste momento de crise. Para o analista, as empresas devem pensar em ajudar de alguma forma, e deu vários exemplos, como: “ações como a da Ambev para produzir álcool em gel, como da rede Mcdonald’s disponibilizando lanches para o pessoal dos hospitais que estão trabalhando ou da concessionária de serviços de telecomunicações SKY, liberando canais gratuitamente.” Lucas fortalece o pensamento de colaboração: ”Juntos conseguimos passar mais “fácil” pela crise”. Leia também: Covid-19: 10 startups liberam cursos gratuitos no brasil Mirella é Gerente de Inovação Aberta e Ecossistemas Digitais no ONONO, o Centro de Experiências Científicas e Digitais da BASF. Nós perguntamos a ela como está sendo para o ONONO (um espaço que preza pela conexão, colaboração e aproximação das pessoas) a adaptação frente a nova dinâmica de trabalho. É um momento de reinvenção para o modelo de operação do ONONO, afinal, ele existe essencialmente por conta das conexões, conta a gerente. Vários programas de inovação aberta são tocados tendo o ONONO como elo central desse relacionamento com startups e universidades. Para Mirella, ter multicanais disponíveis para a comunicação com o cliente e as empresas está sendo essencial para o fortalecimento da conexão em tempos de trabalho remoto, afinal, o espaço físico, por enquanto, não pode ser utilizado. O Plus.Onono.com.br é a plataforma de conteúdo da Onono e teve grande papel nesse momento de adaptação. A mesma é utilizada para apresentar os parceiros, principalmente às startups, para as organizações que precisam de diversas soluções, e também para continuar orientando os mesmos a respeito dos produtos,\\xa0 mostrando as iniciativas da empresa frente ao surto de Covid-19, como compartilhar informações técnicas e conteúdos de relevância. Mirella Lisboa reforça a capacidade de adaptação e necessidade de ser ágil nesse momento, trazendo para o protagonismo sua própria equipe, que foi 100% envolvida nesse processo. Como sempre, adoramos perguntas e, evidentemente, não podemos deixar de mostrá-las! A nossa primeira pergunta foi da Nathalia Monteiro, da Bradesco, \\xa0que perguntou: Como os programas de ideias podem ser meios de comunicação neste momento? Essa nós respondemos! É possível lançar campanhas específicas voltadas para o Covid-19, onde nós podemos compartilhar boas práticas para todos os colaboradores a respeito do momento, mas também abrir um canal para ouvir os mesmos, tirando insights e ideias que podem ajudar a empresa a superar diversos desafios. Os colaboradores podem vir com soluções para as maiores dores da empresa geradas por conta da quarentena, disse o especialista em inovação, Flávio Marques. Quando nós perguntamos aos convidados sobre a continuidade de seus Programas de Inovação, Mirella responde de forma clara e objetiva: Inovação é todo o desenvolvimento de um produto ou modelo de negócio que gera valor no final do dia – se isso não acontecer não é inovação.\\xa0 Ter um pipeline de inovação aberta muito bem mapeado, deixando claro o retorno do negócio e impacto do projeto na empresa e sociedade em momento de crise, permite descartar a descontinuidade dos projetos e focar na priorização dos mesmos pelo valor que é gerado em menor tempo, e o que vai facilitar a vida do meu colaborador e melhor atendimento ao cliente.\\xa0 Para a BASF o foco hoje é na qualidade de trabalho para os colaboradores e o desenvolvimento de novas tecnologias que aumentam o número de canais das empresas com os seus clientes. Já na Ambev, Lucas ressalta que o contato com as startups em negociação continua mantido, mesmo em cenário de trabalho remoto. Segundo o analista, é tudo uma questão de adaptação no relacionamento com o ecossistema. A Fernanda, da Aliança e Navegação, pergunta se há ferramentas que possam facilitar as sessões de design thinking de forma remota e colaborativa. Para isso, nossos convidados deram algumas dicas: Lucas e Mirella dizem fazer muito uso do Mural.co e do Miro, para criar cards, painéis e outros recursos colaborativos. Além disso, os dois ressaltam o valor das boas e velhas planilhas compartilháveis, como o Sheets da Google. Nós perguntamos aos convidados sobre a opinião deles à respeito de quais são os maiores obstáculos enfrentados pelas grandes empresas nesse momento. Mirella diz que os desafios são relativos ao tipo de Indústria em que a empresa está inserida.\\xa0 Na BASF, por exemplo, o ramo é o da indústria química e matéria prima, onde o principal desafio em termos de negócio é prosseguir sendo uma empresa tradicional e, ao mesmo tempo, buscando fugir do tradicional. Existem áreas com super demandas e outras sofrendo com o cenário oposto. Para ela, esse é o momento de olhar para dentro do negócio e entender as oportunidades, visando o que o cliente está fazendo, a resposta dele nesse período e também a importância e papel dos meus colaboradores nesse processo, garantindo sempre segurança e bem-estar para o mesmo. A área de inovação precisa ser um suporte para as demandas que surgem, conectando-se com todas as áreas da companhia. Para o Lucas, não podemos perder a oportunidade de aproveitar uma boa crise. É nesses momentos de dificuldade que nós encontramos as melhores soluções. Nós precisamos pensar, por exemplo: como eu consigo aproveitar essa crise para desenvolver e testar coisas que normalmente a empresa não faria num cenário normal. Nós perguntamos a Ambev e a BASF, o que essas empresas estão fazendo para superar os obstáculos de comunicação e aproximação com os próprios colaboradores?\\xa0 Lucas Bragagnolo começa contando sobre a percepção do aumento de reuniões – algo que cresceu exponencialmente, segundo o analista. “A agenda ficava fechada para reuniões a semana toda e não surgia tempo para de fato executar as tarefas. Como solução para esta peculiaridade nós adotamos a Quarta-Feira Sem Reuniões, onde todo o time tira o dia para capacitação, executar as tarefas pendentes e fazer qualquer coisa exceto reuniões”.\\xa0 Toda sexta-feira acontece um happy hour online com o CTO da Ambev, onde todo o time de tecnologia participa e ele passa um feedback a respeito da semana e as percepções sobre o Covid-19. Segundo Mirella Lisboa, na BASF as reuniões de alinhamento são diárias, de 30 a 40 minutos, garantindo que todo mundo esteja “na mesma página” e que haja integração entre todos os times. Para descontração do pessoal, criaram a dinâmica do Desafio da Foto, onde dentro dos grupos de trabalho do whatsapp, alguém em algum momento do dia manda uma foto do que está fazendo, o que está comendo, com quem está na quarentena, e as outras pessoas do grupo tem até 1 hora para enviarem uma foto com a mesma temática.\\xa0 A dinâmica acontece uma vez de manhã e outra a tarde. Há também o Movimento Estar Bem, que é uma série de iniciativas focadas em promover o bem-estar físico e mental dos colaboradores (conversas com psicólogos, vídeos de ginástica laboral, capacitação profissional). João Bezerra Pedrosa Neto, da GCB, perguntou aos nossos convidados à respeito das prioridades de inovação e o contraste entre o “antes” e o “agora”. Mirella conta que o ONONO continua sendo o elo de conexão e realização de todas as iniciativas (relacionamento com o cliente e o desenvolvimento de novos projetos).\\xa0 O novo é que agora a organização também está auxiliando outras áreas que não estavam tão próximas da transformação digital, como o RH que está sendo o foco central disso tudo. Salientou ainda que nada do que for feito durante a crise pode ser interrompido e as soluções de bem-estar e novas tecnologia devem perdurar e ser incorporadas a cultura da empresa. Já o analista de inovação, Lucas Bragagnolo, diz que a Ambev continua procurando oportunidades em outras áreas de negócio, focando em produtos de tecnologia, mas também na disseminação da cultura de inovação, e para isso estão fazendo uma curadoria de conteúdo de capacitação e sensibilização para os colaboradores, construindo maior interesse em iniciativas e outras temáticas do universo da inovação. Leia também: Corona & ParleyDesafio Livre de Plástico Quando perguntado sobre a busca de apoio ao ecossistema e, lembrando que a BASF oferece matéria prima para grandes organizações, a Mirella dá o exemplo da empresa Suvinil, que foi muito afetada com a quarentena, já que inicialmente não foi taxada como serviço essencial e teve que fechar as lojas físicas e, dessa forma, não foi possível vender mais pelo principal canal de vendas deles. Com isso, a BASF junto com a área de inovação da Suvinil, se associou a um ecossistema que tinha uma plataforma de desafios abertos, na categoria Varejo e Logística.\\xa0 Eles lançaram esse desafio na plataforma e em 48h receberam uma base com as Startups que estavam dispostas a auxiliar na solução desse desafio. Além disso eles estão investindo em muitos canais para ter várias formas de estar próximo ou chegar até o cliente. Já na Ambev, o time de inovação está atento as melhores práticas do mercado para serem incorporadas dentro da organização. Para algumas iniciativas, a empresa optou por ser pioneira e, para outras, a empresa está buscando seguir o exemplo com base em cases de sucesso de outros negócios. Lucas Bragagnolo ainda reforça: a estratégia de inovação aberta é uma ótima forma de ouvir o mercado, essencial para empresas que estão sem ideias e precisam começar a testar coisas novas. Como engajar em tempos de crise? Inácio e Ludimila, da Aeris, perguntam quais são as estratégias mais utilizadas para motivar e engajar os colaboradores em um Programa de Inovação (imerso em um momento incerto). Para engajar os colaboradores, é preciso se manter o mais próximo possível da equipe, para que o distanciamento seja apenas físico. Quanto às iniciativas de inovação, o momento é de mostrar o valor do projeto mostrando o potencial do mesmo e o quanto ele pode agregar ao apresentar as ações de impacto e esforço, defendendo e aumentando o valor das iniciativas. Para Mirella, é importante fortalecer a cultura de inovação das empresas.\\xa0 Assista também: Cultura de inovação em tempos de crise “Não estamos falando de negócio ou inovação, é inovação com negócio. Normalmente é a área de inovação que têm as conexões, que conhece o ecossistema externo e tem as parcerias com as universidades, então é pensar no que a área de negócio precisa e como a inovação aberta pode intermediar essa conexão entre dores e soluções”, pontua Mirella Lisboa. A Melina, do Hospital Moinho de Vento, pergunta se as organizações estão desenvolvendo soluções que impactam no combate ao novo Coronavírus. “A BASF diretamente não, porque nós não trabalhamos com o produto final, mas estamos muito próximos dos clientes que vendem produtos hospitalares e, por isso, temos ações de doação de matéria prima com adaptações das moléculas para se encaixarem melhor aos produtos que são necessários hoje em dia para a proteção e higienização dos hospitais”. Mirella ainda reforça: “nós estamos trabalhando em P&D para que, de forma ágil, a gente consiga atender a demanda”. Já o Lucas, responde que a Ambev está monitorando o que está acontecendo no mundo e vendo como eles podem ajudar através do core business da empresa e que, por isso, surgiu a iniciativa de produção do álcool em gel para distribuição nas unidades de saúde. A ideia é ver o que eles podem promover de soluções para as dores, e assim continuar contribuindo. Lincoln Rezende, da ArcelorMittal, perguntou “Como convencer a alta gestão a investir na inovação aberta quando ainda não tem um retorno financeiro claramente estabelecido?” Na opinião do Lucas, o certo é provar valor aos poucos, deixando que a estratégia ganhe escala sozinha, mostrando como o investimento em inovação pode mudar para melhor o rumo da organização. Para Mirella, a alta liderança tem que estar embarcada no potencial que a inovação aberta pode trazer de resultados. O primeiro de tudo é olhar para dentro do seu negócio. No caso da BASF, a inovação veio por necessidade do cliente. “Nós percebemos que iríamos perder muitas oportunidades de negócio se não nos adaptarmos, justamente porque o cliente não quer apenas o produto final e a matéria prima, ele quer uma boa experiência, um atendimento diferenciado, uma pesquisa de tendência, uso de big data e etc”.\\xa0 Mostrar valor através de pequenas vitórias, pilotos, pílulas e resultados, é uma ótima estratégia para ganhar a confiança e conquistar um investimento maior. Como manter ativo, de maneira digital e remota, os seus projetos de inovação? Para concluir, nossa dupla de profissionais inovadores respondem como manter os projetos de inovação ativos, mesmo com esse cenário de incerteza e as turbulências e obstáculos do home office. Na opinião de Lucas, é preciso estar mais próximo do possível dos seus times, garantindo que todo mundo esteja engajado e utilizando as plataformas e serviços disponíveis no mercado para que isso aconteça. Para Mirella, é justamente na crise e na dor que nós temos a missão de nos reinventar e a área de inovação precisa pegar essa responsabilidade para si, resolvendo, facilitando e conectando as dores da companhia com as soluções do mercado, sempre de olho nas melhores práticas e aproveitando o melhor de tudo que está surgindo com a crise.'],\n",
              " 'intraempreendedorismo': ['As\\xa0soft\\xa0skills\\xa0são habilidades subjetivas, de difícil identificação e diretamente relacionadas à inteligência emocional das pessoas.\\xa0 Em tradução livre, o termo —\\xa0soft\\xa0skills\\xa0—\\xa0 significa: habilidades interpessoais. Essas habilidades (ou skills) podem ser compreendidas como\\xa0competências pessoais,\\xa0que indicam a forma como aquela pessoa lida com os problemas, como se relaciona e interage com os demais.\\xa0 Afinal, como isso se conecta com o\\xa0intraempreendedorismo?\\xa0 Os profissionais\\xa0intraempreendedores apresentam\\xa0soft\\xa0skills\\xa0de pessoas motivadas, pró-ativas e orientadas para a ação, com habilidades de liderança e pensamento fora da caixa.\\xa0Do mesmo modo, o profissional\\xa0intraempreendedor\\xa0é aquele que tem a\\xa0ousadia de colocar suas ideias em práticas, gerando valor e soluções inovadoras para a organização.\\xa0 Logo, o foco deste artigo é te apresentar as\\xa0soft\\xa0skills\\xa0essenciais para se tornar um bom profissional\\xa0intraempreendedor\\xa0e dar algumas dicas para desenvolvê-las!\\xa0\\xa0 Mas, antes de nos aprofundarmos nesse assunto, confira uma prévia de tudo que você vai encontrar ao longo deste artigo:\\xa0 Por outro lado, se as\\xa0soft\\xa0skills\\xa0dizem respeito às habilidades comportamentais, as\\xa0hard skills\\xa0correspondem às habilidades técnicas.\\xa0 As chamadas\\xa0hard skills\\xa0– são aquelas habilidades que, normalmente, entram no seu currículo e são aprendidas em cursos, faculdades, pós-graduações e outros empregos, e, além disso, são específicas para cada área.\\xa0\\xa0 Assim, diferentemente das\\xa0hard skills, as\\xa0soft\\xa0skills\\xa0são interessantes para qualquer tipo de atuação profissional. Em suma, as\\xa0soft\\xa0skills\\xa0são, geralmente, adquiridas por meio das experiências, pessoais e profissionais, vivenciadas ao longo da vida.\\xa0 É correto pensar que, na prática, ambas são fundamentais para o bom desempenho das atividades de um profissional\\xa0intraempreendedor. Ou seja, quanto mais um profissional conseguir reunir desses dois grupos, melhor candidato e\\xa0intraempreendedor\\xa0ele será.\\xa0A única novidade\\xa0sobre\\xa0isso é que antes se pensava que as\\xa0soft\\xa0skills\\xa0eram características inatas de uma pessoa, e não um conjunto de habilidades que pudesse ser ensinado e estimulado.\\xa0 “À medida que as estruturas organizacionais evoluem e a globalização acelera, essas habilidades serão mais cruciais do que nunca”.\\xa0 \\xa0A citação acima é de Daniel Goleman, considerado o pai da Inteligência Emocional e autor do livro de mesmo nome. Segundo ele, as\\xa0soft\\xa0skills\\xa0são baseadas na inteligência emocional, o que acaba diferenciando profissionais medianos dos excelentes —\\xa0intraempreendedores.\\xa0 Assim, pode-se afirmar que, no mundo atual, onde as\\xa0empresas de todos os portes e segmentos buscam constantemente por inovação e soluções criativas, o profissional que desenvolver e aprimorar suas\\xa0soft\\xa0skills\\xa0empreendedoras se tornará um grande diferencial no ambiente corporativo de grande parte das organizações.\\xa0\\xa0 Isso porque, foi-se o tempo em que o profissional empreendedor deveria deixar a organização em que trabalha para pôr em prática seus projetos inovadores.\\xa0Assim, muitas empresas têm focado em valorizar as competências empreendedoras dos seus colaboradores nos processos da empresa como um\\xa0\\xa0diferencial competitivo.\\xa0 Aproveite e confira: 8 exemplos de intraempreendedorismo para se inspirar Ao se tornar um\\xa0intraempreendedor, você terá oportunidade de se desenvolver e crescer na empresa, ao mesmo tempo que poderá colocar em prática suas\\xa0soft\\xa0skills, trabalhando com mais liberdade e autonomia.\\xa0 Apesar da dificuldade em definir quais são as\\xa0soft\\xa0skills\\xa0mais procuradas atualmente pelas organizações, podemos destacar algumas\\xa0soft\\xa0skills\\xa0que são essenciais para você se tornar um bom\\xa0intraempreendedor.\\xa0 Vamos lá?\\xa0\\xa0\\xa0 Ser empreendedor, diferente do que muitas pessoas pensam, não se restringe a tirar um negócio do papel ou ser chefe de si mesmo. Essa é uma\\xa0das\\xa0soft\\xa0skills\\xa0que permite aos profissionais uma postura mais flexível, além de excelente capacidade para resolução de problemas: duas características essenciais\\xa0para o\\xa0intraempreendedorismo.\\xa0 Por ser uma\\xa0soft\\xa0skill\\xa0extremamente útil em qualquer área de atuação, ela se tornou muito requisitada no mercado atualmente. Em termos gerais, a resiliência é a\\xa0capacidade de se adaptar e se recuperar depois de enfrentar adversidades.\\xa0\\xa0 Mais do que isso, a resiliência é uma habilidade que possibilita o aprendizado. É a partir dessa\\xa0soft\\xa0skill\\xa0que os\\xa0intraempreendedores serão capazes de gerenciar crises e adversidades, saindo delas ainda mais fortes!\\xa0\\xa0 Essa\\xa0soft\\xa0skill\\xa0vai muito além da transmissão e interpretação de ideias, ela abrange também a capacidade de ouvir atentamente, escrever bem e de se comunicar de forma não-violenta, seja na hora de expor as suas ideias ou de dar e receber feedbacks.\\xa0 Os\\xa0intraempreendedores estão, constantemente, envolvidos em projetos em grupo, expondo suas ideias, interagindo com colegas e clientes ou em uma posição de liderança. Dessa forma, o desenvolvimento de uma comunicação eficaz torna-se essencial para os profissionais que desejam se tornar\\xa0intraempreendedores.\\xa0\\xa0 Apesar da habilidade ser mais ou menos exigida, dependendo da área ou cargo, em um mercado tão competitivo quanto o atual, quem demonstrar mais facilidade na elaboração de soluções de forma rápida e inovadora terá a preferência das empresas.\\xa0\\xa0 Nem preciso dizer o porque dessa\\xa0soft\\xa0skill\\xa0ser essencial para os\\xa0intraempreendedores, né? Brincadeiras a parte,\\xa0mas criatividade está diretamente relacionada a nossa capacidade de solucionar problemas e gerar ideias, duas práticas\\xa0fundamentais do\\xa0intraempreendedorismo.\\xa0 Em suma, a empatia pode ser entendida como a capacidade de se colocar no lugar de outra pessoa de forma que se consiga compreender e quase sentir o que ele sente.\\xa0\\xa0 A importância dessa\\xa0soft\\xa0skill\\xa0para o\\xa0intraempreendedorismo\\xa0pode ser explicada em dois aspectos: primeiro, ela é importante em relacionamentos nos quais existe alguma forma de hierarquia ou liderança, se colocar no lugar do outro pode tornar a gestão mais aberta e humana. Em seguida, esta é uma\\xa0soft\\xa0skill\\xa0crucial para a relação entre a empresa e seus clientes. A empatia vai ajudar a entender qual é a dor exata do consumidor.\\xa0\\xa0 Por fim, mas não menos importante, temos a liderança.\\xa0\\xa0 É claro que todas as\\xa0soft\\xa0skills\\xa0citadas acima formarão um bom\\xa0intraempreendedor. Entretanto, a liderança vai além. Essa\\xa0habilidade\\xa0é a soma de todas as demais\\xa0soft\\xa0skills\\xa0e mais um pouco.\\xa0\\xa0\\xa0 Por isso, para o profissional\\xa0intraempreendedor\\xa0conquistar uma liderança, é necessário que ele saiba manusear todas as suas\\xa0soft\\xa0skills\\xa0para explorar o melhor dos colaboradores, fazendo com que se sintam parte do time, assumam responsabilidades e, claro, sejam também\\xa0intraempreendedores.\\xa0\\xa0 Agora que você já sabe as\\xa0soft\\xa0skills\\xa0essenciais para se tornar um profissional\\xa0intraempreendedor, você pode ter se perguntado: o que preciso fazer para desenvolvê-las?\\xa0 Nós sabemos que uma parcela dessas\\xa0soft\\xa0skills\\xa0podem ser aprimoradas com o tempo e com as experiências vividas, mas nada impede que você pegue um atalho para desenvolvê-las.\\xa0 Em primeiro lugar, é importante que você saiba que esse movimento só depende de você. Por isso, o\\xa0ponto de partida talvez esteja no\\xa0autoconhecimento, que é\\xa0aquele famoso\\xa0processo de análise daquilo que você tem de melhor e do que precisa evoluir.\\xa0 Portanto, é preciso estar atento às próprias características, dedicado à melhoria contínua e à reflexão sobre as suas próprias atitudes.\\xa0 Além disso, outra maneira para desenvolver as\\xa0soft\\xa0skills\\xa0é, literalmente, se submetendo a elas. Ou seja, nunca trabalhou em equipe? Procure se inserir em projetos onde isso é necessário. Quer praticar sua empatia? Converse com pessoas que têm pontos de vista totalmente opostos dos seus.\\xa0 \\xa0Se ao ler esse artigo você identificou deficiência em determinada\\xa0soft\\xa0skill, não espere surgir uma oportunidade, como uma promoção no atual emprego ou uma vaga dos sonhos, para desenvolvê-la. O profissional\\xa0intraempreendedor\\xa0é aquele\\xa0que\\xa0decide sair da zona do medianos para se tornar excepcional!\\xa0\\xa0 Você vai ficar aí parado?\\xa0 Bom, se você chegou até aqui, posso afirmar que\\xa0intraempreededorismo é um assunto relevante para você!\\xa0Agora, imagina se, além da sua vontade de desenvolver as\\xa0soft\\xa0skills\\xa0necessárias para\\xa0se tornar um\\xa0intraempreendedor\\xa0de sucesso, você\\xa0também\\xa0levasse a iniciativa para dentro da sua organização?\\xa0\\xa0 Confira o nosso artigo —\\xa0Um\\xa0software de inovação para fomentar o\\xa0intraempreendedorismo — e descubra como você pode gerenciar a inovação e fomentar o\\xa0intraempreendedorismo\\xa0através do nosso\\xa0software para\\xa0gestão da inovação, o AEVO Innovate.\\xa0 Ah, não deixe de conferir também a história de sucesso da Aviva, empresa do ramo da hotelaria que, assim como a Aeris e a Scholle IPN, escolheu o AEVO Innovate para fomentar o intraempreendedorismo entre os colaboradores.']}"
            ]
          },
          "metadata": {
            "tags": []
          },
          "execution_count": 20
        }
      ]
    },
    {
      "cell_type": "code",
      "metadata": {
        "id": "0c_y_VK8HQ9u",
        "outputId": "8406b0ce-02e5-4869-f4f1-7c0835a0a203"
      },
      "source": [
        "# We can either keep it in dictionary format or put it into a pandas dataframe\n",
        "import pandas as pd\n",
        "pd.set_option('max_colwidth',150)\n",
        "\n",
        "data_df = pd.DataFrame.from_dict(data_combined).transpose()\n",
        "data_df.columns = ['textos']\n",
        "data_df = data_df.sort_index()\n",
        "data_df"
      ],
      "execution_count": null,
      "outputs": [
        {
          "output_type": "execute_result",
          "data": {
            "text/html": [
              "<div>\n",
              "<style scoped>\n",
              "    .dataframe tbody tr th:only-of-type {\n",
              "        vertical-align: middle;\n",
              "    }\n",
              "\n",
              "    .dataframe tbody tr th {\n",
              "        vertical-align: top;\n",
              "    }\n",
              "\n",
              "    .dataframe thead th {\n",
              "        text-align: right;\n",
              "    }\n",
              "</style>\n",
              "<table border=\"1\" class=\"dataframe\">\n",
              "  <thead>\n",
              "    <tr style=\"text-align: right;\">\n",
              "      <th></th>\n",
              "      <th>textos</th>\n",
              "    </tr>\n",
              "  </thead>\n",
              "  <tbody>\n",
              "    <tr>\n",
              "      <th>inovacao aberta</th>\n",
              "      <td>Se você já acompanha nossos conteúdos há algum tempo, sabe a importância do mindset de inovação aberta para construir não somente o agora, como ta...</td>\n",
              "    </tr>\n",
              "    <tr>\n",
              "      <th>inovacao incremental</th>\n",
              "      <td>O termo inovação incremental ganhou força em 1939, marcando presença no livro “Business Cycle” de Joseph Schumpeter, onde foi caracterizado como u...</td>\n",
              "    </tr>\n",
              "    <tr>\n",
              "      <th>intraempreendedorismo</th>\n",
              "      <td>As soft skills são habilidades subjetivas, de difícil identificação e diretamente relacionadas à inteligência emocional das pessoas.  Em tradução ...</td>\n",
              "    </tr>\n",
              "  </tbody>\n",
              "</table>\n",
              "</div>"
            ],
            "text/plain": [
              "                                                                                                                                                                      textos\n",
              "inovacao aberta        Se você já acompanha nossos conteúdos há algum tempo, sabe a importância do mindset de inovação aberta para construir não somente o agora, como ta...\n",
              "inovacao incremental   O termo inovação incremental ganhou força em 1939, marcando presença no livro “Business Cycle” de Joseph Schumpeter, onde foi caracterizado como u...\n",
              "intraempreendedorismo  As soft skills são habilidades subjetivas, de difícil identificação e diretamente relacionadas à inteligência emocional das pessoas.  Em tradução ..."
            ]
          },
          "metadata": {
            "tags": []
          },
          "execution_count": 21
        }
      ]
    },
    {
      "cell_type": "code",
      "metadata": {
        "scrolled": false,
        "id": "HqVd6pTvHQ9w",
        "outputId": "65f30745-5fd4-4f70-afc7-10943f5ee079"
      },
      "source": [
        "#Vamos dar uma olhada no texto de intraempreendedorismo\n",
        "data_df.textos.loc['intraempreendedorismo']"
      ],
      "execution_count": null,
      "outputs": [
        {
          "output_type": "execute_result",
          "data": {
            "text/plain": [
              "'As\\xa0soft\\xa0skills\\xa0são habilidades subjetivas, de difícil identificação e diretamente relacionadas à inteligência emocional das pessoas.\\xa0 Em tradução livre, o termo —\\xa0soft\\xa0skills\\xa0—\\xa0 significa: habilidades interpessoais. Essas habilidades (ou skills) podem ser compreendidas como\\xa0competências pessoais,\\xa0que indicam a forma como aquela pessoa lida com os problemas, como se relaciona e interage com os demais.\\xa0 Afinal, como isso se conecta com o\\xa0intraempreendedorismo?\\xa0 Os profissionais\\xa0intraempreendedores apresentam\\xa0soft\\xa0skills\\xa0de pessoas motivadas, pró-ativas e orientadas para a ação, com habilidades de liderança e pensamento fora da caixa.\\xa0Do mesmo modo, o profissional\\xa0intraempreendedor\\xa0é aquele que tem a\\xa0ousadia de colocar suas ideias em práticas, gerando valor e soluções inovadoras para a organização.\\xa0 Logo, o foco deste artigo é te apresentar as\\xa0soft\\xa0skills\\xa0essenciais para se tornar um bom profissional\\xa0intraempreendedor\\xa0e dar algumas dicas para desenvolvê-las!\\xa0\\xa0 Mas, antes de nos aprofundarmos nesse assunto, confira uma prévia de tudo que você vai encontrar ao longo deste artigo:\\xa0 Por outro lado, se as\\xa0soft\\xa0skills\\xa0dizem respeito às habilidades comportamentais, as\\xa0hard skills\\xa0correspondem às habilidades técnicas.\\xa0 As chamadas\\xa0hard skills\\xa0– são aquelas habilidades que, normalmente, entram no seu currículo e são aprendidas em cursos, faculdades, pós-graduações e outros empregos, e, além disso, são específicas para cada área.\\xa0\\xa0 Assim, diferentemente das\\xa0hard skills, as\\xa0soft\\xa0skills\\xa0são interessantes para qualquer tipo de atuação profissional. Em suma, as\\xa0soft\\xa0skills\\xa0são, geralmente, adquiridas por meio das experiências, pessoais e profissionais, vivenciadas ao longo da vida.\\xa0 É correto pensar que, na prática, ambas são fundamentais para o bom desempenho das atividades de um profissional\\xa0intraempreendedor. Ou seja, quanto mais um profissional conseguir reunir desses dois grupos, melhor candidato e\\xa0intraempreendedor\\xa0ele será.\\xa0A única novidade\\xa0sobre\\xa0isso é que antes se pensava que as\\xa0soft\\xa0skills\\xa0eram características inatas de uma pessoa, e não um conjunto de habilidades que pudesse ser ensinado e estimulado.\\xa0 “À medida que as estruturas organizacionais evoluem e a globalização acelera, essas habilidades serão mais cruciais do que nunca”.\\xa0 \\xa0A citação acima é de Daniel Goleman, considerado o pai da Inteligência Emocional e autor do livro de mesmo nome. Segundo ele, as\\xa0soft\\xa0skills\\xa0são baseadas na inteligência emocional, o que acaba diferenciando profissionais medianos dos excelentes —\\xa0intraempreendedores.\\xa0 Assim, pode-se afirmar que, no mundo atual, onde as\\xa0empresas de todos os portes e segmentos buscam constantemente por inovação e soluções criativas, o profissional que desenvolver e aprimorar suas\\xa0soft\\xa0skills\\xa0empreendedoras se tornará um grande diferencial no ambiente corporativo de grande parte das organizações.\\xa0\\xa0 Isso porque, foi-se o tempo em que o profissional empreendedor deveria deixar a organização em que trabalha para pôr em prática seus projetos inovadores.\\xa0Assim, muitas empresas têm focado em valorizar as competências empreendedoras dos seus colaboradores nos processos da empresa como um\\xa0\\xa0diferencial competitivo.\\xa0 Aproveite e confira: 8 exemplos de intraempreendedorismo para se inspirar Ao se tornar um\\xa0intraempreendedor, você terá oportunidade de se desenvolver e crescer na empresa, ao mesmo tempo que poderá colocar em prática suas\\xa0soft\\xa0skills, trabalhando com mais liberdade e autonomia.\\xa0 Apesar da dificuldade em definir quais são as\\xa0soft\\xa0skills\\xa0mais procuradas atualmente pelas organizações, podemos destacar algumas\\xa0soft\\xa0skills\\xa0que são essenciais para você se tornar um bom\\xa0intraempreendedor.\\xa0 Vamos lá?\\xa0\\xa0\\xa0 Ser empreendedor, diferente do que muitas pessoas pensam, não se restringe a tirar um negócio do papel ou ser chefe de si mesmo. Essa é uma\\xa0das\\xa0soft\\xa0skills\\xa0que permite aos profissionais uma postura mais flexível, além de excelente capacidade para resolução de problemas: duas características essenciais\\xa0para o\\xa0intraempreendedorismo.\\xa0 Por ser uma\\xa0soft\\xa0skill\\xa0extremamente útil em qualquer área de atuação, ela se tornou muito requisitada no mercado atualmente. Em termos gerais, a resiliência é a\\xa0capacidade de se adaptar e se recuperar depois de enfrentar adversidades.\\xa0\\xa0 Mais do que isso, a resiliência é uma habilidade que possibilita o aprendizado. É a partir dessa\\xa0soft\\xa0skill\\xa0que os\\xa0intraempreendedores serão capazes de gerenciar crises e adversidades, saindo delas ainda mais fortes!\\xa0\\xa0 Essa\\xa0soft\\xa0skill\\xa0vai muito além da transmissão e interpretação de ideias, ela abrange também a capacidade de ouvir atentamente, escrever bem e de se comunicar de forma não-violenta, seja na hora de expor as suas ideias ou de dar e receber feedbacks.\\xa0 Os\\xa0intraempreendedores estão, constantemente, envolvidos em projetos em grupo, expondo suas ideias, interagindo com colegas e clientes ou em uma posição de liderança. Dessa forma, o desenvolvimento de uma comunicação eficaz torna-se essencial para os profissionais que desejam se tornar\\xa0intraempreendedores.\\xa0\\xa0 Apesar da habilidade ser mais ou menos exigida, dependendo da área ou cargo, em um mercado tão competitivo quanto o atual, quem demonstrar mais facilidade na elaboração de soluções de forma rápida e inovadora terá a preferência das empresas.\\xa0\\xa0 Nem preciso dizer o porque dessa\\xa0soft\\xa0skill\\xa0ser essencial para os\\xa0intraempreendedores, né? Brincadeiras a parte,\\xa0mas criatividade está diretamente relacionada a nossa capacidade de solucionar problemas e gerar ideias, duas práticas\\xa0fundamentais do\\xa0intraempreendedorismo.\\xa0 Em suma, a empatia pode ser entendida como a capacidade de se colocar no lugar de outra pessoa de forma que se consiga compreender e quase sentir o que ele sente.\\xa0\\xa0 A importância dessa\\xa0soft\\xa0skill\\xa0para o\\xa0intraempreendedorismo\\xa0pode ser explicada em dois aspectos: primeiro, ela é importante em relacionamentos nos quais existe alguma forma de hierarquia ou liderança, se colocar no lugar do outro pode tornar a gestão mais aberta e humana. Em seguida, esta é uma\\xa0soft\\xa0skill\\xa0crucial para a relação entre a empresa e seus clientes. A empatia vai ajudar a entender qual é a dor exata do consumidor.\\xa0\\xa0 Por fim, mas não menos importante, temos a liderança.\\xa0\\xa0 É claro que todas as\\xa0soft\\xa0skills\\xa0citadas acima formarão um bom\\xa0intraempreendedor. Entretanto, a liderança vai além. Essa\\xa0habilidade\\xa0é a soma de todas as demais\\xa0soft\\xa0skills\\xa0e mais um pouco.\\xa0\\xa0\\xa0 Por isso, para o profissional\\xa0intraempreendedor\\xa0conquistar uma liderança, é necessário que ele saiba manusear todas as suas\\xa0soft\\xa0skills\\xa0para explorar o melhor dos colaboradores, fazendo com que se sintam parte do time, assumam responsabilidades e, claro, sejam também\\xa0intraempreendedores.\\xa0\\xa0 Agora que você já sabe as\\xa0soft\\xa0skills\\xa0essenciais para se tornar um profissional\\xa0intraempreendedor, você pode ter se perguntado: o que preciso fazer para desenvolvê-las?\\xa0 Nós sabemos que uma parcela dessas\\xa0soft\\xa0skills\\xa0podem ser aprimoradas com o tempo e com as experiências vividas, mas nada impede que você pegue um atalho para desenvolvê-las.\\xa0 Em primeiro lugar, é importante que você saiba que esse movimento só depende de você. Por isso, o\\xa0ponto de partida talvez esteja no\\xa0autoconhecimento, que é\\xa0aquele famoso\\xa0processo de análise daquilo que você tem de melhor e do que precisa evoluir.\\xa0 Portanto, é preciso estar atento às próprias características, dedicado à melhoria contínua e à reflexão sobre as suas próprias atitudes.\\xa0 Além disso, outra maneira para desenvolver as\\xa0soft\\xa0skills\\xa0é, literalmente, se submetendo a elas. Ou seja, nunca trabalhou em equipe? Procure se inserir em projetos onde isso é necessário. Quer praticar sua empatia? Converse com pessoas que têm pontos de vista totalmente opostos dos seus.\\xa0 \\xa0Se ao ler esse artigo você identificou deficiência em determinada\\xa0soft\\xa0skill, não espere surgir uma oportunidade, como uma promoção no atual emprego ou uma vaga dos sonhos, para desenvolvê-la. O profissional\\xa0intraempreendedor\\xa0é aquele\\xa0que\\xa0decide sair da zona do medianos para se tornar excepcional!\\xa0\\xa0 Você vai ficar aí parado?\\xa0 Bom, se você chegou até aqui, posso afirmar que\\xa0intraempreededorismo é um assunto relevante para você!\\xa0Agora, imagina se, além da sua vontade de desenvolver as\\xa0soft\\xa0skills\\xa0necessárias para\\xa0se tornar um\\xa0intraempreendedor\\xa0de sucesso, você\\xa0também\\xa0levasse a iniciativa para dentro da sua organização?\\xa0\\xa0 Confira o nosso artigo —\\xa0Um\\xa0software de inovação para fomentar o\\xa0intraempreendedorismo — e descubra como você pode gerenciar a inovação e fomentar o\\xa0intraempreendedorismo\\xa0através do nosso\\xa0software para\\xa0gestão da inovação, o AEVO Innovate.\\xa0 Ah, não deixe de conferir também a história de sucesso da Aviva, empresa do ramo da hotelaria que, assim como a Aeris e a Scholle IPN, escolheu o AEVO Innovate para fomentar o intraempreendedorismo entre os colaboradores.'"
            ]
          },
          "metadata": {
            "tags": []
          },
          "execution_count": 23
        }
      ]
    },
    {
      "cell_type": "code",
      "metadata": {
        "id": "FPr1paACHQ9y"
      },
      "source": [
        "# Aplique uma primeira rodada de técnicas de limpeza de texto\n",
        "import re\n",
        "import string\n",
        "\n",
        "def clean_text_round1(text):\n",
        "    '''Make text lowercase, remove text in square brackets, remove punctuation and remove words containing numbers.'''\n",
        "    text = text.lower()\n",
        "    text = re.sub('\\[.*?\\]', '', text)\n",
        "    text = re.sub('[%s]' % re.escape(string.punctuation), '', text)\n",
        "    text = re.sub('\\w*\\d\\w*', '', text)\n",
        "    return text\n",
        "\n",
        "round1 = lambda x: clean_text_round1(x)"
      ],
      "execution_count": null,
      "outputs": []
    },
    {
      "cell_type": "code",
      "metadata": {
        "scrolled": true,
        "id": "QfaAHIsuHQ9z",
        "outputId": "61cc6a27-e4c1-494a-e4e9-9ce524f69de4"
      },
      "source": [
        "# Vamos dar uma olhada no texto atualizado\n",
        "data_clean = pd.DataFrame(data_df.textos.apply(round1))\n",
        "data_clean"
      ],
      "execution_count": null,
      "outputs": [
        {
          "output_type": "execute_result",
          "data": {
            "text/html": [
              "<div>\n",
              "<style scoped>\n",
              "    .dataframe tbody tr th:only-of-type {\n",
              "        vertical-align: middle;\n",
              "    }\n",
              "\n",
              "    .dataframe tbody tr th {\n",
              "        vertical-align: top;\n",
              "    }\n",
              "\n",
              "    .dataframe thead th {\n",
              "        text-align: right;\n",
              "    }\n",
              "</style>\n",
              "<table border=\"1\" class=\"dataframe\">\n",
              "  <thead>\n",
              "    <tr style=\"text-align: right;\">\n",
              "      <th></th>\n",
              "      <th>textos</th>\n",
              "    </tr>\n",
              "  </thead>\n",
              "  <tbody>\n",
              "    <tr>\n",
              "      <th>inovacao aberta</th>\n",
              "      <td>se você já acompanha nossos conteúdos há algum tempo sabe a importância do mindset de inovação aberta para construir não somente o agora como tamb...</td>\n",
              "    </tr>\n",
              "    <tr>\n",
              "      <th>inovacao incremental</th>\n",
              "      <td>o termo inovação incremental ganhou força em  marcando presença no livro “business cycle” de joseph schumpeter onde foi caracterizado como um tipo...</td>\n",
              "    </tr>\n",
              "    <tr>\n",
              "      <th>intraempreendedorismo</th>\n",
              "      <td>as soft skills são habilidades subjetivas de difícil identificação e diretamente relacionadas à inteligência emocional das pessoas  em tradução li...</td>\n",
              "    </tr>\n",
              "  </tbody>\n",
              "</table>\n",
              "</div>"
            ],
            "text/plain": [
              "                                                                                                                                                                      textos\n",
              "inovacao aberta        se você já acompanha nossos conteúdos há algum tempo sabe a importância do mindset de inovação aberta para construir não somente o agora como tamb...\n",
              "inovacao incremental   o termo inovação incremental ganhou força em  marcando presença no livro “business cycle” de joseph schumpeter onde foi caracterizado como um tipo...\n",
              "intraempreendedorismo  as soft skills são habilidades subjetivas de difícil identificação e diretamente relacionadas à inteligência emocional das pessoas  em tradução li..."
            ]
          },
          "metadata": {
            "tags": []
          },
          "execution_count": 26
        }
      ]
    },
    {
      "cell_type": "code",
      "metadata": {
        "id": "orMcYlm6HQ90"
      },
      "source": [
        "# Aplique uma segunda rodada de limpeza\n",
        "def clean_text_round2(text):\n",
        "    '''Get rid of some additional punctuation and non-sensical text that was missed the first time around.'''\n",
        "    text = re.sub('[‘’“”…]', '', text)\n",
        "    text = re.sub('\\n', '', text)\n",
        "    return text\n",
        "\n",
        "round2 = lambda x: clean_text_round2(x)"
      ],
      "execution_count": null,
      "outputs": []
    },
    {
      "cell_type": "code",
      "metadata": {
        "id": "HyBCpMKyHQ91",
        "outputId": "418ca21b-1669-4414-91a8-6431507aa5cc"
      },
      "source": [
        "# Vamos dar uma olhada no texto atualizado\n",
        "data_clean = pd.DataFrame(data_clean.textos.apply(round2))\n",
        "\n"
      ],
      "execution_count": null,
      "outputs": [
        {
          "output_type": "execute_result",
          "data": {
            "text/html": [
              "<div>\n",
              "<style scoped>\n",
              "    .dataframe tbody tr th:only-of-type {\n",
              "        vertical-align: middle;\n",
              "    }\n",
              "\n",
              "    .dataframe tbody tr th {\n",
              "        vertical-align: top;\n",
              "    }\n",
              "\n",
              "    .dataframe thead th {\n",
              "        text-align: right;\n",
              "    }\n",
              "</style>\n",
              "<table border=\"1\" class=\"dataframe\">\n",
              "  <thead>\n",
              "    <tr style=\"text-align: right;\">\n",
              "      <th></th>\n",
              "      <th>textos</th>\n",
              "    </tr>\n",
              "  </thead>\n",
              "  <tbody>\n",
              "    <tr>\n",
              "      <th>inovacao aberta</th>\n",
              "      <td>se você já acompanha nossos conteúdos há algum tempo sabe a importância do mindset de inovação aberta para construir não somente o agora como tamb...</td>\n",
              "    </tr>\n",
              "    <tr>\n",
              "      <th>inovacao incremental</th>\n",
              "      <td>o termo inovação incremental ganhou força em  marcando presença no livro business cycle de joseph schumpeter onde foi caracterizado como um tipo d...</td>\n",
              "    </tr>\n",
              "    <tr>\n",
              "      <th>intraempreendedorismo</th>\n",
              "      <td>as soft skills são habilidades subjetivas de difícil identificação e diretamente relacionadas à inteligência emocional das pessoas  em tradução li...</td>\n",
              "    </tr>\n",
              "  </tbody>\n",
              "</table>\n",
              "</div>"
            ],
            "text/plain": [
              "                                                                                                                                                                      textos\n",
              "inovacao aberta        se você já acompanha nossos conteúdos há algum tempo sabe a importância do mindset de inovação aberta para construir não somente o agora como tamb...\n",
              "inovacao incremental   o termo inovação incremental ganhou força em  marcando presença no livro business cycle de joseph schumpeter onde foi caracterizado como um tipo d...\n",
              "intraempreendedorismo  as soft skills são habilidades subjetivas de difícil identificação e diretamente relacionadas à inteligência emocional das pessoas  em tradução li..."
            ]
          },
          "metadata": {
            "tags": []
          },
          "execution_count": 28
        }
      ]
    },
    {
      "cell_type": "markdown",
      "metadata": {
        "id": "1tFO0l_VHQ92"
      },
      "source": [
        "**NOTE:** Essa limpeza de dados, também conhecida como etapa de pré-processamento de texto, pode continuar por um tempo, mas vamos parar por enquanto. Depois de passar por algumas técnicas de análise, se você perceber que os resultados não fazem sentido ou podem ser melhorados, você pode voltar e fazer mais edições, como:\n",
        "1. Stemming/Lemmatization\n",
        "2. Combine termos em um termo(bi-gramas)\n",
        "3. E muito mais ... "
      ]
    },
    {
      "cell_type": "markdown",
      "metadata": {
        "id": "eMoIkC-dHQ92"
      },
      "source": [
        "# Organizando Os Dados\n",
        "\n",
        "Mencionei anteriormente que a saída deste bloco de notas serão dados limpos e organizados em dois formatos de texto padrão:\n",
        "\n",
        "1. Corpus - uma coleção de texto\n",
        "2. Matriz de documento-termo - contagem de palavras em formato de matriz\n",
        "\n",
        "\n",
        "## Corpus\n",
        "\n",
        "Já criamos um corpus em uma etapa anterior. A definição de corpus é uma coleção de textos, e todos eles são agrupados ordenadamente em um dataframe de pandas aqui."
      ]
    },
    {
      "cell_type": "code",
      "metadata": {
        "scrolled": false,
        "id": "g9m0MvunHQ93",
        "outputId": "a431e184-7fb5-44a1-ed6d-9339acf704d6"
      },
      "source": [
        "# Vamos dar uma olhada em nosso dataframe\n",
        "data_df\n"
      ],
      "execution_count": null,
      "outputs": [
        {
          "output_type": "execute_result",
          "data": {
            "text/html": [
              "<div>\n",
              "<style scoped>\n",
              "    .dataframe tbody tr th:only-of-type {\n",
              "        vertical-align: middle;\n",
              "    }\n",
              "\n",
              "    .dataframe tbody tr th {\n",
              "        vertical-align: top;\n",
              "    }\n",
              "\n",
              "    .dataframe thead th {\n",
              "        text-align: right;\n",
              "    }\n",
              "</style>\n",
              "<table border=\"1\" class=\"dataframe\">\n",
              "  <thead>\n",
              "    <tr style=\"text-align: right;\">\n",
              "      <th></th>\n",
              "      <th>textos</th>\n",
              "      <th>full_name</th>\n",
              "    </tr>\n",
              "  </thead>\n",
              "  <tbody>\n",
              "    <tr>\n",
              "      <th>inovacao aberta</th>\n",
              "      <td>Se você já acompanha nossos conteúdos há algum tempo, sabe a importância do mindset de inovação aberta para construir não somente o agora, como ta...</td>\n",
              "      <td>Inovação Aberta</td>\n",
              "    </tr>\n",
              "    <tr>\n",
              "      <th>inovacao incremental</th>\n",
              "      <td>O termo inovação incremental ganhou força em 1939, marcando presença no livro “Business Cycle” de Joseph Schumpeter, onde foi caracterizado como u...</td>\n",
              "      <td>Inovação Incremental</td>\n",
              "    </tr>\n",
              "    <tr>\n",
              "      <th>intraempreendedorismo</th>\n",
              "      <td>As soft skills são habilidades subjetivas, de difícil identificação e diretamente relacionadas à inteligência emocional das pessoas.  Em tradução ...</td>\n",
              "      <td>Intraempreendedorismo</td>\n",
              "    </tr>\n",
              "  </tbody>\n",
              "</table>\n",
              "</div>"
            ],
            "text/plain": [
              "                                                                                                                                                                      textos  \\\n",
              "inovacao aberta        Se você já acompanha nossos conteúdos há algum tempo, sabe a importância do mindset de inovação aberta para construir não somente o agora, como ta...   \n",
              "inovacao incremental   O termo inovação incremental ganhou força em 1939, marcando presença no livro “Business Cycle” de Joseph Schumpeter, onde foi caracterizado como u...   \n",
              "intraempreendedorismo  As soft skills são habilidades subjetivas, de difícil identificação e diretamente relacionadas à inteligência emocional das pessoas.  Em tradução ...   \n",
              "\n",
              "                                   full_name  \n",
              "inovacao aberta              Inovação Aberta  \n",
              "inovacao incremental    Inovação Incremental  \n",
              "intraempreendedorismo  Intraempreendedorismo  "
            ]
          },
          "metadata": {
            "tags": []
          },
          "execution_count": 32
        }
      ]
    },
    {
      "cell_type": "code",
      "metadata": {
        "id": "jw_B4PbEHQ94",
        "outputId": "3a476e37-7a63-49a9-9ac2-c165f2c6f52e"
      },
      "source": [
        "# Adicionar o nome completo dos assuntos\n",
        "full_names = ['Inovação Aberta', 'Inovação Incremental', 'Intraempreendedorismo']\n",
        "\n",
        "data_df['full_name'] = full_names\n",
        "data_df"
      ],
      "execution_count": null,
      "outputs": [
        {
          "output_type": "execute_result",
          "data": {
            "text/html": [
              "<div>\n",
              "<style scoped>\n",
              "    .dataframe tbody tr th:only-of-type {\n",
              "        vertical-align: middle;\n",
              "    }\n",
              "\n",
              "    .dataframe tbody tr th {\n",
              "        vertical-align: top;\n",
              "    }\n",
              "\n",
              "    .dataframe thead th {\n",
              "        text-align: right;\n",
              "    }\n",
              "</style>\n",
              "<table border=\"1\" class=\"dataframe\">\n",
              "  <thead>\n",
              "    <tr style=\"text-align: right;\">\n",
              "      <th></th>\n",
              "      <th>textos</th>\n",
              "      <th>full_name</th>\n",
              "    </tr>\n",
              "  </thead>\n",
              "  <tbody>\n",
              "    <tr>\n",
              "      <th>inovacao aberta</th>\n",
              "      <td>Se você já acompanha nossos conteúdos há algum tempo, sabe a importância do mindset de inovação aberta para construir não somente o agora, como ta...</td>\n",
              "      <td>Inovação Aberta</td>\n",
              "    </tr>\n",
              "    <tr>\n",
              "      <th>inovacao incremental</th>\n",
              "      <td>O termo inovação incremental ganhou força em 1939, marcando presença no livro “Business Cycle” de Joseph Schumpeter, onde foi caracterizado como u...</td>\n",
              "      <td>Inovação Incremental</td>\n",
              "    </tr>\n",
              "    <tr>\n",
              "      <th>intraempreendedorismo</th>\n",
              "      <td>As soft skills são habilidades subjetivas, de difícil identificação e diretamente relacionadas à inteligência emocional das pessoas.  Em tradução ...</td>\n",
              "      <td>Intraempreendedorismo</td>\n",
              "    </tr>\n",
              "  </tbody>\n",
              "</table>\n",
              "</div>"
            ],
            "text/plain": [
              "                                                                                                                                                                      textos  \\\n",
              "inovacao aberta        Se você já acompanha nossos conteúdos há algum tempo, sabe a importância do mindset de inovação aberta para construir não somente o agora, como ta...   \n",
              "inovacao incremental   O termo inovação incremental ganhou força em 1939, marcando presença no livro “Business Cycle” de Joseph Schumpeter, onde foi caracterizado como u...   \n",
              "intraempreendedorismo  As soft skills são habilidades subjetivas, de difícil identificação e diretamente relacionadas à inteligência emocional das pessoas.  Em tradução ...   \n",
              "\n",
              "                                   full_name  \n",
              "inovacao aberta              Inovação Aberta  \n",
              "inovacao incremental    Inovação Incremental  \n",
              "intraempreendedorismo  Intraempreendedorismo  "
            ]
          },
          "metadata": {
            "tags": []
          },
          "execution_count": 33
        }
      ]
    },
    {
      "cell_type": "code",
      "metadata": {
        "id": "rHkWLIDyHQ95"
      },
      "source": [
        "#  pickle para uso posterior\n",
        "data_df.to_pickle(\"corpus.pkl\")"
      ],
      "execution_count": null,
      "outputs": []
    },
    {
      "cell_type": "markdown",
      "metadata": {
        "id": "Gs8ENaonHQ96"
      },
      "source": [
        "# Document-Term Matrix\n",
        "\n",
        "Para muitas das técnicas que usaremos nos futuros notebooks, o texto deve ser tokenizado, ou seja, dividido em pedaços menores. A técnica de tokenização mais comum é dividir o texto em palavras. Podemos fazer isso usando o CountVectorizer do scikit-learn, onde cada linha representará um documento diferente e cada coluna representará uma palavra diferente.\n",
        "\n",
        "Além disso, com CountVectorizer, podemos remover stopwors. Stopwords são palavras comuns que não acrescentam nenhum significado adicional ao texto, como 'a', 'o' etc."
      ]
    },
    {
      "cell_type": "code",
      "metadata": {
        "id": "YqdGDHr3HQ96",
        "outputId": "fff0f9ad-fc22-4c48-a8fa-fab6e8d79966"
      },
      "source": [
        "# Vamos criar uma document-term matrix usando CountVectorizer e excluir palavras irrelevantes comuns \n",
        "from sklearn.feature_extraction.text import CountVectorizer\n",
        "from nltk.corpus import stopwords\n",
        "from string import punctuation\n",
        "\n",
        "stopwords = set(stopwords.words('portuguese') + list(punctuation))\n",
        "\n",
        "cv = CountVectorizer(stop_words=stopwords)\n",
        "data_cv = cv.fit_transform(data_clean.textos)\n",
        "data_dtm = pd.DataFrame(data_cv.toarray(), columns=cv.get_feature_names())\n",
        "data_dtm.index = data_clean.index\n",
        "data_dtm"
      ],
      "execution_count": null,
      "outputs": [
        {
          "output_type": "execute_result",
          "data": {
            "text/html": [
              "<div>\n",
              "<style scoped>\n",
              "    .dataframe tbody tr th:only-of-type {\n",
              "        vertical-align: middle;\n",
              "    }\n",
              "\n",
              "    .dataframe tbody tr th {\n",
              "        vertical-align: top;\n",
              "    }\n",
              "\n",
              "    .dataframe thead th {\n",
              "        text-align: right;\n",
              "    }\n",
              "</style>\n",
              "<table border=\"1\" class=\"dataframe\">\n",
              "  <thead>\n",
              "    <tr style=\"text-align: right;\">\n",
              "      <th></th>\n",
              "      <th>abacaxi</th>\n",
              "      <th>aberta</th>\n",
              "      <th>abertos</th>\n",
              "      <th>abrange</th>\n",
              "      <th>abrir</th>\n",
              "      <th>acaba</th>\n",
              "      <th>acelera</th>\n",
              "      <th>acima</th>\n",
              "      <th>acompanha</th>\n",
              "      <th>acompanhe</th>\n",
              "      <th>...</th>\n",
              "      <th>webinars</th>\n",
              "      <th>whatsapp</th>\n",
              "      <th>zona</th>\n",
              "      <th>ágil</th>\n",
              "      <th>álcool</th>\n",
              "      <th>área</th>\n",
              "      <th>áreas</th>\n",
              "      <th>ótima</th>\n",
              "      <th>única</th>\n",
              "      <th>útil</th>\n",
              "    </tr>\n",
              "  </thead>\n",
              "  <tbody>\n",
              "    <tr>\n",
              "      <th>inovacao aberta</th>\n",
              "      <td>0</td>\n",
              "      <td>9</td>\n",
              "      <td>1</td>\n",
              "      <td>0</td>\n",
              "      <td>1</td>\n",
              "      <td>0</td>\n",
              "      <td>0</td>\n",
              "      <td>1</td>\n",
              "      <td>1</td>\n",
              "      <td>1</td>\n",
              "      <td>...</td>\n",
              "      <td>1</td>\n",
              "      <td>1</td>\n",
              "      <td>0</td>\n",
              "      <td>2</td>\n",
              "      <td>2</td>\n",
              "      <td>5</td>\n",
              "      <td>4</td>\n",
              "      <td>2</td>\n",
              "      <td>0</td>\n",
              "      <td>0</td>\n",
              "    </tr>\n",
              "    <tr>\n",
              "      <th>inovacao incremental</th>\n",
              "      <td>1</td>\n",
              "      <td>0</td>\n",
              "      <td>0</td>\n",
              "      <td>0</td>\n",
              "      <td>0</td>\n",
              "      <td>0</td>\n",
              "      <td>0</td>\n",
              "      <td>3</td>\n",
              "      <td>0</td>\n",
              "      <td>0</td>\n",
              "      <td>...</td>\n",
              "      <td>0</td>\n",
              "      <td>0</td>\n",
              "      <td>0</td>\n",
              "      <td>0</td>\n",
              "      <td>0</td>\n",
              "      <td>0</td>\n",
              "      <td>0</td>\n",
              "      <td>0</td>\n",
              "      <td>0</td>\n",
              "      <td>0</td>\n",
              "    </tr>\n",
              "    <tr>\n",
              "      <th>intraempreendedorismo</th>\n",
              "      <td>0</td>\n",
              "      <td>1</td>\n",
              "      <td>0</td>\n",
              "      <td>1</td>\n",
              "      <td>0</td>\n",
              "      <td>1</td>\n",
              "      <td>1</td>\n",
              "      <td>2</td>\n",
              "      <td>0</td>\n",
              "      <td>0</td>\n",
              "      <td>...</td>\n",
              "      <td>0</td>\n",
              "      <td>0</td>\n",
              "      <td>1</td>\n",
              "      <td>0</td>\n",
              "      <td>0</td>\n",
              "      <td>3</td>\n",
              "      <td>0</td>\n",
              "      <td>0</td>\n",
              "      <td>1</td>\n",
              "      <td>1</td>\n",
              "    </tr>\n",
              "  </tbody>\n",
              "</table>\n",
              "<p>3 rows × 1230 columns</p>\n",
              "</div>"
            ],
            "text/plain": [
              "                       abacaxi  aberta  abertos  abrange  abrir  acaba  \\\n",
              "inovacao aberta              0       9        1        0      1      0   \n",
              "inovacao incremental         1       0        0        0      0      0   \n",
              "intraempreendedorismo        0       1        0        1      0      1   \n",
              "\n",
              "                       acelera  acima  acompanha  acompanhe  ...  webinars  \\\n",
              "inovacao aberta              0      1          1          1  ...         1   \n",
              "inovacao incremental         0      3          0          0  ...         0   \n",
              "intraempreendedorismo        1      2          0          0  ...         0   \n",
              "\n",
              "                       whatsapp  zona  ágil  álcool  área  áreas  ótima  \\\n",
              "inovacao aberta               1     0     2       2     5      4      2   \n",
              "inovacao incremental          0     0     0       0     0      0      0   \n",
              "intraempreendedorismo         0     1     0       0     3      0      0   \n",
              "\n",
              "                       única  útil  \n",
              "inovacao aberta            0     0  \n",
              "inovacao incremental       0     0  \n",
              "intraempreendedorismo      1     1  \n",
              "\n",
              "[3 rows x 1230 columns]"
            ]
          },
          "metadata": {
            "tags": []
          },
          "execution_count": 39
        }
      ]
    },
    {
      "cell_type": "code",
      "metadata": {
        "id": "qNyE9_XoHQ97"
      },
      "source": [
        "# pickle para uso posterior\n",
        "data_dtm.to_pickle(\"dtm.pkl\")"
      ],
      "execution_count": null,
      "outputs": []
    },
    {
      "cell_type": "code",
      "metadata": {
        "id": "LJdFshPBHQ98"
      },
      "source": [
        "#Vamos também selecionar os dados limpos (antes de colocá-los no formato document-term matrix) e o objeto CountVectorizer\n",
        "data_clean.to_pickle('data_clean.pkl')\n",
        "pickle.dump(cv, open(\"cv.pkl\", \"wb\"))"
      ],
      "execution_count": null,
      "outputs": []
    },
    {
      "cell_type": "markdown",
      "metadata": {
        "id": "EVyATJCWHQ99"
      },
      "source": [
        "# Análise exploratória de dados\n",
        "\n",
        "## Introdução\n",
        "\n",
        "Após a etapa de limpeza de dados, em que colocamos nossos dados em alguns formatos padrão, a próxima etapa é dar uma olhada nos dados e ver se o que estamos vendo faz sentido. Antes de aplicar qualquer algoritmo sofisticado, é sempre importante explorar os dados primeiro.\n",
        "Ao trabalhar com dados numéricos, algumas das técnicas de análise exploratória de dados (EDA) que podemos usar incluem encontrar a média do conjunto de dados, a distribuição dos dados, os valores mais comuns, etc. A ideia é a mesma ao trabalhar com dados de texto. Vamos encontrar alguns padrões mais óbvios com EDA antes de identificar os padrões ocultos com técnicas de aprendizado de máquina (ML). Veremos o seguinte para cada comediante:\n",
        "Palavras mais comuns - encontre-as e crie nuvens de palavras\n",
        "Tamanho do vocabulário - veja o número de palavras exclusivas\n",
        "Quantidade de palavrões - termos mais comuns"
      ]
    },
    {
      "cell_type": "markdown",
      "metadata": {
        "id": "P8vhPFzDHQ99"
      },
      "source": [
        "## Palavras mais comuns\n",
        "\n",
        "### Analíse"
      ]
    },
    {
      "cell_type": "code",
      "metadata": {
        "id": "Eniz2J0THQ99",
        "outputId": "cb7f3166-fded-4110-d36c-343d9dbfd8a3"
      },
      "source": [
        "# Leia na document-term matrix\n",
        "import pandas as pd\n",
        "\n",
        "data = pd.read_pickle('dtm.pkl')\n",
        "data = data.transpose()\n",
        "data.head()"
      ],
      "execution_count": null,
      "outputs": [
        {
          "output_type": "execute_result",
          "data": {
            "text/html": [
              "<div>\n",
              "<style scoped>\n",
              "    .dataframe tbody tr th:only-of-type {\n",
              "        vertical-align: middle;\n",
              "    }\n",
              "\n",
              "    .dataframe tbody tr th {\n",
              "        vertical-align: top;\n",
              "    }\n",
              "\n",
              "    .dataframe thead th {\n",
              "        text-align: right;\n",
              "    }\n",
              "</style>\n",
              "<table border=\"1\" class=\"dataframe\">\n",
              "  <thead>\n",
              "    <tr style=\"text-align: right;\">\n",
              "      <th></th>\n",
              "      <th>inovacao aberta</th>\n",
              "      <th>inovacao incremental</th>\n",
              "      <th>intraempreendedorismo</th>\n",
              "    </tr>\n",
              "  </thead>\n",
              "  <tbody>\n",
              "    <tr>\n",
              "      <th>abacaxi</th>\n",
              "      <td>0</td>\n",
              "      <td>1</td>\n",
              "      <td>0</td>\n",
              "    </tr>\n",
              "    <tr>\n",
              "      <th>aberta</th>\n",
              "      <td>9</td>\n",
              "      <td>0</td>\n",
              "      <td>1</td>\n",
              "    </tr>\n",
              "    <tr>\n",
              "      <th>abertos</th>\n",
              "      <td>1</td>\n",
              "      <td>0</td>\n",
              "      <td>0</td>\n",
              "    </tr>\n",
              "    <tr>\n",
              "      <th>abrange</th>\n",
              "      <td>0</td>\n",
              "      <td>0</td>\n",
              "      <td>1</td>\n",
              "    </tr>\n",
              "    <tr>\n",
              "      <th>abrir</th>\n",
              "      <td>1</td>\n",
              "      <td>0</td>\n",
              "      <td>0</td>\n",
              "    </tr>\n",
              "  </tbody>\n",
              "</table>\n",
              "</div>"
            ],
            "text/plain": [
              "         inovacao aberta  inovacao incremental  intraempreendedorismo\n",
              "abacaxi                0                     1                      0\n",
              "aberta                 9                     0                      1\n",
              "abertos                1                     0                      0\n",
              "abrange                0                     0                      1\n",
              "abrir                  1                     0                      0"
            ]
          },
          "metadata": {
            "tags": []
          },
          "execution_count": 42
        }
      ]
    },
    {
      "cell_type": "code",
      "metadata": {
        "scrolled": false,
        "id": "R2HpP23oHQ9-",
        "outputId": "1826c798-5009-4ef9-f2c3-f0193af346aa"
      },
      "source": [
        "# Ache o top 30 palavras para cada assunto\n",
        "top_dict = {}\n",
        "for c in data.columns:\n",
        "    top = data[c].sort_values(ascending=False).head(30)\n",
        "    top_dict[c]= list(zip(top.index, top.values))\n",
        "\n",
        "top_dict"
      ],
      "execution_count": null,
      "outputs": [
        {
          "output_type": "execute_result",
          "data": {
            "text/plain": [
              "{'inovacao aberta': [('inovação', 33),\n",
              "  ('mirella', 14),\n",
              "  ('empresa', 12),\n",
              "  ('momento', 12),\n",
              "  ('lucas', 11),\n",
              "  ('crise', 10),\n",
              "  ('basf', 10),\n",
              "  ('empresas', 10),\n",
              "  ('negócio', 10),\n",
              "  ('colaboradores', 9),\n",
              "  ('aberta', 9),\n",
              "  ('soluções', 8),\n",
              "  ('ambev', 8),\n",
              "  ('valor', 8),\n",
              "  ('sobre', 8),\n",
              "  ('iniciativas', 7),\n",
              "  ('ser', 7),\n",
              "  ('forma', 7),\n",
              "  ('cliente', 7),\n",
              "  ('onono', 6),\n",
              "  ('nesse', 6),\n",
              "  ('outras', 6),\n",
              "  ('cenário', 6),\n",
              "  ('pode', 6),\n",
              "  ('trabalho', 5),\n",
              "  ('reuniões', 5),\n",
              "  ('área', 5),\n",
              "  ('respeito', 5),\n",
              "  ('startups', 5),\n",
              "  ('projetos', 5)],\n",
              " 'inovacao incremental': [('inovação', 21),\n",
              "  ('incremental', 12),\n",
              "  ('colaboradores', 12),\n",
              "  ('produto', 9),\n",
              "  ('frente', 8),\n",
              "  ('organização', 8),\n",
              "  ('business', 7),\n",
              "  ('todos', 6),\n",
              "  ('core', 6),\n",
              "  ('google', 5),\n",
              "  ('mercado', 5),\n",
              "  ('tempo', 5),\n",
              "  ('entender', 5),\n",
              "  ('podemos', 5),\n",
              "  ('ser', 5),\n",
              "  ('ideias', 5),\n",
              "  ('conhecimento', 5),\n",
              "  ('alto', 4),\n",
              "  ('melhoria', 4),\n",
              "  ('processo', 4),\n",
              "  ('processos', 4),\n",
              "  ('pode', 4),\n",
              "  ('programa', 4),\n",
              "  ('estratégia', 4),\n",
              "  ('escala', 4),\n",
              "  ('forma', 4),\n",
              "  ('minutos', 4),\n",
              "  ('tipo', 3),\n",
              "  ('recursos', 3),\n",
              "  ('valor', 3)],\n",
              " 'intraempreendedorismo': [('soft', 28),\n",
              "  ('skills', 25),\n",
              "  ('intraempreendedor', 11),\n",
              "  ('profissional', 10),\n",
              "  ('ser', 10),\n",
              "  ('habilidades', 9),\n",
              "  ('tornar', 8),\n",
              "  ('intraempreendedorismo', 8),\n",
              "  ('skill', 7),\n",
              "  ('intraempreendedores', 7),\n",
              "  ('além', 6),\n",
              "  ('liderança', 6),\n",
              "  ('forma', 6),\n",
              "  ('pode', 5),\n",
              "  ('ideias', 5),\n",
              "  ('bom', 5),\n",
              "  ('profissionais', 5),\n",
              "  ('vai', 5),\n",
              "  ('capacidade', 5),\n",
              "  ('essenciais', 4),\n",
              "  ('colocar', 4),\n",
              "  ('inovação', 4),\n",
              "  ('artigo', 4),\n",
              "  ('dessa', 4),\n",
              "  ('empresa', 4),\n",
              "  ('assim', 4),\n",
              "  ('pessoas', 4),\n",
              "  ('desenvolver', 4),\n",
              "  ('desenvolvêlas', 3),\n",
              "  ('lugar', 3)]}"
            ]
          },
          "metadata": {
            "tags": []
          },
          "execution_count": 43
        }
      ]
    },
    {
      "cell_type": "code",
      "metadata": {
        "id": "S0cn7ySCHQ9_",
        "outputId": "8593970d-1664-43fe-ccd8-a24ba8dbf0d8"
      },
      "source": [
        "# Prine top15 palavras para cada assunto\n",
        "for assunto, top_words in top_dict.items():\n",
        "    print(assunto)\n",
        "    print(', '.join([word for word, count in top_words[0:14]]))\n",
        "    print('---')"
      ],
      "execution_count": null,
      "outputs": [
        {
          "output_type": "stream",
          "text": [
            "inovacao aberta\n",
            "inovação, mirella, empresa, momento, lucas, crise, basf, empresas, negócio, colaboradores, aberta, soluções, ambev, valor\n",
            "---\n",
            "inovacao incremental\n",
            "inovação, incremental, colaboradores, produto, frente, organização, business, todos, core, google, mercado, tempo, entender, podemos\n",
            "---\n",
            "intraempreendedorismo\n",
            "soft, skills, intraempreendedor, profissional, ser, habilidades, tornar, intraempreendedorismo, skill, intraempreendedores, além, liderança, forma, pode\n",
            "---\n"
          ],
          "name": "stdout"
        }
      ]
    },
    {
      "cell_type": "markdown",
      "metadata": {
        "id": "qjH7YZ3SHQ-A"
      },
      "source": [
        "**NOTA:** neste ponto, poderíamos continuar e criar nuvens de palavras. No entanto, olhando para essas palavras principais, você pode ver que algumas delas têm muito pouco significado e podem ser adicionadas a uma lista de palavras de interrupção, então vamos fazer exatamente isso."
      ]
    },
    {
      "cell_type": "code",
      "metadata": {
        "id": "Dd6rcZYcHQ-A",
        "outputId": "3842f8f1-fd46-4599-c41d-d88c75274ae1"
      },
      "source": [
        "# Veja as palavras de parada mais comuns -> adicione-as à lista de stopwords\n",
        "from collections import Counter\n",
        "\n",
        "# Vamos primeiro retirar as 30 principais palavras de cada assunto\n",
        "words = []\n",
        "for assunto in data.columns:\n",
        "    top = [word for (word, count) in top_dict[assunto]]\n",
        "    for t in top:\n",
        "        words.append(t)\n",
        "        \n",
        "words"
      ],
      "execution_count": null,
      "outputs": [
        {
          "output_type": "execute_result",
          "data": {
            "text/plain": [
              "['inovação',\n",
              " 'mirella',\n",
              " 'empresa',\n",
              " 'momento',\n",
              " 'lucas',\n",
              " 'crise',\n",
              " 'basf',\n",
              " 'empresas',\n",
              " 'negócio',\n",
              " 'colaboradores',\n",
              " 'aberta',\n",
              " 'soluções',\n",
              " 'ambev',\n",
              " 'valor',\n",
              " 'sobre',\n",
              " 'iniciativas',\n",
              " 'ser',\n",
              " 'forma',\n",
              " 'cliente',\n",
              " 'onono',\n",
              " 'nesse',\n",
              " 'outras',\n",
              " 'cenário',\n",
              " 'pode',\n",
              " 'trabalho',\n",
              " 'reuniões',\n",
              " 'área',\n",
              " 'respeito',\n",
              " 'startups',\n",
              " 'projetos',\n",
              " 'inovação',\n",
              " 'incremental',\n",
              " 'colaboradores',\n",
              " 'produto',\n",
              " 'frente',\n",
              " 'organização',\n",
              " 'business',\n",
              " 'todos',\n",
              " 'core',\n",
              " 'google',\n",
              " 'mercado',\n",
              " 'tempo',\n",
              " 'entender',\n",
              " 'podemos',\n",
              " 'ser',\n",
              " 'ideias',\n",
              " 'conhecimento',\n",
              " 'alto',\n",
              " 'melhoria',\n",
              " 'processo',\n",
              " 'processos',\n",
              " 'pode',\n",
              " 'programa',\n",
              " 'estratégia',\n",
              " 'escala',\n",
              " 'forma',\n",
              " 'minutos',\n",
              " 'tipo',\n",
              " 'recursos',\n",
              " 'valor',\n",
              " 'soft',\n",
              " 'skills',\n",
              " 'intraempreendedor',\n",
              " 'profissional',\n",
              " 'ser',\n",
              " 'habilidades',\n",
              " 'tornar',\n",
              " 'intraempreendedorismo',\n",
              " 'skill',\n",
              " 'intraempreendedores',\n",
              " 'além',\n",
              " 'liderança',\n",
              " 'forma',\n",
              " 'pode',\n",
              " 'ideias',\n",
              " 'bom',\n",
              " 'profissionais',\n",
              " 'vai',\n",
              " 'capacidade',\n",
              " 'essenciais',\n",
              " 'colocar',\n",
              " 'inovação',\n",
              " 'artigo',\n",
              " 'dessa',\n",
              " 'empresa',\n",
              " 'assim',\n",
              " 'pessoas',\n",
              " 'desenvolver',\n",
              " 'desenvolvêlas',\n",
              " 'lugar']"
            ]
          },
          "metadata": {
            "tags": []
          },
          "execution_count": 46
        }
      ]
    },
    {
      "cell_type": "code",
      "metadata": {
        "id": "5aq4-WP7HQ-B",
        "outputId": "6791efb9-76a7-4ea1-b20b-9a40bd8f687a"
      },
      "source": [
        "# Let's aggregate this list and identify the most common words along with how many routines they occur in\n",
        "Counter(words).most_common()"
      ],
      "execution_count": null,
      "outputs": [
        {
          "output_type": "execute_result",
          "data": {
            "text/plain": [
              "[('inovação', 3),\n",
              " ('ser', 3),\n",
              " ('forma', 3),\n",
              " ('pode', 3),\n",
              " ('empresa', 2),\n",
              " ('colaboradores', 2),\n",
              " ('valor', 2),\n",
              " ('ideias', 2),\n",
              " ('mirella', 1),\n",
              " ('momento', 1),\n",
              " ('lucas', 1),\n",
              " ('crise', 1),\n",
              " ('basf', 1),\n",
              " ('empresas', 1),\n",
              " ('negócio', 1),\n",
              " ('aberta', 1),\n",
              " ('soluções', 1),\n",
              " ('ambev', 1),\n",
              " ('sobre', 1),\n",
              " ('iniciativas', 1),\n",
              " ('cliente', 1),\n",
              " ('onono', 1),\n",
              " ('nesse', 1),\n",
              " ('outras', 1),\n",
              " ('cenário', 1),\n",
              " ('trabalho', 1),\n",
              " ('reuniões', 1),\n",
              " ('área', 1),\n",
              " ('respeito', 1),\n",
              " ('startups', 1),\n",
              " ('projetos', 1),\n",
              " ('incremental', 1),\n",
              " ('produto', 1),\n",
              " ('frente', 1),\n",
              " ('organização', 1),\n",
              " ('business', 1),\n",
              " ('todos', 1),\n",
              " ('core', 1),\n",
              " ('google', 1),\n",
              " ('mercado', 1),\n",
              " ('tempo', 1),\n",
              " ('entender', 1),\n",
              " ('podemos', 1),\n",
              " ('conhecimento', 1),\n",
              " ('alto', 1),\n",
              " ('melhoria', 1),\n",
              " ('processo', 1),\n",
              " ('processos', 1),\n",
              " ('programa', 1),\n",
              " ('estratégia', 1),\n",
              " ('escala', 1),\n",
              " ('minutos', 1),\n",
              " ('tipo', 1),\n",
              " ('recursos', 1),\n",
              " ('soft', 1),\n",
              " ('skills', 1),\n",
              " ('intraempreendedor', 1),\n",
              " ('profissional', 1),\n",
              " ('habilidades', 1),\n",
              " ('tornar', 1),\n",
              " ('intraempreendedorismo', 1),\n",
              " ('skill', 1),\n",
              " ('intraempreendedores', 1),\n",
              " ('além', 1),\n",
              " ('liderança', 1),\n",
              " ('bom', 1),\n",
              " ('profissionais', 1),\n",
              " ('vai', 1),\n",
              " ('capacidade', 1),\n",
              " ('essenciais', 1),\n",
              " ('colocar', 1),\n",
              " ('artigo', 1),\n",
              " ('dessa', 1),\n",
              " ('assim', 1),\n",
              " ('pessoas', 1),\n",
              " ('desenvolver', 1),\n",
              " ('desenvolvêlas', 1),\n",
              " ('lugar', 1)]"
            ]
          },
          "metadata": {
            "tags": []
          },
          "execution_count": 47
        }
      ]
    },
    {
      "cell_type": "code",
      "metadata": {
        "id": "39SHtOooHQ-C",
        "outputId": "48328fa5-c3ef-41c1-ba8e-a08ef9649668"
      },
      "source": [
        "# Se mais da metade dos assuntos a tiver como palavra principal, exclua-a da lista\n",
        "add_stop_words = [word for word, count in Counter(words).most_common() if count > 2]\n",
        "add_stop_words"
      ],
      "execution_count": null,
      "outputs": [
        {
          "output_type": "execute_result",
          "data": {
            "text/plain": [
              "['inovação', 'ser', 'forma', 'pode']"
            ]
          },
          "metadata": {
            "tags": []
          },
          "execution_count": 48
        }
      ]
    },
    {
      "cell_type": "code",
      "metadata": {
        "id": "z-zN1-X_HQ-D"
      },
      "source": [
        "# update  document-term matrix \n",
        "from sklearn.feature_extraction import text \n",
        "from sklearn.feature_extraction.text import CountVectorizer\n",
        "\n",
        "# Read in cleaned data\n",
        "data_clean = pd.read_pickle('data_clean.pkl')\n",
        "\n",
        "# Add new stop words\n",
        "stop_words = text.ENGLISH_STOP_WORDS.union(add_stop_words)"
      ],
      "execution_count": null,
      "outputs": []
    },
    {
      "cell_type": "code",
      "metadata": {
        "id": "rUxeOLbnHQ-D"
      },
      "source": [
        "# Recrie document-term matrix\n",
        "cv = CountVectorizer(stop_words=stop_words)\n",
        "data_cv = cv.fit_transform(data_clean.textos)\n",
        "data_stop = pd.DataFrame(data_cv.toarray(), columns=cv.get_feature_names())\n",
        "data_stop.index = data_clean.index\n",
        "\n",
        "# Pickle para uso posterior\n",
        "import pickle\n",
        "pickle.dump(cv, open(\"cv_stop.pkl\", \"wb\"))\n",
        "data_stop.to_pickle(\"dtm_stop.pkl\")"
      ],
      "execution_count": null,
      "outputs": []
    },
    {
      "cell_type": "code",
      "metadata": {
        "id": "ItkYECOhHQ-E"
      },
      "source": [
        "#  Vamos fazer word clouds!\n",
        "\n",
        "\n",
        "wc = WordCloud(stopwords=stopwords, background_color=\"white\", colormap=\"Dark2\",\n",
        "               max_font_size=150, random_state=42)"
      ],
      "execution_count": null,
      "outputs": []
    },
    {
      "cell_type": "code",
      "metadata": {
        "id": "Qq281N_LHQ-F"
      },
      "source": [
        "# Resetar output dimensions\n",
        "import matplotlib.pyplot as plt\n",
        "\n",
        "plt.rcParams['figure.figsize'] = [16, 6]\n",
        "\n",
        "full_names = ['Inovação Aberta', 'Inovação Incremental', 'Intraempreendedor']\n",
        "\n",
        "# Crie subplots para cada assunto\n",
        "for index, assunto in enumerate(data.columns):\n",
        "    wc.generate(data_clean.textos[assunto])\n",
        "    \n",
        "    plt.subplot(3, 4, index+1)\n",
        "    plt.imshow(wc, interpolation=\"bilinear\")\n",
        "    plt.axis(\"off\")\n",
        "    plt.title(full_names[index])\n",
        "    \n",
        "plt.show()"
      ],
      "execution_count": null,
      "outputs": []
    },
    {
      "cell_type": "markdown",
      "metadata": {
        "id": "NWIuYdEkHQ-G"
      },
      "source": [
        "## NUMBER OF WORDS\n",
        "\n",
        "### Análise"
      ]
    },
    {
      "cell_type": "code",
      "metadata": {
        "scrolled": true,
        "id": "m7sAVno6HQ-G",
        "outputId": "bf854063-de69-41c0-eaab-cf139a688a26"
      },
      "source": [
        "# Ache o número de palavras únicas em cada assunto\n",
        "\n",
        "# Identifique os itens diferentes de zero na matriz do documento-termo, o que significa que a palavra ocorre pelo menos uma vez\n",
        "unique_list = []\n",
        "for assunto in data.columns:\n",
        "    uniques = data[assunto].to_numpy().nonzero()[0].size\n",
        "    unique_list.append(uniques)\n",
        "\n",
        "# Crie um novo dataframe que contenha esta contagem única de palavras\n",
        "data_words = pd.DataFrame(list(zip(full_names, unique_list)), columns=['assunto', 'unique_words'])\n",
        "data_unique_sort = data_words.sort_values(by='unique_words')\n",
        "data_unique_sort"
      ],
      "execution_count": null,
      "outputs": [
        {
          "output_type": "execute_result",
          "data": {
            "text/html": [
              "<div>\n",
              "<style scoped>\n",
              "    .dataframe tbody tr th:only-of-type {\n",
              "        vertical-align: middle;\n",
              "    }\n",
              "\n",
              "    .dataframe tbody tr th {\n",
              "        vertical-align: top;\n",
              "    }\n",
              "\n",
              "    .dataframe thead th {\n",
              "        text-align: right;\n",
              "    }\n",
              "</style>\n",
              "<table border=\"1\" class=\"dataframe\">\n",
              "  <thead>\n",
              "    <tr style=\"text-align: right;\">\n",
              "      <th></th>\n",
              "      <th>assunto</th>\n",
              "      <th>unique_words</th>\n",
              "    </tr>\n",
              "  </thead>\n",
              "  <tbody>\n",
              "    <tr>\n",
              "      <th>1</th>\n",
              "      <td>Inovação Incremental</td>\n",
              "      <td>339</td>\n",
              "    </tr>\n",
              "    <tr>\n",
              "      <th>2</th>\n",
              "      <td>Intraempreendedor</td>\n",
              "      <td>448</td>\n",
              "    </tr>\n",
              "    <tr>\n",
              "      <th>0</th>\n",
              "      <td>Inovação Aberta</td>\n",
              "      <td>715</td>\n",
              "    </tr>\n",
              "  </tbody>\n",
              "</table>\n",
              "</div>"
            ],
            "text/plain": [
              "                assunto  unique_words\n",
              "1  Inovação Incremental           339\n",
              "2     Intraempreendedor           448\n",
              "0       Inovação Aberta           715"
            ]
          },
          "metadata": {
            "tags": []
          },
          "execution_count": 64
        }
      ]
    },
    {
      "cell_type": "code",
      "metadata": {
        "id": "OcltKpRpHQ-H",
        "outputId": "5ba7590d-9bf2-4bdc-d1cd-75f96b0400b9"
      },
      "source": [
        "data_unique_words = data_unique_sort['unique_words']\n",
        "data_unique_words"
      ],
      "execution_count": null,
      "outputs": [
        {
          "output_type": "execute_result",
          "data": {
            "text/plain": [
              "1    339\n",
              "2    448\n",
              "0    715\n",
              "Name: unique_words, dtype: int64"
            ]
          },
          "metadata": {
            "tags": []
          },
          "execution_count": 94
        }
      ]
    },
    {
      "cell_type": "code",
      "metadata": {
        "id": "ka5DQLEOHQ-I"
      },
      "source": [
        "\n",
        "\n",
        "# número total de palavras que um assunto usa\n",
        "total_list = []\n",
        "for assunto in data.columns:\n",
        "    totals = sum(data[assunto])\n",
        "    total_list.append(totals)"
      ],
      "execution_count": null,
      "outputs": []
    },
    {
      "cell_type": "code",
      "metadata": {
        "id": "PILShmIiHQ-I",
        "outputId": "1b945886-f6bb-4845-aa1f-ed37e22bd836"
      },
      "source": [
        "# plotar nossas descobertas\n",
        "import numpy as np\n",
        "\n",
        "y_pos = np.arange(len(data_words))\n",
        "\n",
        "plt.subplot(1, 2, 1)\n",
        "plt.barh(y_pos, data_unique_sort.unique_words, align='center')\n",
        "plt.yticks(y_pos, data_unique_sort.assunto)\n",
        "plt.title('Number of Unique Words', fontsize=20)\n",
        "\n",
        "\n",
        "plt.tight_layout()\n",
        "plt.show()"
      ],
      "execution_count": null,
      "outputs": [
        {
          "output_type": "display_data",
          "data": {
            "image/png": "[encoded data removed]",
            "text/plain": [
              "<Figure size 1152x432 with 1 Axes>"
            ]
          },
          "metadata": {
            "tags": [],
            "needs_background": "light"
          }
        }
      ]
    }
  ]
}