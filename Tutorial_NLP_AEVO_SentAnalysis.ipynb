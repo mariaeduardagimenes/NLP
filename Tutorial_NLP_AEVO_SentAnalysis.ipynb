{
  "nbformat": 4,
  "nbformat_minor": 0,
  "metadata": {
    "kernelspec": {
      "display_name": "Python 3",
      "language": "python",
      "name": "python3"
    },
    "language_info": {
      "codemirror_mode": {
        "name": "ipython",
        "version": 3
      },
      "file_extension": ".py",
      "mimetype": "text/x-python",
      "name": "python",
      "nbconvert_exporter": "python",
      "pygments_lexer": "ipython3",
      "version": "3.8.5"
    },
    "colab": {
      "name": "Tutorial_NLP_AEVO_SentAnalysis.ipynb",
      "provenance": [],
      "include_colab_link": true
    }
  },
  "cells": [
    {
      "cell_type": "markdown",
      "metadata": {
        "id": "view-in-github",
        "colab_type": "text"
      },
      "source": [
        "<a href=\"https://colab.research.google.com/github/mariaeduardagimenes/NLP/blob/master/Tutorial_NLP_AEVO_SentAnalysis.ipynb\" target=\"_parent\"><img src=\"https://colab.research.google.com/assets/colab-badge.svg\" alt=\"Open In Colab\"/></a>"
      ]
    },
    {
      "cell_type": "markdown",
      "metadata": {
        "id": "n8oyGZWOHhoA",
        "colab_type": "text"
      },
      "source": [
        "# Análise de sentimentos\n",
        "\n",
        "## Introdução\n",
        "\n",
        "Até agora, as análises que fizemos foram bem genéricas - observar contagens, criar gráficos, etc. Essas técnicas também podem ser aplicadas a dados numéricos. A diferença do NLP é exatamente que os dados são em formato de texto. \n",
        "\n",
        "Quando se trata de dados de texto, existem algumas técnicas populares que podem ser aplicadas, começando com a análise de sentimento. \n",
        "\n",
        "Alguns pontos-chave a serem lembrados com a análise de sentimento.\n",
        "\n",
        "1. **TextBlob:** Os pesquisadores linguísticos rotularam o sentimento das palavras com base em sua experiência no domínio. O sentimento das palavras pode variar de acordo com a localização da frase. O módulo TextBlob nos permite tirar proveito dessas etiquetas. Entretando, o TextBlob só funciona para o idioma inglês, dificultando nosso uso em português. \n",
        "\n",
        "2. **Rótulos de sentimento:** Cada palavra em um corpus é rotulada em termos de polaridade e subjetividade (há mais rótulos também). O sentimento de um corpus é a média deles.\n",
        "\n",
        "- Polaridade: quão positiva ou negativa é uma palavra. -1 é muito negativo. +1 é muito positivo.\n",
        "- Subjetividade: quão subjetiva ou opinativa é uma palavra. 0 é um fato. 1 é muito mais uma opinião.\n",
        "\n",
        "\n",
        "Vamos dar uma olhada no sentimento dos textos, utilizando textblob (tendo em vista que os textos possuem palavras em inglês) e usando o textblob traduzindo."
      ]
    },
    {
      "cell_type": "code",
      "metadata": {
        "id": "NtojW7t4HhoC",
        "colab_type": "code",
        "colab": {},
        "outputId": "781fb073-97d7-4ea8-d3ba-608656b39bbe"
      },
      "source": [
        "# Começaremos lendo o corpus, que preserva a ordem das palavras\n",
        "import pandas as pd\n",
        "\n",
        "data = pd.read_pickle('corpus.pkl')\n",
        "data"
      ],
      "execution_count": null,
      "outputs": [
        {
          "output_type": "execute_result",
          "data": {
            "text/html": [
              "<div>\n",
              "<style scoped>\n",
              "    .dataframe tbody tr th:only-of-type {\n",
              "        vertical-align: middle;\n",
              "    }\n",
              "\n",
              "    .dataframe tbody tr th {\n",
              "        vertical-align: top;\n",
              "    }\n",
              "\n",
              "    .dataframe thead th {\n",
              "        text-align: right;\n",
              "    }\n",
              "</style>\n",
              "<table border=\"1\" class=\"dataframe\">\n",
              "  <thead>\n",
              "    <tr style=\"text-align: right;\">\n",
              "      <th></th>\n",
              "      <th>textos</th>\n",
              "      <th>full_name</th>\n",
              "    </tr>\n",
              "  </thead>\n",
              "  <tbody>\n",
              "    <tr>\n",
              "      <th>inovacao aberta</th>\n",
              "      <td>Se você já acompanha nossos conteúdos há algum...</td>\n",
              "      <td>Inovação Aberta</td>\n",
              "    </tr>\n",
              "    <tr>\n",
              "      <th>inovacao incremental</th>\n",
              "      <td>O termo inovação incremental ganhou força em 1...</td>\n",
              "      <td>Inovação Incremental</td>\n",
              "    </tr>\n",
              "    <tr>\n",
              "      <th>intraempreendedorismo</th>\n",
              "      <td>As soft skills são habilidades subjetivas, de ...</td>\n",
              "      <td>Intraempreendedorismo</td>\n",
              "    </tr>\n",
              "  </tbody>\n",
              "</table>\n",
              "</div>"
            ],
            "text/plain": [
              "                                                                  textos  \\\n",
              "inovacao aberta        Se você já acompanha nossos conteúdos há algum...   \n",
              "inovacao incremental   O termo inovação incremental ganhou força em 1...   \n",
              "intraempreendedorismo  As soft skills são habilidades subjetivas, de ...   \n",
              "\n",
              "                                   full_name  \n",
              "inovacao aberta              Inovação Aberta  \n",
              "inovacao incremental    Inovação Incremental  \n",
              "intraempreendedorismo  Intraempreendedorismo  "
            ]
          },
          "metadata": {
            "tags": []
          },
          "execution_count": 1
        }
      ]
    },
    {
      "cell_type": "markdown",
      "metadata": {
        "id": "iNzgtKSwHhoJ",
        "colab_type": "text"
      },
      "source": [
        "**TextBlob só tem para inglês. Como o texto tem palavras em inglês, vamos textar essa abordagem**\n",
        "\n",
        "**E vamos tentar também fazendo a tradução**"
      ]
    },
    {
      "cell_type": "code",
      "metadata": {
        "id": "KTmR9O_mHhoL",
        "colab_type": "code",
        "colab": {},
        "outputId": "ae8541fb-1c11-494c-f85f-5ed0045bc1b8"
      },
      "source": [
        "# Crie funções lambda rápidas para encontrar a polaridade e subjetividade de cada rotina\n",
        "from textblob import TextBlob\n",
        "\n",
        "pol = lambda x: TextBlob(x).sentiment.polarity\n",
        "sub = lambda x: TextBlob(x).sentiment.subjectivity\n",
        "\n",
        "data['polarity'] = data['textos'].apply(pol)\n",
        "data['subjectivity'] = data['textos'].apply(sub)\n",
        "data"
      ],
      "execution_count": null,
      "outputs": [
        {
          "output_type": "execute_result",
          "data": {
            "text/html": [
              "<div>\n",
              "<style scoped>\n",
              "    .dataframe tbody tr th:only-of-type {\n",
              "        vertical-align: middle;\n",
              "    }\n",
              "\n",
              "    .dataframe tbody tr th {\n",
              "        vertical-align: top;\n",
              "    }\n",
              "\n",
              "    .dataframe thead th {\n",
              "        text-align: right;\n",
              "    }\n",
              "</style>\n",
              "<table border=\"1\" class=\"dataframe\">\n",
              "  <thead>\n",
              "    <tr style=\"text-align: right;\">\n",
              "      <th></th>\n",
              "      <th>textos</th>\n",
              "      <th>full_name</th>\n",
              "      <th>polarity</th>\n",
              "      <th>subjectivity</th>\n",
              "    </tr>\n",
              "  </thead>\n",
              "  <tbody>\n",
              "    <tr>\n",
              "      <th>inovacao aberta</th>\n",
              "      <td>Se você já acompanha nossos conteúdos há algum...</td>\n",
              "      <td>Inovação Aberta</td>\n",
              "      <td>-0.015572</td>\n",
              "      <td>0.534259</td>\n",
              "    </tr>\n",
              "    <tr>\n",
              "      <th>inovacao incremental</th>\n",
              "      <td>O termo inovação incremental ganhou força em 1...</td>\n",
              "      <td>Inovação Incremental</td>\n",
              "      <td>0.019531</td>\n",
              "      <td>0.450000</td>\n",
              "    </tr>\n",
              "    <tr>\n",
              "      <th>intraempreendedorismo</th>\n",
              "      <td>As soft skills são habilidades subjetivas, de ...</td>\n",
              "      <td>Intraempreendedorismo</td>\n",
              "      <td>0.063068</td>\n",
              "      <td>0.406818</td>\n",
              "    </tr>\n",
              "  </tbody>\n",
              "</table>\n",
              "</div>"
            ],
            "text/plain": [
              "                                                                  textos  \\\n",
              "inovacao aberta        Se você já acompanha nossos conteúdos há algum...   \n",
              "inovacao incremental   O termo inovação incremental ganhou força em 1...   \n",
              "intraempreendedorismo  As soft skills são habilidades subjetivas, de ...   \n",
              "\n",
              "                                   full_name  polarity  subjectivity  \n",
              "inovacao aberta              Inovação Aberta -0.015572      0.534259  \n",
              "inovacao incremental    Inovação Incremental  0.019531      0.450000  \n",
              "intraempreendedorismo  Intraempreendedorismo  0.063068      0.406818  "
            ]
          },
          "metadata": {
            "tags": []
          },
          "execution_count": 2
        }
      ]
    },
    {
      "cell_type": "code",
      "metadata": {
        "id": "NwrCGEALHhoP",
        "colab_type": "code",
        "colab": {},
        "outputId": "c40c531e-760e-484e-97a3-9687f235b47d"
      },
      "source": [
        "# Plotar os resultados\n",
        "import matplotlib.pyplot as plt\n",
        "\n",
        "plt.rcParams['figure.figsize'] = [10, 8]\n",
        "\n",
        "for index, assunto in enumerate(data.index):\n",
        "    x = data.polarity.loc[assunto]\n",
        "    y = data.subjectivity.loc[assunto]\n",
        "    plt.scatter(x, y, color='blue')\n",
        "    plt.text(x+.001, y+.001, data['full_name'][index], fontsize=10)\n",
        "    plt.xlim(-.01, .12) \n",
        "    \n",
        "plt.title('Sentiment Analysis', fontsize=20)\n",
        "plt.xlabel('<-- Negative -------- Positive -->', fontsize=15)\n",
        "plt.ylabel('<-- Facts -------- Opinions -->', fontsize=15)\n",
        "\n",
        "plt.show()"
      ],
      "execution_count": null,
      "outputs": [
        {
          "output_type": "display_data",
          "data": {
            "image/png": "[encoded data removed]",
            "text/plain": [
              "<Figure size 720x576 with 1 Axes>"
            ]
          },
          "metadata": {
            "tags": [],
            "needs_background": "light"
          }
        }
      ]
    },
    {
      "cell_type": "markdown",
      "metadata": {
        "id": "kiict6f5HhoU",
        "colab_type": "text"
      },
      "source": [
        "Aparentemente não ficou muito legal. Talvez pelo módulo TextBlob não funcionar em português."
      ]
    },
    {
      "cell_type": "markdown",
      "metadata": {
        "id": "S_mj6ObPHhoU",
        "colab_type": "text"
      },
      "source": [
        "**Traduzindo para o português**"
      ]
    },
    {
      "cell_type": "code",
      "metadata": {
        "id": "Btsa-7XfHhoV",
        "colab_type": "code",
        "colab": {}
      },
      "source": [
        "#Variável que irá armazenar as polaridades\n",
        "analysis = None\n",
        "# Lista vazia para armazenar as polaridades\n",
        "polarities = []\n"
      ],
      "execution_count": null,
      "outputs": []
    },
    {
      "cell_type": "code",
      "metadata": {
        "id": "2rUienJDHhoY",
        "colab_type": "code",
        "colab": {}
      },
      "source": [
        "from googletrans import Translator\n",
        "from unidecode import unidecode\n",
        "from textblob import TextBlob as tb \n",
        "import numpy as np"
      ],
      "execution_count": null,
      "outputs": []
    },
    {
      "cell_type": "code",
      "metadata": {
        "id": "wMTj-PDrHhoa",
        "colab_type": "code",
        "colab": {}
      },
      "source": [
        "for texto in data['textos']: #para cada texto lido foi passar por unicode\n",
        "    #Texto do blog\n",
        "    textPT = unidecode(texto)\n",
        "    \n",
        "    #vou Traduzir para o Inglês\n",
        "    textEN = Translator().translate(textPT)\n",
        "    \n",
        "    analysis = tb(textEN.text) #usar TextBlob    \n",
        "    #Calculando a polaridade do texto traduzido\n",
        "    polarity = analysis.sentiment.polarity #analisa a polaridade  \n",
        "    polarities.append(polarity) #add polaridade de cada texto no vetor polaridades"
      ],
      "execution_count": null,
      "outputs": []
    },
    {
      "cell_type": "code",
      "metadata": {
        "id": "X9An6oAXHhoc",
        "colab_type": "code",
        "colab": {},
        "outputId": "ca422869-313f-4ad8-ec67-78be57143742"
      },
      "source": [
        "print('Vetor de polaridade:',polarities)"
      ],
      "execution_count": null,
      "outputs": [
        {
          "output_type": "stream",
          "text": [
            "Vetor de polaridade: [0.1435021584632983, 0.13143512590695688, 0.19068645640074222]\n"
          ],
          "name": "stdout"
        }
      ]
    },
    {
      "cell_type": "code",
      "metadata": {
        "id": "of_SmvyCHhoe",
        "colab_type": "code",
        "colab": {},
        "outputId": "67996b6a-aafc-4ff5-faa0-0db2297216d8"
      },
      "source": [
        "print('A MÉDIA DE SENTIMENTO É: ' + str(np.mean(polarities)))"
      ],
      "execution_count": null,
      "outputs": [
        {
          "output_type": "stream",
          "text": [
            "A MÉDIA DE SENTIMENTO É: 0.15520791359033248\n"
          ],
          "name": "stdout"
        }
      ]
    },
    {
      "cell_type": "code",
      "metadata": {
        "id": "o5acYEdyHhog",
        "colab_type": "code",
        "colab": {}
      },
      "source": [
        "positive = 0\n",
        "negative = 0\n",
        "neutral = 0\n",
        "\n",
        "for polarity in polarities:\n",
        "    if polarity > 0:\n",
        "        positive = positive+1\n",
        "    elif polarity < 0:\n",
        "        negative = negative+1\n",
        "    else:\n",
        "        neutral = neutral+1           \n",
        "\n",
        "#calcula percentual\n",
        "pos_pct=positive*100/len(polarities)\n",
        "neg_pct=negative*100/len(polarities)\n",
        "neu_pct=neutral*100/len(polarities)"
      ],
      "execution_count": null,
      "outputs": []
    },
    {
      "cell_type": "code",
      "metadata": {
        "id": "vXoWbVNAHhoi",
        "colab_type": "code",
        "colab": {}
      },
      "source": [
        "sentiments = ['Positivos', 'Negativos','Neutros']\n",
        "percents = [pos_pct, neg_pct, neu_pct]"
      ],
      "execution_count": null,
      "outputs": []
    },
    {
      "cell_type": "code",
      "metadata": {
        "id": "XIe69LtQHhoj",
        "colab_type": "code",
        "colab": {},
        "outputId": "3798cc13-8ba1-4248-ecc3-6fe1034dc319"
      },
      "source": [
        "explode = (0.1, 0, 0) #Separa o primeiro\n",
        "\n",
        "pie_chart = pd.Series(percents, index=sentiments,name='')\n",
        "pie_chart.plot.pie(fontsize=12, explode=explode, autopct='%.2f%%', shadow=True,\n",
        "                   figsize=(5, 5),title=\"Análise de Sentimentos textos\");"
      ],
      "execution_count": null,
      "outputs": [
        {
          "output_type": "display_data",
          "data": {
            "image/png": "[encoded data removed]",
            "text/plain": [
              "<Figure size 360x360 with 1 Axes>"
            ]
          },
          "metadata": {
            "tags": []
          }
        }
      ]
    },
    {
      "cell_type": "markdown",
      "metadata": {
        "id": "wvmR82cXHhol",
        "colab_type": "text"
      },
      "source": [
        "Nenhum texto ficou neutro nem negativo. Isso pode fazer sentido considerando que é um blog escrito por funcionários da empresa querendo transmitir mensagem positiva."
      ]
    },
    {
      "cell_type": "markdown",
      "metadata": {
        "id": "Trb5LAb5Hhol",
        "colab_type": "text"
      },
      "source": [
        "### Retornando\n",
        "\n",
        "Em vez de examinar o sentimento geral, vamos ver se há algo interessante sobre o sentimento ao longo do tempo \n",
        "\n"
      ]
    },
    {
      "cell_type": "code",
      "metadata": {
        "id": "0p2bdVD_Hhom",
        "colab_type": "code",
        "colab": {}
      },
      "source": [
        "# Divida em 10 partes\n",
        "import numpy as np\n",
        "import math\n",
        "\n",
        "def split_text(text, n=10):\n",
        "    '''Recebe uma string de texto e se divide em n partes iguais, com um padrão de 10 partes iguais.'''\n",
        "\n",
        "    # Calcule o comprimento do texto, o tamanho de cada pedaço de texto e os pontos de partida de cada pedaço de texto\n",
        "    length = len(text)\n",
        "    size = math.floor(length / n)\n",
        "    start = np.arange(0, length, size)\n",
        "    \n",
        "    # Retire pedaços de texto do mesmo tamanho e coloque-os em uma lista\n",
        "    split_list = []\n",
        "    for piece in range(n):\n",
        "        split_list.append(text[start[piece]:start[piece]+size])\n",
        "    return split_list"
      ],
      "execution_count": null,
      "outputs": []
    },
    {
      "cell_type": "code",
      "metadata": {
        "id": "G7UrIOzpHhon",
        "colab_type": "code",
        "colab": {},
        "outputId": "9fa8afde-4233-4919-e894-cc7e06edc933"
      },
      "source": [
        "data"
      ],
      "execution_count": null,
      "outputs": [
        {
          "output_type": "execute_result",
          "data": {
            "text/html": [
              "<div>\n",
              "<style scoped>\n",
              "    .dataframe tbody tr th:only-of-type {\n",
              "        vertical-align: middle;\n",
              "    }\n",
              "\n",
              "    .dataframe tbody tr th {\n",
              "        vertical-align: top;\n",
              "    }\n",
              "\n",
              "    .dataframe thead th {\n",
              "        text-align: right;\n",
              "    }\n",
              "</style>\n",
              "<table border=\"1\" class=\"dataframe\">\n",
              "  <thead>\n",
              "    <tr style=\"text-align: right;\">\n",
              "      <th></th>\n",
              "      <th>textos</th>\n",
              "      <th>full_name</th>\n",
              "      <th>polarity</th>\n",
              "      <th>subjectivity</th>\n",
              "    </tr>\n",
              "  </thead>\n",
              "  <tbody>\n",
              "    <tr>\n",
              "      <th>inovacao aberta</th>\n",
              "      <td>Se você já acompanha nossos conteúdos há algum...</td>\n",
              "      <td>Inovação Aberta</td>\n",
              "      <td>-0.015572</td>\n",
              "      <td>0.534259</td>\n",
              "    </tr>\n",
              "    <tr>\n",
              "      <th>inovacao incremental</th>\n",
              "      <td>O termo inovação incremental ganhou força em 1...</td>\n",
              "      <td>Inovação Incremental</td>\n",
              "      <td>0.019531</td>\n",
              "      <td>0.450000</td>\n",
              "    </tr>\n",
              "    <tr>\n",
              "      <th>intraempreendedorismo</th>\n",
              "      <td>As soft skills são habilidades subjetivas, de ...</td>\n",
              "      <td>Intraempreendedorismo</td>\n",
              "      <td>0.063068</td>\n",
              "      <td>0.406818</td>\n",
              "    </tr>\n",
              "  </tbody>\n",
              "</table>\n",
              "</div>"
            ],
            "text/plain": [
              "                                                                  textos  \\\n",
              "inovacao aberta        Se você já acompanha nossos conteúdos há algum...   \n",
              "inovacao incremental   O termo inovação incremental ganhou força em 1...   \n",
              "intraempreendedorismo  As soft skills são habilidades subjetivas, de ...   \n",
              "\n",
              "                                   full_name  polarity  subjectivity  \n",
              "inovacao aberta              Inovação Aberta -0.015572      0.534259  \n",
              "inovacao incremental    Inovação Incremental  0.019531      0.450000  \n",
              "intraempreendedorismo  Intraempreendedorismo  0.063068      0.406818  "
            ]
          },
          "metadata": {
            "tags": []
          },
          "execution_count": 39
        }
      ]
    },
    {
      "cell_type": "code",
      "metadata": {
        "id": "wJOV9HMUHhop",
        "colab_type": "code",
        "colab": {},
        "outputId": "60fa73f2-6091-45e3-b0e1-2b897790060e"
      },
      "source": [
        "# Vamos criar uma lista para conter todos os pedaços de texto\n",
        "list_pieces = []\n",
        "for t in data.textos:\n",
        "    split = split_text(t)\n",
        "    list_pieces.append(split)\n",
        "    \n",
        "list_pieces"
      ],
      "execution_count": null,
      "outputs": [
        {
          "output_type": "execute_result",
          "data": {
            "text/plain": [
              "[['Se você já acompanha nossos conteúdos há algum tempo, sabe a importância do mindset de inovação aberta para construir não somente o agora, como também o futuro.\\xa0 O nome dessa estratégia é Ambidestria Organizacional e ela tem ajudado grandes organizações a obterem visões mais profundas sobre a natureza do seu core business, alocação de recursos e projetos de curto e longo prazo. Entretanto, em alguns meses nosso cenário mudou, trazendo à tona preocupações que antes não tínhamos, como a urgência em sobreviver (hoje) – consequência direta das novas barreiras e adaptações que as empresas enfrentam para seguir em frente com as suas atividades, mesmo de forma remota e digital. Já existia, é claro, uma tendência mundial a digitalização de processos, mas ter que fazer isso “na marra”, certamente pegou muitas organizações de surpresa e é justamente sobre a adaptação frente a esse novo cenário que falaremos hoje. O objetivo desse artigo é compartilhar as melhores respostas da segunda edição do Open Innovation Talks (nossa série mensal de webinars sobre inovação aberta), evidenciando os pontos que geram mais valor para as empresas que enfrentam as adversidades citadas logo acima. Sugerimos que você acompanhe o conteúdo assistindo a gravação da live agora mesmo: Assista agora: Open Innovation Talks #2 – Ambev e BASF Nós perguntamos ao Analista de Inovação, Lucas Bragagnolo, qual o papel das grandes empresas de iniciativa privada neste momento de crise',\n",
              "  '. Para o analista, as empresas devem pensar em ajudar de alguma forma, e deu vários exemplos, como: “ações como a da Ambev para produzir álcool em gel, como da rede Mcdonald’s disponibilizando lanches para o pessoal dos hospitais que estão trabalhando ou da concessionária de serviços de telecomunicações SKY, liberando canais gratuitamente.” Lucas fortalece o pensamento de colaboração: ”Juntos conseguimos passar mais “fácil” pela crise”. Leia também: Covid-19: 10 startups liberam cursos gratuitos no brasil Mirella é Gerente de Inovação Aberta e Ecossistemas Digitais no ONONO, o Centro de Experiências Científicas e Digitais da BASF. Nós perguntamos a ela como está sendo para o ONONO (um espaço que preza pela conexão, colaboração e aproximação das pessoas) a adaptação frente a nova dinâmica de trabalho. É um momento de reinvenção para o modelo de operação do ONONO, afinal, ele existe essencialmente por conta das conexões, conta a gerente. Vários programas de inovação aberta são tocados tendo o ONONO como elo central desse relacionamento com startups e universidades. Para Mirella, ter multicanais disponíveis para a comunicação com o cliente e as empresas está sendo essencial para o fortalecimento da conexão em tempos de trabalho remoto, afinal, o espaço físico, por enquanto, não pode ser utilizado. O Plus.Onono.com.br é a plataforma de conteúdo da Onono e teve grande papel nesse momento de adaptação. A mesma é utilizada para apresentar os parc',\n",
              "  'eiros, principalmente às startups, para as organizações que precisam de diversas soluções, e também para continuar orientando os mesmos a respeito dos produtos,\\xa0 mostrando as iniciativas da empresa frente ao surto de Covid-19, como compartilhar informações técnicas e conteúdos de relevância. Mirella Lisboa reforça a capacidade de adaptação e necessidade de ser ágil nesse momento, trazendo para o protagonismo sua própria equipe, que foi 100% envolvida nesse processo. Como sempre, adoramos perguntas e, evidentemente, não podemos deixar de mostrá-las! A nossa primeira pergunta foi da Nathalia Monteiro, da Bradesco, \\xa0que perguntou: Como os programas de ideias podem ser meios de comunicação neste momento? Essa nós respondemos! É possível lançar campanhas específicas voltadas para o Covid-19, onde nós podemos compartilhar boas práticas para todos os colaboradores a respeito do momento, mas também abrir um canal para ouvir os mesmos, tirando insights e ideias que podem ajudar a empresa a superar diversos desafios. Os colaboradores podem vir com soluções para as maiores dores da empresa geradas por conta da quarentena, disse o especialista em inovação, Flávio Marques. Quando nós perguntamos aos convidados sobre a continuidade de seus Programas de Inovação, Mirella responde de forma clara e objetiva: Inovação é todo o desenvolvimento de um produto ou modelo de negócio que gera valor no final do dia – se isso não acontecer não é inovação.\\xa0 Ter um pi',\n",
              "  'peline de inovação aberta muito bem mapeado, deixando claro o retorno do negócio e impacto do projeto na empresa e sociedade em momento de crise, permite descartar a descontinuidade dos projetos e focar na priorização dos mesmos pelo valor que é gerado em menor tempo, e o que vai facilitar a vida do meu colaborador e melhor atendimento ao cliente.\\xa0 Para a BASF o foco hoje é na qualidade de trabalho para os colaboradores e o desenvolvimento de novas tecnologias que aumentam o número de canais das empresas com os seus clientes. Já na Ambev, Lucas ressalta que o contato com as startups em negociação continua mantido, mesmo em cenário de trabalho remoto. Segundo o analista, é tudo uma questão de adaptação no relacionamento com o ecossistema. A Fernanda, da Aliança e Navegação, pergunta se há ferramentas que possam facilitar as sessões de design thinking de forma remota e colaborativa. Para isso, nossos convidados deram algumas dicas: Lucas e Mirella dizem fazer muito uso do Mural.co e do Miro, para criar cards, painéis e outros recursos colaborativos. Além disso, os dois ressaltam o valor das boas e velhas planilhas compartilháveis, como o Sheets da Google. Nós perguntamos aos convidados sobre a opinião deles à respeito de quais são os maiores obstáculos enfrentados pelas grandes empresas nesse momento. Mirella diz que os desafios são relativos ao tipo de Indústria em que a empresa está inserida.\\xa0 Na BASF, por exemplo, o ramo é o da indústria ',\n",
              "  'química e matéria prima, onde o principal desafio em termos de negócio é prosseguir sendo uma empresa tradicional e, ao mesmo tempo, buscando fugir do tradicional. Existem áreas com super demandas e outras sofrendo com o cenário oposto. Para ela, esse é o momento de olhar para dentro do negócio e entender as oportunidades, visando o que o cliente está fazendo, a resposta dele nesse período e também a importância e papel dos meus colaboradores nesse processo, garantindo sempre segurança e bem-estar para o mesmo. A área de inovação precisa ser um suporte para as demandas que surgem, conectando-se com todas as áreas da companhia. Para o Lucas, não podemos perder a oportunidade de aproveitar uma boa crise. É nesses momentos de dificuldade que nós encontramos as melhores soluções. Nós precisamos pensar, por exemplo: como eu consigo aproveitar essa crise para desenvolver e testar coisas que normalmente a empresa não faria num cenário normal. Nós perguntamos a Ambev e a BASF, o que essas empresas estão fazendo para superar os obstáculos de comunicação e aproximação com os próprios colaboradores?\\xa0 Lucas Bragagnolo começa contando sobre a percepção do aumento de reuniões – algo que cresceu exponencialmente, segundo o analista. “A agenda ficava fechada para reuniões a semana toda e não surgia tempo para de fato executar as tarefas. Como solução para esta peculiaridade nós adotamos a Quarta-Feira Sem Reuniões, onde todo o time tira o dia para capacit',\n",
              "  'ação, executar as tarefas pendentes e fazer qualquer coisa exceto reuniões”.\\xa0 Toda sexta-feira acontece um happy hour online com o CTO da Ambev, onde todo o time de tecnologia participa e ele passa um feedback a respeito da semana e as percepções sobre o Covid-19. Segundo Mirella Lisboa, na BASF as reuniões de alinhamento são diárias, de 30 a 40 minutos, garantindo que todo mundo esteja “na mesma página” e que haja integração entre todos os times. Para descontração do pessoal, criaram a dinâmica do Desafio da Foto, onde dentro dos grupos de trabalho do whatsapp, alguém em algum momento do dia manda uma foto do que está fazendo, o que está comendo, com quem está na quarentena, e as outras pessoas do grupo tem até 1 hora para enviarem uma foto com a mesma temática.\\xa0 A dinâmica acontece uma vez de manhã e outra a tarde. Há também o Movimento Estar Bem, que é uma série de iniciativas focadas em promover o bem-estar físico e mental dos colaboradores (conversas com psicólogos, vídeos de ginástica laboral, capacitação profissional). João Bezerra Pedrosa Neto, da GCB, perguntou aos nossos convidados à respeito das prioridades de inovação e o contraste entre o “antes” e o “agora”. Mirella conta que o ONONO continua sendo o elo de conexão e realização de todas as iniciativas (relacionamento com o cliente e o desenvolvimento de novos projetos).\\xa0 O novo é que agora a organização também está auxiliando outras áreas que não estavam tão próximas da trans',\n",
              "  'formação digital, como o RH que está sendo o foco central disso tudo. Salientou ainda que nada do que for feito durante a crise pode ser interrompido e as soluções de bem-estar e novas tecnologia devem perdurar e ser incorporadas a cultura da empresa. Já o analista de inovação, Lucas Bragagnolo, diz que a Ambev continua procurando oportunidades em outras áreas de negócio, focando em produtos de tecnologia, mas também na disseminação da cultura de inovação, e para isso estão fazendo uma curadoria de conteúdo de capacitação e sensibilização para os colaboradores, construindo maior interesse em iniciativas e outras temáticas do universo da inovação. Leia também: Corona & ParleyDesafio Livre de Plástico Quando perguntado sobre a busca de apoio ao ecossistema e, lembrando que a BASF oferece matéria prima para grandes organizações, a Mirella dá o exemplo da empresa Suvinil, que foi muito afetada com a quarentena, já que inicialmente não foi taxada como serviço essencial e teve que fechar as lojas físicas e, dessa forma, não foi possível vender mais pelo principal canal de vendas deles. Com isso, a BASF junto com a área de inovação da Suvinil, se associou a um ecossistema que tinha uma plataforma de desafios abertos, na categoria Varejo e Logística.\\xa0 Eles lançaram esse desafio na plataforma e em 48h receberam uma base com as Startups que estavam dispostas a auxiliar na solução desse desafio. Além disso eles estão investindo em muitos canais para ',\n",
              "  'ter várias formas de estar próximo ou chegar até o cliente. Já na Ambev, o time de inovação está atento as melhores práticas do mercado para serem incorporadas dentro da organização. Para algumas iniciativas, a empresa optou por ser pioneira e, para outras, a empresa está buscando seguir o exemplo com base em cases de sucesso de outros negócios. Lucas Bragagnolo ainda reforça: a estratégia de inovação aberta é uma ótima forma de ouvir o mercado, essencial para empresas que estão sem ideias e precisam começar a testar coisas novas. Como engajar em tempos de crise? Inácio e Ludimila, da Aeris, perguntam quais são as estratégias mais utilizadas para motivar e engajar os colaboradores em um Programa de Inovação (imerso em um momento incerto). Para engajar os colaboradores, é preciso se manter o mais próximo possível da equipe, para que o distanciamento seja apenas físico. Quanto às iniciativas de inovação, o momento é de mostrar o valor do projeto mostrando o potencial do mesmo e o quanto ele pode agregar ao apresentar as ações de impacto e esforço, defendendo e aumentando o valor das iniciativas. Para Mirella, é importante fortalecer a cultura de inovação das empresas.\\xa0 Assista também: Cultura de inovação em tempos de crise “Não estamos falando de negócio ou inovação, é inovação com negócio. Normalmente é a área de inovação que têm as conexões, que conhece o ecossistema externo e tem as parcerias com as universidades, então é pensar no que a ',\n",
              "  'área de negócio precisa e como a inovação aberta pode intermediar essa conexão entre dores e soluções”, pontua Mirella Lisboa. A Melina, do Hospital Moinho de Vento, pergunta se as organizações estão desenvolvendo soluções que impactam no combate ao novo Coronavírus. “A BASF diretamente não, porque nós não trabalhamos com o produto final, mas estamos muito próximos dos clientes que vendem produtos hospitalares e, por isso, temos ações de doação de matéria prima com adaptações das moléculas para se encaixarem melhor aos produtos que são necessários hoje em dia para a proteção e higienização dos hospitais”. Mirella ainda reforça: “nós estamos trabalhando em P&D para que, de forma ágil, a gente consiga atender a demanda”. Já o Lucas, responde que a Ambev está monitorando o que está acontecendo no mundo e vendo como eles podem ajudar através do core business da empresa e que, por isso, surgiu a iniciativa de produção do álcool em gel para distribuição nas unidades de saúde. A ideia é ver o que eles podem promover de soluções para as dores, e assim continuar contribuindo. Lincoln Rezende, da ArcelorMittal, perguntou “Como convencer a alta gestão a investir na inovação aberta quando ainda não tem um retorno financeiro claramente estabelecido?” Na opinião do Lucas, o certo é provar valor aos poucos, deixando que a estratégia ganhe escala sozinha, mostrando como o investimento em inovação pode mudar para melhor o rumo da organização. Para Mirella,',\n",
              "  ' a alta liderança tem que estar embarcada no potencial que a inovação aberta pode trazer de resultados. O primeiro de tudo é olhar para dentro do seu negócio. No caso da BASF, a inovação veio por necessidade do cliente. “Nós percebemos que iríamos perder muitas oportunidades de negócio se não nos adaptarmos, justamente porque o cliente não quer apenas o produto final e a matéria prima, ele quer uma boa experiência, um atendimento diferenciado, uma pesquisa de tendência, uso de big data e etc”.\\xa0 Mostrar valor através de pequenas vitórias, pilotos, pílulas e resultados, é uma ótima estratégia para ganhar a confiança e conquistar um investimento maior. Como manter ativo, de maneira digital e remota, os seus projetos de inovação? Para concluir, nossa dupla de profissionais inovadores respondem como manter os projetos de inovação ativos, mesmo com esse cenário de incerteza e as turbulências e obstáculos do home office. Na opinião de Lucas, é preciso estar mais próximo do possível dos seus times, garantindo que todo mundo esteja engajado e utilizando as plataformas e serviços disponíveis no mercado para que isso aconteça. Para Mirella, é justamente na crise e na dor que nós temos a missão de nos reinventar e a área de inovação precisa pegar essa responsabilidade para si, resolvendo, facilitando e conectando as dores da companhia com as soluções do mercado, sempre de olho nas melhores práticas e aproveitando o melhor de tudo que está surgindo com'],\n",
              " ['O termo\\xa0inovação incremental\\xa0ganhou força em 1939, marcando presença no livro “Business\\xa0Cycle” de Joseph Schumpeter, onde foi caracterizado como um tipo de inovação.\\xa0\\xa0 O conceito é muito similar a filosofia\\xa0japonesa de melhoria contínua, conhecida como Kaizen, que prevê um método para executar a estratégia de forma\\xa0sistêmica, envolvendo todos os colaboradores da organização.\\xa0\\xa0 Hoje,\\xa0a inovação de forma incremental\\xa0é amplamente conhecida\\xa0e tem ganhado\\xa0relevância à luz de processos inovadores\\xa0com alto grau de colaboração, como o de Programa de Ideias.\\xa0 A inovação incremental é uma série de pequenas melhorias em produtos, processos e serviços existentes em uma empresa. Quan',\n",
              "  'do esse tipo de inovação é realizado alinhado a um processo\\xa0inovador, como o de Programa de Ideias, podemos alcançar resultados ainda mais\\xa0significativos.\\xa0 O motivo é claro: podemos envolver toda a organização na idealização de sugestões de melhoria que gerem valor para o nosso negócio.\\xa0Deste modo, obtemos a visão de colaboradores geralmente esquecidos nas reuniões de brainstorming: os colaboradores de linha de frente.\\xa0 Esses colaboradores são muitas vezes subestimados, mas são eles que estão à frente de produtos, processos e serviços da empresa todos os dias e, portanto, entendem melhor do que ninguém como melhorá-los. A inovação incremental pode ser subestimada pelos\\xa0r',\n",
              "  'esultados com menor impacto (se comparada a outros tipos de inovação),\\xa0porém\\xa0ela ganha força quando observada à luz da escala, incorporando-se ao\\xa0mindset\\xa0e a rotina das organizações.\\xa0 Aqui vai um exemplo:\\xa0 Imagine que o seu time implantou apenas uma sugestão de melhoria, poupando 10 minutos da execução individual diária de um processo realizado por 100 colaboradores\\xa0dentro de uma fábrica.\\xa0 Se nós considerarmos que a jornada semanal desses funcionários é igual para todos\\xa0(40 horas\\xa0por semana, 8 horas por dia), ao longo de 10 semanas teríamos aproximadamente 50 mil minutos poupados.\\xa0 Agora, considere que o seu processo é executado por 1.000 colaboradores! Os 50 mil minutos',\n",
              "  ' poupados seriam alcançados\\xa0logo\\xa0no primeiro dia, enquanto o\\xa0resultado de 10 semanas seria aproximadamente 500 mil minutos reduzidos.\\xa0 E se formos um pouco além, considerando\\xa0R$ 500,00 a remuneração média semanal de todos esses colaboradores,\\xa0nós poderíamos transformar o tempo\\xa0reduzido\\xa0em dinheiro poupado!  Dessa forma, ao\\xa0longo de 10 semanas, 100 colaboradores poupariam R$10.500,00, enquanto 1.000 colaboradores poupariam aproximadamente R$105.000,00\\xa0 Independente da escala, podemos perceber que a inovação incremental tem um alto potencial\\xa0de redução de custos – tenho certeza de que isso foi\\xa0perceptível para você nos dois exemplos que demos acima.\\xa0\\xa0 Porém o mais importan',\n",
              "  'te é entender que quanto maior a escala do seu time, inovar de forma incremental se torna mais obrigatório. Do contrário, seria como desperdiçar recursos conscientemente.\\xa0 Para entender quando investir, é preciso conhecer em que momento a seu negócio\\xa0ou seu produto se encontra.\\xa0\\xa0 Sempre que nós lançamos um novo produto ou serviço, existem muitas hipóteses e perguntas sem respostas. Esse\\xa0alto\\xa0grau de incerteza sugere que\\xa0você precisa validar seu produto frente à um mercado ou grupo\\xa0de consumidores.\\xa0Neste\\xa0caso,\\xa0o seu produto\\xa0ainda\\xa0é uma aposta (como pode ser observado na imagem acima), ou seja, um investimento com resultado futuro.\\xa0\\xa0\\xa0 Desse modo,\\xa0a inovação incremental\\xa0é\\xa0p',\n",
              "  'ouco vantajosa,\\xa0uma vez\\xa0que\\xa0a sua prioridade é entender se o seu projeto é um abacaxi, ou seja, um produto que não deu certo e, neste caso, o melhor é matá-lo. Leia também: Horizontes de inovação: o que são e quanto investir em cada um?\\xa0 Agora, quando o produto é validado e está em um mercado em alto crescimento,\\xa0ele é incorporado ao seu Core Business e torna-se sua vaca leiteira!\\xa0Aqui, você já terá respostas para grande parte das perguntas, obtendo um time muito experiente e com bastante conhecimento sobre o produto.\\xa0 Porém,\\xa0quando uma aposta se torna sua vaca leiteira (Core Business), muita coisa está em jogo!\\xa0Em primeiro lugar, você precisa garantir que o seu carro-ch',\n",
              "  'efe não seja defasado pelo mercado,\\xa0já\\xa0que este encontrará formas de concorrer, seja por vantagem competitiva, inovação tecnológica ou proposta de valor.\\xa0 É aí que entra a inovação incremental. Essa, por sua vez, garantirá a incorporação de ideias que geram valor, garantindo que o seu Core Business\\xa0seja continuamente melhorado\\xa0por aqueles que estão todos os dias lidando frente\\xa0a\\xa0frente com os seus produtos, processos e serviços.\\xa0 Para entender como\\xa0priorizar os investimentos em inovação, a\\xa0Mckinsey\\xa0&\\xa0Company\\xa0criou o framework 3 Horizontes de Inovação, dando-nos uma ampla de visão de alocação de recursos por conhecimento do nosso negócio.\\xa0 Observando a imagem acima,\\xa0podem',\n",
              "  'os perceber que o investimento em inovação pode ser priorizado de acordo com o nível de conhecimento obtido por\\xa0negócios:\\xa0 Nós já percebemos que a inovação incremental\\xa0faz mais sentido quando executada frente ao meu Core Business (minha vaca leiteira), ou seja, aquilo que eu possuo histórico,\\xa0tenho\\xa0conhecimento e já validei\\xa0frente ao\\xa0mercado.\\xa0 Mas quanto eu devo investir no meu Core Business?\\xa0 Em meados de 2005, o presidente da\\xa0Alphabet\\xa0Inc. (holding dona da Google), nos contou sobre a estratégia de inovação da organização:\\xa0 “Gastamos 70% do nosso tempo em pesquisas e anúncios principais. Gastamos 20% em empresas adjacentes: Google Notícias, Google Earth e Google Local. ',\n",
              "  'E então 10% do nosso tempo deve ser dedicado a coisas verdadeiramente novas.”\\xa0 O exemplo de alocação de recursos do presidente da\\xa0Alphabet\\xa0Inc. ilustra muito bem como a\\xa0organização\\xa0estrutura\\xa0seu portfólio de investimentos. Se a Google investe 70% do seu tempo e dinheiro no seu Core Business\\xa0(pesquisas e anúncios principais), por\\xa0que você não faria isso?\\xa0 A inovação incremental é uma estratégia que visa melhorar continuamente o carro-chefe da sua organização. A\\xa0não adesão desse tipo de inovação implica também a possível defasagem do seu produto pelo mercado, que\\xa0buscará formas de superá-lo a todo momento.\\xa0 Quando trazemos os colaboradores de linha de frente para o centro ',\n",
              "  'da estratégia, ganhamos muita assertividade, uma vez que 80% do potencial de melhoria de uma organização está nesses colaboradores.  Logo, o conhecimento deles com o seu produto à luz da escala pode ser muito benéfico, multiplicando seus resultados com redução de custos\\xa0e pagando o investimento num tempo recorde.\\xa0 Para tornar a inovação incremental algo contínuo, podemos apostar em um processo inovador, como o de Programa de Ideias – envolvendo todos os colaboradores da organização.\\xa0 Agora, se\\xa0você gostou desse conteúdo e quer entender quais são os passos para implantar um Programa de Ideias com a AEVO e aplicar a inovação incremental na sua organização, clique\\xa0neste lin'],\n",
              " ['As\\xa0soft\\xa0skills\\xa0são habilidades subjetivas, de difícil identificação e diretamente relacionadas à inteligência emocional das pessoas.\\xa0 Em tradução livre, o termo —\\xa0soft\\xa0skills\\xa0—\\xa0 significa: habilidades interpessoais. Essas habilidades (ou skills) podem ser compreendidas como\\xa0competências pessoais,\\xa0que indicam a forma como aquela pessoa lida com os problemas, como se relaciona e interage com os demais.\\xa0 Afinal, como isso se conecta com o\\xa0intraempreendedorismo?\\xa0 Os profissionais\\xa0intraempreendedores apresentam\\xa0soft\\xa0skills\\xa0de pessoas motivadas, pró-ativas e orientadas para a ação, com habilidades de liderança e pensamento fora da caixa.\\xa0Do mesmo modo, o profissional\\xa0intraempreendedor\\xa0é aquele que tem a\\xa0ousadia de colocar suas ideias em práticas, gerando valor e soluções inovadoras para a organização.\\xa0 Logo, o foco deste artigo é te apresentar as\\xa0soft\\xa0skills\\xa0essenciais pa',\n",
              "  'ra se tornar um bom profissional\\xa0intraempreendedor\\xa0e dar algumas dicas para desenvolvê-las!\\xa0\\xa0 Mas, antes de nos aprofundarmos nesse assunto, confira uma prévia de tudo que você vai encontrar ao longo deste artigo:\\xa0 Por outro lado, se as\\xa0soft\\xa0skills\\xa0dizem respeito às habilidades comportamentais, as\\xa0hard skills\\xa0correspondem às habilidades técnicas.\\xa0 As chamadas\\xa0hard skills\\xa0– são aquelas habilidades que, normalmente, entram no seu currículo e são aprendidas em cursos, faculdades, pós-graduações e outros empregos, e, além disso, são específicas para cada área.\\xa0\\xa0 Assim, diferentemente das\\xa0hard skills, as\\xa0soft\\xa0skills\\xa0são interessantes para qualquer tipo de atuação profissional. Em suma, as\\xa0soft\\xa0skills\\xa0são, geralmente, adquiridas por meio das experiências, pessoais e profissionais, vivenciadas ao longo da vida.\\xa0 É correto pensar que, na prática, ambas são fundamentais para',\n",
              "  ' o bom desempenho das atividades de um profissional\\xa0intraempreendedor. Ou seja, quanto mais um profissional conseguir reunir desses dois grupos, melhor candidato e\\xa0intraempreendedor\\xa0ele será.\\xa0A única novidade\\xa0sobre\\xa0isso é que antes se pensava que as\\xa0soft\\xa0skills\\xa0eram características inatas de uma pessoa, e não um conjunto de habilidades que pudesse ser ensinado e estimulado.\\xa0 “À medida que as estruturas organizacionais evoluem e a globalização acelera, essas habilidades serão mais cruciais do que nunca”.\\xa0 \\xa0A citação acima é de Daniel Goleman, considerado o pai da Inteligência Emocional e autor do livro de mesmo nome. Segundo ele, as\\xa0soft\\xa0skills\\xa0são baseadas na inteligência emocional, o que acaba diferenciando profissionais medianos dos excelentes —\\xa0intraempreendedores.\\xa0 Assim, pode-se afirmar que, no mundo atual, onde as\\xa0empresas de todos os portes e segmentos buscam',\n",
              "  ' constantemente por inovação e soluções criativas, o profissional que desenvolver e aprimorar suas\\xa0soft\\xa0skills\\xa0empreendedoras se tornará um grande diferencial no ambiente corporativo de grande parte das organizações.\\xa0\\xa0 Isso porque, foi-se o tempo em que o profissional empreendedor deveria deixar a organização em que trabalha para pôr em prática seus projetos inovadores.\\xa0Assim, muitas empresas têm focado em valorizar as competências empreendedoras dos seus colaboradores nos processos da empresa como um\\xa0\\xa0diferencial competitivo.\\xa0 Aproveite e confira: 8 exemplos de intraempreendedorismo para se inspirar Ao se tornar um\\xa0intraempreendedor, você terá oportunidade de se desenvolver e crescer na empresa, ao mesmo tempo que poderá colocar em prática suas\\xa0soft\\xa0skills, trabalhando com mais liberdade e autonomia.\\xa0 Apesar da dificuldade em definir quais são as\\xa0soft\\xa0skills\\xa0mais p',\n",
              "  'rocuradas atualmente pelas organizações, podemos destacar algumas\\xa0soft\\xa0skills\\xa0que são essenciais para você se tornar um bom\\xa0intraempreendedor.\\xa0 Vamos lá?\\xa0\\xa0\\xa0 Ser empreendedor, diferente do que muitas pessoas pensam, não se restringe a tirar um negócio do papel ou ser chefe de si mesmo. Essa é uma\\xa0das\\xa0soft\\xa0skills\\xa0que permite aos profissionais uma postura mais flexível, além de excelente capacidade para resolução de problemas: duas características essenciais\\xa0para o\\xa0intraempreendedorismo.\\xa0 Por ser uma\\xa0soft\\xa0skill\\xa0extremamente útil em qualquer área de atuação, ela se tornou muito requisitada no mercado atualmente. Em termos gerais, a resiliência é a\\xa0capacidade de se adaptar e se recuperar depois de enfrentar adversidades.\\xa0\\xa0 Mais do que isso, a resiliência é uma habilidade que possibilita o aprendizado. É a partir dessa\\xa0soft\\xa0skill\\xa0que os\\xa0intraempreendedores serão capazes d',\n",
              "  'e gerenciar crises e adversidades, saindo delas ainda mais fortes!\\xa0\\xa0 Essa\\xa0soft\\xa0skill\\xa0vai muito além da transmissão e interpretação de ideias, ela abrange também a capacidade de ouvir atentamente, escrever bem e de se comunicar de forma não-violenta, seja na hora de expor as suas ideias ou de dar e receber feedbacks.\\xa0 Os\\xa0intraempreendedores estão, constantemente, envolvidos em projetos em grupo, expondo suas ideias, interagindo com colegas e clientes ou em uma posição de liderança. Dessa forma, o desenvolvimento de uma comunicação eficaz torna-se essencial para os profissionais que desejam se tornar\\xa0intraempreendedores.\\xa0\\xa0 Apesar da habilidade ser mais ou menos exigida, dependendo da área ou cargo, em um mercado tão competitivo quanto o atual, quem demonstrar mais facilidade na elaboração de soluções de forma rápida e inovadora terá a preferência das empresas.\\xa0\\xa0 Nem p',\n",
              "  'reciso dizer o porque dessa\\xa0soft\\xa0skill\\xa0ser essencial para os\\xa0intraempreendedores, né? Brincadeiras a parte,\\xa0mas criatividade está diretamente relacionada a nossa capacidade de solucionar problemas e gerar ideias, duas práticas\\xa0fundamentais do\\xa0intraempreendedorismo.\\xa0 Em suma, a empatia pode ser entendida como a capacidade de se colocar no lugar de outra pessoa de forma que se consiga compreender e quase sentir o que ele sente.\\xa0\\xa0 A importância dessa\\xa0soft\\xa0skill\\xa0para o\\xa0intraempreendedorismo\\xa0pode ser explicada em dois aspectos: primeiro, ela é importante em relacionamentos nos quais existe alguma forma de hierarquia ou liderança, se colocar no lugar do outro pode tornar a gestão mais aberta e humana. Em seguida, esta é uma\\xa0soft\\xa0skill\\xa0crucial para a relação entre a empresa e seus clientes. A empatia vai ajudar a entender qual é a dor exata do consumidor.\\xa0\\xa0 Por fim, mas nã',\n",
              "  'o menos importante, temos a liderança.\\xa0\\xa0 É claro que todas as\\xa0soft\\xa0skills\\xa0citadas acima formarão um bom\\xa0intraempreendedor. Entretanto, a liderança vai além. Essa\\xa0habilidade\\xa0é a soma de todas as demais\\xa0soft\\xa0skills\\xa0e mais um pouco.\\xa0\\xa0\\xa0 Por isso, para o profissional\\xa0intraempreendedor\\xa0conquistar uma liderança, é necessário que ele saiba manusear todas as suas\\xa0soft\\xa0skills\\xa0para explorar o melhor dos colaboradores, fazendo com que se sintam parte do time, assumam responsabilidades e, claro, sejam também\\xa0intraempreendedores.\\xa0\\xa0 Agora que você já sabe as\\xa0soft\\xa0skills\\xa0essenciais para se tornar um profissional\\xa0intraempreendedor, você pode ter se perguntado: o que preciso fazer para desenvolvê-las?\\xa0 Nós sabemos que uma parcela dessas\\xa0soft\\xa0skills\\xa0podem ser aprimoradas com o tempo e com as experiências vividas, mas nada impede que você pegue um atalho para desenvolvê-las.\\xa0 Em primei',\n",
              "  'ro lugar, é importante que você saiba que esse movimento só depende de você. Por isso, o\\xa0ponto de partida talvez esteja no\\xa0autoconhecimento, que é\\xa0aquele famoso\\xa0processo de análise daquilo que você tem de melhor e do que precisa evoluir.\\xa0 Portanto, é preciso estar atento às próprias características, dedicado à melhoria contínua e à reflexão sobre as suas próprias atitudes.\\xa0 Além disso, outra maneira para desenvolver as\\xa0soft\\xa0skills\\xa0é, literalmente, se submetendo a elas. Ou seja, nunca trabalhou em equipe? Procure se inserir em projetos onde isso é necessário. Quer praticar sua empatia? Converse com pessoas que têm pontos de vista totalmente opostos dos seus.\\xa0 \\xa0Se ao ler esse artigo você identificou deficiência em determinada\\xa0soft\\xa0skill, não espere surgir uma oportunidade, como uma promoção no atual emprego ou uma vaga dos sonhos, para desenvolvê-la. O profissional\\xa0in',\n",
              "  'traempreendedor\\xa0é aquele\\xa0que\\xa0decide sair da zona do medianos para se tornar excepcional!\\xa0\\xa0 Você vai ficar aí parado?\\xa0 Bom, se você chegou até aqui, posso afirmar que\\xa0intraempreededorismo é um assunto relevante para você!\\xa0Agora, imagina se, além da sua vontade de desenvolver as\\xa0soft\\xa0skills\\xa0necessárias para\\xa0se tornar um\\xa0intraempreendedor\\xa0de sucesso, você\\xa0também\\xa0levasse a iniciativa para dentro da sua organização?\\xa0\\xa0 Confira o nosso artigo —\\xa0Um\\xa0software de inovação para fomentar o\\xa0intraempreendedorismo — e descubra como você pode gerenciar a inovação e fomentar o\\xa0intraempreendedorismo\\xa0através do nosso\\xa0software para\\xa0gestão da inovação, o AEVO Innovate.\\xa0 Ah, não deixe de conferir também a história de sucesso da Aviva, empresa do ramo da hotelaria que, assim como a Aeris e a Scholle IPN, escolheu o AEVO Innovate para fomentar o intraempreendedorismo entre os colaboradores.']]"
            ]
          },
          "metadata": {
            "tags": []
          },
          "execution_count": 41
        }
      ]
    },
    {
      "cell_type": "code",
      "metadata": {
        "scrolled": true,
        "id": "7n3j6RvxHhoq",
        "colab_type": "code",
        "colab": {},
        "outputId": "4702ee0a-d630-4766-bdcb-b8802fbb70d6"
      },
      "source": [
        "# A lista possui 3 elementos, um para cada texto\n",
        "len(list_pieces)"
      ],
      "execution_count": null,
      "outputs": [
        {
          "output_type": "execute_result",
          "data": {
            "text/plain": [
              "3"
            ]
          },
          "metadata": {
            "tags": []
          },
          "execution_count": 42
        }
      ]
    },
    {
      "cell_type": "code",
      "metadata": {
        "id": "b8FgsF-ZHhos",
        "colab_type": "code",
        "colab": {},
        "outputId": "1aa37d7d-c1fa-4a63-cc0c-ff3db6403cc9"
      },
      "source": [
        "# Cada transcrição foi dividida em 10 pedaços de texto\n",
        "len(list_pieces[0])"
      ],
      "execution_count": null,
      "outputs": [
        {
          "output_type": "execute_result",
          "data": {
            "text/plain": [
              "10"
            ]
          },
          "metadata": {
            "tags": []
          },
          "execution_count": 43
        }
      ]
    },
    {
      "cell_type": "code",
      "metadata": {
        "scrolled": true,
        "id": "jot7n7fLHhou",
        "colab_type": "code",
        "colab": {},
        "outputId": "a50f8bab-edd2-41db-e890-8059ebb82d37"
      },
      "source": [
        "# Calculate the polarity for each piece of text\n",
        "\n",
        "polarity_textos = []\n",
        "for lp in list_pieces:\n",
        "    polarity_piece = []\n",
        "    for p in lp:\n",
        "        polarity_piece.append(TextBlob(p).sentiment.polarity)\n",
        "    polarity_textos.append(polarity_piece)\n",
        "    \n",
        "polarity_textos"
      ],
      "execution_count": null,
      "outputs": [
        {
          "output_type": "execute_result",
          "data": {
            "text/plain": [
              "[[0.03409090909090909,\n",
              "  0.0,\n",
              "  0.0,\n",
              "  0.0,\n",
              "  0.24166666666666664,\n",
              "  0.35000000000000003,\n",
              "  -0.26666666666666666,\n",
              "  -0.8,\n",
              "  0.0,\n",
              "  0.0],\n",
              " [0.0, 0.0, 0.0, 0.0, 0.0, 0.078125, 0.0, 0.0, 0.0, 0.0],\n",
              " [0.1,\n",
              "  -0.09583333333333337,\n",
              "  0.1,\n",
              "  0.10000000000000002,\n",
              "  0.1,\n",
              "  0.1,\n",
              "  0.07500000000000001,\n",
              "  0.09166666666666667,\n",
              "  0.1,\n",
              "  0.1]]"
            ]
          },
          "metadata": {
            "tags": []
          },
          "execution_count": 44
        }
      ]
    },
    {
      "cell_type": "code",
      "metadata": {
        "scrolled": true,
        "id": "mKoXuOqSHhov",
        "colab_type": "code",
        "colab": {},
        "outputId": "4ac3565f-761a-49e0-aee0-40476b733351"
      },
      "source": [
        "\n",
        "# Mostre o enredo para um texto\n",
        "plt.plot(polarity_textos[0])\n",
        "plt.title(data['full_name'].index[0])\n",
        "plt.show()"
      ],
      "execution_count": null,
      "outputs": [
        {
          "output_type": "display_data",
          "data": {
            "image/png": "[encoded data removed]",
            "text/plain": [
              "<Figure size 720x576 with 1 Axes>"
            ]
          },
          "metadata": {
            "tags": [],
            "needs_background": "light"
          }
        }
      ]
    },
    {
      "cell_type": "code",
      "metadata": {
        "id": "FldZNDzaHhox",
        "colab_type": "code",
        "colab": {},
        "outputId": "a8df1ebf-dbb9-4fe2-f2cd-f479782de53a"
      },
      "source": [
        "# Gráfico para todos os textos\n",
        "plt.rcParams['figure.figsize'] = [16, 12]\n",
        "\n",
        "for index, assunto in enumerate(data.index):    \n",
        "    plt.subplot(3, 4, index+1)\n",
        "    plt.plot(polarity_textos[index])\n",
        "    plt.plot(np.arange(0,10), np.zeros(10))\n",
        "    plt.title(data['full_name'][index])\n",
        "    plt.ylim(ymin=-.2, ymax=.3)\n",
        "    \n",
        "plt.show()"
      ],
      "execution_count": null,
      "outputs": [
        {
          "output_type": "display_data",
          "data": {
            "image/png": "[encoded data removed]",
            "text/plain": [
              "<Figure size 1152x864 with 3 Axes>"
            ]
          },
          "metadata": {
            "tags": [],
            "needs_background": "light"
          }
        }
      ]
    }
  ]
}